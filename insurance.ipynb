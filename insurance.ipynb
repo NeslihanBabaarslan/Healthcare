{
 "cells": [
  {
   "cell_type": "code",
   "execution_count": 241,
   "id": "cc4f41a4",
   "metadata": {},
   "outputs": [],
   "source": [
    "import numpy as np \n",
    "import pandas as pd \n",
    "import os\n",
    "import matplotlib.pyplot as pl\n",
    "import seaborn as sns\n",
    "import warnings\n",
    "warnings.filterwarnings('ignore')"
   ]
  },
  {
   "cell_type": "code",
   "execution_count": 242,
   "id": "8de48a9d",
   "metadata": {},
   "outputs": [],
   "source": [
    "df=pd.read_csv(\"insurance.csv\")"
   ]
  },
  {
   "cell_type": "markdown",
   "id": "42b7c803",
   "metadata": {},
   "source": [
    "## 1. EDA"
   ]
  },
  {
   "cell_type": "code",
   "execution_count": 243,
   "id": "76571ebb",
   "metadata": {},
   "outputs": [
    {
     "data": {
      "text/plain": [
       "(1338, 7)"
      ]
     },
     "execution_count": 243,
     "metadata": {},
     "output_type": "execute_result"
    }
   ],
   "source": [
    "df.shape"
   ]
  },
  {
   "cell_type": "code",
   "execution_count": 244,
   "id": "ee6ca9a3",
   "metadata": {},
   "outputs": [
    {
     "name": "stdout",
     "output_type": "stream",
     "text": [
      "<class 'pandas.core.frame.DataFrame'>\n",
      "RangeIndex: 1338 entries, 0 to 1337\n",
      "Data columns (total 7 columns):\n",
      " #   Column    Non-Null Count  Dtype  \n",
      "---  ------    --------------  -----  \n",
      " 0   age       1338 non-null   int64  \n",
      " 1   sex       1338 non-null   object \n",
      " 2   bmi       1338 non-null   float64\n",
      " 3   children  1338 non-null   int64  \n",
      " 4   smoker    1338 non-null   object \n",
      " 5   region    1338 non-null   object \n",
      " 6   charges   1338 non-null   float64\n",
      "dtypes: float64(2), int64(2), object(3)\n",
      "memory usage: 73.3+ KB\n"
     ]
    }
   ],
   "source": [
    "df.info()"
   ]
  },
  {
   "cell_type": "code",
   "execution_count": 245,
   "id": "d49066b1",
   "metadata": {},
   "outputs": [
    {
     "data": {
      "text/html": [
       "<div>\n",
       "<style scoped>\n",
       "    .dataframe tbody tr th:only-of-type {\n",
       "        vertical-align: middle;\n",
       "    }\n",
       "\n",
       "    .dataframe tbody tr th {\n",
       "        vertical-align: top;\n",
       "    }\n",
       "\n",
       "    .dataframe thead th {\n",
       "        text-align: right;\n",
       "    }\n",
       "</style>\n",
       "<table border=\"1\" class=\"dataframe\">\n",
       "  <thead>\n",
       "    <tr style=\"text-align: right;\">\n",
       "      <th></th>\n",
       "      <th>count</th>\n",
       "      <th>mean</th>\n",
       "      <th>std</th>\n",
       "      <th>min</th>\n",
       "      <th>25%</th>\n",
       "      <th>50%</th>\n",
       "      <th>75%</th>\n",
       "      <th>max</th>\n",
       "    </tr>\n",
       "  </thead>\n",
       "  <tbody>\n",
       "    <tr>\n",
       "      <th>age</th>\n",
       "      <td>1338.0</td>\n",
       "      <td>39.207025</td>\n",
       "      <td>14.049960</td>\n",
       "      <td>18.0000</td>\n",
       "      <td>27.00000</td>\n",
       "      <td>39.000</td>\n",
       "      <td>51.000000</td>\n",
       "      <td>64.00000</td>\n",
       "    </tr>\n",
       "    <tr>\n",
       "      <th>bmi</th>\n",
       "      <td>1338.0</td>\n",
       "      <td>30.663397</td>\n",
       "      <td>6.098187</td>\n",
       "      <td>15.9600</td>\n",
       "      <td>26.29625</td>\n",
       "      <td>30.400</td>\n",
       "      <td>34.693750</td>\n",
       "      <td>53.13000</td>\n",
       "    </tr>\n",
       "    <tr>\n",
       "      <th>children</th>\n",
       "      <td>1338.0</td>\n",
       "      <td>1.094918</td>\n",
       "      <td>1.205493</td>\n",
       "      <td>0.0000</td>\n",
       "      <td>0.00000</td>\n",
       "      <td>1.000</td>\n",
       "      <td>2.000000</td>\n",
       "      <td>5.00000</td>\n",
       "    </tr>\n",
       "    <tr>\n",
       "      <th>charges</th>\n",
       "      <td>1338.0</td>\n",
       "      <td>13270.422265</td>\n",
       "      <td>12110.011237</td>\n",
       "      <td>1121.8739</td>\n",
       "      <td>4740.28715</td>\n",
       "      <td>9382.033</td>\n",
       "      <td>16639.912515</td>\n",
       "      <td>63770.42801</td>\n",
       "    </tr>\n",
       "  </tbody>\n",
       "</table>\n",
       "</div>"
      ],
      "text/plain": [
       "           count          mean           std        min         25%       50%  \\\n",
       "age       1338.0     39.207025     14.049960    18.0000    27.00000    39.000   \n",
       "bmi       1338.0     30.663397      6.098187    15.9600    26.29625    30.400   \n",
       "children  1338.0      1.094918      1.205493     0.0000     0.00000     1.000   \n",
       "charges   1338.0  13270.422265  12110.011237  1121.8739  4740.28715  9382.033   \n",
       "\n",
       "                   75%          max  \n",
       "age          51.000000     64.00000  \n",
       "bmi          34.693750     53.13000  \n",
       "children      2.000000      5.00000  \n",
       "charges   16639.912515  63770.42801  "
      ]
     },
     "execution_count": 245,
     "metadata": {},
     "output_type": "execute_result"
    }
   ],
   "source": [
    "df.describe().T # if mean is close std, there will be outlier value. But there is not same situation at this dataset."
   ]
  },
  {
   "cell_type": "markdown",
   "id": "ac9832ea",
   "metadata": {},
   "source": [
    "#### OrdinalEncoder"
   ]
  },
  {
   "cell_type": "code",
   "execution_count": 246,
   "id": "b5388258",
   "metadata": {},
   "outputs": [
    {
     "data": {
      "text/plain": [
       "Index(['sex', 'smoker', 'region'], dtype='object')"
      ]
     },
     "execution_count": 246,
     "metadata": {},
     "output_type": "execute_result"
    }
   ],
   "source": [
    "cat=df.select_dtypes(\"object\").columns\n",
    "cat"
   ]
  },
  {
   "cell_type": "code",
   "execution_count": 247,
   "id": "bda11af2",
   "metadata": {},
   "outputs": [],
   "source": [
    "from sklearn.preprocessing import OrdinalEncoder"
   ]
  },
  {
   "cell_type": "code",
   "execution_count": 248,
   "id": "2e8c4f7b",
   "metadata": {},
   "outputs": [],
   "source": [
    "enc=OrdinalEncoder()"
   ]
  },
  {
   "cell_type": "code",
   "execution_count": 249,
   "id": "ac1674a2",
   "metadata": {},
   "outputs": [],
   "source": [
    "df[cat]=enc.fit_transform(df[cat])"
   ]
  },
  {
   "cell_type": "code",
   "execution_count": 250,
   "id": "99e3e9d2",
   "metadata": {},
   "outputs": [
    {
     "data": {
      "text/html": [
       "<div>\n",
       "<style scoped>\n",
       "    .dataframe tbody tr th:only-of-type {\n",
       "        vertical-align: middle;\n",
       "    }\n",
       "\n",
       "    .dataframe tbody tr th {\n",
       "        vertical-align: top;\n",
       "    }\n",
       "\n",
       "    .dataframe thead th {\n",
       "        text-align: right;\n",
       "    }\n",
       "</style>\n",
       "<table border=\"1\" class=\"dataframe\">\n",
       "  <thead>\n",
       "    <tr style=\"text-align: right;\">\n",
       "      <th></th>\n",
       "      <th>sex</th>\n",
       "      <th>smoker</th>\n",
       "      <th>region</th>\n",
       "    </tr>\n",
       "  </thead>\n",
       "  <tbody>\n",
       "    <tr>\n",
       "      <th>0</th>\n",
       "      <td>0.0</td>\n",
       "      <td>1.0</td>\n",
       "      <td>3.0</td>\n",
       "    </tr>\n",
       "    <tr>\n",
       "      <th>1</th>\n",
       "      <td>1.0</td>\n",
       "      <td>0.0</td>\n",
       "      <td>2.0</td>\n",
       "    </tr>\n",
       "    <tr>\n",
       "      <th>2</th>\n",
       "      <td>1.0</td>\n",
       "      <td>0.0</td>\n",
       "      <td>2.0</td>\n",
       "    </tr>\n",
       "    <tr>\n",
       "      <th>3</th>\n",
       "      <td>1.0</td>\n",
       "      <td>0.0</td>\n",
       "      <td>1.0</td>\n",
       "    </tr>\n",
       "    <tr>\n",
       "      <th>4</th>\n",
       "      <td>1.0</td>\n",
       "      <td>0.0</td>\n",
       "      <td>1.0</td>\n",
       "    </tr>\n",
       "    <tr>\n",
       "      <th>...</th>\n",
       "      <td>...</td>\n",
       "      <td>...</td>\n",
       "      <td>...</td>\n",
       "    </tr>\n",
       "    <tr>\n",
       "      <th>1333</th>\n",
       "      <td>1.0</td>\n",
       "      <td>0.0</td>\n",
       "      <td>1.0</td>\n",
       "    </tr>\n",
       "    <tr>\n",
       "      <th>1334</th>\n",
       "      <td>0.0</td>\n",
       "      <td>0.0</td>\n",
       "      <td>0.0</td>\n",
       "    </tr>\n",
       "    <tr>\n",
       "      <th>1335</th>\n",
       "      <td>0.0</td>\n",
       "      <td>0.0</td>\n",
       "      <td>2.0</td>\n",
       "    </tr>\n",
       "    <tr>\n",
       "      <th>1336</th>\n",
       "      <td>0.0</td>\n",
       "      <td>0.0</td>\n",
       "      <td>3.0</td>\n",
       "    </tr>\n",
       "    <tr>\n",
       "      <th>1337</th>\n",
       "      <td>0.0</td>\n",
       "      <td>1.0</td>\n",
       "      <td>1.0</td>\n",
       "    </tr>\n",
       "  </tbody>\n",
       "</table>\n",
       "<p>1338 rows × 3 columns</p>\n",
       "</div>"
      ],
      "text/plain": [
       "      sex  smoker  region\n",
       "0     0.0     1.0     3.0\n",
       "1     1.0     0.0     2.0\n",
       "2     1.0     0.0     2.0\n",
       "3     1.0     0.0     1.0\n",
       "4     1.0     0.0     1.0\n",
       "...   ...     ...     ...\n",
       "1333  1.0     0.0     1.0\n",
       "1334  0.0     0.0     0.0\n",
       "1335  0.0     0.0     2.0\n",
       "1336  0.0     0.0     3.0\n",
       "1337  0.0     1.0     1.0\n",
       "\n",
       "[1338 rows x 3 columns]"
      ]
     },
     "execution_count": 250,
     "metadata": {},
     "output_type": "execute_result"
    }
   ],
   "source": [
    "df[cat]"
   ]
  },
  {
   "cell_type": "code",
   "execution_count": 251,
   "id": "3daa8a89",
   "metadata": {},
   "outputs": [
    {
     "data": {
      "text/plain": [
       "age         0\n",
       "sex         0\n",
       "bmi         0\n",
       "children    0\n",
       "smoker      0\n",
       "region      0\n",
       "charges     0\n",
       "dtype: int64"
      ]
     },
     "execution_count": 251,
     "metadata": {},
     "output_type": "execute_result"
    }
   ],
   "source": [
    "df.isnull().sum()"
   ]
  },
  {
   "cell_type": "code",
   "execution_count": 252,
   "id": "dbbb5d4d",
   "metadata": {},
   "outputs": [
    {
     "data": {
      "text/plain": [
       "1"
      ]
     },
     "execution_count": 252,
     "metadata": {},
     "output_type": "execute_result"
    }
   ],
   "source": [
    "df.duplicated().sum()"
   ]
  },
  {
   "cell_type": "code",
   "execution_count": 253,
   "id": "1b7645bf",
   "metadata": {},
   "outputs": [],
   "source": [
    "df.drop_duplicates(inplace=True)"
   ]
  },
  {
   "cell_type": "code",
   "execution_count": 254,
   "id": "9b19aac5",
   "metadata": {},
   "outputs": [
    {
     "data": {
      "text/plain": [
       "(1337, 7)"
      ]
     },
     "execution_count": 254,
     "metadata": {},
     "output_type": "execute_result"
    }
   ],
   "source": [
    "df.shape"
   ]
  },
  {
   "cell_type": "code",
   "execution_count": 255,
   "id": "f687f3b3",
   "metadata": {},
   "outputs": [
    {
     "data": {
      "application/javascript": [
       "\n",
       "        if (window._pyforest_update_imports_cell) { window._pyforest_update_imports_cell('import matplotlib.pyplot as plt'); }\n",
       "    "
      ],
      "text/plain": [
       "<IPython.core.display.Javascript object>"
      ]
     },
     "metadata": {},
     "output_type": "display_data"
    },
    {
     "data": {
      "application/javascript": [
       "\n",
       "        if (window._pyforest_update_imports_cell) { window._pyforest_update_imports_cell('import matplotlib.pyplot as plt'); }\n",
       "    "
      ],
      "text/plain": [
       "<IPython.core.display.Javascript object>"
      ]
     },
     "metadata": {},
     "output_type": "display_data"
    },
    {
     "data": {
      "application/javascript": [
       "\n",
       "        if (window._pyforest_update_imports_cell) { window._pyforest_update_imports_cell('import matplotlib.pyplot as plt'); }\n",
       "    "
      ],
      "text/plain": [
       "<IPython.core.display.Javascript object>"
      ]
     },
     "metadata": {},
     "output_type": "display_data"
    },
    {
     "data": {
      "application/javascript": [
       "\n",
       "        if (window._pyforest_update_imports_cell) { window._pyforest_update_imports_cell('import matplotlib.pyplot as plt'); }\n",
       "    "
      ],
      "text/plain": [
       "<IPython.core.display.Javascript object>"
      ]
     },
     "metadata": {},
     "output_type": "display_data"
    },
    {
     "data": {
      "application/javascript": [
       "\n",
       "        if (window._pyforest_update_imports_cell) { window._pyforest_update_imports_cell('import matplotlib.pyplot as plt'); }\n",
       "    "
      ],
      "text/plain": [
       "<IPython.core.display.Javascript object>"
      ]
     },
     "metadata": {},
     "output_type": "display_data"
    },
    {
     "data": {
      "application/javascript": [
       "\n",
       "        if (window._pyforest_update_imports_cell) { window._pyforest_update_imports_cell('import matplotlib.pyplot as plt'); }\n",
       "    "
      ],
      "text/plain": [
       "<IPython.core.display.Javascript object>"
      ]
     },
     "metadata": {},
     "output_type": "display_data"
    },
    {
     "data": {
      "application/javascript": [
       "\n",
       "        if (window._pyforest_update_imports_cell) { window._pyforest_update_imports_cell('import matplotlib.pyplot as plt'); }\n",
       "    "
      ],
      "text/plain": [
       "<IPython.core.display.Javascript object>"
      ]
     },
     "metadata": {},
     "output_type": "display_data"
    },
    {
     "data": {
      "image/png": "[encoded data removed]",
      "text/plain": [
       "<Figure size 1440x1440 with 6 Axes>"
      ]
     },
     "metadata": {
      "needs_background": "light"
     },
     "output_type": "display_data"
    }
   ],
   "source": [
    "index=0\n",
    "plt.figure(figsize=(20,20))\n",
    "for i in df.columns:\n",
    "    if i != \"charges\":\n",
    "        index +=1\n",
    "        plt.subplot(3,3,index)\n",
    "        sns.boxplot(y=\"charges\", x=df[i], data=df)"
   ]
  },
  {
   "cell_type": "code",
   "execution_count": 256,
   "id": "6ce8abc0",
   "metadata": {},
   "outputs": [
    {
     "data": {
      "application/javascript": [
       "\n",
       "        if (window._pyforest_update_imports_cell) { window._pyforest_update_imports_cell('import matplotlib.pyplot as plt'); }\n",
       "    "
      ],
      "text/plain": [
       "<IPython.core.display.Javascript object>"
      ]
     },
     "metadata": {},
     "output_type": "display_data"
    },
    {
     "data": {
      "application/javascript": [
       "\n",
       "        if (window._pyforest_update_imports_cell) { window._pyforest_update_imports_cell('import matplotlib.pyplot as plt'); }\n",
       "    "
      ],
      "text/plain": [
       "<IPython.core.display.Javascript object>"
      ]
     },
     "metadata": {},
     "output_type": "display_data"
    },
    {
     "data": {
      "application/javascript": [
       "\n",
       "        if (window._pyforest_update_imports_cell) { window._pyforest_update_imports_cell('import matplotlib.pyplot as plt'); }\n",
       "    "
      ],
      "text/plain": [
       "<IPython.core.display.Javascript object>"
      ]
     },
     "metadata": {},
     "output_type": "display_data"
    },
    {
     "data": {
      "application/javascript": [
       "\n",
       "        if (window._pyforest_update_imports_cell) { window._pyforest_update_imports_cell('import matplotlib.pyplot as plt'); }\n",
       "    "
      ],
      "text/plain": [
       "<IPython.core.display.Javascript object>"
      ]
     },
     "metadata": {},
     "output_type": "display_data"
    },
    {
     "data": {
      "application/javascript": [
       "\n",
       "        if (window._pyforest_update_imports_cell) { window._pyforest_update_imports_cell('import matplotlib.pyplot as plt'); }\n",
       "    "
      ],
      "text/plain": [
       "<IPython.core.display.Javascript object>"
      ]
     },
     "metadata": {},
     "output_type": "display_data"
    },
    {
     "data": {
      "application/javascript": [
       "\n",
       "        if (window._pyforest_update_imports_cell) { window._pyforest_update_imports_cell('import matplotlib.pyplot as plt'); }\n",
       "    "
      ],
      "text/plain": [
       "<IPython.core.display.Javascript object>"
      ]
     },
     "metadata": {},
     "output_type": "display_data"
    },
    {
     "data": {
      "application/javascript": [
       "\n",
       "        if (window._pyforest_update_imports_cell) { window._pyforest_update_imports_cell('import matplotlib.pyplot as plt'); }\n",
       "    "
      ],
      "text/plain": [
       "<IPython.core.display.Javascript object>"
      ]
     },
     "metadata": {},
     "output_type": "display_data"
    },
    {
     "data": {
      "image/png": "[encoded data removed]",
      "text/plain": [
       "<Figure size 1440x1440 with 6 Axes>"
      ]
     },
     "metadata": {
      "needs_background": "light"
     },
     "output_type": "display_data"
    }
   ],
   "source": [
    "index=0\n",
    "plt.figure(figsize=(20,20))\n",
    "for i in df.columns:\n",
    "    if i != \"charges\":\n",
    "        index +=1\n",
    "        plt.subplot(3,3,index)\n",
    "        sns.barplot(y=\"charges\", x=i, data=df, ci=False)"
   ]
  },
  {
   "cell_type": "code",
   "execution_count": 257,
   "id": "777a338c",
   "metadata": {},
   "outputs": [
    {
     "data": {
      "image/png": "[encoded data removed]",
      "text/plain": [
       "<Figure size 864x360 with 2 Axes>"
      ]
     },
     "metadata": {
      "needs_background": "light"
     },
     "output_type": "display_data"
    }
   ],
   "source": [
    "f= pl.figure(figsize=(12,5))\n",
    "\n",
    "ax=f.add_subplot(121)\n",
    "sns.distplot(df[(df.smoker == 1)][\"charges\"],color='c',ax=ax)\n",
    "ax.set_title('Distribution of charges for smokers')\n",
    "\n",
    "ax=f.add_subplot(122)\n",
    "sns.distplot(df[(df.smoker == 0)]['charges'],color='b',ax=ax)\n",
    "ax.set_title('Distribution of charges for non-smokers');"
   ]
  },
  {
   "cell_type": "code",
   "execution_count": 258,
   "id": "affffac1",
   "metadata": {},
   "outputs": [
    {
     "data": {
      "application/javascript": [
       "\n",
       "        if (window._pyforest_update_imports_cell) { window._pyforest_update_imports_cell('import matplotlib.pyplot as plt'); }\n",
       "    "
      ],
      "text/plain": [
       "<IPython.core.display.Javascript object>"
      ]
     },
     "metadata": {},
     "output_type": "display_data"
    },
    {
     "data": {
      "text/plain": [
       "<Figure size 2160x2160 with 0 Axes>"
      ]
     },
     "metadata": {},
     "output_type": "display_data"
    },
    {
     "data": {
      "image/png": "[encoded data removed]",
      "text/plain": [
       "<Figure size 412x360 with 1 Axes>"
      ]
     },
     "metadata": {
      "needs_background": "light"
     },
     "output_type": "display_data"
    }
   ],
   "source": [
    "plt.figure(figsize=(30,30))\n",
    "sns.catplot(x=\"smoker\", kind=\"count\", hue=\"sex\", data=df);"
   ]
  },
  {
   "cell_type": "code",
   "execution_count": 259,
   "id": "0ca03477",
   "metadata": {},
   "outputs": [
    {
     "data": {
      "text/plain": [
       "smoker      0.787234\n",
       "age         0.298308\n",
       "bmi         0.198401\n",
       "children    0.067389\n",
       "sex         0.058044\n",
       "region     -0.006547\n",
       "Name: charges, dtype: float64"
      ]
     },
     "execution_count": 259,
     "metadata": {},
     "output_type": "execute_result"
    }
   ],
   "source": [
    "df.corr()[\"charges\"].drop(\"charges\").sort_values(ascending=False)"
   ]
  },
  {
   "cell_type": "code",
   "execution_count": 260,
   "id": "f4652eb2",
   "metadata": {},
   "outputs": [
    {
     "data": {
      "image/png": "[encoded data removed]",
      "text/plain": [
       "<Figure size 432x288 with 1 Axes>"
      ]
     },
     "metadata": {
      "needs_background": "light"
     },
     "output_type": "display_data"
    }
   ],
   "source": [
    "df.corr()[\"charges\"].drop(\"charges\").sort_values().plot.barh();"
   ]
  },
  {
   "cell_type": "code",
   "execution_count": 261,
   "id": "fbb026b8",
   "metadata": {},
   "outputs": [
    {
     "data": {
      "application/javascript": [
       "\n",
       "        if (window._pyforest_update_imports_cell) { window._pyforest_update_imports_cell('import matplotlib.pyplot as plt'); }\n",
       "    "
      ],
      "text/plain": [
       "<IPython.core.display.Javascript object>"
      ]
     },
     "metadata": {},
     "output_type": "display_data"
    },
    {
     "data": {
      "image/png": "[encoded data removed]",
      "text/plain": [
       "<Figure size 864x576 with 2 Axes>"
      ]
     },
     "metadata": {
      "needs_background": "light"
     },
     "output_type": "display_data"
    }
   ],
   "source": [
    "plt.figure(figsize=(12,8))\n",
    "sns.heatmap(df.corr(),annot=True);"
   ]
  },
  {
   "cell_type": "markdown",
   "id": "a52cace3",
   "metadata": {},
   "source": [
    "### multicolineartiy"
   ]
  },
  {
   "cell_type": "code",
   "execution_count": 262,
   "id": "57b8f351",
   "metadata": {},
   "outputs": [
    {
     "name": "stdout",
     "output_type": "stream",
     "text": [
      "smoker and charges corr: 0.7872343672800318\n"
     ]
    }
   ],
   "source": [
    "for i in df.columns.drop(\"charges\"):\n",
    "    if df.charges.corr(df[i])>=0.70 or df.charges.corr(df[i])<=-0.70:\n",
    "        print(i,\"and charges corr:\", df.charges.corr(df[i]))"
   ]
  },
  {
   "cell_type": "markdown",
   "id": "2043f87d",
   "metadata": {},
   "source": [
    "## Modelling\n",
    "\n",
    "### 1.Linear Regression"
   ]
  },
  {
   "cell_type": "code",
   "execution_count": 263,
   "id": "3197877b",
   "metadata": {},
   "outputs": [],
   "source": [
    "X=df.drop(\"charges\", axis=1)\n",
    "y=df.charges"
   ]
  },
  {
   "cell_type": "code",
   "execution_count": 264,
   "id": "d39eb9bf",
   "metadata": {},
   "outputs": [],
   "source": [
    "from sklearn.model_selection import train_test_split"
   ]
  },
  {
   "cell_type": "code",
   "execution_count": 265,
   "id": "258cccc8",
   "metadata": {},
   "outputs": [],
   "source": [
    "X_train, X_test, y_train, y_test= train_test_split(X, y, test_size=0.3, random_state=42)"
   ]
  },
  {
   "cell_type": "code",
   "execution_count": 81,
   "id": "8ad29c61",
   "metadata": {},
   "outputs": [],
   "source": [
    "from sklearn.linear_model import LinearRegression"
   ]
  },
  {
   "cell_type": "code",
   "execution_count": 82,
   "id": "ae13c1ba",
   "metadata": {},
   "outputs": [],
   "source": [
    "model=LinearRegression()"
   ]
  },
  {
   "cell_type": "code",
   "execution_count": 83,
   "id": "d2b114c4",
   "metadata": {},
   "outputs": [
    {
     "data": {
      "text/html": [
       "<style>#sk-container-id-1 {color: black;background-color: white;}#sk-container-id-1 pre{padding: 0;}#sk-container-id-1 div.sk-toggleable {background-color: white;}#sk-container-id-1 label.sk-toggleable__label {cursor: pointer;display: block;width: 100%;margin-bottom: 0;padding: 0.3em;box-sizing: border-box;text-align: center;}#sk-container-id-1 label.sk-toggleable__label-arrow:before {content: \"▸\";float: left;margin-right: 0.25em;color: #696969;}#sk-container-id-1 label.sk-toggleable__label-arrow:hover:before {color: black;}#sk-container-id-1 div.sk-estimator:hover label.sk-toggleable__label-arrow:before {color: black;}#sk-container-id-1 div.sk-toggleable__content {max-height: 0;max-width: 0;overflow: hidden;text-align: left;background-color: #f0f8ff;}#sk-container-id-1 div.sk-toggleable__content pre {margin: 0.2em;color: black;border-radius: 0.25em;background-color: #f0f8ff;}#sk-container-id-1 input.sk-toggleable__control:checked~div.sk-toggleable__content {max-height: 200px;max-width: 100%;overflow: auto;}#sk-container-id-1 input.sk-toggleable__control:checked~label.sk-toggleable__label-arrow:before {content: \"▾\";}#sk-container-id-1 div.sk-estimator input.sk-toggleable__control:checked~label.sk-toggleable__label {background-color: #d4ebff;}#sk-container-id-1 div.sk-label input.sk-toggleable__control:checked~label.sk-toggleable__label {background-color: #d4ebff;}#sk-container-id-1 input.sk-hidden--visually {border: 0;clip: rect(1px 1px 1px 1px);clip: rect(1px, 1px, 1px, 1px);height: 1px;margin: -1px;overflow: hidden;padding: 0;position: absolute;width: 1px;}#sk-container-id-1 div.sk-estimator {font-family: monospace;background-color: #f0f8ff;border: 1px dotted black;border-radius: 0.25em;box-sizing: border-box;margin-bottom: 0.5em;}#sk-container-id-1 div.sk-estimator:hover {background-color: #d4ebff;}#sk-container-id-1 div.sk-parallel-item::after {content: \"\";width: 100%;border-bottom: 1px solid gray;flex-grow: 1;}#sk-container-id-1 div.sk-label:hover label.sk-toggleable__label {background-color: #d4ebff;}#sk-container-id-1 div.sk-serial::before {content: \"\";position: absolute;border-left: 1px solid gray;box-sizing: border-box;top: 0;bottom: 0;left: 50%;z-index: 0;}#sk-container-id-1 div.sk-serial {display: flex;flex-direction: column;align-items: center;background-color: white;padding-right: 0.2em;padding-left: 0.2em;position: relative;}#sk-container-id-1 div.sk-item {position: relative;z-index: 1;}#sk-container-id-1 div.sk-parallel {display: flex;align-items: stretch;justify-content: center;background-color: white;position: relative;}#sk-container-id-1 div.sk-item::before, #sk-container-id-1 div.sk-parallel-item::before {content: \"\";position: absolute;border-left: 1px solid gray;box-sizing: border-box;top: 0;bottom: 0;left: 50%;z-index: -1;}#sk-container-id-1 div.sk-parallel-item {display: flex;flex-direction: column;z-index: 1;position: relative;background-color: white;}#sk-container-id-1 div.sk-parallel-item:first-child::after {align-self: flex-end;width: 50%;}#sk-container-id-1 div.sk-parallel-item:last-child::after {align-self: flex-start;width: 50%;}#sk-container-id-1 div.sk-parallel-item:only-child::after {width: 0;}#sk-container-id-1 div.sk-dashed-wrapped {border: 1px dashed gray;margin: 0 0.4em 0.5em 0.4em;box-sizing: border-box;padding-bottom: 0.4em;background-color: white;}#sk-container-id-1 div.sk-label label {font-family: monospace;font-weight: bold;display: inline-block;line-height: 1.2em;}#sk-container-id-1 div.sk-label-container {text-align: center;}#sk-container-id-1 div.sk-container {/* jupyter's `normalize.less` sets `[hidden] { display: none; }` but bootstrap.min.css set `[hidden] { display: none !important; }` so we also need the `!important` here to be able to override the default hidden behavior on the sphinx rendered scikit-learn.org. See: https://github.com/scikit-learn/scikit-learn/issues/21755 */display: inline-block !important;position: relative;}#sk-container-id-1 div.sk-text-repr-fallback {display: none;}</style><div id=\"sk-container-id-1\" class=\"sk-top-container\"><div class=\"sk-text-repr-fallback\"><pre>LinearRegression()</pre><b>In a Jupyter environment, please rerun this cell to show the HTML representation or trust the notebook. <br />On GitHub, the HTML representation is unable to render, please try loading this page with nbviewer.org.</b></div><div class=\"sk-container\" hidden><div class=\"sk-item\"><div class=\"sk-estimator sk-toggleable\"><input class=\"sk-toggleable__control sk-hidden--visually\" id=\"sk-estimator-id-1\" type=\"checkbox\" checked><label for=\"sk-estimator-id-1\" class=\"sk-toggleable__label sk-toggleable__label-arrow\">LinearRegression</label><div class=\"sk-toggleable__content\"><pre>LinearRegression()</pre></div></div></div></div></div>"
      ],
      "text/plain": [
       "LinearRegression()"
      ]
     },
     "execution_count": 83,
     "metadata": {},
     "output_type": "execute_result"
    }
   ],
   "source": [
    "model.fit(X_train, y_train)"
   ]
  },
  {
   "cell_type": "code",
   "execution_count": 84,
   "id": "4b8c050a",
   "metadata": {},
   "outputs": [],
   "source": [
    "y_pred=model.predict(X_test)"
   ]
  },
  {
   "cell_type": "code",
   "execution_count": 85,
   "id": "31b20c04",
   "metadata": {},
   "outputs": [],
   "source": [
    "from sklearn.metrics import mean_absolute_error, mean_squared_error, r2_score"
   ]
  },
  {
   "cell_type": "code",
   "execution_count": 86,
   "id": "05d6cc81",
   "metadata": {},
   "outputs": [],
   "source": [
    "def eval_metric(actual, pred):\n",
    "    mae = mean_absolute_error(actual, pred)\n",
    "    mse = mean_squared_error(actual, pred)\n",
    "    rmse = np.sqrt(mean_squared_error(actual, pred))\n",
    "    R2_score = r2_score(actual, pred)\n",
    "    print(\"Model testing performance:\")\n",
    "    print(\"--------------------------\")\n",
    "    print(f\"R2_score \\t: {R2_score}\")\n",
    "    print(f\"MAE \\t\\t: {mae}\")\n",
    "    print(f\"MSE \\t\\t: {mse}\")\n",
    "    print(f\"RMSE \\t\\t: {rmse}\")"
   ]
  },
  {
   "cell_type": "code",
   "execution_count": 87,
   "id": "cc0d535f",
   "metadata": {},
   "outputs": [
    {
     "name": "stdout",
     "output_type": "stream",
     "text": [
      "Model testing performance:\n",
      "--------------------------\n",
      "R2_score \t: 0.7724652729621758\n",
      "MAE \t\t: 4182.803777070157\n",
      "MSE \t\t: 38935221.010640755\n",
      "RMSE \t\t: 6239.809372940872\n"
     ]
    }
   ],
   "source": [
    "eval_metric(y_test, y_pred)"
   ]
  },
  {
   "cell_type": "code",
   "execution_count": 370,
   "id": "a4768236",
   "metadata": {},
   "outputs": [
    {
     "data": {
      "text/plain": [
       "0.7724652729621758"
      ]
     },
     "execution_count": 370,
     "metadata": {},
     "output_type": "execute_result"
    }
   ],
   "source": [
    "r2_score_linear = r2_score(y_test, y_pred)\n",
    "r2_score_linear "
   ]
  },
  {
   "cell_type": "markdown",
   "id": "74fcdf57",
   "metadata": {},
   "source": [
    "### 2.Polinomial Regression(Ridge,Lasso, Elastik_net)"
   ]
  },
  {
   "cell_type": "code",
   "execution_count": 104,
   "id": "68575ee3",
   "metadata": {},
   "outputs": [],
   "source": [
    "from sklearn.preprocessing import PolynomialFeatures"
   ]
  },
  {
   "cell_type": "code",
   "execution_count": 132,
   "id": "774fc135",
   "metadata": {},
   "outputs": [],
   "source": [
    "polynomial_converter = PolynomialFeatures(degree=3, include_bias=False)\n",
    "\n",
    "poly_features = polynomial_converter.fit_transform(X)"
   ]
  },
  {
   "cell_type": "code",
   "execution_count": 133,
   "id": "7ded388f",
   "metadata": {},
   "outputs": [
    {
     "data": {
      "text/plain": [
       "(1337, 83)"
      ]
     },
     "execution_count": 133,
     "metadata": {},
     "output_type": "execute_result"
    }
   ],
   "source": [
    "poly_features.shape"
   ]
  },
  {
   "cell_type": "code",
   "execution_count": 134,
   "id": "a0814a4b",
   "metadata": {},
   "outputs": [],
   "source": [
    "X_train, X_test, y_train, y_test = train_test_split(poly_features, y, test_size=0.3, random_state=42)"
   ]
  },
  {
   "cell_type": "code",
   "execution_count": 135,
   "id": "37bf314a",
   "metadata": {},
   "outputs": [],
   "source": [
    "from sklearn.preprocessing import StandardScaler, MinMaxScaler, RobustScaler\n",
    "\n",
    "scaler = StandardScaler()"
   ]
  },
  {
   "cell_type": "code",
   "execution_count": 136,
   "id": "a8573385",
   "metadata": {},
   "outputs": [],
   "source": [
    "X_train_scaled=scaler.fit_transform(X_train)"
   ]
  },
  {
   "cell_type": "code",
   "execution_count": 137,
   "id": "7f90f8f2",
   "metadata": {},
   "outputs": [],
   "source": [
    "X_test_scaled=scaler.transform(X_test)"
   ]
  },
  {
   "cell_type": "code",
   "execution_count": 138,
   "id": "5cca4733",
   "metadata": {},
   "outputs": [],
   "source": [
    "from sklearn.linear_model import LinearRegression\n",
    "model_pol=LinearRegression()"
   ]
  },
  {
   "cell_type": "code",
   "execution_count": 139,
   "id": "3bab0d66",
   "metadata": {},
   "outputs": [
    {
     "data": {
      "text/html": [
       "<style>#sk-container-id-4 {color: black;background-color: white;}#sk-container-id-4 pre{padding: 0;}#sk-container-id-4 div.sk-toggleable {background-color: white;}#sk-container-id-4 label.sk-toggleable__label {cursor: pointer;display: block;width: 100%;margin-bottom: 0;padding: 0.3em;box-sizing: border-box;text-align: center;}#sk-container-id-4 label.sk-toggleable__label-arrow:before {content: \"▸\";float: left;margin-right: 0.25em;color: #696969;}#sk-container-id-4 label.sk-toggleable__label-arrow:hover:before {color: black;}#sk-container-id-4 div.sk-estimator:hover label.sk-toggleable__label-arrow:before {color: black;}#sk-container-id-4 div.sk-toggleable__content {max-height: 0;max-width: 0;overflow: hidden;text-align: left;background-color: #f0f8ff;}#sk-container-id-4 div.sk-toggleable__content pre {margin: 0.2em;color: black;border-radius: 0.25em;background-color: #f0f8ff;}#sk-container-id-4 input.sk-toggleable__control:checked~div.sk-toggleable__content {max-height: 200px;max-width: 100%;overflow: auto;}#sk-container-id-4 input.sk-toggleable__control:checked~label.sk-toggleable__label-arrow:before {content: \"▾\";}#sk-container-id-4 div.sk-estimator input.sk-toggleable__control:checked~label.sk-toggleable__label {background-color: #d4ebff;}#sk-container-id-4 div.sk-label input.sk-toggleable__control:checked~label.sk-toggleable__label {background-color: #d4ebff;}#sk-container-id-4 input.sk-hidden--visually {border: 0;clip: rect(1px 1px 1px 1px);clip: rect(1px, 1px, 1px, 1px);height: 1px;margin: -1px;overflow: hidden;padding: 0;position: absolute;width: 1px;}#sk-container-id-4 div.sk-estimator {font-family: monospace;background-color: #f0f8ff;border: 1px dotted black;border-radius: 0.25em;box-sizing: border-box;margin-bottom: 0.5em;}#sk-container-id-4 div.sk-estimator:hover {background-color: #d4ebff;}#sk-container-id-4 div.sk-parallel-item::after {content: \"\";width: 100%;border-bottom: 1px solid gray;flex-grow: 1;}#sk-container-id-4 div.sk-label:hover label.sk-toggleable__label {background-color: #d4ebff;}#sk-container-id-4 div.sk-serial::before {content: \"\";position: absolute;border-left: 1px solid gray;box-sizing: border-box;top: 0;bottom: 0;left: 50%;z-index: 0;}#sk-container-id-4 div.sk-serial {display: flex;flex-direction: column;align-items: center;background-color: white;padding-right: 0.2em;padding-left: 0.2em;position: relative;}#sk-container-id-4 div.sk-item {position: relative;z-index: 1;}#sk-container-id-4 div.sk-parallel {display: flex;align-items: stretch;justify-content: center;background-color: white;position: relative;}#sk-container-id-4 div.sk-item::before, #sk-container-id-4 div.sk-parallel-item::before {content: \"\";position: absolute;border-left: 1px solid gray;box-sizing: border-box;top: 0;bottom: 0;left: 50%;z-index: -1;}#sk-container-id-4 div.sk-parallel-item {display: flex;flex-direction: column;z-index: 1;position: relative;background-color: white;}#sk-container-id-4 div.sk-parallel-item:first-child::after {align-self: flex-end;width: 50%;}#sk-container-id-4 div.sk-parallel-item:last-child::after {align-self: flex-start;width: 50%;}#sk-container-id-4 div.sk-parallel-item:only-child::after {width: 0;}#sk-container-id-4 div.sk-dashed-wrapped {border: 1px dashed gray;margin: 0 0.4em 0.5em 0.4em;box-sizing: border-box;padding-bottom: 0.4em;background-color: white;}#sk-container-id-4 div.sk-label label {font-family: monospace;font-weight: bold;display: inline-block;line-height: 1.2em;}#sk-container-id-4 div.sk-label-container {text-align: center;}#sk-container-id-4 div.sk-container {/* jupyter's `normalize.less` sets `[hidden] { display: none; }` but bootstrap.min.css set `[hidden] { display: none !important; }` so we also need the `!important` here to be able to override the default hidden behavior on the sphinx rendered scikit-learn.org. See: https://github.com/scikit-learn/scikit-learn/issues/21755 */display: inline-block !important;position: relative;}#sk-container-id-4 div.sk-text-repr-fallback {display: none;}</style><div id=\"sk-container-id-4\" class=\"sk-top-container\"><div class=\"sk-text-repr-fallback\"><pre>LinearRegression()</pre><b>In a Jupyter environment, please rerun this cell to show the HTML representation or trust the notebook. <br />On GitHub, the HTML representation is unable to render, please try loading this page with nbviewer.org.</b></div><div class=\"sk-container\" hidden><div class=\"sk-item\"><div class=\"sk-estimator sk-toggleable\"><input class=\"sk-toggleable__control sk-hidden--visually\" id=\"sk-estimator-id-4\" type=\"checkbox\" checked><label for=\"sk-estimator-id-4\" class=\"sk-toggleable__label sk-toggleable__label-arrow\">LinearRegression</label><div class=\"sk-toggleable__content\"><pre>LinearRegression()</pre></div></div></div></div></div>"
      ],
      "text/plain": [
       "LinearRegression()"
      ]
     },
     "execution_count": 139,
     "metadata": {},
     "output_type": "execute_result"
    }
   ],
   "source": [
    "model_pol.fit(X_train_scaled, y_train)"
   ]
  },
  {
   "cell_type": "code",
   "execution_count": 140,
   "id": "3ea56b4d",
   "metadata": {},
   "outputs": [],
   "source": [
    "y_test_pred_pol=model_pol.predict(X_test_scaled)\n",
    "y_train_pred_pol=model_pol.predict(X_train_scaled)"
   ]
  },
  {
   "cell_type": "code",
   "execution_count": 141,
   "id": "e7e7711e",
   "metadata": {},
   "outputs": [],
   "source": [
    "from sklearn.metrics import mean_absolute_error, mean_squared_error, r2_score\n",
    "\n",
    "def train_val(y_train, y_train_pred, y_test, y_pred, model_name):\n",
    "    \n",
    "    scores = {model_name+\"_train\": {\"R2\" : r2_score(y_train, y_train_pred),\n",
    "    \"mae\" : mean_absolute_error(y_train, y_train_pred),\n",
    "    \"mse\" : mean_squared_error(y_train, y_train_pred),                          \n",
    "    \"rmse\" : np.sqrt(mean_squared_error(y_train, y_train_pred))},\n",
    "    \n",
    "    model_name+\"_test\": {\"R2\" : r2_score(y_test, y_pred),\n",
    "    \"mae\" : mean_absolute_error(y_test, y_pred),\n",
    "    \"mse\" : mean_squared_error(y_test, y_pred),\n",
    "    \"rmse\" : np.sqrt(mean_squared_error(y_test, y_pred))}}\n",
    "    \n",
    "    return pd.DataFrame(scores)"
   ]
  },
  {
   "cell_type": "code",
   "execution_count": 151,
   "id": "d1f6d7a6",
   "metadata": {},
   "outputs": [
    {
     "data": {
      "text/plain": [
       "0.8433935354449535"
      ]
     },
     "execution_count": 151,
     "metadata": {},
     "output_type": "execute_result"
    }
   ],
   "source": [
    "r2_score_pol=r2_score(y_test, y_test_pred_pol)\n",
    "r2_score_pol"
   ]
  },
  {
   "cell_type": "code",
   "execution_count": 142,
   "id": "7a4c889c",
   "metadata": {},
   "outputs": [
    {
     "data": {
      "text/html": [
       "<div>\n",
       "<style scoped>\n",
       "    .dataframe tbody tr th:only-of-type {\n",
       "        vertical-align: middle;\n",
       "    }\n",
       "\n",
       "    .dataframe tbody tr th {\n",
       "        vertical-align: top;\n",
       "    }\n",
       "\n",
       "    .dataframe thead th {\n",
       "        text-align: right;\n",
       "    }\n",
       "</style>\n",
       "<table border=\"1\" class=\"dataframe\">\n",
       "  <thead>\n",
       "    <tr style=\"text-align: right;\">\n",
       "      <th></th>\n",
       "      <th>model_pol_train</th>\n",
       "      <th>model_pol_test</th>\n",
       "    </tr>\n",
       "  </thead>\n",
       "  <tbody>\n",
       "    <tr>\n",
       "      <th>R2</th>\n",
       "      <td>8.516441e-01</td>\n",
       "      <td>8.433935e-01</td>\n",
       "    </tr>\n",
       "    <tr>\n",
       "      <th>mae</th>\n",
       "      <td>2.728671e+03</td>\n",
       "      <td>3.163281e+03</td>\n",
       "    </tr>\n",
       "    <tr>\n",
       "      <th>mse</th>\n",
       "      <td>2.014535e+07</td>\n",
       "      <td>2.679814e+07</td>\n",
       "    </tr>\n",
       "    <tr>\n",
       "      <th>rmse</th>\n",
       "      <td>4.488357e+03</td>\n",
       "      <td>5.176692e+03</td>\n",
       "    </tr>\n",
       "  </tbody>\n",
       "</table>\n",
       "</div>"
      ],
      "text/plain": [
       "      model_pol_train  model_pol_test\n",
       "R2       8.516441e-01    8.433935e-01\n",
       "mae      2.728671e+03    3.163281e+03\n",
       "mse      2.014535e+07    2.679814e+07\n",
       "rmse     4.488357e+03    5.176692e+03"
      ]
     },
     "execution_count": 142,
     "metadata": {},
     "output_type": "execute_result"
    }
   ],
   "source": [
    "train_val(y_train,y_train_pred_pol, y_test, y_test_pred_pol, \"model_pol\" )"
   ]
  },
  {
   "cell_type": "markdown",
   "id": "ec913cdd",
   "metadata": {},
   "source": [
    "### cv with polinomial"
   ]
  },
  {
   "cell_type": "code",
   "execution_count": 143,
   "id": "3616cdd2",
   "metadata": {},
   "outputs": [],
   "source": [
    "from sklearn.model_selection import cross_validate, cross_val_score"
   ]
  },
  {
   "cell_type": "code",
   "execution_count": 144,
   "id": "b8775841",
   "metadata": {},
   "outputs": [],
   "source": [
    "model_pol=LinearRegression()\n",
    "model = LinearRegression()\n",
    "scores = cross_validate(model_pol, X_train_scaled, y_train, scoring = ['r2', 'neg_mean_absolute_error','neg_mean_squared_error', \\\n",
    "                                                            'neg_root_mean_squared_error'], cv = 10)"
   ]
  },
  {
   "cell_type": "code",
   "execution_count": 145,
   "id": "c3fb96b6",
   "metadata": {},
   "outputs": [
    {
     "data": {
      "text/plain": [
       "test_r2                             8.189078e-01\n",
       "test_neg_mean_absolute_error       -3.011775e+03\n",
       "test_neg_mean_squared_error        -2.381277e+07\n",
       "test_neg_root_mean_squared_error   -4.861644e+03\n",
       "dtype: float64"
      ]
     },
     "execution_count": 145,
     "metadata": {},
     "output_type": "execute_result"
    }
   ],
   "source": [
    "scores = pd.DataFrame(scores, index=range(1,11))\n",
    "scores.iloc[:, 2:].mean()"
   ]
  },
  {
   "cell_type": "markdown",
   "id": "262c93bd",
   "metadata": {},
   "source": [
    "### 2.1. Ridge"
   ]
  },
  {
   "cell_type": "code",
   "execution_count": 146,
   "id": "d688a967",
   "metadata": {},
   "outputs": [],
   "source": [
    "from sklearn.linear_model import Ridge"
   ]
  },
  {
   "cell_type": "code",
   "execution_count": 147,
   "id": "d37d59d6",
   "metadata": {},
   "outputs": [],
   "source": [
    "ridge_model=Ridge(alpha=1)"
   ]
  },
  {
   "cell_type": "code",
   "execution_count": 148,
   "id": "dbe8331a",
   "metadata": {},
   "outputs": [
    {
     "data": {
      "text/html": [
       "<style>#sk-container-id-5 {color: black;background-color: white;}#sk-container-id-5 pre{padding: 0;}#sk-container-id-5 div.sk-toggleable {background-color: white;}#sk-container-id-5 label.sk-toggleable__label {cursor: pointer;display: block;width: 100%;margin-bottom: 0;padding: 0.3em;box-sizing: border-box;text-align: center;}#sk-container-id-5 label.sk-toggleable__label-arrow:before {content: \"▸\";float: left;margin-right: 0.25em;color: #696969;}#sk-container-id-5 label.sk-toggleable__label-arrow:hover:before {color: black;}#sk-container-id-5 div.sk-estimator:hover label.sk-toggleable__label-arrow:before {color: black;}#sk-container-id-5 div.sk-toggleable__content {max-height: 0;max-width: 0;overflow: hidden;text-align: left;background-color: #f0f8ff;}#sk-container-id-5 div.sk-toggleable__content pre {margin: 0.2em;color: black;border-radius: 0.25em;background-color: #f0f8ff;}#sk-container-id-5 input.sk-toggleable__control:checked~div.sk-toggleable__content {max-height: 200px;max-width: 100%;overflow: auto;}#sk-container-id-5 input.sk-toggleable__control:checked~label.sk-toggleable__label-arrow:before {content: \"▾\";}#sk-container-id-5 div.sk-estimator input.sk-toggleable__control:checked~label.sk-toggleable__label {background-color: #d4ebff;}#sk-container-id-5 div.sk-label input.sk-toggleable__control:checked~label.sk-toggleable__label {background-color: #d4ebff;}#sk-container-id-5 input.sk-hidden--visually {border: 0;clip: rect(1px 1px 1px 1px);clip: rect(1px, 1px, 1px, 1px);height: 1px;margin: -1px;overflow: hidden;padding: 0;position: absolute;width: 1px;}#sk-container-id-5 div.sk-estimator {font-family: monospace;background-color: #f0f8ff;border: 1px dotted black;border-radius: 0.25em;box-sizing: border-box;margin-bottom: 0.5em;}#sk-container-id-5 div.sk-estimator:hover {background-color: #d4ebff;}#sk-container-id-5 div.sk-parallel-item::after {content: \"\";width: 100%;border-bottom: 1px solid gray;flex-grow: 1;}#sk-container-id-5 div.sk-label:hover label.sk-toggleable__label {background-color: #d4ebff;}#sk-container-id-5 div.sk-serial::before {content: \"\";position: absolute;border-left: 1px solid gray;box-sizing: border-box;top: 0;bottom: 0;left: 50%;z-index: 0;}#sk-container-id-5 div.sk-serial {display: flex;flex-direction: column;align-items: center;background-color: white;padding-right: 0.2em;padding-left: 0.2em;position: relative;}#sk-container-id-5 div.sk-item {position: relative;z-index: 1;}#sk-container-id-5 div.sk-parallel {display: flex;align-items: stretch;justify-content: center;background-color: white;position: relative;}#sk-container-id-5 div.sk-item::before, #sk-container-id-5 div.sk-parallel-item::before {content: \"\";position: absolute;border-left: 1px solid gray;box-sizing: border-box;top: 0;bottom: 0;left: 50%;z-index: -1;}#sk-container-id-5 div.sk-parallel-item {display: flex;flex-direction: column;z-index: 1;position: relative;background-color: white;}#sk-container-id-5 div.sk-parallel-item:first-child::after {align-self: flex-end;width: 50%;}#sk-container-id-5 div.sk-parallel-item:last-child::after {align-self: flex-start;width: 50%;}#sk-container-id-5 div.sk-parallel-item:only-child::after {width: 0;}#sk-container-id-5 div.sk-dashed-wrapped {border: 1px dashed gray;margin: 0 0.4em 0.5em 0.4em;box-sizing: border-box;padding-bottom: 0.4em;background-color: white;}#sk-container-id-5 div.sk-label label {font-family: monospace;font-weight: bold;display: inline-block;line-height: 1.2em;}#sk-container-id-5 div.sk-label-container {text-align: center;}#sk-container-id-5 div.sk-container {/* jupyter's `normalize.less` sets `[hidden] { display: none; }` but bootstrap.min.css set `[hidden] { display: none !important; }` so we also need the `!important` here to be able to override the default hidden behavior on the sphinx rendered scikit-learn.org. See: https://github.com/scikit-learn/scikit-learn/issues/21755 */display: inline-block !important;position: relative;}#sk-container-id-5 div.sk-text-repr-fallback {display: none;}</style><div id=\"sk-container-id-5\" class=\"sk-top-container\"><div class=\"sk-text-repr-fallback\"><pre>Ridge(alpha=1)</pre><b>In a Jupyter environment, please rerun this cell to show the HTML representation or trust the notebook. <br />On GitHub, the HTML representation is unable to render, please try loading this page with nbviewer.org.</b></div><div class=\"sk-container\" hidden><div class=\"sk-item\"><div class=\"sk-estimator sk-toggleable\"><input class=\"sk-toggleable__control sk-hidden--visually\" id=\"sk-estimator-id-5\" type=\"checkbox\" checked><label for=\"sk-estimator-id-5\" class=\"sk-toggleable__label sk-toggleable__label-arrow\">Ridge</label><div class=\"sk-toggleable__content\"><pre>Ridge(alpha=1)</pre></div></div></div></div></div>"
      ],
      "text/plain": [
       "Ridge(alpha=1)"
      ]
     },
     "execution_count": 148,
     "metadata": {},
     "output_type": "execute_result"
    }
   ],
   "source": [
    "ridge_model.fit(X_train_scaled, y_train)"
   ]
  },
  {
   "cell_type": "code",
   "execution_count": 149,
   "id": "823e61ac",
   "metadata": {},
   "outputs": [],
   "source": [
    "y_pred_test_ridge=ridge_model.predict(X_test_scaled)\n",
    "y_pred_train_ridge=ridge_model.predict(X_train_scaled)"
   ]
  },
  {
   "cell_type": "code",
   "execution_count": 153,
   "id": "3dab6ff4",
   "metadata": {},
   "outputs": [
    {
     "data": {
      "text/html": [
       "<div>\n",
       "<style scoped>\n",
       "    .dataframe tbody tr th:only-of-type {\n",
       "        vertical-align: middle;\n",
       "    }\n",
       "\n",
       "    .dataframe tbody tr th {\n",
       "        vertical-align: top;\n",
       "    }\n",
       "\n",
       "    .dataframe thead th {\n",
       "        text-align: right;\n",
       "    }\n",
       "</style>\n",
       "<table border=\"1\" class=\"dataframe\">\n",
       "  <thead>\n",
       "    <tr style=\"text-align: right;\">\n",
       "      <th></th>\n",
       "      <th>ridge_model_train</th>\n",
       "      <th>ridge_model_test</th>\n",
       "    </tr>\n",
       "  </thead>\n",
       "  <tbody>\n",
       "    <tr>\n",
       "      <th>R2</th>\n",
       "      <td>8.488131e-01</td>\n",
       "      <td>8.451842e-01</td>\n",
       "    </tr>\n",
       "    <tr>\n",
       "      <th>mae</th>\n",
       "      <td>2.762971e+03</td>\n",
       "      <td>3.104481e+03</td>\n",
       "    </tr>\n",
       "    <tr>\n",
       "      <th>mse</th>\n",
       "      <td>2.052978e+07</td>\n",
       "      <td>2.649173e+07</td>\n",
       "    </tr>\n",
       "    <tr>\n",
       "      <th>rmse</th>\n",
       "      <td>4.530979e+03</td>\n",
       "      <td>5.147012e+03</td>\n",
       "    </tr>\n",
       "  </tbody>\n",
       "</table>\n",
       "</div>"
      ],
      "text/plain": [
       "      ridge_model_train  ridge_model_test\n",
       "R2         8.488131e-01      8.451842e-01\n",
       "mae        2.762971e+03      3.104481e+03\n",
       "mse        2.052978e+07      2.649173e+07\n",
       "rmse       4.530979e+03      5.147012e+03"
      ]
     },
     "execution_count": 153,
     "metadata": {},
     "output_type": "execute_result"
    }
   ],
   "source": [
    "train_val(y_train, y_pred_train_ridge, y_test, y_pred_test_ridge, \"ridge_model\")"
   ]
  },
  {
   "cell_type": "code",
   "execution_count": 154,
   "id": "d05fb3e4",
   "metadata": {},
   "outputs": [
    {
     "data": {
      "text/plain": [
       "0.8451841700801854"
      ]
     },
     "execution_count": 154,
     "metadata": {},
     "output_type": "execute_result"
    }
   ],
   "source": [
    "r2_score_pol_ridge=r2_score(y_test, y_pred_test_ridge)\n",
    "r2_score_pol_ridge"
   ]
  },
  {
   "cell_type": "markdown",
   "id": "76700b55",
   "metadata": {},
   "source": [
    "### gridSearch for Ridge"
   ]
  },
  {
   "cell_type": "code",
   "execution_count": 155,
   "id": "eea60768",
   "metadata": {},
   "outputs": [],
   "source": [
    "from sklearn.model_selection import GridSearchCV"
   ]
  },
  {
   "cell_type": "code",
   "execution_count": 162,
   "id": "ca6be0bf",
   "metadata": {},
   "outputs": [
    {
     "data": {
      "text/plain": [
       "array([0.01      , 0.05030303, 0.09060606, 0.13090909, 0.17121212,\n",
       "       0.21151515, 0.25181818, 0.29212121, 0.33242424, 0.37272727,\n",
       "       0.4130303 , 0.45333333, 0.49363636, 0.53393939, 0.57424242,\n",
       "       0.61454545, 0.65484848, 0.69515152, 0.73545455, 0.77575758,\n",
       "       0.81606061, 0.85636364, 0.89666667, 0.9369697 , 0.97727273,\n",
       "       1.01757576, 1.05787879, 1.09818182, 1.13848485, 1.17878788,\n",
       "       1.21909091, 1.25939394, 1.29969697, 1.34      , 1.38030303,\n",
       "       1.42060606, 1.46090909, 1.50121212, 1.54151515, 1.58181818,\n",
       "       1.62212121, 1.66242424, 1.70272727, 1.7430303 , 1.78333333,\n",
       "       1.82363636, 1.86393939, 1.90424242, 1.94454545, 1.98484848,\n",
       "       2.02515152, 2.06545455, 2.10575758, 2.14606061, 2.18636364,\n",
       "       2.22666667, 2.2669697 , 2.30727273, 2.34757576, 2.38787879,\n",
       "       2.42818182, 2.46848485, 2.50878788, 2.54909091, 2.58939394,\n",
       "       2.62969697, 2.67      , 2.71030303, 2.75060606, 2.79090909,\n",
       "       2.83121212, 2.87151515, 2.91181818, 2.95212121, 2.99242424,\n",
       "       3.03272727, 3.0730303 , 3.11333333, 3.15363636, 3.19393939,\n",
       "       3.23424242, 3.27454545, 3.31484848, 3.35515152, 3.39545455,\n",
       "       3.43575758, 3.47606061, 3.51636364, 3.55666667, 3.5969697 ,\n",
       "       3.63727273, 3.67757576, 3.71787879, 3.75818182, 3.79848485,\n",
       "       3.83878788, 3.87909091, 3.91939394, 3.95969697, 4.        ])"
      ]
     },
     "execution_count": 162,
     "metadata": {},
     "output_type": "execute_result"
    }
   ],
   "source": [
    "alpha_space = np.linspace(0.01, 4, 100)\n",
    "alpha_space"
   ]
  },
  {
   "cell_type": "code",
   "execution_count": 163,
   "id": "79ef8cc0",
   "metadata": {},
   "outputs": [],
   "source": [
    "ridge_model_grid = Ridge()"
   ]
  },
  {
   "cell_type": "code",
   "execution_count": 164,
   "id": "e2e7155f",
   "metadata": {},
   "outputs": [],
   "source": [
    "param_grid = {\"alpha\":alpha_space}"
   ]
  },
  {
   "cell_type": "code",
   "execution_count": 165,
   "id": "5a9d7793",
   "metadata": {},
   "outputs": [],
   "source": [
    "grid_ridge = GridSearchCV(estimator = ridge_model_grid, param_grid = param_grid, scoring = 'neg_root_mean_squared_error',\n",
    "                         cv =10, verbose =2)"
   ]
  },
  {
   "cell_type": "code",
   "execution_count": 166,
   "id": "ddb41761",
   "metadata": {},
   "outputs": [
    {
     "name": "stdout",
     "output_type": "stream",
     "text": [
      "Fitting 10 folds for each of 100 candidates, totalling 1000 fits\n",
      "[CV] END .........................................alpha=0.01; total time=   0.0s\n",
      "[CV] END .........................................alpha=0.01; total time=   0.0s\n",
      "[CV] END .........................................alpha=0.01; total time=   0.0s\n",
      "[CV] END .........................................alpha=0.01; total time=   0.0s\n",
      "[CV] END .........................................alpha=0.01; total time=   0.0s\n",
      "[CV] END .........................................alpha=0.01; total time=   0.0s\n",
      "[CV] END .........................................alpha=0.01; total time=   0.0s\n",
      "[CV] END .........................................alpha=0.01; total time=   0.0s\n",
      "[CV] END .........................................alpha=0.01; total time=   0.0s\n",
      "[CV] END .........................................alpha=0.01; total time=   0.0s\n",
      "[CV] END ..........................alpha=0.05030303030303031; total time=   0.0s\n",
      "[CV] END ..........................alpha=0.05030303030303031; total time=   0.0s\n",
      "[CV] END ..........................alpha=0.05030303030303031; total time=   0.0s\n",
      "[CV] END ..........................alpha=0.05030303030303031; total time=   0.0s\n",
      "[CV] END ..........................alpha=0.05030303030303031; total time=   0.0s\n",
      "[CV] END ..........................alpha=0.05030303030303031; total time=   0.0s\n",
      "[CV] END ..........................alpha=0.05030303030303031; total time=   0.0s\n",
      "[CV] END ..........................alpha=0.05030303030303031; total time=   0.0s\n",
      "[CV] END ..........................alpha=0.05030303030303031; total time=   0.0s\n",
      "[CV] END ..........................alpha=0.05030303030303031; total time=   0.0s\n",
      "[CV] END ...........................alpha=0.0906060606060606; total time=   0.0s\n",
      "[CV] END ...........................alpha=0.0906060606060606; total time=   0.0s\n",
      "[CV] END ...........................alpha=0.0906060606060606; total time=   0.0s\n",
      "[CV] END ...........................alpha=0.0906060606060606; total time=   0.0s\n",
      "[CV] END ...........................alpha=0.0906060606060606; total time=   0.0s\n",
      "[CV] END ...........................alpha=0.0906060606060606; total time=   0.0s\n",
      "[CV] END ...........................alpha=0.0906060606060606; total time=   0.0s\n",
      "[CV] END ...........................alpha=0.0906060606060606; total time=   0.0s\n",
      "[CV] END ...........................alpha=0.0906060606060606; total time=   0.0s\n",
      "[CV] END ...........................alpha=0.0906060606060606; total time=   0.0s\n",
      "[CV] END ..........................alpha=0.13090909090909092; total time=   0.0s\n",
      "[CV] END ..........................alpha=0.13090909090909092; total time=   0.0s\n",
      "[CV] END ..........................alpha=0.13090909090909092; total time=   0.0s\n",
      "[CV] END ..........................alpha=0.13090909090909092; total time=   0.0s\n",
      "[CV] END ..........................alpha=0.13090909090909092; total time=   0.0s\n",
      "[CV] END ..........................alpha=0.13090909090909092; total time=   0.0s\n",
      "[CV] END ..........................alpha=0.13090909090909092; total time=   0.0s\n",
      "[CV] END ..........................alpha=0.13090909090909092; total time=   0.0s\n",
      "[CV] END ..........................alpha=0.13090909090909092; total time=   0.0s\n",
      "[CV] END ..........................alpha=0.13090909090909092; total time=   0.0s\n",
      "[CV] END ..........................alpha=0.17121212121212123; total time=   0.0s\n",
      "[CV] END ..........................alpha=0.17121212121212123; total time=   0.0s\n",
      "[CV] END ..........................alpha=0.17121212121212123; total time=   0.0s\n",
      "[CV] END ..........................alpha=0.17121212121212123; total time=   0.0s\n",
      "[CV] END ..........................alpha=0.17121212121212123; total time=   0.0s\n",
      "[CV] END ..........................alpha=0.17121212121212123; total time=   0.0s\n",
      "[CV] END ..........................alpha=0.17121212121212123; total time=   0.0s\n",
      "[CV] END ..........................alpha=0.17121212121212123; total time=   0.0s\n",
      "[CV] END ..........................alpha=0.17121212121212123; total time=   0.0s\n",
      "[CV] END ..........................alpha=0.17121212121212123; total time=   0.0s\n",
      "[CV] END ..........................alpha=0.21151515151515154; total time=   0.0s\n",
      "[CV] END ..........................alpha=0.21151515151515154; total time=   0.0s\n",
      "[CV] END ..........................alpha=0.21151515151515154; total time=   0.0s\n",
      "[CV] END ..........................alpha=0.21151515151515154; total time=   0.0s\n",
      "[CV] END ..........................alpha=0.21151515151515154; total time=   0.0s\n",
      "[CV] END ..........................alpha=0.21151515151515154; total time=   0.0s\n",
      "[CV] END ..........................alpha=0.21151515151515154; total time=   0.0s\n",
      "[CV] END ..........................alpha=0.21151515151515154; total time=   0.0s\n",
      "[CV] END ..........................alpha=0.21151515151515154; total time=   0.0s\n",
      "[CV] END ..........................alpha=0.21151515151515154; total time=   0.0s\n",
      "[CV] END ..........................alpha=0.25181818181818183; total time=   0.0s\n",
      "[CV] END ..........................alpha=0.25181818181818183; total time=   0.0s\n",
      "[CV] END ..........................alpha=0.25181818181818183; total time=   0.0s\n",
      "[CV] END ..........................alpha=0.25181818181818183; total time=   0.0s\n",
      "[CV] END ..........................alpha=0.25181818181818183; total time=   0.0s\n",
      "[CV] END ..........................alpha=0.25181818181818183; total time=   0.0s\n",
      "[CV] END ..........................alpha=0.25181818181818183; total time=   0.0s\n",
      "[CV] END ..........................alpha=0.25181818181818183; total time=   0.0s\n",
      "[CV] END ..........................alpha=0.25181818181818183; total time=   0.0s\n",
      "[CV] END ..........................alpha=0.25181818181818183; total time=   0.0s\n",
      "[CV] END ..........................alpha=0.29212121212121217; total time=   0.0s\n",
      "[CV] END ..........................alpha=0.29212121212121217; total time=   0.0s\n",
      "[CV] END ..........................alpha=0.29212121212121217; total time=   0.0s\n",
      "[CV] END ..........................alpha=0.29212121212121217; total time=   0.0s\n",
      "[CV] END ..........................alpha=0.29212121212121217; total time=   0.0s\n",
      "[CV] END ..........................alpha=0.29212121212121217; total time=   0.0s\n",
      "[CV] END ..........................alpha=0.29212121212121217; total time=   0.0s\n",
      "[CV] END ..........................alpha=0.29212121212121217; total time=   0.0s\n",
      "[CV] END ..........................alpha=0.29212121212121217; total time=   0.0s\n",
      "[CV] END ..........................alpha=0.29212121212121217; total time=   0.0s\n",
      "[CV] END ..........................alpha=0.33242424242424246; total time=   0.0s\n",
      "[CV] END ..........................alpha=0.33242424242424246; total time=   0.0s\n",
      "[CV] END ..........................alpha=0.33242424242424246; total time=   0.0s\n",
      "[CV] END ..........................alpha=0.33242424242424246; total time=   0.0s\n",
      "[CV] END ..........................alpha=0.33242424242424246; total time=   0.0s\n",
      "[CV] END ..........................alpha=0.33242424242424246; total time=   0.0s\n",
      "[CV] END ..........................alpha=0.33242424242424246; total time=   0.0s\n",
      "[CV] END ..........................alpha=0.33242424242424246; total time=   0.0s\n",
      "[CV] END ..........................alpha=0.33242424242424246; total time=   0.0s\n",
      "[CV] END ..........................alpha=0.33242424242424246; total time=   0.0s\n",
      "[CV] END ..........................alpha=0.37272727272727274; total time=   0.0s\n",
      "[CV] END ..........................alpha=0.37272727272727274; total time=   0.0s\n",
      "[CV] END ..........................alpha=0.37272727272727274; total time=   0.0s\n",
      "[CV] END ..........................alpha=0.37272727272727274; total time=   0.0s\n",
      "[CV] END ..........................alpha=0.37272727272727274; total time=   0.0s\n",
      "[CV] END ..........................alpha=0.37272727272727274; total time=   0.0s\n",
      "[CV] END ..........................alpha=0.37272727272727274; total time=   0.0s\n",
      "[CV] END ..........................alpha=0.37272727272727274; total time=   0.0s\n",
      "[CV] END ..........................alpha=0.37272727272727274; total time=   0.0s\n",
      "[CV] END ..........................alpha=0.37272727272727274; total time=   0.0s\n",
      "[CV] END ...........................alpha=0.4130303030303031; total time=   0.0s\n",
      "[CV] END ...........................alpha=0.4130303030303031; total time=   0.0s\n",
      "[CV] END ...........................alpha=0.4130303030303031; total time=   0.0s\n"
     ]
    },
    {
     "name": "stdout",
     "output_type": "stream",
     "text": [
      "[CV] END ...........................alpha=0.4130303030303031; total time=   0.0s\n",
      "[CV] END ...........................alpha=0.4130303030303031; total time=   0.0s\n",
      "[CV] END ...........................alpha=0.4130303030303031; total time=   0.0s\n",
      "[CV] END ...........................alpha=0.4130303030303031; total time=   0.0s\n",
      "[CV] END ...........................alpha=0.4130303030303031; total time=   0.0s\n",
      "[CV] END ...........................alpha=0.4130303030303031; total time=   0.0s\n",
      "[CV] END ...........................alpha=0.4130303030303031; total time=   0.0s\n",
      "[CV] END ..........................alpha=0.45333333333333337; total time=   0.0s\n",
      "[CV] END ..........................alpha=0.45333333333333337; total time=   0.0s\n",
      "[CV] END ..........................alpha=0.45333333333333337; total time=   0.0s\n",
      "[CV] END ..........................alpha=0.45333333333333337; total time=   0.0s\n",
      "[CV] END ..........................alpha=0.45333333333333337; total time=   0.0s\n",
      "[CV] END ..........................alpha=0.45333333333333337; total time=   0.0s\n",
      "[CV] END ..........................alpha=0.45333333333333337; total time=   0.0s\n",
      "[CV] END ..........................alpha=0.45333333333333337; total time=   0.0s\n",
      "[CV] END ..........................alpha=0.45333333333333337; total time=   0.0s\n",
      "[CV] END ..........................alpha=0.45333333333333337; total time=   0.0s\n",
      "[CV] END ..........................alpha=0.49363636363636365; total time=   0.0s\n",
      "[CV] END ..........................alpha=0.49363636363636365; total time=   0.0s\n",
      "[CV] END ..........................alpha=0.49363636363636365; total time=   0.0s\n",
      "[CV] END ..........................alpha=0.49363636363636365; total time=   0.0s\n",
      "[CV] END ..........................alpha=0.49363636363636365; total time=   0.0s\n",
      "[CV] END ..........................alpha=0.49363636363636365; total time=   0.0s\n",
      "[CV] END ..........................alpha=0.49363636363636365; total time=   0.0s\n",
      "[CV] END ..........................alpha=0.49363636363636365; total time=   0.0s\n",
      "[CV] END ..........................alpha=0.49363636363636365; total time=   0.0s\n",
      "[CV] END ..........................alpha=0.49363636363636365; total time=   0.0s\n",
      "[CV] END ...........................alpha=0.5339393939393939; total time=   0.0s\n",
      "[CV] END ...........................alpha=0.5339393939393939; total time=   0.0s\n",
      "[CV] END ...........................alpha=0.5339393939393939; total time=   0.0s\n",
      "[CV] END ...........................alpha=0.5339393939393939; total time=   0.0s\n",
      "[CV] END ...........................alpha=0.5339393939393939; total time=   0.0s\n",
      "[CV] END ...........................alpha=0.5339393939393939; total time=   0.0s\n",
      "[CV] END ...........................alpha=0.5339393939393939; total time=   0.0s\n",
      "[CV] END ...........................alpha=0.5339393939393939; total time=   0.0s\n",
      "[CV] END ...........................alpha=0.5339393939393939; total time=   0.0s\n",
      "[CV] END ...........................alpha=0.5339393939393939; total time=   0.0s\n",
      "[CV] END ...........................alpha=0.5742424242424243; total time=   0.0s\n",
      "[CV] END ...........................alpha=0.5742424242424243; total time=   0.0s\n",
      "[CV] END ...........................alpha=0.5742424242424243; total time=   0.0s\n",
      "[CV] END ...........................alpha=0.5742424242424243; total time=   0.0s\n",
      "[CV] END ...........................alpha=0.5742424242424243; total time=   0.0s\n",
      "[CV] END ...........................alpha=0.5742424242424243; total time=   0.0s\n",
      "[CV] END ...........................alpha=0.5742424242424243; total time=   0.0s\n",
      "[CV] END ...........................alpha=0.5742424242424243; total time=   0.0s\n",
      "[CV] END ...........................alpha=0.5742424242424243; total time=   0.0s\n",
      "[CV] END ...........................alpha=0.5742424242424243; total time=   0.0s\n",
      "[CV] END ...........................alpha=0.6145454545454546; total time=   0.0s\n",
      "[CV] END ...........................alpha=0.6145454545454546; total time=   0.0s\n",
      "[CV] END ...........................alpha=0.6145454545454546; total time=   0.0s\n",
      "[CV] END ...........................alpha=0.6145454545454546; total time=   0.0s\n",
      "[CV] END ...........................alpha=0.6145454545454546; total time=   0.0s\n",
      "[CV] END ...........................alpha=0.6145454545454546; total time=   0.0s\n",
      "[CV] END ...........................alpha=0.6145454545454546; total time=   0.0s\n",
      "[CV] END ...........................alpha=0.6145454545454546; total time=   0.0s\n",
      "[CV] END ...........................alpha=0.6145454545454546; total time=   0.0s\n",
      "[CV] END ...........................alpha=0.6145454545454546; total time=   0.0s\n",
      "[CV] END ...........................alpha=0.6548484848484849; total time=   0.0s\n",
      "[CV] END ...........................alpha=0.6548484848484849; total time=   0.0s\n",
      "[CV] END ...........................alpha=0.6548484848484849; total time=   0.0s\n",
      "[CV] END ...........................alpha=0.6548484848484849; total time=   0.0s\n",
      "[CV] END ...........................alpha=0.6548484848484849; total time=   0.0s\n",
      "[CV] END ...........................alpha=0.6548484848484849; total time=   0.0s\n",
      "[CV] END ...........................alpha=0.6548484848484849; total time=   0.0s\n",
      "[CV] END ...........................alpha=0.6548484848484849; total time=   0.0s\n",
      "[CV] END ...........................alpha=0.6548484848484849; total time=   0.0s\n",
      "[CV] END ...........................alpha=0.6548484848484849; total time=   0.0s\n",
      "[CV] END ...........................alpha=0.6951515151515152; total time=   0.0s\n",
      "[CV] END ...........................alpha=0.6951515151515152; total time=   0.0s\n",
      "[CV] END ...........................alpha=0.6951515151515152; total time=   0.0s\n",
      "[CV] END ...........................alpha=0.6951515151515152; total time=   0.0s\n",
      "[CV] END ...........................alpha=0.6951515151515152; total time=   0.0s\n",
      "[CV] END ...........................alpha=0.6951515151515152; total time=   0.0s\n",
      "[CV] END ...........................alpha=0.6951515151515152; total time=   0.0s\n",
      "[CV] END ...........................alpha=0.6951515151515152; total time=   0.0s\n",
      "[CV] END ...........................alpha=0.6951515151515152; total time=   0.0s\n",
      "[CV] END ...........................alpha=0.6951515151515152; total time=   0.0s\n",
      "[CV] END ...........................alpha=0.7354545454545455; total time=   0.0s\n",
      "[CV] END ...........................alpha=0.7354545454545455; total time=   0.0s\n",
      "[CV] END ...........................alpha=0.7354545454545455; total time=   0.0s\n",
      "[CV] END ...........................alpha=0.7354545454545455; total time=   0.0s\n",
      "[CV] END ...........................alpha=0.7354545454545455; total time=   0.0s\n",
      "[CV] END ...........................alpha=0.7354545454545455; total time=   0.0s\n",
      "[CV] END ...........................alpha=0.7354545454545455; total time=   0.0s\n",
      "[CV] END ...........................alpha=0.7354545454545455; total time=   0.0s\n",
      "[CV] END ...........................alpha=0.7354545454545455; total time=   0.0s\n",
      "[CV] END ...........................alpha=0.7354545454545455; total time=   0.0s\n",
      "[CV] END ...........................alpha=0.7757575757575759; total time=   0.0s\n",
      "[CV] END ...........................alpha=0.7757575757575759; total time=   0.0s\n",
      "[CV] END ...........................alpha=0.7757575757575759; total time=   0.0s\n",
      "[CV] END ...........................alpha=0.7757575757575759; total time=   0.0s\n",
      "[CV] END ...........................alpha=0.7757575757575759; total time=   0.0s\n",
      "[CV] END ...........................alpha=0.7757575757575759; total time=   0.0s\n",
      "[CV] END ...........................alpha=0.7757575757575759; total time=   0.0s\n",
      "[CV] END ...........................alpha=0.7757575757575759; total time=   0.0s\n",
      "[CV] END ...........................alpha=0.7757575757575759; total time=   0.0s\n",
      "[CV] END ...........................alpha=0.7757575757575759; total time=   0.0s\n",
      "[CV] END ...........................alpha=0.8160606060606062; total time=   0.0s\n",
      "[CV] END ...........................alpha=0.8160606060606062; total time=   0.0s\n",
      "[CV] END ...........................alpha=0.8160606060606062; total time=   0.0s\n",
      "[CV] END ...........................alpha=0.8160606060606062; total time=   0.0s\n",
      "[CV] END ...........................alpha=0.8160606060606062; total time=   0.0s\n",
      "[CV] END ...........................alpha=0.8160606060606062; total time=   0.0s\n",
      "[CV] END ...........................alpha=0.8160606060606062; total time=   0.0s\n",
      "[CV] END ...........................alpha=0.8160606060606062; total time=   0.0s\n",
      "[CV] END ...........................alpha=0.8160606060606062; total time=   0.0s\n",
      "[CV] END ...........................alpha=0.8160606060606062; total time=   0.0s\n",
      "[CV] END ...........................alpha=0.8563636363636364; total time=   0.0s\n",
      "[CV] END ...........................alpha=0.8563636363636364; total time=   0.0s\n",
      "[CV] END ...........................alpha=0.8563636363636364; total time=   0.0s\n",
      "[CV] END ...........................alpha=0.8563636363636364; total time=   0.0s\n",
      "[CV] END ...........................alpha=0.8563636363636364; total time=   0.0s\n",
      "[CV] END ...........................alpha=0.8563636363636364; total time=   0.0s\n"
     ]
    },
    {
     "name": "stdout",
     "output_type": "stream",
     "text": [
      "[CV] END ...........................alpha=0.8563636363636364; total time=   0.0s\n",
      "[CV] END ...........................alpha=0.8563636363636364; total time=   0.0s\n",
      "[CV] END ...........................alpha=0.8563636363636364; total time=   0.0s\n",
      "[CV] END ...........................alpha=0.8563636363636364; total time=   0.0s\n",
      "[CV] END ...........................alpha=0.8966666666666667; total time=   0.0s\n",
      "[CV] END ...........................alpha=0.8966666666666667; total time=   0.0s\n",
      "[CV] END ...........................alpha=0.8966666666666667; total time=   0.0s\n",
      "[CV] END ...........................alpha=0.8966666666666667; total time=   0.0s\n",
      "[CV] END ...........................alpha=0.8966666666666667; total time=   0.0s\n",
      "[CV] END ...........................alpha=0.8966666666666667; total time=   0.0s\n",
      "[CV] END ...........................alpha=0.8966666666666667; total time=   0.0s\n",
      "[CV] END ...........................alpha=0.8966666666666667; total time=   0.0s\n",
      "[CV] END ...........................alpha=0.8966666666666667; total time=   0.0s\n",
      "[CV] END ...........................alpha=0.8966666666666667; total time=   0.0s\n",
      "[CV] END ............................alpha=0.936969696969697; total time=   0.0s\n",
      "[CV] END ............................alpha=0.936969696969697; total time=   0.0s\n",
      "[CV] END ............................alpha=0.936969696969697; total time=   0.0s\n",
      "[CV] END ............................alpha=0.936969696969697; total time=   0.0s\n",
      "[CV] END ............................alpha=0.936969696969697; total time=   0.0s\n",
      "[CV] END ............................alpha=0.936969696969697; total time=   0.0s\n",
      "[CV] END ............................alpha=0.936969696969697; total time=   0.0s\n",
      "[CV] END ............................alpha=0.936969696969697; total time=   0.0s\n",
      "[CV] END ............................alpha=0.936969696969697; total time=   0.0s\n",
      "[CV] END ............................alpha=0.936969696969697; total time=   0.0s\n",
      "[CV] END ...........................alpha=0.9772727272727273; total time=   0.0s\n",
      "[CV] END ...........................alpha=0.9772727272727273; total time=   0.0s\n",
      "[CV] END ...........................alpha=0.9772727272727273; total time=   0.0s\n",
      "[CV] END ...........................alpha=0.9772727272727273; total time=   0.0s\n",
      "[CV] END ...........................alpha=0.9772727272727273; total time=   0.0s\n",
      "[CV] END ...........................alpha=0.9772727272727273; total time=   0.0s\n",
      "[CV] END ...........................alpha=0.9772727272727273; total time=   0.0s\n",
      "[CV] END ...........................alpha=0.9772727272727273; total time=   0.0s\n",
      "[CV] END ...........................alpha=0.9772727272727273; total time=   0.0s\n",
      "[CV] END ...........................alpha=0.9772727272727273; total time=   0.0s\n",
      "[CV] END ...........................alpha=1.0175757575757576; total time=   0.0s\n",
      "[CV] END ...........................alpha=1.0175757575757576; total time=   0.0s\n",
      "[CV] END ...........................alpha=1.0175757575757576; total time=   0.0s\n",
      "[CV] END ...........................alpha=1.0175757575757576; total time=   0.0s\n",
      "[CV] END ...........................alpha=1.0175757575757576; total time=   0.0s\n",
      "[CV] END ...........................alpha=1.0175757575757576; total time=   0.0s\n",
      "[CV] END ...........................alpha=1.0175757575757576; total time=   0.0s\n",
      "[CV] END ...........................alpha=1.0175757575757576; total time=   0.0s\n",
      "[CV] END ...........................alpha=1.0175757575757576; total time=   0.0s\n",
      "[CV] END ...........................alpha=1.0175757575757576; total time=   0.0s\n",
      "[CV] END ...........................alpha=1.0578787878787879; total time=   0.0s\n",
      "[CV] END ...........................alpha=1.0578787878787879; total time=   0.0s\n",
      "[CV] END ...........................alpha=1.0578787878787879; total time=   0.0s\n",
      "[CV] END ...........................alpha=1.0578787878787879; total time=   0.0s\n",
      "[CV] END ...........................alpha=1.0578787878787879; total time=   0.0s\n",
      "[CV] END ...........................alpha=1.0578787878787879; total time=   0.0s\n",
      "[CV] END ...........................alpha=1.0578787878787879; total time=   0.0s\n",
      "[CV] END ...........................alpha=1.0578787878787879; total time=   0.0s\n",
      "[CV] END ...........................alpha=1.0578787878787879; total time=   0.0s\n",
      "[CV] END ...........................alpha=1.0578787878787879; total time=   0.0s\n",
      "[CV] END ...........................alpha=1.0981818181818184; total time=   0.0s\n",
      "[CV] END ...........................alpha=1.0981818181818184; total time=   0.0s\n",
      "[CV] END ...........................alpha=1.0981818181818184; total time=   0.0s\n",
      "[CV] END ...........................alpha=1.0981818181818184; total time=   0.0s\n",
      "[CV] END ...........................alpha=1.0981818181818184; total time=   0.0s\n",
      "[CV] END ...........................alpha=1.0981818181818184; total time=   0.0s\n",
      "[CV] END ...........................alpha=1.0981818181818184; total time=   0.0s\n",
      "[CV] END ...........................alpha=1.0981818181818184; total time=   0.0s\n",
      "[CV] END ...........................alpha=1.0981818181818184; total time=   0.0s\n",
      "[CV] END ...........................alpha=1.0981818181818184; total time=   0.0s\n",
      "[CV] END ...........................alpha=1.1384848484848487; total time=   0.0s\n",
      "[CV] END ...........................alpha=1.1384848484848487; total time=   0.0s\n",
      "[CV] END ...........................alpha=1.1384848484848487; total time=   0.0s\n",
      "[CV] END ...........................alpha=1.1384848484848487; total time=   0.0s\n",
      "[CV] END ...........................alpha=1.1384848484848487; total time=   0.0s\n",
      "[CV] END ...........................alpha=1.1384848484848487; total time=   0.0s\n",
      "[CV] END ...........................alpha=1.1384848484848487; total time=   0.0s\n",
      "[CV] END ...........................alpha=1.1384848484848487; total time=   0.0s\n",
      "[CV] END ...........................alpha=1.1384848484848487; total time=   0.0s\n",
      "[CV] END ...........................alpha=1.1384848484848487; total time=   0.0s\n",
      "[CV] END ............................alpha=1.178787878787879; total time=   0.0s\n",
      "[CV] END ............................alpha=1.178787878787879; total time=   0.0s\n",
      "[CV] END ............................alpha=1.178787878787879; total time=   0.0s\n",
      "[CV] END ............................alpha=1.178787878787879; total time=   0.0s\n",
      "[CV] END ............................alpha=1.178787878787879; total time=   0.0s\n",
      "[CV] END ............................alpha=1.178787878787879; total time=   0.0s\n",
      "[CV] END ............................alpha=1.178787878787879; total time=   0.0s\n",
      "[CV] END ............................alpha=1.178787878787879; total time=   0.0s\n",
      "[CV] END ............................alpha=1.178787878787879; total time=   0.0s\n",
      "[CV] END ............................alpha=1.178787878787879; total time=   0.0s\n",
      "[CV] END ...........................alpha=1.2190909090909092; total time=   0.0s\n",
      "[CV] END ...........................alpha=1.2190909090909092; total time=   0.0s\n",
      "[CV] END ...........................alpha=1.2190909090909092; total time=   0.0s\n",
      "[CV] END ...........................alpha=1.2190909090909092; total time=   0.0s\n",
      "[CV] END ...........................alpha=1.2190909090909092; total time=   0.0s\n",
      "[CV] END ...........................alpha=1.2190909090909092; total time=   0.0s\n",
      "[CV] END ...........................alpha=1.2190909090909092; total time=   0.0s\n",
      "[CV] END ...........................alpha=1.2190909090909092; total time=   0.0s\n",
      "[CV] END ...........................alpha=1.2190909090909092; total time=   0.0s\n",
      "[CV] END ...........................alpha=1.2190909090909092; total time=   0.0s\n",
      "[CV] END ...........................alpha=1.2593939393939395; total time=   0.0s\n",
      "[CV] END ...........................alpha=1.2593939393939395; total time=   0.0s\n",
      "[CV] END ...........................alpha=1.2593939393939395; total time=   0.0s\n",
      "[CV] END ...........................alpha=1.2593939393939395; total time=   0.0s\n",
      "[CV] END ...........................alpha=1.2593939393939395; total time=   0.0s\n",
      "[CV] END ...........................alpha=1.2593939393939395; total time=   0.0s\n",
      "[CV] END ...........................alpha=1.2593939393939395; total time=   0.0s\n",
      "[CV] END ...........................alpha=1.2593939393939395; total time=   0.0s\n",
      "[CV] END ...........................alpha=1.2593939393939395; total time=   0.0s\n",
      "[CV] END ...........................alpha=1.2593939393939395; total time=   0.0s\n",
      "[CV] END ...........................alpha=1.2996969696969698; total time=   0.0s\n",
      "[CV] END ...........................alpha=1.2996969696969698; total time=   0.0s\n",
      "[CV] END ...........................alpha=1.2996969696969698; total time=   0.0s\n",
      "[CV] END ...........................alpha=1.2996969696969698; total time=   0.0s\n",
      "[CV] END ...........................alpha=1.2996969696969698; total time=   0.0s\n",
      "[CV] END ...........................alpha=1.2996969696969698; total time=   0.0s\n",
      "[CV] END ...........................alpha=1.2996969696969698; total time=   0.0s\n",
      "[CV] END ...........................alpha=1.2996969696969698; total time=   0.0s\n",
      "[CV] END ...........................alpha=1.2996969696969698; total time=   0.0s\n",
      "[CV] END ...........................alpha=1.2996969696969698; total time=   0.0s\n",
      "[CV] END .........................................alpha=1.34; total time=   0.0s\n",
      "[CV] END .........................................alpha=1.34; total time=   0.0s\n",
      "[CV] END .........................................alpha=1.34; total time=   0.0s\n",
      "[CV] END .........................................alpha=1.34; total time=   0.0s\n"
     ]
    },
    {
     "name": "stdout",
     "output_type": "stream",
     "text": [
      "[CV] END .........................................alpha=1.34; total time=   0.0s\n",
      "[CV] END .........................................alpha=1.34; total time=   0.0s\n",
      "[CV] END .........................................alpha=1.34; total time=   0.0s\n",
      "[CV] END .........................................alpha=1.34; total time=   0.0s\n",
      "[CV] END .........................................alpha=1.34; total time=   0.0s\n",
      "[CV] END .........................................alpha=1.34; total time=   0.0s\n",
      "[CV] END ...........................alpha=1.3803030303030304; total time=   0.0s\n",
      "[CV] END ...........................alpha=1.3803030303030304; total time=   0.0s\n",
      "[CV] END ...........................alpha=1.3803030303030304; total time=   0.0s\n",
      "[CV] END ...........................alpha=1.3803030303030304; total time=   0.0s\n",
      "[CV] END ...........................alpha=1.3803030303030304; total time=   0.0s\n",
      "[CV] END ...........................alpha=1.3803030303030304; total time=   0.0s\n",
      "[CV] END ...........................alpha=1.3803030303030304; total time=   0.0s\n",
      "[CV] END ...........................alpha=1.3803030303030304; total time=   0.0s\n",
      "[CV] END ...........................alpha=1.3803030303030304; total time=   0.0s\n",
      "[CV] END ...........................alpha=1.3803030303030304; total time=   0.0s\n",
      "[CV] END ...........................alpha=1.4206060606060606; total time=   0.0s\n",
      "[CV] END ...........................alpha=1.4206060606060606; total time=   0.0s\n",
      "[CV] END ...........................alpha=1.4206060606060606; total time=   0.0s\n",
      "[CV] END ...........................alpha=1.4206060606060606; total time=   0.0s\n",
      "[CV] END ...........................alpha=1.4206060606060606; total time=   0.0s\n",
      "[CV] END ...........................alpha=1.4206060606060606; total time=   0.0s\n",
      "[CV] END ...........................alpha=1.4206060606060606; total time=   0.0s\n",
      "[CV] END ...........................alpha=1.4206060606060606; total time=   0.0s\n",
      "[CV] END ...........................alpha=1.4206060606060606; total time=   0.0s\n",
      "[CV] END ...........................alpha=1.4206060606060606; total time=   0.0s\n",
      "[CV] END ............................alpha=1.460909090909091; total time=   0.0s\n",
      "[CV] END ............................alpha=1.460909090909091; total time=   0.0s\n",
      "[CV] END ............................alpha=1.460909090909091; total time=   0.0s\n",
      "[CV] END ............................alpha=1.460909090909091; total time=   0.0s\n",
      "[CV] END ............................alpha=1.460909090909091; total time=   0.0s\n",
      "[CV] END ............................alpha=1.460909090909091; total time=   0.0s\n",
      "[CV] END ............................alpha=1.460909090909091; total time=   0.0s\n",
      "[CV] END ............................alpha=1.460909090909091; total time=   0.0s\n",
      "[CV] END ............................alpha=1.460909090909091; total time=   0.0s\n",
      "[CV] END ............................alpha=1.460909090909091; total time=   0.0s\n",
      "[CV] END ...........................alpha=1.5012121212121212; total time=   0.0s\n",
      "[CV] END ...........................alpha=1.5012121212121212; total time=   0.0s\n",
      "[CV] END ...........................alpha=1.5012121212121212; total time=   0.0s\n",
      "[CV] END ...........................alpha=1.5012121212121212; total time=   0.0s\n",
      "[CV] END ...........................alpha=1.5012121212121212; total time=   0.0s\n",
      "[CV] END ...........................alpha=1.5012121212121212; total time=   0.0s\n",
      "[CV] END ...........................alpha=1.5012121212121212; total time=   0.0s\n",
      "[CV] END ...........................alpha=1.5012121212121212; total time=   0.0s\n",
      "[CV] END ...........................alpha=1.5012121212121212; total time=   0.0s\n",
      "[CV] END ...........................alpha=1.5012121212121212; total time=   0.0s\n",
      "[CV] END ...........................alpha=1.5415151515151517; total time=   0.0s\n",
      "[CV] END ...........................alpha=1.5415151515151517; total time=   0.0s\n",
      "[CV] END ...........................alpha=1.5415151515151517; total time=   0.0s\n",
      "[CV] END ...........................alpha=1.5415151515151517; total time=   0.0s\n",
      "[CV] END ...........................alpha=1.5415151515151517; total time=   0.0s\n",
      "[CV] END ...........................alpha=1.5415151515151517; total time=   0.0s\n",
      "[CV] END ...........................alpha=1.5415151515151517; total time=   0.0s\n",
      "[CV] END ...........................alpha=1.5415151515151517; total time=   0.0s\n",
      "[CV] END ...........................alpha=1.5415151515151517; total time=   0.0s\n",
      "[CV] END ...........................alpha=1.5415151515151517; total time=   0.0s\n",
      "[CV] END ............................alpha=1.581818181818182; total time=   0.0s\n",
      "[CV] END ............................alpha=1.581818181818182; total time=   0.0s\n",
      "[CV] END ............................alpha=1.581818181818182; total time=   0.0s\n",
      "[CV] END ............................alpha=1.581818181818182; total time=   0.0s\n",
      "[CV] END ............................alpha=1.581818181818182; total time=   0.0s\n",
      "[CV] END ............................alpha=1.581818181818182; total time=   0.0s\n",
      "[CV] END ............................alpha=1.581818181818182; total time=   0.0s\n",
      "[CV] END ............................alpha=1.581818181818182; total time=   0.0s\n",
      "[CV] END ............................alpha=1.581818181818182; total time=   0.0s\n",
      "[CV] END ............................alpha=1.581818181818182; total time=   0.0s\n",
      "[CV] END ...........................alpha=1.6221212121212123; total time=   0.0s\n",
      "[CV] END ...........................alpha=1.6221212121212123; total time=   0.0s\n",
      "[CV] END ...........................alpha=1.6221212121212123; total time=   0.0s\n",
      "[CV] END ...........................alpha=1.6221212121212123; total time=   0.0s\n",
      "[CV] END ...........................alpha=1.6221212121212123; total time=   0.0s\n",
      "[CV] END ...........................alpha=1.6221212121212123; total time=   0.0s\n",
      "[CV] END ...........................alpha=1.6221212121212123; total time=   0.0s\n",
      "[CV] END ...........................alpha=1.6221212121212123; total time=   0.0s\n",
      "[CV] END ...........................alpha=1.6221212121212123; total time=   0.0s\n",
      "[CV] END ...........................alpha=1.6221212121212123; total time=   0.0s\n",
      "[CV] END ...........................alpha=1.6624242424242426; total time=   0.0s\n",
      "[CV] END ...........................alpha=1.6624242424242426; total time=   0.0s\n",
      "[CV] END ...........................alpha=1.6624242424242426; total time=   0.0s\n",
      "[CV] END ...........................alpha=1.6624242424242426; total time=   0.0s\n",
      "[CV] END ...........................alpha=1.6624242424242426; total time=   0.0s\n",
      "[CV] END ...........................alpha=1.6624242424242426; total time=   0.0s\n",
      "[CV] END ...........................alpha=1.6624242424242426; total time=   0.0s\n",
      "[CV] END ...........................alpha=1.6624242424242426; total time=   0.0s\n",
      "[CV] END ...........................alpha=1.6624242424242426; total time=   0.0s\n",
      "[CV] END ...........................alpha=1.6624242424242426; total time=   0.0s\n",
      "[CV] END ...........................alpha=1.7027272727272729; total time=   0.0s\n",
      "[CV] END ...........................alpha=1.7027272727272729; total time=   0.0s\n",
      "[CV] END ...........................alpha=1.7027272727272729; total time=   0.0s\n",
      "[CV] END ...........................alpha=1.7027272727272729; total time=   0.0s\n",
      "[CV] END ...........................alpha=1.7027272727272729; total time=   0.0s\n",
      "[CV] END ...........................alpha=1.7027272727272729; total time=   0.0s\n",
      "[CV] END ...........................alpha=1.7027272727272729; total time=   0.0s\n",
      "[CV] END ...........................alpha=1.7027272727272729; total time=   0.0s\n",
      "[CV] END ...........................alpha=1.7027272727272729; total time=   0.0s\n",
      "[CV] END ...........................alpha=1.7027272727272729; total time=   0.0s\n",
      "[CV] END ...........................alpha=1.7430303030303032; total time=   0.0s\n",
      "[CV] END ...........................alpha=1.7430303030303032; total time=   0.0s\n",
      "[CV] END ...........................alpha=1.7430303030303032; total time=   0.0s\n",
      "[CV] END ...........................alpha=1.7430303030303032; total time=   0.0s\n",
      "[CV] END ...........................alpha=1.7430303030303032; total time=   0.0s\n",
      "[CV] END ...........................alpha=1.7430303030303032; total time=   0.0s\n",
      "[CV] END ...........................alpha=1.7430303030303032; total time=   0.0s\n",
      "[CV] END ...........................alpha=1.7430303030303032; total time=   0.0s\n",
      "[CV] END ...........................alpha=1.7430303030303032; total time=   0.0s\n",
      "[CV] END ...........................alpha=1.7430303030303032; total time=   0.0s\n",
      "[CV] END ...........................alpha=1.7833333333333334; total time=   0.0s\n",
      "[CV] END ...........................alpha=1.7833333333333334; total time=   0.0s\n",
      "[CV] END ...........................alpha=1.7833333333333334; total time=   0.0s\n",
      "[CV] END ...........................alpha=1.7833333333333334; total time=   0.0s\n",
      "[CV] END ...........................alpha=1.7833333333333334; total time=   0.0s\n",
      "[CV] END ...........................alpha=1.7833333333333334; total time=   0.0s\n",
      "[CV] END ...........................alpha=1.7833333333333334; total time=   0.0s\n",
      "[CV] END ...........................alpha=1.7833333333333334; total time=   0.0s\n",
      "[CV] END ...........................alpha=1.7833333333333334; total time=   0.0s\n",
      "[CV] END ...........................alpha=1.7833333333333334; total time=   0.0s\n",
      "[CV] END ...........................alpha=1.8236363636363637; total time=   0.0s\n",
      "[CV] END ...........................alpha=1.8236363636363637; total time=   0.0s\n",
      "[CV] END ...........................alpha=1.8236363636363637; total time=   0.0s\n",
      "[CV] END ...........................alpha=1.8236363636363637; total time=   0.0s\n",
      "[CV] END ...........................alpha=1.8236363636363637; total time=   0.0s\n",
      "[CV] END ...........................alpha=1.8236363636363637; total time=   0.0s\n",
      "[CV] END ...........................alpha=1.8236363636363637; total time=   0.0s\n",
      "[CV] END ...........................alpha=1.8236363636363637; total time=   0.0s\n",
      "[CV] END ...........................alpha=1.8236363636363637; total time=   0.0s\n",
      "[CV] END ...........................alpha=1.8236363636363637; total time=   0.0s\n",
      "[CV] END ............................alpha=1.863939393939394; total time=   0.0s\n",
      "[CV] END ............................alpha=1.863939393939394; total time=   0.0s\n",
      "[CV] END ............................alpha=1.863939393939394; total time=   0.0s\n"
     ]
    },
    {
     "name": "stdout",
     "output_type": "stream",
     "text": [
      "[CV] END ............................alpha=1.863939393939394; total time=   0.0s\n",
      "[CV] END ............................alpha=1.863939393939394; total time=   0.0s\n",
      "[CV] END ............................alpha=1.863939393939394; total time=   0.0s\n",
      "[CV] END ............................alpha=1.863939393939394; total time=   0.0s\n",
      "[CV] END ............................alpha=1.863939393939394; total time=   0.0s\n",
      "[CV] END ............................alpha=1.863939393939394; total time=   0.0s\n",
      "[CV] END ............................alpha=1.863939393939394; total time=   0.0s\n",
      "[CV] END ...........................alpha=1.9042424242424243; total time=   0.0s\n",
      "[CV] END ...........................alpha=1.9042424242424243; total time=   0.0s\n",
      "[CV] END ...........................alpha=1.9042424242424243; total time=   0.0s\n",
      "[CV] END ...........................alpha=1.9042424242424243; total time=   0.0s\n",
      "[CV] END ...........................alpha=1.9042424242424243; total time=   0.0s\n",
      "[CV] END ...........................alpha=1.9042424242424243; total time=   0.0s\n",
      "[CV] END ...........................alpha=1.9042424242424243; total time=   0.0s\n",
      "[CV] END ...........................alpha=1.9042424242424243; total time=   0.0s\n",
      "[CV] END ...........................alpha=1.9042424242424243; total time=   0.0s\n",
      "[CV] END ...........................alpha=1.9042424242424243; total time=   0.0s\n",
      "[CV] END ...........................alpha=1.9445454545454546; total time=   0.0s\n",
      "[CV] END ...........................alpha=1.9445454545454546; total time=   0.0s\n",
      "[CV] END ...........................alpha=1.9445454545454546; total time=   0.0s\n",
      "[CV] END ...........................alpha=1.9445454545454546; total time=   0.0s\n",
      "[CV] END ...........................alpha=1.9445454545454546; total time=   0.0s\n",
      "[CV] END ...........................alpha=1.9445454545454546; total time=   0.0s\n",
      "[CV] END ...........................alpha=1.9445454545454546; total time=   0.0s\n",
      "[CV] END ...........................alpha=1.9445454545454546; total time=   0.0s\n",
      "[CV] END ...........................alpha=1.9445454545454546; total time=   0.0s\n",
      "[CV] END ...........................alpha=1.9445454545454546; total time=   0.0s\n",
      "[CV] END ............................alpha=1.984848484848485; total time=   0.0s\n",
      "[CV] END ............................alpha=1.984848484848485; total time=   0.0s\n",
      "[CV] END ............................alpha=1.984848484848485; total time=   0.0s\n",
      "[CV] END ............................alpha=1.984848484848485; total time=   0.0s\n",
      "[CV] END ............................alpha=1.984848484848485; total time=   0.0s\n",
      "[CV] END ............................alpha=1.984848484848485; total time=   0.0s\n",
      "[CV] END ............................alpha=1.984848484848485; total time=   0.0s\n",
      "[CV] END ............................alpha=1.984848484848485; total time=   0.0s\n",
      "[CV] END ............................alpha=1.984848484848485; total time=   0.0s\n",
      "[CV] END ............................alpha=1.984848484848485; total time=   0.0s\n",
      "[CV] END ............................alpha=2.025151515151515; total time=   0.0s\n",
      "[CV] END ............................alpha=2.025151515151515; total time=   0.0s\n",
      "[CV] END ............................alpha=2.025151515151515; total time=   0.0s\n",
      "[CV] END ............................alpha=2.025151515151515; total time=   0.0s\n",
      "[CV] END ............................alpha=2.025151515151515; total time=   0.0s\n",
      "[CV] END ............................alpha=2.025151515151515; total time=   0.0s\n",
      "[CV] END ............................alpha=2.025151515151515; total time=   0.0s\n",
      "[CV] END ............................alpha=2.025151515151515; total time=   0.0s\n",
      "[CV] END ............................alpha=2.025151515151515; total time=   0.0s\n",
      "[CV] END ............................alpha=2.025151515151515; total time=   0.0s\n",
      "[CV] END ...........................alpha=2.0654545454545454; total time=   0.0s\n",
      "[CV] END ...........................alpha=2.0654545454545454; total time=   0.0s\n",
      "[CV] END ...........................alpha=2.0654545454545454; total time=   0.0s\n",
      "[CV] END ...........................alpha=2.0654545454545454; total time=   0.0s\n",
      "[CV] END ...........................alpha=2.0654545454545454; total time=   0.0s\n",
      "[CV] END ...........................alpha=2.0654545454545454; total time=   0.0s\n",
      "[CV] END ...........................alpha=2.0654545454545454; total time=   0.0s\n",
      "[CV] END ...........................alpha=2.0654545454545454; total time=   0.0s\n",
      "[CV] END ...........................alpha=2.0654545454545454; total time=   0.0s\n",
      "[CV] END ...........................alpha=2.0654545454545454; total time=   0.0s\n",
      "[CV] END ...........................alpha=2.1057575757575755; total time=   0.0s\n",
      "[CV] END ...........................alpha=2.1057575757575755; total time=   0.0s\n",
      "[CV] END ...........................alpha=2.1057575757575755; total time=   0.0s\n",
      "[CV] END ...........................alpha=2.1057575757575755; total time=   0.0s\n",
      "[CV] END ...........................alpha=2.1057575757575755; total time=   0.0s\n",
      "[CV] END ...........................alpha=2.1057575757575755; total time=   0.0s\n",
      "[CV] END ...........................alpha=2.1057575757575755; total time=   0.0s\n",
      "[CV] END ...........................alpha=2.1057575757575755; total time=   0.0s\n",
      "[CV] END ...........................alpha=2.1057575757575755; total time=   0.0s\n",
      "[CV] END ...........................alpha=2.1057575757575755; total time=   0.0s\n",
      "[CV] END ............................alpha=2.146060606060606; total time=   0.0s\n",
      "[CV] END ............................alpha=2.146060606060606; total time=   0.0s\n",
      "[CV] END ............................alpha=2.146060606060606; total time=   0.0s\n",
      "[CV] END ............................alpha=2.146060606060606; total time=   0.0s\n",
      "[CV] END ............................alpha=2.146060606060606; total time=   0.0s\n",
      "[CV] END ............................alpha=2.146060606060606; total time=   0.0s\n",
      "[CV] END ............................alpha=2.146060606060606; total time=   0.0s\n",
      "[CV] END ............................alpha=2.146060606060606; total time=   0.0s\n",
      "[CV] END ............................alpha=2.146060606060606; total time=   0.0s\n",
      "[CV] END ............................alpha=2.146060606060606; total time=   0.0s\n",
      "[CV] END ...........................alpha=2.1863636363636365; total time=   0.0s\n",
      "[CV] END ...........................alpha=2.1863636363636365; total time=   0.0s\n",
      "[CV] END ...........................alpha=2.1863636363636365; total time=   0.0s\n",
      "[CV] END ...........................alpha=2.1863636363636365; total time=   0.0s\n",
      "[CV] END ...........................alpha=2.1863636363636365; total time=   0.0s\n",
      "[CV] END ...........................alpha=2.1863636363636365; total time=   0.0s\n",
      "[CV] END ...........................alpha=2.1863636363636365; total time=   0.0s\n",
      "[CV] END ...........................alpha=2.1863636363636365; total time=   0.0s\n",
      "[CV] END ...........................alpha=2.1863636363636365; total time=   0.0s\n",
      "[CV] END ...........................alpha=2.1863636363636365; total time=   0.0s\n",
      "[CV] END ...........................alpha=2.2266666666666666; total time=   0.0s\n",
      "[CV] END ...........................alpha=2.2266666666666666; total time=   0.0s\n",
      "[CV] END ...........................alpha=2.2266666666666666; total time=   0.0s\n",
      "[CV] END ...........................alpha=2.2266666666666666; total time=   0.0s\n",
      "[CV] END ...........................alpha=2.2266666666666666; total time=   0.0s\n",
      "[CV] END ...........................alpha=2.2266666666666666; total time=   0.0s\n",
      "[CV] END ...........................alpha=2.2266666666666666; total time=   0.0s\n",
      "[CV] END ...........................alpha=2.2266666666666666; total time=   0.0s\n",
      "[CV] END ...........................alpha=2.2266666666666666; total time=   0.0s\n",
      "[CV] END ...........................alpha=2.2266666666666666; total time=   0.0s\n",
      "[CV] END ............................alpha=2.266969696969697; total time=   0.0s\n",
      "[CV] END ............................alpha=2.266969696969697; total time=   0.0s\n",
      "[CV] END ............................alpha=2.266969696969697; total time=   0.0s\n",
      "[CV] END ............................alpha=2.266969696969697; total time=   0.0s\n",
      "[CV] END ............................alpha=2.266969696969697; total time=   0.0s\n",
      "[CV] END ............................alpha=2.266969696969697; total time=   0.0s\n",
      "[CV] END ............................alpha=2.266969696969697; total time=   0.0s\n",
      "[CV] END ............................alpha=2.266969696969697; total time=   0.0s\n",
      "[CV] END ............................alpha=2.266969696969697; total time=   0.0s\n",
      "[CV] END ............................alpha=2.266969696969697; total time=   0.0s\n",
      "[CV] END ............................alpha=2.307272727272727; total time=   0.0s\n",
      "[CV] END ............................alpha=2.307272727272727; total time=   0.0s\n",
      "[CV] END ............................alpha=2.307272727272727; total time=   0.0s\n",
      "[CV] END ............................alpha=2.307272727272727; total time=   0.0s\n",
      "[CV] END ............................alpha=2.307272727272727; total time=   0.0s\n",
      "[CV] END ............................alpha=2.307272727272727; total time=   0.0s\n",
      "[CV] END ............................alpha=2.307272727272727; total time=   0.0s\n",
      "[CV] END ............................alpha=2.307272727272727; total time=   0.0s\n",
      "[CV] END ............................alpha=2.307272727272727; total time=   0.0s\n",
      "[CV] END ............................alpha=2.307272727272727; total time=   0.0s\n",
      "[CV] END ...........................alpha=2.3475757575757576; total time=   0.0s\n",
      "[CV] END ...........................alpha=2.3475757575757576; total time=   0.0s\n",
      "[CV] END ...........................alpha=2.3475757575757576; total time=   0.0s\n",
      "[CV] END ...........................alpha=2.3475757575757576; total time=   0.0s\n",
      "[CV] END ...........................alpha=2.3475757575757576; total time=   0.0s\n",
      "[CV] END ...........................alpha=2.3475757575757576; total time=   0.0s\n",
      "[CV] END ...........................alpha=2.3475757575757576; total time=   0.0s\n",
      "[CV] END ...........................alpha=2.3475757575757576; total time=   0.0s\n",
      "[CV] END ...........................alpha=2.3475757575757576; total time=   0.0s\n",
      "[CV] END ...........................alpha=2.3475757575757576; total time=   0.0s\n",
      "[CV] END ...........................alpha=2.3878787878787877; total time=   0.0s\n",
      "[CV] END ...........................alpha=2.3878787878787877; total time=   0.0s\n",
      "[CV] END ...........................alpha=2.3878787878787877; total time=   0.0s\n"
     ]
    },
    {
     "name": "stdout",
     "output_type": "stream",
     "text": [
      "[CV] END ...........................alpha=2.3878787878787877; total time=   0.0s\n",
      "[CV] END ...........................alpha=2.3878787878787877; total time=   0.0s\n",
      "[CV] END ...........................alpha=2.3878787878787877; total time=   0.0s\n",
      "[CV] END ...........................alpha=2.3878787878787877; total time=   0.0s\n",
      "[CV] END ...........................alpha=2.3878787878787877; total time=   0.0s\n",
      "[CV] END ...........................alpha=2.3878787878787877; total time=   0.0s\n",
      "[CV] END ...........................alpha=2.3878787878787877; total time=   0.0s\n",
      "[CV] END ............................alpha=2.428181818181818; total time=   0.0s\n",
      "[CV] END ............................alpha=2.428181818181818; total time=   0.0s\n",
      "[CV] END ............................alpha=2.428181818181818; total time=   0.0s\n",
      "[CV] END ............................alpha=2.428181818181818; total time=   0.0s\n",
      "[CV] END ............................alpha=2.428181818181818; total time=   0.0s\n",
      "[CV] END ............................alpha=2.428181818181818; total time=   0.0s\n",
      "[CV] END ............................alpha=2.428181818181818; total time=   0.0s\n",
      "[CV] END ............................alpha=2.428181818181818; total time=   0.0s\n",
      "[CV] END ............................alpha=2.428181818181818; total time=   0.0s\n",
      "[CV] END ............................alpha=2.428181818181818; total time=   0.0s\n",
      "[CV] END ...........................alpha=2.4684848484848483; total time=   0.0s\n",
      "[CV] END ...........................alpha=2.4684848484848483; total time=   0.0s\n",
      "[CV] END ...........................alpha=2.4684848484848483; total time=   0.0s\n",
      "[CV] END ...........................alpha=2.4684848484848483; total time=   0.0s\n",
      "[CV] END ...........................alpha=2.4684848484848483; total time=   0.0s\n",
      "[CV] END ...........................alpha=2.4684848484848483; total time=   0.0s\n",
      "[CV] END ...........................alpha=2.4684848484848483; total time=   0.0s\n",
      "[CV] END ...........................alpha=2.4684848484848483; total time=   0.0s\n",
      "[CV] END ...........................alpha=2.4684848484848483; total time=   0.0s\n",
      "[CV] END ...........................alpha=2.4684848484848483; total time=   0.0s\n",
      "[CV] END ............................alpha=2.508787878787879; total time=   0.0s\n",
      "[CV] END ............................alpha=2.508787878787879; total time=   0.0s\n",
      "[CV] END ............................alpha=2.508787878787879; total time=   0.0s\n",
      "[CV] END ............................alpha=2.508787878787879; total time=   0.0s\n",
      "[CV] END ............................alpha=2.508787878787879; total time=   0.0s\n",
      "[CV] END ............................alpha=2.508787878787879; total time=   0.0s\n",
      "[CV] END ............................alpha=2.508787878787879; total time=   0.0s\n",
      "[CV] END ............................alpha=2.508787878787879; total time=   0.0s\n",
      "[CV] END ............................alpha=2.508787878787879; total time=   0.0s\n",
      "[CV] END ............................alpha=2.508787878787879; total time=   0.0s\n",
      "[CV] END ............................alpha=2.549090909090909; total time=   0.0s\n",
      "[CV] END ............................alpha=2.549090909090909; total time=   0.0s\n",
      "[CV] END ............................alpha=2.549090909090909; total time=   0.0s\n",
      "[CV] END ............................alpha=2.549090909090909; total time=   0.0s\n",
      "[CV] END ............................alpha=2.549090909090909; total time=   0.0s\n",
      "[CV] END ............................alpha=2.549090909090909; total time=   0.0s\n",
      "[CV] END ............................alpha=2.549090909090909; total time=   0.0s\n",
      "[CV] END ............................alpha=2.549090909090909; total time=   0.0s\n",
      "[CV] END ............................alpha=2.549090909090909; total time=   0.0s\n",
      "[CV] END ............................alpha=2.549090909090909; total time=   0.0s\n",
      "[CV] END ...........................alpha=2.5893939393939394; total time=   0.0s\n",
      "[CV] END ...........................alpha=2.5893939393939394; total time=   0.0s\n",
      "[CV] END ...........................alpha=2.5893939393939394; total time=   0.0s\n",
      "[CV] END ...........................alpha=2.5893939393939394; total time=   0.0s\n",
      "[CV] END ...........................alpha=2.5893939393939394; total time=   0.0s\n",
      "[CV] END ...........................alpha=2.5893939393939394; total time=   0.0s\n",
      "[CV] END ...........................alpha=2.5893939393939394; total time=   0.0s\n",
      "[CV] END ...........................alpha=2.5893939393939394; total time=   0.0s\n",
      "[CV] END ...........................alpha=2.5893939393939394; total time=   0.0s\n",
      "[CV] END ...........................alpha=2.5893939393939394; total time=   0.0s\n",
      "[CV] END .............................alpha=2.62969696969697; total time=   0.0s\n",
      "[CV] END .............................alpha=2.62969696969697; total time=   0.0s\n",
      "[CV] END .............................alpha=2.62969696969697; total time=   0.0s\n",
      "[CV] END .............................alpha=2.62969696969697; total time=   0.0s\n",
      "[CV] END .............................alpha=2.62969696969697; total time=   0.0s\n",
      "[CV] END .............................alpha=2.62969696969697; total time=   0.0s\n",
      "[CV] END .............................alpha=2.62969696969697; total time=   0.0s\n",
      "[CV] END .............................alpha=2.62969696969697; total time=   0.0s\n",
      "[CV] END .............................alpha=2.62969696969697; total time=   0.0s\n",
      "[CV] END .............................alpha=2.62969696969697; total time=   0.0s\n",
      "[CV] END .........................................alpha=2.67; total time=   0.0s\n",
      "[CV] END .........................................alpha=2.67; total time=   0.0s\n",
      "[CV] END .........................................alpha=2.67; total time=   0.0s\n",
      "[CV] END .........................................alpha=2.67; total time=   0.0s\n",
      "[CV] END .........................................alpha=2.67; total time=   0.0s\n",
      "[CV] END .........................................alpha=2.67; total time=   0.0s\n",
      "[CV] END .........................................alpha=2.67; total time=   0.0s\n",
      "[CV] END .........................................alpha=2.67; total time=   0.0s\n",
      "[CV] END .........................................alpha=2.67; total time=   0.0s\n",
      "[CV] END .........................................alpha=2.67; total time=   0.0s\n",
      "[CV] END ...........................alpha=2.7103030303030304; total time=   0.0s\n",
      "[CV] END ...........................alpha=2.7103030303030304; total time=   0.0s\n",
      "[CV] END ...........................alpha=2.7103030303030304; total time=   0.0s\n",
      "[CV] END ...........................alpha=2.7103030303030304; total time=   0.0s\n",
      "[CV] END ...........................alpha=2.7103030303030304; total time=   0.0s\n",
      "[CV] END ...........................alpha=2.7103030303030304; total time=   0.0s\n",
      "[CV] END ...........................alpha=2.7103030303030304; total time=   0.0s\n",
      "[CV] END ...........................alpha=2.7103030303030304; total time=   0.0s\n",
      "[CV] END ...........................alpha=2.7103030303030304; total time=   0.0s\n",
      "[CV] END ...........................alpha=2.7103030303030304; total time=   0.0s\n",
      "[CV] END ...........................alpha=2.7506060606060605; total time=   0.0s\n",
      "[CV] END ...........................alpha=2.7506060606060605; total time=   0.0s\n",
      "[CV] END ...........................alpha=2.7506060606060605; total time=   0.0s\n",
      "[CV] END ...........................alpha=2.7506060606060605; total time=   0.0s\n",
      "[CV] END ...........................alpha=2.7506060606060605; total time=   0.0s\n",
      "[CV] END ...........................alpha=2.7506060606060605; total time=   0.0s\n",
      "[CV] END ...........................alpha=2.7506060606060605; total time=   0.0s\n",
      "[CV] END ...........................alpha=2.7506060606060605; total time=   0.0s\n",
      "[CV] END ...........................alpha=2.7506060606060605; total time=   0.0s\n",
      "[CV] END ...........................alpha=2.7506060606060605; total time=   0.0s\n",
      "[CV] END ............................alpha=2.790909090909091; total time=   0.0s\n",
      "[CV] END ............................alpha=2.790909090909091; total time=   0.0s\n",
      "[CV] END ............................alpha=2.790909090909091; total time=   0.0s\n",
      "[CV] END ............................alpha=2.790909090909091; total time=   0.0s\n",
      "[CV] END ............................alpha=2.790909090909091; total time=   0.0s\n",
      "[CV] END ............................alpha=2.790909090909091; total time=   0.0s\n",
      "[CV] END ............................alpha=2.790909090909091; total time=   0.0s\n",
      "[CV] END ............................alpha=2.790909090909091; total time=   0.0s\n",
      "[CV] END ............................alpha=2.790909090909091; total time=   0.0s\n",
      "[CV] END ............................alpha=2.790909090909091; total time=   0.0s\n",
      "[CV] END ............................alpha=2.831212121212121; total time=   0.0s\n",
      "[CV] END ............................alpha=2.831212121212121; total time=   0.0s\n",
      "[CV] END ............................alpha=2.831212121212121; total time=   0.0s\n",
      "[CV] END ............................alpha=2.831212121212121; total time=   0.0s\n",
      "[CV] END ............................alpha=2.831212121212121; total time=   0.0s\n",
      "[CV] END ............................alpha=2.831212121212121; total time=   0.0s\n",
      "[CV] END ............................alpha=2.831212121212121; total time=   0.0s\n",
      "[CV] END ............................alpha=2.831212121212121; total time=   0.0s\n",
      "[CV] END ............................alpha=2.831212121212121; total time=   0.0s\n",
      "[CV] END ............................alpha=2.831212121212121; total time=   0.0s\n",
      "[CV] END ...........................alpha=2.8715151515151516; total time=   0.0s\n",
      "[CV] END ...........................alpha=2.8715151515151516; total time=   0.0s\n"
     ]
    },
    {
     "name": "stdout",
     "output_type": "stream",
     "text": [
      "[CV] END ...........................alpha=2.8715151515151516; total time=   0.0s\n",
      "[CV] END ...........................alpha=2.8715151515151516; total time=   0.0s\n",
      "[CV] END ...........................alpha=2.8715151515151516; total time=   0.0s\n",
      "[CV] END ...........................alpha=2.8715151515151516; total time=   0.0s\n",
      "[CV] END ...........................alpha=2.8715151515151516; total time=   0.0s\n",
      "[CV] END ...........................alpha=2.8715151515151516; total time=   0.0s\n",
      "[CV] END ...........................alpha=2.8715151515151516; total time=   0.0s\n",
      "[CV] END ...........................alpha=2.8715151515151516; total time=   0.0s\n",
      "[CV] END ...........................alpha=2.9118181818181816; total time=   0.0s\n",
      "[CV] END ...........................alpha=2.9118181818181816; total time=   0.0s\n",
      "[CV] END ...........................alpha=2.9118181818181816; total time=   0.0s\n",
      "[CV] END ...........................alpha=2.9118181818181816; total time=   0.0s\n",
      "[CV] END ...........................alpha=2.9118181818181816; total time=   0.0s\n",
      "[CV] END ...........................alpha=2.9118181818181816; total time=   0.0s\n",
      "[CV] END ...........................alpha=2.9118181818181816; total time=   0.0s\n",
      "[CV] END ...........................alpha=2.9118181818181816; total time=   0.0s\n",
      "[CV] END ...........................alpha=2.9118181818181816; total time=   0.0s\n",
      "[CV] END ...........................alpha=2.9118181818181816; total time=   0.0s\n",
      "[CV] END ............................alpha=2.952121212121212; total time=   0.0s\n",
      "[CV] END ............................alpha=2.952121212121212; total time=   0.0s\n",
      "[CV] END ............................alpha=2.952121212121212; total time=   0.0s\n",
      "[CV] END ............................alpha=2.952121212121212; total time=   0.0s\n",
      "[CV] END ............................alpha=2.952121212121212; total time=   0.0s\n",
      "[CV] END ............................alpha=2.952121212121212; total time=   0.0s\n",
      "[CV] END ............................alpha=2.952121212121212; total time=   0.0s\n",
      "[CV] END ............................alpha=2.952121212121212; total time=   0.0s\n",
      "[CV] END ............................alpha=2.952121212121212; total time=   0.0s\n",
      "[CV] END ............................alpha=2.952121212121212; total time=   0.0s\n",
      "[CV] END ............................alpha=2.992424242424242; total time=   0.0s\n",
      "[CV] END ............................alpha=2.992424242424242; total time=   0.0s\n",
      "[CV] END ............................alpha=2.992424242424242; total time=   0.0s\n",
      "[CV] END ............................alpha=2.992424242424242; total time=   0.0s\n",
      "[CV] END ............................alpha=2.992424242424242; total time=   0.0s\n",
      "[CV] END ............................alpha=2.992424242424242; total time=   0.0s\n",
      "[CV] END ............................alpha=2.992424242424242; total time=   0.0s\n",
      "[CV] END ............................alpha=2.992424242424242; total time=   0.0s\n",
      "[CV] END ............................alpha=2.992424242424242; total time=   0.0s\n",
      "[CV] END ............................alpha=2.992424242424242; total time=   0.0s\n",
      "[CV] END ...........................alpha=3.0327272727272727; total time=   0.0s\n",
      "[CV] END ...........................alpha=3.0327272727272727; total time=   0.0s\n",
      "[CV] END ...........................alpha=3.0327272727272727; total time=   0.0s\n",
      "[CV] END ...........................alpha=3.0327272727272727; total time=   0.0s\n",
      "[CV] END ...........................alpha=3.0327272727272727; total time=   0.0s\n",
      "[CV] END ...........................alpha=3.0327272727272727; total time=   0.0s\n",
      "[CV] END ...........................alpha=3.0327272727272727; total time=   0.0s\n",
      "[CV] END ...........................alpha=3.0327272727272727; total time=   0.0s\n",
      "[CV] END ...........................alpha=3.0327272727272727; total time=   0.0s\n",
      "[CV] END ...........................alpha=3.0327272727272727; total time=   0.0s\n",
      "[CV] END ...........................alpha=3.0730303030303032; total time=   0.0s\n",
      "[CV] END ...........................alpha=3.0730303030303032; total time=   0.0s\n",
      "[CV] END ...........................alpha=3.0730303030303032; total time=   0.0s\n",
      "[CV] END ...........................alpha=3.0730303030303032; total time=   0.0s\n",
      "[CV] END ...........................alpha=3.0730303030303032; total time=   0.0s\n",
      "[CV] END ...........................alpha=3.0730303030303032; total time=   0.0s\n",
      "[CV] END ...........................alpha=3.0730303030303032; total time=   0.0s\n",
      "[CV] END ...........................alpha=3.0730303030303032; total time=   0.0s\n",
      "[CV] END ...........................alpha=3.0730303030303032; total time=   0.0s\n",
      "[CV] END ...........................alpha=3.0730303030303032; total time=   0.0s\n",
      "[CV] END ...........................alpha=3.1133333333333333; total time=   0.0s\n",
      "[CV] END ...........................alpha=3.1133333333333333; total time=   0.0s\n",
      "[CV] END ...........................alpha=3.1133333333333333; total time=   0.0s\n",
      "[CV] END ...........................alpha=3.1133333333333333; total time=   0.0s\n",
      "[CV] END ...........................alpha=3.1133333333333333; total time=   0.0s\n",
      "[CV] END ...........................alpha=3.1133333333333333; total time=   0.0s\n",
      "[CV] END ...........................alpha=3.1133333333333333; total time=   0.0s\n",
      "[CV] END ...........................alpha=3.1133333333333333; total time=   0.0s\n",
      "[CV] END ...........................alpha=3.1133333333333333; total time=   0.0s\n",
      "[CV] END ...........................alpha=3.1133333333333333; total time=   0.0s\n",
      "[CV] END ............................alpha=3.153636363636364; total time=   0.0s\n",
      "[CV] END ............................alpha=3.153636363636364; total time=   0.0s\n",
      "[CV] END ............................alpha=3.153636363636364; total time=   0.0s\n",
      "[CV] END ............................alpha=3.153636363636364; total time=   0.0s\n",
      "[CV] END ............................alpha=3.153636363636364; total time=   0.0s\n",
      "[CV] END ............................alpha=3.153636363636364; total time=   0.0s\n",
      "[CV] END ............................alpha=3.153636363636364; total time=   0.0s\n",
      "[CV] END ............................alpha=3.153636363636364; total time=   0.0s\n",
      "[CV] END ............................alpha=3.153636363636364; total time=   0.0s\n",
      "[CV] END ............................alpha=3.153636363636364; total time=   0.0s\n",
      "[CV] END ............................alpha=3.193939393939394; total time=   0.0s\n",
      "[CV] END ............................alpha=3.193939393939394; total time=   0.0s\n",
      "[CV] END ............................alpha=3.193939393939394; total time=   0.0s\n",
      "[CV] END ............................alpha=3.193939393939394; total time=   0.0s\n",
      "[CV] END ............................alpha=3.193939393939394; total time=   0.0s\n",
      "[CV] END ............................alpha=3.193939393939394; total time=   0.0s\n",
      "[CV] END ............................alpha=3.193939393939394; total time=   0.0s\n",
      "[CV] END ............................alpha=3.193939393939394; total time=   0.0s\n",
      "[CV] END ............................alpha=3.193939393939394; total time=   0.0s\n",
      "[CV] END ............................alpha=3.193939393939394; total time=   0.0s\n",
      "[CV] END ...........................alpha=3.2342424242424244; total time=   0.0s\n",
      "[CV] END ...........................alpha=3.2342424242424244; total time=   0.0s\n",
      "[CV] END ...........................alpha=3.2342424242424244; total time=   0.0s\n",
      "[CV] END ...........................alpha=3.2342424242424244; total time=   0.0s\n",
      "[CV] END ...........................alpha=3.2342424242424244; total time=   0.0s\n",
      "[CV] END ...........................alpha=3.2342424242424244; total time=   0.0s\n",
      "[CV] END ...........................alpha=3.2342424242424244; total time=   0.0s\n",
      "[CV] END ...........................alpha=3.2342424242424244; total time=   0.0s\n",
      "[CV] END ...........................alpha=3.2342424242424244; total time=   0.0s\n",
      "[CV] END ...........................alpha=3.2342424242424244; total time=   0.0s\n",
      "[CV] END ...........................alpha=3.2745454545454544; total time=   0.0s\n",
      "[CV] END ...........................alpha=3.2745454545454544; total time=   0.0s\n",
      "[CV] END ...........................alpha=3.2745454545454544; total time=   0.0s\n",
      "[CV] END ...........................alpha=3.2745454545454544; total time=   0.0s\n",
      "[CV] END ...........................alpha=3.2745454545454544; total time=   0.0s\n",
      "[CV] END ...........................alpha=3.2745454545454544; total time=   0.0s\n",
      "[CV] END ...........................alpha=3.2745454545454544; total time=   0.0s\n",
      "[CV] END ...........................alpha=3.2745454545454544; total time=   0.0s\n",
      "[CV] END ...........................alpha=3.2745454545454544; total time=   0.0s\n",
      "[CV] END ...........................alpha=3.2745454545454544; total time=   0.0s\n",
      "[CV] END ............................alpha=3.314848484848485; total time=   0.0s\n",
      "[CV] END ............................alpha=3.314848484848485; total time=   0.0s\n",
      "[CV] END ............................alpha=3.314848484848485; total time=   0.0s\n",
      "[CV] END ............................alpha=3.314848484848485; total time=   0.0s\n",
      "[CV] END ............................alpha=3.314848484848485; total time=   0.0s\n",
      "[CV] END ............................alpha=3.314848484848485; total time=   0.0s\n",
      "[CV] END ............................alpha=3.314848484848485; total time=   0.0s\n",
      "[CV] END ............................alpha=3.314848484848485; total time=   0.0s\n",
      "[CV] END ............................alpha=3.314848484848485; total time=   0.0s\n",
      "[CV] END ............................alpha=3.314848484848485; total time=   0.0s\n",
      "[CV] END ............................alpha=3.355151515151515; total time=   0.0s\n"
     ]
    },
    {
     "name": "stdout",
     "output_type": "stream",
     "text": [
      "[CV] END ............................alpha=3.355151515151515; total time=   0.0s\n",
      "[CV] END ............................alpha=3.355151515151515; total time=   0.0s\n",
      "[CV] END ............................alpha=3.355151515151515; total time=   0.0s\n",
      "[CV] END ............................alpha=3.355151515151515; total time=   0.0s\n",
      "[CV] END ............................alpha=3.355151515151515; total time=   0.0s\n",
      "[CV] END ............................alpha=3.355151515151515; total time=   0.0s\n",
      "[CV] END ............................alpha=3.355151515151515; total time=   0.0s\n",
      "[CV] END ............................alpha=3.355151515151515; total time=   0.0s\n",
      "[CV] END ............................alpha=3.355151515151515; total time=   0.0s\n",
      "[CV] END ...........................alpha=3.3954545454545455; total time=   0.0s\n",
      "[CV] END ...........................alpha=3.3954545454545455; total time=   0.0s\n",
      "[CV] END ...........................alpha=3.3954545454545455; total time=   0.0s\n",
      "[CV] END ...........................alpha=3.3954545454545455; total time=   0.0s\n",
      "[CV] END ...........................alpha=3.3954545454545455; total time=   0.0s\n",
      "[CV] END ...........................alpha=3.3954545454545455; total time=   0.0s\n",
      "[CV] END ...........................alpha=3.3954545454545455; total time=   0.0s\n",
      "[CV] END ...........................alpha=3.3954545454545455; total time=   0.0s\n",
      "[CV] END ...........................alpha=3.3954545454545455; total time=   0.0s\n",
      "[CV] END ...........................alpha=3.3954545454545455; total time=   0.0s\n",
      "[CV] END ...........................alpha=3.4357575757575756; total time=   0.0s\n",
      "[CV] END ...........................alpha=3.4357575757575756; total time=   0.0s\n",
      "[CV] END ...........................alpha=3.4357575757575756; total time=   0.0s\n",
      "[CV] END ...........................alpha=3.4357575757575756; total time=   0.0s\n",
      "[CV] END ...........................alpha=3.4357575757575756; total time=   0.0s\n",
      "[CV] END ...........................alpha=3.4357575757575756; total time=   0.0s\n",
      "[CV] END ...........................alpha=3.4357575757575756; total time=   0.0s\n",
      "[CV] END ...........................alpha=3.4357575757575756; total time=   0.0s\n",
      "[CV] END ...........................alpha=3.4357575757575756; total time=   0.0s\n",
      "[CV] END ...........................alpha=3.4357575757575756; total time=   0.0s\n",
      "[CV] END ............................alpha=3.476060606060606; total time=   0.0s\n",
      "[CV] END ............................alpha=3.476060606060606; total time=   0.0s\n",
      "[CV] END ............................alpha=3.476060606060606; total time=   0.0s\n",
      "[CV] END ............................alpha=3.476060606060606; total time=   0.0s\n",
      "[CV] END ............................alpha=3.476060606060606; total time=   0.0s\n",
      "[CV] END ............................alpha=3.476060606060606; total time=   0.0s\n",
      "[CV] END ............................alpha=3.476060606060606; total time=   0.0s\n",
      "[CV] END ............................alpha=3.476060606060606; total time=   0.0s\n",
      "[CV] END ............................alpha=3.476060606060606; total time=   0.0s\n",
      "[CV] END ............................alpha=3.476060606060606; total time=   0.0s\n",
      "[CV] END ...........................alpha=3.5163636363636366; total time=   0.0s\n",
      "[CV] END ...........................alpha=3.5163636363636366; total time=   0.0s\n",
      "[CV] END ...........................alpha=3.5163636363636366; total time=   0.0s\n",
      "[CV] END ...........................alpha=3.5163636363636366; total time=   0.0s\n",
      "[CV] END ...........................alpha=3.5163636363636366; total time=   0.0s\n",
      "[CV] END ...........................alpha=3.5163636363636366; total time=   0.0s\n",
      "[CV] END ...........................alpha=3.5163636363636366; total time=   0.0s\n",
      "[CV] END ...........................alpha=3.5163636363636366; total time=   0.0s\n",
      "[CV] END ...........................alpha=3.5163636363636366; total time=   0.0s\n",
      "[CV] END ...........................alpha=3.5163636363636366; total time=   0.0s\n",
      "[CV] END ...........................alpha=3.5566666666666666; total time=   0.0s\n",
      "[CV] END ...........................alpha=3.5566666666666666; total time=   0.0s\n",
      "[CV] END ...........................alpha=3.5566666666666666; total time=   0.0s\n",
      "[CV] END ...........................alpha=3.5566666666666666; total time=   0.0s\n",
      "[CV] END ...........................alpha=3.5566666666666666; total time=   0.0s\n",
      "[CV] END ...........................alpha=3.5566666666666666; total time=   0.0s\n",
      "[CV] END ...........................alpha=3.5566666666666666; total time=   0.0s\n",
      "[CV] END ...........................alpha=3.5566666666666666; total time=   0.0s\n",
      "[CV] END ...........................alpha=3.5566666666666666; total time=   0.0s\n",
      "[CV] END ...........................alpha=3.5566666666666666; total time=   0.0s\n",
      "[CV] END ............................alpha=3.596969696969697; total time=   0.0s\n",
      "[CV] END ............................alpha=3.596969696969697; total time=   0.0s\n",
      "[CV] END ............................alpha=3.596969696969697; total time=   0.0s\n",
      "[CV] END ............................alpha=3.596969696969697; total time=   0.0s\n",
      "[CV] END ............................alpha=3.596969696969697; total time=   0.0s\n",
      "[CV] END ............................alpha=3.596969696969697; total time=   0.0s\n",
      "[CV] END ............................alpha=3.596969696969697; total time=   0.0s\n",
      "[CV] END ............................alpha=3.596969696969697; total time=   0.0s\n",
      "[CV] END ............................alpha=3.596969696969697; total time=   0.0s\n",
      "[CV] END ............................alpha=3.596969696969697; total time=   0.0s\n",
      "[CV] END ............................alpha=3.637272727272727; total time=   0.0s\n",
      "[CV] END ............................alpha=3.637272727272727; total time=   0.0s\n",
      "[CV] END ............................alpha=3.637272727272727; total time=   0.0s\n",
      "[CV] END ............................alpha=3.637272727272727; total time=   0.0s\n",
      "[CV] END ............................alpha=3.637272727272727; total time=   0.0s\n",
      "[CV] END ............................alpha=3.637272727272727; total time=   0.0s\n",
      "[CV] END ............................alpha=3.637272727272727; total time=   0.0s\n",
      "[CV] END ............................alpha=3.637272727272727; total time=   0.0s\n",
      "[CV] END ............................alpha=3.637272727272727; total time=   0.0s\n",
      "[CV] END ............................alpha=3.637272727272727; total time=   0.0s\n",
      "[CV] END ...........................alpha=3.6775757575757577; total time=   0.0s\n",
      "[CV] END ...........................alpha=3.6775757575757577; total time=   0.0s\n",
      "[CV] END ...........................alpha=3.6775757575757577; total time=   0.0s\n",
      "[CV] END ...........................alpha=3.6775757575757577; total time=   0.0s\n",
      "[CV] END ...........................alpha=3.6775757575757577; total time=   0.0s\n",
      "[CV] END ...........................alpha=3.6775757575757577; total time=   0.0s\n",
      "[CV] END ...........................alpha=3.6775757575757577; total time=   0.0s\n",
      "[CV] END ...........................alpha=3.6775757575757577; total time=   0.0s\n",
      "[CV] END ...........................alpha=3.6775757575757577; total time=   0.0s\n",
      "[CV] END ...........................alpha=3.6775757575757577; total time=   0.0s\n",
      "[CV] END ............................alpha=3.717878787878788; total time=   0.0s\n",
      "[CV] END ............................alpha=3.717878787878788; total time=   0.0s\n",
      "[CV] END ............................alpha=3.717878787878788; total time=   0.0s\n",
      "[CV] END ............................alpha=3.717878787878788; total time=   0.0s\n",
      "[CV] END ............................alpha=3.717878787878788; total time=   0.0s\n",
      "[CV] END ............................alpha=3.717878787878788; total time=   0.0s\n",
      "[CV] END ............................alpha=3.717878787878788; total time=   0.0s\n",
      "[CV] END ............................alpha=3.717878787878788; total time=   0.0s\n",
      "[CV] END ............................alpha=3.717878787878788; total time=   0.0s\n",
      "[CV] END ............................alpha=3.717878787878788; total time=   0.0s\n",
      "[CV] END ...........................alpha=3.7581818181818183; total time=   0.0s\n",
      "[CV] END ...........................alpha=3.7581818181818183; total time=   0.0s\n",
      "[CV] END ...........................alpha=3.7581818181818183; total time=   0.0s\n",
      "[CV] END ...........................alpha=3.7581818181818183; total time=   0.0s\n",
      "[CV] END ...........................alpha=3.7581818181818183; total time=   0.0s\n",
      "[CV] END ...........................alpha=3.7581818181818183; total time=   0.0s\n",
      "[CV] END ...........................alpha=3.7581818181818183; total time=   0.0s\n",
      "[CV] END ...........................alpha=3.7581818181818183; total time=   0.0s\n",
      "[CV] END ...........................alpha=3.7581818181818183; total time=   0.0s\n",
      "[CV] END ...........................alpha=3.7581818181818183; total time=   0.0s\n",
      "[CV] END ...........................alpha=3.7984848484848484; total time=   0.0s\n",
      "[CV] END ...........................alpha=3.7984848484848484; total time=   0.0s\n",
      "[CV] END ...........................alpha=3.7984848484848484; total time=   0.0s\n",
      "[CV] END ...........................alpha=3.7984848484848484; total time=   0.0s\n",
      "[CV] END ...........................alpha=3.7984848484848484; total time=   0.0s\n",
      "[CV] END ...........................alpha=3.7984848484848484; total time=   0.0s\n",
      "[CV] END ...........................alpha=3.7984848484848484; total time=   0.0s\n",
      "[CV] END ...........................alpha=3.7984848484848484; total time=   0.0s\n",
      "[CV] END ...........................alpha=3.7984848484848484; total time=   0.0s\n",
      "[CV] END ...........................alpha=3.7984848484848484; total time=   0.0s\n",
      "[CV] END ............................alpha=3.838787878787879; total time=   0.0s\n",
      "[CV] END ............................alpha=3.838787878787879; total time=   0.0s\n",
      "[CV] END ............................alpha=3.838787878787879; total time=   0.0s\n",
      "[CV] END ............................alpha=3.838787878787879; total time=   0.0s\n",
      "[CV] END ............................alpha=3.838787878787879; total time=   0.0s\n",
      "[CV] END ............................alpha=3.838787878787879; total time=   0.0s\n",
      "[CV] END ............................alpha=3.838787878787879; total time=   0.0s\n",
      "[CV] END ............................alpha=3.838787878787879; total time=   0.0s\n",
      "[CV] END ............................alpha=3.838787878787879; total time=   0.0s\n",
      "[CV] END ............................alpha=3.838787878787879; total time=   0.0s\n",
      "[CV] END ............................alpha=3.879090909090909; total time=   0.0s\n",
      "[CV] END ............................alpha=3.879090909090909; total time=   0.0s\n",
      "[CV] END ............................alpha=3.879090909090909; total time=   0.0s\n",
      "[CV] END ............................alpha=3.879090909090909; total time=   0.0s\n"
     ]
    },
    {
     "name": "stdout",
     "output_type": "stream",
     "text": [
      "[CV] END ............................alpha=3.879090909090909; total time=   0.0s\n",
      "[CV] END ............................alpha=3.879090909090909; total time=   0.0s\n",
      "[CV] END ............................alpha=3.879090909090909; total time=   0.0s\n",
      "[CV] END ............................alpha=3.879090909090909; total time=   0.0s\n",
      "[CV] END ............................alpha=3.879090909090909; total time=   0.0s\n",
      "[CV] END ............................alpha=3.879090909090909; total time=   0.0s\n",
      "[CV] END ...........................alpha=3.9193939393939394; total time=   0.0s\n",
      "[CV] END ...........................alpha=3.9193939393939394; total time=   0.0s\n",
      "[CV] END ...........................alpha=3.9193939393939394; total time=   0.0s\n",
      "[CV] END ...........................alpha=3.9193939393939394; total time=   0.0s\n",
      "[CV] END ...........................alpha=3.9193939393939394; total time=   0.0s\n",
      "[CV] END ...........................alpha=3.9193939393939394; total time=   0.0s\n",
      "[CV] END ...........................alpha=3.9193939393939394; total time=   0.0s\n",
      "[CV] END ...........................alpha=3.9193939393939394; total time=   0.0s\n",
      "[CV] END ...........................alpha=3.9193939393939394; total time=   0.0s\n",
      "[CV] END ...........................alpha=3.9193939393939394; total time=   0.0s\n",
      "[CV] END .............................alpha=3.95969696969697; total time=   0.0s\n",
      "[CV] END .............................alpha=3.95969696969697; total time=   0.0s\n",
      "[CV] END .............................alpha=3.95969696969697; total time=   0.0s\n",
      "[CV] END .............................alpha=3.95969696969697; total time=   0.0s\n",
      "[CV] END .............................alpha=3.95969696969697; total time=   0.0s\n",
      "[CV] END .............................alpha=3.95969696969697; total time=   0.0s\n",
      "[CV] END .............................alpha=3.95969696969697; total time=   0.0s\n",
      "[CV] END .............................alpha=3.95969696969697; total time=   0.0s\n",
      "[CV] END .............................alpha=3.95969696969697; total time=   0.0s\n",
      "[CV] END .............................alpha=3.95969696969697; total time=   0.0s\n",
      "[CV] END ..........................................alpha=4.0; total time=   0.0s\n",
      "[CV] END ..........................................alpha=4.0; total time=   0.0s\n",
      "[CV] END ..........................................alpha=4.0; total time=   0.0s\n",
      "[CV] END ..........................................alpha=4.0; total time=   0.0s\n",
      "[CV] END ..........................................alpha=4.0; total time=   0.0s\n",
      "[CV] END ..........................................alpha=4.0; total time=   0.0s\n",
      "[CV] END ..........................................alpha=4.0; total time=   0.0s\n",
      "[CV] END ..........................................alpha=4.0; total time=   0.0s\n",
      "[CV] END ..........................................alpha=4.0; total time=   0.0s\n",
      "[CV] END ..........................................alpha=4.0; total time=   0.0s\n"
     ]
    },
    {
     "data": {
      "text/html": [
       "<style>#sk-container-id-7 {color: black;background-color: white;}#sk-container-id-7 pre{padding: 0;}#sk-container-id-7 div.sk-toggleable {background-color: white;}#sk-container-id-7 label.sk-toggleable__label {cursor: pointer;display: block;width: 100%;margin-bottom: 0;padding: 0.3em;box-sizing: border-box;text-align: center;}#sk-container-id-7 label.sk-toggleable__label-arrow:before {content: \"▸\";float: left;margin-right: 0.25em;color: #696969;}#sk-container-id-7 label.sk-toggleable__label-arrow:hover:before {color: black;}#sk-container-id-7 div.sk-estimator:hover label.sk-toggleable__label-arrow:before {color: black;}#sk-container-id-7 div.sk-toggleable__content {max-height: 0;max-width: 0;overflow: hidden;text-align: left;background-color: #f0f8ff;}#sk-container-id-7 div.sk-toggleable__content pre {margin: 0.2em;color: black;border-radius: 0.25em;background-color: #f0f8ff;}#sk-container-id-7 input.sk-toggleable__control:checked~div.sk-toggleable__content {max-height: 200px;max-width: 100%;overflow: auto;}#sk-container-id-7 input.sk-toggleable__control:checked~label.sk-toggleable__label-arrow:before {content: \"▾\";}#sk-container-id-7 div.sk-estimator input.sk-toggleable__control:checked~label.sk-toggleable__label {background-color: #d4ebff;}#sk-container-id-7 div.sk-label input.sk-toggleable__control:checked~label.sk-toggleable__label {background-color: #d4ebff;}#sk-container-id-7 input.sk-hidden--visually {border: 0;clip: rect(1px 1px 1px 1px);clip: rect(1px, 1px, 1px, 1px);height: 1px;margin: -1px;overflow: hidden;padding: 0;position: absolute;width: 1px;}#sk-container-id-7 div.sk-estimator {font-family: monospace;background-color: #f0f8ff;border: 1px dotted black;border-radius: 0.25em;box-sizing: border-box;margin-bottom: 0.5em;}#sk-container-id-7 div.sk-estimator:hover {background-color: #d4ebff;}#sk-container-id-7 div.sk-parallel-item::after {content: \"\";width: 100%;border-bottom: 1px solid gray;flex-grow: 1;}#sk-container-id-7 div.sk-label:hover label.sk-toggleable__label {background-color: #d4ebff;}#sk-container-id-7 div.sk-serial::before {content: \"\";position: absolute;border-left: 1px solid gray;box-sizing: border-box;top: 0;bottom: 0;left: 50%;z-index: 0;}#sk-container-id-7 div.sk-serial {display: flex;flex-direction: column;align-items: center;background-color: white;padding-right: 0.2em;padding-left: 0.2em;position: relative;}#sk-container-id-7 div.sk-item {position: relative;z-index: 1;}#sk-container-id-7 div.sk-parallel {display: flex;align-items: stretch;justify-content: center;background-color: white;position: relative;}#sk-container-id-7 div.sk-item::before, #sk-container-id-7 div.sk-parallel-item::before {content: \"\";position: absolute;border-left: 1px solid gray;box-sizing: border-box;top: 0;bottom: 0;left: 50%;z-index: -1;}#sk-container-id-7 div.sk-parallel-item {display: flex;flex-direction: column;z-index: 1;position: relative;background-color: white;}#sk-container-id-7 div.sk-parallel-item:first-child::after {align-self: flex-end;width: 50%;}#sk-container-id-7 div.sk-parallel-item:last-child::after {align-self: flex-start;width: 50%;}#sk-container-id-7 div.sk-parallel-item:only-child::after {width: 0;}#sk-container-id-7 div.sk-dashed-wrapped {border: 1px dashed gray;margin: 0 0.4em 0.5em 0.4em;box-sizing: border-box;padding-bottom: 0.4em;background-color: white;}#sk-container-id-7 div.sk-label label {font-family: monospace;font-weight: bold;display: inline-block;line-height: 1.2em;}#sk-container-id-7 div.sk-label-container {text-align: center;}#sk-container-id-7 div.sk-container {/* jupyter's `normalize.less` sets `[hidden] { display: none; }` but bootstrap.min.css set `[hidden] { display: none !important; }` so we also need the `!important` here to be able to override the default hidden behavior on the sphinx rendered scikit-learn.org. See: https://github.com/scikit-learn/scikit-learn/issues/21755 */display: inline-block !important;position: relative;}#sk-container-id-7 div.sk-text-repr-fallback {display: none;}</style><div id=\"sk-container-id-7\" class=\"sk-top-container\"><div class=\"sk-text-repr-fallback\"><pre>GridSearchCV(cv=10, estimator=Ridge(),\n",
       "             param_grid={&#x27;alpha&#x27;: array([0.01      , 0.05030303, 0.09060606, 0.13090909, 0.17121212,\n",
       "       0.21151515, 0.25181818, 0.29212121, 0.33242424, 0.37272727,\n",
       "       0.4130303 , 0.45333333, 0.49363636, 0.53393939, 0.57424242,\n",
       "       0.61454545, 0.65484848, 0.69515152, 0.73545455, 0.77575758,\n",
       "       0.81606061, 0.85636364, 0.89666667, 0.9369697 , 0.97727273,\n",
       "       1.01757576, 1.057878...\n",
       "       2.83121212, 2.87151515, 2.91181818, 2.95212121, 2.99242424,\n",
       "       3.03272727, 3.0730303 , 3.11333333, 3.15363636, 3.19393939,\n",
       "       3.23424242, 3.27454545, 3.31484848, 3.35515152, 3.39545455,\n",
       "       3.43575758, 3.47606061, 3.51636364, 3.55666667, 3.5969697 ,\n",
       "       3.63727273, 3.67757576, 3.71787879, 3.75818182, 3.79848485,\n",
       "       3.83878788, 3.87909091, 3.91939394, 3.95969697, 4.        ])},\n",
       "             scoring=&#x27;neg_root_mean_squared_error&#x27;, verbose=2)</pre><b>In a Jupyter environment, please rerun this cell to show the HTML representation or trust the notebook. <br />On GitHub, the HTML representation is unable to render, please try loading this page with nbviewer.org.</b></div><div class=\"sk-container\" hidden><div class=\"sk-item sk-dashed-wrapped\"><div class=\"sk-label-container\"><div class=\"sk-label sk-toggleable\"><input class=\"sk-toggleable__control sk-hidden--visually\" id=\"sk-estimator-id-9\" type=\"checkbox\" ><label for=\"sk-estimator-id-9\" class=\"sk-toggleable__label sk-toggleable__label-arrow\">GridSearchCV</label><div class=\"sk-toggleable__content\"><pre>GridSearchCV(cv=10, estimator=Ridge(),\n",
       "             param_grid={&#x27;alpha&#x27;: array([0.01      , 0.05030303, 0.09060606, 0.13090909, 0.17121212,\n",
       "       0.21151515, 0.25181818, 0.29212121, 0.33242424, 0.37272727,\n",
       "       0.4130303 , 0.45333333, 0.49363636, 0.53393939, 0.57424242,\n",
       "       0.61454545, 0.65484848, 0.69515152, 0.73545455, 0.77575758,\n",
       "       0.81606061, 0.85636364, 0.89666667, 0.9369697 , 0.97727273,\n",
       "       1.01757576, 1.057878...\n",
       "       2.83121212, 2.87151515, 2.91181818, 2.95212121, 2.99242424,\n",
       "       3.03272727, 3.0730303 , 3.11333333, 3.15363636, 3.19393939,\n",
       "       3.23424242, 3.27454545, 3.31484848, 3.35515152, 3.39545455,\n",
       "       3.43575758, 3.47606061, 3.51636364, 3.55666667, 3.5969697 ,\n",
       "       3.63727273, 3.67757576, 3.71787879, 3.75818182, 3.79848485,\n",
       "       3.83878788, 3.87909091, 3.91939394, 3.95969697, 4.        ])},\n",
       "             scoring=&#x27;neg_root_mean_squared_error&#x27;, verbose=2)</pre></div></div></div><div class=\"sk-parallel\"><div class=\"sk-parallel-item\"><div class=\"sk-item\"><div class=\"sk-label-container\"><div class=\"sk-label sk-toggleable\"><input class=\"sk-toggleable__control sk-hidden--visually\" id=\"sk-estimator-id-10\" type=\"checkbox\" ><label for=\"sk-estimator-id-10\" class=\"sk-toggleable__label sk-toggleable__label-arrow\">estimator: Ridge</label><div class=\"sk-toggleable__content\"><pre>Ridge()</pre></div></div></div><div class=\"sk-serial\"><div class=\"sk-item\"><div class=\"sk-estimator sk-toggleable\"><input class=\"sk-toggleable__control sk-hidden--visually\" id=\"sk-estimator-id-11\" type=\"checkbox\" ><label for=\"sk-estimator-id-11\" class=\"sk-toggleable__label sk-toggleable__label-arrow\">Ridge</label><div class=\"sk-toggleable__content\"><pre>Ridge()</pre></div></div></div></div></div></div></div></div></div></div>"
      ],
      "text/plain": [
       "GridSearchCV(cv=10, estimator=Ridge(),\n",
       "             param_grid={'alpha': array([0.01      , 0.05030303, 0.09060606, 0.13090909, 0.17121212,\n",
       "       0.21151515, 0.25181818, 0.29212121, 0.33242424, 0.37272727,\n",
       "       0.4130303 , 0.45333333, 0.49363636, 0.53393939, 0.57424242,\n",
       "       0.61454545, 0.65484848, 0.69515152, 0.73545455, 0.77575758,\n",
       "       0.81606061, 0.85636364, 0.89666667, 0.9369697 , 0.97727273,\n",
       "       1.01757576, 1.057878...\n",
       "       2.83121212, 2.87151515, 2.91181818, 2.95212121, 2.99242424,\n",
       "       3.03272727, 3.0730303 , 3.11333333, 3.15363636, 3.19393939,\n",
       "       3.23424242, 3.27454545, 3.31484848, 3.35515152, 3.39545455,\n",
       "       3.43575758, 3.47606061, 3.51636364, 3.55666667, 3.5969697 ,\n",
       "       3.63727273, 3.67757576, 3.71787879, 3.75818182, 3.79848485,\n",
       "       3.83878788, 3.87909091, 3.91939394, 3.95969697, 4.        ])},\n",
       "             scoring='neg_root_mean_squared_error', verbose=2)"
      ]
     },
     "execution_count": 166,
     "metadata": {},
     "output_type": "execute_result"
    }
   ],
   "source": [
    "grid_ridge.fit(X_train_scaled, y_train) "
   ]
  },
  {
   "cell_type": "code",
   "execution_count": 167,
   "id": "8f69bd6b",
   "metadata": {},
   "outputs": [
    {
     "data": {
      "text/plain": [
       "{'alpha': 4.0}"
      ]
     },
     "execution_count": 167,
     "metadata": {},
     "output_type": "execute_result"
    }
   ],
   "source": [
    "grid_ridge.best_params_"
   ]
  },
  {
   "cell_type": "code",
   "execution_count": 168,
   "id": "9e94dcfa",
   "metadata": {},
   "outputs": [],
   "source": [
    "y_pred_test_ridge_g = grid_ridge.predict(X_test_scaled)\n",
    "y_pred_train_ridge_g= grid_ridge.predict(X_train_scaled)"
   ]
  },
  {
   "cell_type": "code",
   "execution_count": 169,
   "id": "e57ab245",
   "metadata": {},
   "outputs": [
    {
     "data": {
      "text/html": [
       "<div>\n",
       "<style scoped>\n",
       "    .dataframe tbody tr th:only-of-type {\n",
       "        vertical-align: middle;\n",
       "    }\n",
       "\n",
       "    .dataframe tbody tr th {\n",
       "        vertical-align: top;\n",
       "    }\n",
       "\n",
       "    .dataframe thead th {\n",
       "        text-align: right;\n",
       "    }\n",
       "</style>\n",
       "<table border=\"1\" class=\"dataframe\">\n",
       "  <thead>\n",
       "    <tr style=\"text-align: right;\">\n",
       "      <th></th>\n",
       "      <th>grid_ridge_train</th>\n",
       "      <th>grid_ridge_test</th>\n",
       "    </tr>\n",
       "  </thead>\n",
       "  <tbody>\n",
       "    <tr>\n",
       "      <th>R2</th>\n",
       "      <td>8.460232e-01</td>\n",
       "      <td>8.467887e-01</td>\n",
       "    </tr>\n",
       "    <tr>\n",
       "      <th>mae</th>\n",
       "      <td>2.798174e+03</td>\n",
       "      <td>3.080088e+03</td>\n",
       "    </tr>\n",
       "    <tr>\n",
       "      <th>mse</th>\n",
       "      <td>2.090862e+07</td>\n",
       "      <td>2.621716e+07</td>\n",
       "    </tr>\n",
       "    <tr>\n",
       "      <th>rmse</th>\n",
       "      <td>4.572594e+03</td>\n",
       "      <td>5.120270e+03</td>\n",
       "    </tr>\n",
       "  </tbody>\n",
       "</table>\n",
       "</div>"
      ],
      "text/plain": [
       "      grid_ridge_train  grid_ridge_test\n",
       "R2        8.460232e-01     8.467887e-01\n",
       "mae       2.798174e+03     3.080088e+03\n",
       "mse       2.090862e+07     2.621716e+07\n",
       "rmse      4.572594e+03     5.120270e+03"
      ]
     },
     "execution_count": 169,
     "metadata": {},
     "output_type": "execute_result"
    }
   ],
   "source": [
    "train_val(y_train, y_pred_train_ridge_g, y_test, y_pred_test_ridge_g, \"grid_ridge\")"
   ]
  },
  {
   "cell_type": "code",
   "execution_count": 170,
   "id": "b3cb696d",
   "metadata": {},
   "outputs": [
    {
     "data": {
      "text/plain": [
       "0.8467887371155678"
      ]
     },
     "execution_count": 170,
     "metadata": {},
     "output_type": "execute_result"
    }
   ],
   "source": [
    "r2_score_pol_ridge_g=r2_score(y_test, y_pred_test_ridge_g)\n",
    "r2_score_pol_ridge_g"
   ]
  },
  {
   "cell_type": "markdown",
   "id": "6337ca7f",
   "metadata": {},
   "source": [
    "### 2.2. Lasso and GridSearch"
   ]
  },
  {
   "cell_type": "code",
   "execution_count": 171,
   "id": "bd5e91c9",
   "metadata": {},
   "outputs": [],
   "source": [
    "from sklearn.linear_model import Lasso"
   ]
  },
  {
   "cell_type": "code",
   "execution_count": 175,
   "id": "70460659",
   "metadata": {},
   "outputs": [],
   "source": [
    "lasso_model=Lasso(max_iter=100000)"
   ]
  },
  {
   "cell_type": "code",
   "execution_count": 176,
   "id": "347ea2d9",
   "metadata": {},
   "outputs": [],
   "source": [
    "param_grid = {\"alpha\":alpha_space}"
   ]
  },
  {
   "cell_type": "code",
   "execution_count": 177,
   "id": "9d60d5cc",
   "metadata": {},
   "outputs": [],
   "source": [
    "grid_lasso = GridSearchCV(estimator = lasso_model, param_grid = param_grid, scoring = 'neg_root_mean_squared_error',\n",
    "                         cv =10, verbose =2)"
   ]
  },
  {
   "cell_type": "code",
   "execution_count": 178,
   "id": "0f7e77b5",
   "metadata": {},
   "outputs": [
    {
     "name": "stdout",
     "output_type": "stream",
     "text": [
      "Fitting 10 folds for each of 100 candidates, totalling 1000 fits\n",
      "[CV] END .........................................alpha=0.01; total time=   6.9s\n",
      "[CV] END .........................................alpha=0.01; total time=   6.5s\n",
      "[CV] END .........................................alpha=0.01; total time=   6.5s\n",
      "[CV] END .........................................alpha=0.01; total time=   6.4s\n",
      "[CV] END .........................................alpha=0.01; total time=   6.3s\n",
      "[CV] END .........................................alpha=0.01; total time=   5.8s\n",
      "[CV] END .........................................alpha=0.01; total time=   5.7s\n",
      "[CV] END .........................................alpha=0.01; total time=   6.1s\n",
      "[CV] END .........................................alpha=0.01; total time=   5.9s\n",
      "[CV] END .........................................alpha=0.01; total time=   6.3s\n",
      "[CV] END ..........................alpha=0.05030303030303031; total time=   5.8s\n",
      "[CV] END ..........................alpha=0.05030303030303031; total time=   6.1s\n",
      "[CV] END ..........................alpha=0.05030303030303031; total time=   5.8s\n",
      "[CV] END ..........................alpha=0.05030303030303031; total time=   6.2s\n",
      "[CV] END ..........................alpha=0.05030303030303031; total time=   6.0s\n",
      "[CV] END ..........................alpha=0.05030303030303031; total time=   5.3s\n",
      "[CV] END ..........................alpha=0.05030303030303031; total time=   6.1s\n",
      "[CV] END ..........................alpha=0.05030303030303031; total time=   6.4s\n",
      "[CV] END ..........................alpha=0.05030303030303031; total time=   5.6s\n",
      "[CV] END ..........................alpha=0.05030303030303031; total time=   5.7s\n",
      "[CV] END ...........................alpha=0.0906060606060606; total time=   4.1s\n",
      "[CV] END ...........................alpha=0.0906060606060606; total time=   4.5s\n",
      "[CV] END ...........................alpha=0.0906060606060606; total time=   3.9s\n",
      "[CV] END ...........................alpha=0.0906060606060606; total time=   4.4s\n",
      "[CV] END ...........................alpha=0.0906060606060606; total time=   3.5s\n",
      "[CV] END ...........................alpha=0.0906060606060606; total time=   3.5s\n",
      "[CV] END ...........................alpha=0.0906060606060606; total time=   4.0s\n",
      "[CV] END ...........................alpha=0.0906060606060606; total time=   5.0s\n",
      "[CV] END ...........................alpha=0.0906060606060606; total time=   7.4s\n",
      "[CV] END ...........................alpha=0.0906060606060606; total time=   5.0s\n",
      "[CV] END ..........................alpha=0.13090909090909092; total time=   3.9s\n",
      "[CV] END ..........................alpha=0.13090909090909092; total time=   3.9s\n",
      "[CV] END ..........................alpha=0.13090909090909092; total time=   3.3s\n",
      "[CV] END ..........................alpha=0.13090909090909092; total time=   3.7s\n",
      "[CV] END ..........................alpha=0.13090909090909092; total time=   2.9s\n",
      "[CV] END ..........................alpha=0.13090909090909092; total time=   3.1s\n",
      "[CV] END ..........................alpha=0.13090909090909092; total time=   2.9s\n",
      "[CV] END ..........................alpha=0.13090909090909092; total time=   3.8s\n",
      "[CV] END ..........................alpha=0.13090909090909092; total time=   3.3s\n",
      "[CV] END ..........................alpha=0.13090909090909092; total time=   3.5s\n",
      "[CV] END ..........................alpha=0.17121212121212123; total time=   3.2s\n",
      "[CV] END ..........................alpha=0.17121212121212123; total time=   2.8s\n",
      "[CV] END ..........................alpha=0.17121212121212123; total time=   2.5s\n",
      "[CV] END ..........................alpha=0.17121212121212123; total time=   3.1s\n",
      "[CV] END ..........................alpha=0.17121212121212123; total time=   2.9s\n",
      "[CV] END ..........................alpha=0.17121212121212123; total time=   3.8s\n",
      "[CV] END ..........................alpha=0.17121212121212123; total time=   3.5s\n",
      "[CV] END ..........................alpha=0.17121212121212123; total time=   4.5s\n",
      "[CV] END ..........................alpha=0.17121212121212123; total time=   3.4s\n",
      "[CV] END ..........................alpha=0.17121212121212123; total time=   4.0s\n",
      "[CV] END ..........................alpha=0.21151515151515154; total time=   3.5s\n",
      "[CV] END ..........................alpha=0.21151515151515154; total time=   2.8s\n",
      "[CV] END ..........................alpha=0.21151515151515154; total time=   3.1s\n",
      "[CV] END ..........................alpha=0.21151515151515154; total time=   3.1s\n",
      "[CV] END ..........................alpha=0.21151515151515154; total time=   2.7s\n",
      "[CV] END ..........................alpha=0.21151515151515154; total time=   3.3s\n",
      "[CV] END ..........................alpha=0.21151515151515154; total time=   2.8s\n",
      "[CV] END ..........................alpha=0.21151515151515154; total time=   3.4s\n",
      "[CV] END ..........................alpha=0.21151515151515154; total time=   2.4s\n",
      "[CV] END ..........................alpha=0.21151515151515154; total time=   2.5s\n",
      "[CV] END ..........................alpha=0.25181818181818183; total time=   2.7s\n",
      "[CV] END ..........................alpha=0.25181818181818183; total time=   2.3s\n",
      "[CV] END ..........................alpha=0.25181818181818183; total time=   2.6s\n",
      "[CV] END ..........................alpha=0.25181818181818183; total time=   3.1s\n",
      "[CV] END ..........................alpha=0.25181818181818183; total time=   2.6s\n",
      "[CV] END ..........................alpha=0.25181818181818183; total time=   2.8s\n",
      "[CV] END ..........................alpha=0.25181818181818183; total time=   2.5s\n",
      "[CV] END ..........................alpha=0.25181818181818183; total time=   2.8s\n",
      "[CV] END ..........................alpha=0.25181818181818183; total time=   2.1s\n",
      "[CV] END ..........................alpha=0.25181818181818183; total time=   2.1s\n",
      "[CV] END ..........................alpha=0.29212121212121217; total time=   3.2s\n",
      "[CV] END ..........................alpha=0.29212121212121217; total time=   1.9s\n",
      "[CV] END ..........................alpha=0.29212121212121217; total time=   2.5s\n",
      "[CV] END ..........................alpha=0.29212121212121217; total time=   2.5s\n",
      "[CV] END ..........................alpha=0.29212121212121217; total time=   3.3s\n",
      "[CV] END ..........................alpha=0.29212121212121217; total time=   3.2s\n",
      "[CV] END ..........................alpha=0.29212121212121217; total time=   2.9s\n",
      "[CV] END ..........................alpha=0.29212121212121217; total time=   3.2s\n",
      "[CV] END ..........................alpha=0.29212121212121217; total time=   2.0s\n",
      "[CV] END ..........................alpha=0.29212121212121217; total time=   1.9s\n",
      "[CV] END ..........................alpha=0.33242424242424246; total time=   2.2s\n",
      "[CV] END ..........................alpha=0.33242424242424246; total time=   1.8s\n",
      "[CV] END ..........................alpha=0.33242424242424246; total time=   2.4s\n",
      "[CV] END ..........................alpha=0.33242424242424246; total time=   2.1s\n",
      "[CV] END ..........................alpha=0.33242424242424246; total time=   2.0s\n",
      "[CV] END ..........................alpha=0.33242424242424246; total time=   2.4s\n",
      "[CV] END ..........................alpha=0.33242424242424246; total time=   2.3s\n",
      "[CV] END ..........................alpha=0.33242424242424246; total time=   2.9s\n",
      "[CV] END ..........................alpha=0.33242424242424246; total time=   1.7s\n",
      "[CV] END ..........................alpha=0.33242424242424246; total time=   1.8s\n",
      "[CV] END ..........................alpha=0.37272727272727274; total time=   1.9s\n",
      "[CV] END ..........................alpha=0.37272727272727274; total time=   1.8s\n",
      "[CV] END ..........................alpha=0.37272727272727274; total time=   2.1s\n",
      "[CV] END ..........................alpha=0.37272727272727274; total time=   2.1s\n",
      "[CV] END ..........................alpha=0.37272727272727274; total time=   2.1s\n",
      "[CV] END ..........................alpha=0.37272727272727274; total time=   2.5s\n",
      "[CV] END ..........................alpha=0.37272727272727274; total time=   2.6s\n",
      "[CV] END ..........................alpha=0.37272727272727274; total time=   2.5s\n",
      "[CV] END ..........................alpha=0.37272727272727274; total time=   1.6s\n",
      "[CV] END ..........................alpha=0.37272727272727274; total time=   1.4s\n",
      "[CV] END ...........................alpha=0.4130303030303031; total time=   1.7s\n"
     ]
    },
    {
     "name": "stdout",
     "output_type": "stream",
     "text": [
      "[CV] END ...........................alpha=0.4130303030303031; total time=   1.7s\n",
      "[CV] END ...........................alpha=0.4130303030303031; total time=   2.4s\n",
      "[CV] END ...........................alpha=0.4130303030303031; total time=   2.2s\n",
      "[CV] END ...........................alpha=0.4130303030303031; total time=   1.8s\n",
      "[CV] END ...........................alpha=0.4130303030303031; total time=   3.1s\n",
      "[CV] END ...........................alpha=0.4130303030303031; total time=   2.3s\n",
      "[CV] END ...........................alpha=0.4130303030303031; total time=   2.2s\n",
      "[CV] END ...........................alpha=0.4130303030303031; total time=   1.9s\n",
      "[CV] END ...........................alpha=0.4130303030303031; total time=   1.5s\n",
      "[CV] END ..........................alpha=0.45333333333333337; total time=   1.9s\n",
      "[CV] END ..........................alpha=0.45333333333333337; total time=   2.1s\n",
      "[CV] END ..........................alpha=0.45333333333333337; total time=   1.8s\n",
      "[CV] END ..........................alpha=0.45333333333333337; total time=   2.0s\n",
      "[CV] END ..........................alpha=0.45333333333333337; total time=   1.8s\n",
      "[CV] END ..........................alpha=0.45333333333333337; total time=   1.9s\n",
      "[CV] END ..........................alpha=0.45333333333333337; total time=   2.5s\n",
      "[CV] END ..........................alpha=0.45333333333333337; total time=   2.2s\n",
      "[CV] END ..........................alpha=0.45333333333333337; total time=   1.7s\n",
      "[CV] END ..........................alpha=0.45333333333333337; total time=   1.4s\n",
      "[CV] END ..........................alpha=0.49363636363636365; total time=   1.6s\n",
      "[CV] END ..........................alpha=0.49363636363636365; total time=   1.5s\n",
      "[CV] END ..........................alpha=0.49363636363636365; total time=   1.7s\n",
      "[CV] END ..........................alpha=0.49363636363636365; total time=   1.9s\n",
      "[CV] END ..........................alpha=0.49363636363636365; total time=   1.7s\n",
      "[CV] END ..........................alpha=0.49363636363636365; total time=   1.6s\n",
      "[CV] END ..........................alpha=0.49363636363636365; total time=   2.0s\n",
      "[CV] END ..........................alpha=0.49363636363636365; total time=   2.0s\n",
      "[CV] END ..........................alpha=0.49363636363636365; total time=   1.7s\n",
      "[CV] END ..........................alpha=0.49363636363636365; total time=   1.3s\n",
      "[CV] END ...........................alpha=0.5339393939393939; total time=   1.7s\n",
      "[CV] END ...........................alpha=0.5339393939393939; total time=   1.5s\n",
      "[CV] END ...........................alpha=0.5339393939393939; total time=   1.6s\n",
      "[CV] END ...........................alpha=0.5339393939393939; total time=   1.9s\n",
      "[CV] END ...........................alpha=0.5339393939393939; total time=   1.6s\n",
      "[CV] END ...........................alpha=0.5339393939393939; total time=   1.5s\n",
      "[CV] END ...........................alpha=0.5339393939393939; total time=   2.0s\n",
      "[CV] END ...........................alpha=0.5339393939393939; total time=   1.9s\n",
      "[CV] END ...........................alpha=0.5339393939393939; total time=   1.5s\n",
      "[CV] END ...........................alpha=0.5339393939393939; total time=   1.3s\n",
      "[CV] END ...........................alpha=0.5742424242424243; total time=   1.5s\n",
      "[CV] END ...........................alpha=0.5742424242424243; total time=   1.5s\n",
      "[CV] END ...........................alpha=0.5742424242424243; total time=   1.6s\n",
      "[CV] END ...........................alpha=0.5742424242424243; total time=   1.8s\n",
      "[CV] END ...........................alpha=0.5742424242424243; total time=   1.6s\n",
      "[CV] END ...........................alpha=0.5742424242424243; total time=   1.4s\n",
      "[CV] END ...........................alpha=0.5742424242424243; total time=   1.9s\n",
      "[CV] END ...........................alpha=0.5742424242424243; total time=   1.8s\n",
      "[CV] END ...........................alpha=0.5742424242424243; total time=   1.5s\n",
      "[CV] END ...........................alpha=0.5742424242424243; total time=   1.3s\n",
      "[CV] END ...........................alpha=0.6145454545454546; total time=   1.5s\n",
      "[CV] END ...........................alpha=0.6145454545454546; total time=   1.4s\n",
      "[CV] END ...........................alpha=0.6145454545454546; total time=   1.6s\n",
      "[CV] END ...........................alpha=0.6145454545454546; total time=   2.2s\n",
      "[CV] END ...........................alpha=0.6145454545454546; total time=   2.0s\n",
      "[CV] END ...........................alpha=0.6145454545454546; total time=   1.7s\n",
      "[CV] END ...........................alpha=0.6145454545454546; total time=   2.2s\n",
      "[CV] END ...........................alpha=0.6145454545454546; total time=   2.0s\n",
      "[CV] END ...........................alpha=0.6145454545454546; total time=   1.5s\n",
      "[CV] END ...........................alpha=0.6145454545454546; total time=   1.3s\n",
      "[CV] END ...........................alpha=0.6548484848484849; total time=   1.8s\n",
      "[CV] END ...........................alpha=0.6548484848484849; total time=   1.4s\n",
      "[CV] END ...........................alpha=0.6548484848484849; total time=   1.6s\n",
      "[CV] END ...........................alpha=0.6548484848484849; total time=   1.7s\n",
      "[CV] END ...........................alpha=0.6548484848484849; total time=   1.7s\n",
      "[CV] END ...........................alpha=0.6548484848484849; total time=   1.3s\n",
      "[CV] END ...........................alpha=0.6548484848484849; total time=   1.9s\n",
      "[CV] END ...........................alpha=0.6548484848484849; total time=   2.3s\n",
      "[CV] END ...........................alpha=0.6548484848484849; total time=   3.2s\n",
      "[CV] END ...........................alpha=0.6548484848484849; total time=   1.6s\n",
      "[CV] END ...........................alpha=0.6951515151515152; total time=   1.8s\n",
      "[CV] END ...........................alpha=0.6951515151515152; total time=   2.0s\n",
      "[CV] END ...........................alpha=0.6951515151515152; total time=   1.8s\n",
      "[CV] END ...........................alpha=0.6951515151515152; total time=   1.9s\n",
      "[CV] END ...........................alpha=0.6951515151515152; total time=   1.7s\n",
      "[CV] END ...........................alpha=0.6951515151515152; total time=   1.4s\n",
      "[CV] END ...........................alpha=0.6951515151515152; total time=   1.9s\n",
      "[CV] END ...........................alpha=0.6951515151515152; total time=   1.6s\n",
      "[CV] END ...........................alpha=0.6951515151515152; total time=   1.5s\n",
      "[CV] END ...........................alpha=0.6951515151515152; total time=   1.2s\n",
      "[CV] END ...........................alpha=0.7354545454545455; total time=   1.4s\n",
      "[CV] END ...........................alpha=0.7354545454545455; total time=   1.4s\n",
      "[CV] END ...........................alpha=0.7354545454545455; total time=   1.5s\n",
      "[CV] END ...........................alpha=0.7354545454545455; total time=   1.6s\n",
      "[CV] END ...........................alpha=0.7354545454545455; total time=   1.4s\n",
      "[CV] END ...........................alpha=0.7354545454545455; total time=   1.2s\n",
      "[CV] END ...........................alpha=0.7354545454545455; total time=   1.8s\n",
      "[CV] END ...........................alpha=0.7354545454545455; total time=   1.5s\n",
      "[CV] END ...........................alpha=0.7354545454545455; total time=   1.3s\n",
      "[CV] END ...........................alpha=0.7354545454545455; total time=   1.2s\n",
      "[CV] END ...........................alpha=0.7757575757575759; total time=   1.3s\n",
      "[CV] END ...........................alpha=0.7757575757575759; total time=   1.2s\n",
      "[CV] END ...........................alpha=0.7757575757575759; total time=   1.4s\n",
      "[CV] END ...........................alpha=0.7757575757575759; total time=   1.6s\n",
      "[CV] END ...........................alpha=0.7757575757575759; total time=   1.4s\n",
      "[CV] END ...........................alpha=0.7757575757575759; total time=   1.2s\n",
      "[CV] END ...........................alpha=0.7757575757575759; total time=   1.7s\n",
      "[CV] END ...........................alpha=0.7757575757575759; total time=   1.5s\n",
      "[CV] END ...........................alpha=0.7757575757575759; total time=   1.3s\n",
      "[CV] END ...........................alpha=0.7757575757575759; total time=   1.1s\n",
      "[CV] END ...........................alpha=0.8160606060606062; total time=   1.3s\n",
      "[CV] END ...........................alpha=0.8160606060606062; total time=   1.2s\n",
      "[CV] END ...........................alpha=0.8160606060606062; total time=   1.4s\n"
     ]
    },
    {
     "name": "stdout",
     "output_type": "stream",
     "text": [
      "[CV] END ...........................alpha=0.8160606060606062; total time=   1.4s\n",
      "[CV] END ...........................alpha=0.8160606060606062; total time=   1.3s\n",
      "[CV] END ...........................alpha=0.8160606060606062; total time=   1.2s\n",
      "[CV] END ...........................alpha=0.8160606060606062; total time=   1.5s\n",
      "[CV] END ...........................alpha=0.8160606060606062; total time=   1.3s\n",
      "[CV] END ...........................alpha=0.8160606060606062; total time=   1.4s\n",
      "[CV] END ...........................alpha=0.8160606060606062; total time=   1.2s\n",
      "[CV] END ...........................alpha=0.8563636363636364; total time=   1.3s\n",
      "[CV] END ...........................alpha=0.8563636363636364; total time=   1.2s\n",
      "[CV] END ...........................alpha=0.8563636363636364; total time=   1.4s\n",
      "[CV] END ...........................alpha=0.8563636363636364; total time=   1.4s\n",
      "[CV] END ...........................alpha=0.8563636363636364; total time=   1.3s\n",
      "[CV] END ...........................alpha=0.8563636363636364; total time=   1.0s\n",
      "[CV] END ...........................alpha=0.8563636363636364; total time=   1.6s\n",
      "[CV] END ...........................alpha=0.8563636363636364; total time=   1.3s\n",
      "[CV] END ...........................alpha=0.8563636363636364; total time=   1.3s\n",
      "[CV] END ...........................alpha=0.8563636363636364; total time=   1.0s\n",
      "[CV] END ...........................alpha=0.8966666666666667; total time=   1.2s\n",
      "[CV] END ...........................alpha=0.8966666666666667; total time=   1.0s\n",
      "[CV] END ...........................alpha=0.8966666666666667; total time=   1.4s\n",
      "[CV] END ...........................alpha=0.8966666666666667; total time=   1.3s\n",
      "[CV] END ...........................alpha=0.8966666666666667; total time=   1.3s\n",
      "[CV] END ...........................alpha=0.8966666666666667; total time=   1.0s\n",
      "[CV] END ...........................alpha=0.8966666666666667; total time=   1.4s\n",
      "[CV] END ...........................alpha=0.8966666666666667; total time=   1.2s\n",
      "[CV] END ...........................alpha=0.8966666666666667; total time=   1.3s\n",
      "[CV] END ...........................alpha=0.8966666666666667; total time=   1.1s\n",
      "[CV] END ............................alpha=0.936969696969697; total time=   1.2s\n",
      "[CV] END ............................alpha=0.936969696969697; total time=   1.0s\n",
      "[CV] END ............................alpha=0.936969696969697; total time=   1.4s\n",
      "[CV] END ............................alpha=0.936969696969697; total time=   1.5s\n",
      "[CV] END ............................alpha=0.936969696969697; total time=   2.1s\n",
      "[CV] END ............................alpha=0.936969696969697; total time=   1.4s\n",
      "[CV] END ............................alpha=0.936969696969697; total time=   1.5s\n",
      "[CV] END ............................alpha=0.936969696969697; total time=   1.2s\n",
      "[CV] END ............................alpha=0.936969696969697; total time=   1.3s\n",
      "[CV] END ............................alpha=0.936969696969697; total time=   1.1s\n",
      "[CV] END ...........................alpha=0.9772727272727273; total time=   1.2s\n",
      "[CV] END ...........................alpha=0.9772727272727273; total time=   1.0s\n",
      "[CV] END ...........................alpha=0.9772727272727273; total time=   1.2s\n",
      "[CV] END ...........................alpha=0.9772727272727273; total time=   1.2s\n",
      "[CV] END ...........................alpha=0.9772727272727273; total time=   1.2s\n",
      "[CV] END ...........................alpha=0.9772727272727273; total time=   1.0s\n",
      "[CV] END ...........................alpha=0.9772727272727273; total time=   1.3s\n",
      "[CV] END ...........................alpha=0.9772727272727273; total time=   1.3s\n",
      "[CV] END ...........................alpha=0.9772727272727273; total time=   1.3s\n",
      "[CV] END ...........................alpha=0.9772727272727273; total time=   1.0s\n",
      "[CV] END ...........................alpha=1.0175757575757576; total time=   1.1s\n",
      "[CV] END ...........................alpha=1.0175757575757576; total time=   1.0s\n",
      "[CV] END ...........................alpha=1.0175757575757576; total time=   1.3s\n",
      "[CV] END ...........................alpha=1.0175757575757576; total time=   1.2s\n",
      "[CV] END ...........................alpha=1.0175757575757576; total time=   1.2s\n",
      "[CV] END ...........................alpha=1.0175757575757576; total time=   0.9s\n",
      "[CV] END ...........................alpha=1.0175757575757576; total time=   1.3s\n",
      "[CV] END ...........................alpha=1.0175757575757576; total time=   1.2s\n",
      "[CV] END ...........................alpha=1.0175757575757576; total time=   1.2s\n",
      "[CV] END ...........................alpha=1.0175757575757576; total time=   1.0s\n",
      "[CV] END ...........................alpha=1.0578787878787879; total time=   1.1s\n",
      "[CV] END ...........................alpha=1.0578787878787879; total time=   1.0s\n",
      "[CV] END ...........................alpha=1.0578787878787879; total time=   1.2s\n",
      "[CV] END ...........................alpha=1.0578787878787879; total time=   1.2s\n",
      "[CV] END ...........................alpha=1.0578787878787879; total time=   1.1s\n",
      "[CV] END ...........................alpha=1.0578787878787879; total time=   0.9s\n",
      "[CV] END ...........................alpha=1.0578787878787879; total time=   1.2s\n",
      "[CV] END ...........................alpha=1.0578787878787879; total time=   1.2s\n",
      "[CV] END ...........................alpha=1.0578787878787879; total time=   1.2s\n",
      "[CV] END ...........................alpha=1.0578787878787879; total time=   1.0s\n",
      "[CV] END ...........................alpha=1.0981818181818184; total time=   1.0s\n",
      "[CV] END ...........................alpha=1.0981818181818184; total time=   0.8s\n",
      "[CV] END ...........................alpha=1.0981818181818184; total time=   1.2s\n",
      "[CV] END ...........................alpha=1.0981818181818184; total time=   1.1s\n",
      "[CV] END ...........................alpha=1.0981818181818184; total time=   1.1s\n",
      "[CV] END ...........................alpha=1.0981818181818184; total time=   0.9s\n",
      "[CV] END ...........................alpha=1.0981818181818184; total time=   1.3s\n",
      "[CV] END ...........................alpha=1.0981818181818184; total time=   1.2s\n",
      "[CV] END ...........................alpha=1.0981818181818184; total time=   1.2s\n",
      "[CV] END ...........................alpha=1.0981818181818184; total time=   1.0s\n",
      "[CV] END ...........................alpha=1.1384848484848487; total time=   1.0s\n",
      "[CV] END ...........................alpha=1.1384848484848487; total time=   0.7s\n",
      "[CV] END ...........................alpha=1.1384848484848487; total time=   1.2s\n",
      "[CV] END ...........................alpha=1.1384848484848487; total time=   1.1s\n",
      "[CV] END ...........................alpha=1.1384848484848487; total time=   1.1s\n",
      "[CV] END ...........................alpha=1.1384848484848487; total time=   0.9s\n",
      "[CV] END ...........................alpha=1.1384848484848487; total time=   1.2s\n",
      "[CV] END ...........................alpha=1.1384848484848487; total time=   1.2s\n",
      "[CV] END ...........................alpha=1.1384848484848487; total time=   1.2s\n",
      "[CV] END ...........................alpha=1.1384848484848487; total time=   1.0s\n",
      "[CV] END ............................alpha=1.178787878787879; total time=   0.9s\n",
      "[CV] END ............................alpha=1.178787878787879; total time=   0.8s\n",
      "[CV] END ............................alpha=1.178787878787879; total time=   1.1s\n",
      "[CV] END ............................alpha=1.178787878787879; total time=   1.0s\n",
      "[CV] END ............................alpha=1.178787878787879; total time=   1.1s\n",
      "[CV] END ............................alpha=1.178787878787879; total time=   0.8s\n",
      "[CV] END ............................alpha=1.178787878787879; total time=   1.1s\n",
      "[CV] END ............................alpha=1.178787878787879; total time=   1.1s\n",
      "[CV] END ............................alpha=1.178787878787879; total time=   1.1s\n",
      "[CV] END ............................alpha=1.178787878787879; total time=   0.9s\n",
      "[CV] END ...........................alpha=1.2190909090909092; total time=   0.9s\n",
      "[CV] END ...........................alpha=1.2190909090909092; total time=   0.6s\n",
      "[CV] END ...........................alpha=1.2190909090909092; total time=   1.1s\n",
      "[CV] END ...........................alpha=1.2190909090909092; total time=   1.0s\n",
      "[CV] END ...........................alpha=1.2190909090909092; total time=   1.1s\n"
     ]
    },
    {
     "name": "stdout",
     "output_type": "stream",
     "text": [
      "[CV] END ...........................alpha=1.2190909090909092; total time=   0.8s\n",
      "[CV] END ...........................alpha=1.2190909090909092; total time=   1.1s\n",
      "[CV] END ...........................alpha=1.2190909090909092; total time=   1.3s\n",
      "[CV] END ...........................alpha=1.2190909090909092; total time=   1.1s\n",
      "[CV] END ...........................alpha=1.2190909090909092; total time=   1.0s\n",
      "[CV] END ...........................alpha=1.2593939393939395; total time=   0.9s\n",
      "[CV] END ...........................alpha=1.2593939393939395; total time=   0.7s\n",
      "[CV] END ...........................alpha=1.2593939393939395; total time=   1.1s\n",
      "[CV] END ...........................alpha=1.2593939393939395; total time=   1.0s\n",
      "[CV] END ...........................alpha=1.2593939393939395; total time=   1.1s\n",
      "[CV] END ...........................alpha=1.2593939393939395; total time=   0.7s\n",
      "[CV] END ...........................alpha=1.2593939393939395; total time=   1.1s\n",
      "[CV] END ...........................alpha=1.2593939393939395; total time=   1.1s\n",
      "[CV] END ...........................alpha=1.2593939393939395; total time=   1.1s\n",
      "[CV] END ...........................alpha=1.2593939393939395; total time=   0.9s\n",
      "[CV] END ...........................alpha=1.2996969696969698; total time=   0.8s\n",
      "[CV] END ...........................alpha=1.2996969696969698; total time=   0.7s\n",
      "[CV] END ...........................alpha=1.2996969696969698; total time=   1.1s\n",
      "[CV] END ...........................alpha=1.2996969696969698; total time=   1.0s\n",
      "[CV] END ...........................alpha=1.2996969696969698; total time=   1.0s\n",
      "[CV] END ...........................alpha=1.2996969696969698; total time=   0.7s\n",
      "[CV] END ...........................alpha=1.2996969696969698; total time=   1.1s\n",
      "[CV] END ...........................alpha=1.2996969696969698; total time=   1.1s\n",
      "[CV] END ...........................alpha=1.2996969696969698; total time=   1.1s\n",
      "[CV] END ...........................alpha=1.2996969696969698; total time=   0.9s\n",
      "[CV] END .........................................alpha=1.34; total time=   0.8s\n",
      "[CV] END .........................................alpha=1.34; total time=   0.6s\n",
      "[CV] END .........................................alpha=1.34; total time=   1.0s\n",
      "[CV] END .........................................alpha=1.34; total time=   0.9s\n",
      "[CV] END .........................................alpha=1.34; total time=   0.9s\n",
      "[CV] END .........................................alpha=1.34; total time=   0.6s\n",
      "[CV] END .........................................alpha=1.34; total time=   1.1s\n",
      "[CV] END .........................................alpha=1.34; total time=   1.1s\n",
      "[CV] END .........................................alpha=1.34; total time=   1.0s\n",
      "[CV] END .........................................alpha=1.34; total time=   0.9s\n",
      "[CV] END ...........................alpha=1.3803030303030304; total time=   0.8s\n",
      "[CV] END ...........................alpha=1.3803030303030304; total time=   0.8s\n",
      "[CV] END ...........................alpha=1.3803030303030304; total time=   1.0s\n",
      "[CV] END ...........................alpha=1.3803030303030304; total time=   0.8s\n",
      "[CV] END ...........................alpha=1.3803030303030304; total time=   0.9s\n",
      "[CV] END ...........................alpha=1.3803030303030304; total time=   0.6s\n",
      "[CV] END ...........................alpha=1.3803030303030304; total time=   1.1s\n",
      "[CV] END ...........................alpha=1.3803030303030304; total time=   1.1s\n",
      "[CV] END ...........................alpha=1.3803030303030304; total time=   1.1s\n",
      "[CV] END ...........................alpha=1.3803030303030304; total time=   0.9s\n",
      "[CV] END ...........................alpha=1.4206060606060606; total time=   0.8s\n",
      "[CV] END ...........................alpha=1.4206060606060606; total time=   0.7s\n",
      "[CV] END ...........................alpha=1.4206060606060606; total time=   1.0s\n",
      "[CV] END ...........................alpha=1.4206060606060606; total time=   0.8s\n",
      "[CV] END ...........................alpha=1.4206060606060606; total time=   0.9s\n",
      "[CV] END ...........................alpha=1.4206060606060606; total time=   0.6s\n",
      "[CV] END ...........................alpha=1.4206060606060606; total time=   1.0s\n",
      "[CV] END ...........................alpha=1.4206060606060606; total time=   1.0s\n",
      "[CV] END ...........................alpha=1.4206060606060606; total time=   1.0s\n",
      "[CV] END ...........................alpha=1.4206060606060606; total time=   1.0s\n",
      "[CV] END ............................alpha=1.460909090909091; total time=   0.7s\n",
      "[CV] END ............................alpha=1.460909090909091; total time=   0.6s\n",
      "[CV] END ............................alpha=1.460909090909091; total time=   1.0s\n",
      "[CV] END ............................alpha=1.460909090909091; total time=   0.7s\n",
      "[CV] END ............................alpha=1.460909090909091; total time=   0.9s\n",
      "[CV] END ............................alpha=1.460909090909091; total time=   0.5s\n",
      "[CV] END ............................alpha=1.460909090909091; total time=   0.9s\n",
      "[CV] END ............................alpha=1.460909090909091; total time=   0.9s\n",
      "[CV] END ............................alpha=1.460909090909091; total time=   1.0s\n",
      "[CV] END ............................alpha=1.460909090909091; total time=   0.8s\n",
      "[CV] END ...........................alpha=1.5012121212121212; total time=   0.7s\n",
      "[CV] END ...........................alpha=1.5012121212121212; total time=   0.7s\n",
      "[CV] END ...........................alpha=1.5012121212121212; total time=   0.9s\n",
      "[CV] END ...........................alpha=1.5012121212121212; total time=   0.7s\n",
      "[CV] END ...........................alpha=1.5012121212121212; total time=   0.8s\n",
      "[CV] END ...........................alpha=1.5012121212121212; total time=   0.5s\n",
      "[CV] END ...........................alpha=1.5012121212121212; total time=   0.9s\n",
      "[CV] END ...........................alpha=1.5012121212121212; total time=   0.9s\n",
      "[CV] END ...........................alpha=1.5012121212121212; total time=   1.0s\n",
      "[CV] END ...........................alpha=1.5012121212121212; total time=   0.9s\n",
      "[CV] END ...........................alpha=1.5415151515151517; total time=   0.7s\n",
      "[CV] END ...........................alpha=1.5415151515151517; total time=   0.6s\n",
      "[CV] END ...........................alpha=1.5415151515151517; total time=   0.9s\n",
      "[CV] END ...........................alpha=1.5415151515151517; total time=   0.6s\n",
      "[CV] END ...........................alpha=1.5415151515151517; total time=   0.8s\n",
      "[CV] END ...........................alpha=1.5415151515151517; total time=   0.4s\n",
      "[CV] END ...........................alpha=1.5415151515151517; total time=   0.9s\n",
      "[CV] END ...........................alpha=1.5415151515151517; total time=   1.0s\n",
      "[CV] END ...........................alpha=1.5415151515151517; total time=   1.0s\n",
      "[CV] END ...........................alpha=1.5415151515151517; total time=   0.9s\n",
      "[CV] END ............................alpha=1.581818181818182; total time=   0.6s\n",
      "[CV] END ............................alpha=1.581818181818182; total time=   0.7s\n",
      "[CV] END ............................alpha=1.581818181818182; total time=   0.9s\n",
      "[CV] END ............................alpha=1.581818181818182; total time=   0.5s\n",
      "[CV] END ............................alpha=1.581818181818182; total time=   0.8s\n",
      "[CV] END ............................alpha=1.581818181818182; total time=   0.4s\n",
      "[CV] END ............................alpha=1.581818181818182; total time=   0.8s\n",
      "[CV] END ............................alpha=1.581818181818182; total time=   0.8s\n",
      "[CV] END ............................alpha=1.581818181818182; total time=   0.9s\n",
      "[CV] END ............................alpha=1.581818181818182; total time=   0.9s\n",
      "[CV] END ...........................alpha=1.6221212121212123; total time=   0.7s\n",
      "[CV] END ...........................alpha=1.6221212121212123; total time=   0.6s\n",
      "[CV] END ...........................alpha=1.6221212121212123; total time=   0.9s\n",
      "[CV] END ...........................alpha=1.6221212121212123; total time=   0.5s\n",
      "[CV] END ...........................alpha=1.6221212121212123; total time=   0.7s\n",
      "[CV] END ...........................alpha=1.6221212121212123; total time=   0.5s\n",
      "[CV] END ...........................alpha=1.6221212121212123; total time=   0.8s\n"
     ]
    },
    {
     "name": "stdout",
     "output_type": "stream",
     "text": [
      "[CV] END ...........................alpha=1.6221212121212123; total time=   0.9s\n",
      "[CV] END ...........................alpha=1.6221212121212123; total time=   0.9s\n",
      "[CV] END ...........................alpha=1.6221212121212123; total time=   0.8s\n",
      "[CV] END ...........................alpha=1.6624242424242426; total time=   0.7s\n",
      "[CV] END ...........................alpha=1.6624242424242426; total time=   0.5s\n",
      "[CV] END ...........................alpha=1.6624242424242426; total time=   0.8s\n",
      "[CV] END ...........................alpha=1.6624242424242426; total time=   0.5s\n",
      "[CV] END ...........................alpha=1.6624242424242426; total time=   0.8s\n",
      "[CV] END ...........................alpha=1.6624242424242426; total time=   0.4s\n",
      "[CV] END ...........................alpha=1.6624242424242426; total time=   0.8s\n",
      "[CV] END ...........................alpha=1.6624242424242426; total time=   0.9s\n",
      "[CV] END ...........................alpha=1.6624242424242426; total time=   0.9s\n",
      "[CV] END ...........................alpha=1.6624242424242426; total time=   0.8s\n",
      "[CV] END ...........................alpha=1.7027272727272729; total time=   0.7s\n",
      "[CV] END ...........................alpha=1.7027272727272729; total time=   0.6s\n",
      "[CV] END ...........................alpha=1.7027272727272729; total time=   0.9s\n",
      "[CV] END ...........................alpha=1.7027272727272729; total time=   0.5s\n",
      "[CV] END ...........................alpha=1.7027272727272729; total time=   0.9s\n",
      "[CV] END ...........................alpha=1.7027272727272729; total time=   0.5s\n",
      "[CV] END ...........................alpha=1.7027272727272729; total time=   0.7s\n",
      "[CV] END ...........................alpha=1.7027272727272729; total time=   0.8s\n",
      "[CV] END ...........................alpha=1.7027272727272729; total time=   1.0s\n",
      "[CV] END ...........................alpha=1.7027272727272729; total time=   0.8s\n",
      "[CV] END ...........................alpha=1.7430303030303032; total time=   0.7s\n",
      "[CV] END ...........................alpha=1.7430303030303032; total time=   0.6s\n",
      "[CV] END ...........................alpha=1.7430303030303032; total time=   0.7s\n",
      "[CV] END ...........................alpha=1.7430303030303032; total time=   0.5s\n",
      "[CV] END ...........................alpha=1.7430303030303032; total time=   0.9s\n",
      "[CV] END ...........................alpha=1.7430303030303032; total time=   0.5s\n",
      "[CV] END ...........................alpha=1.7430303030303032; total time=   0.7s\n",
      "[CV] END ...........................alpha=1.7430303030303032; total time=   0.8s\n",
      "[CV] END ...........................alpha=1.7430303030303032; total time=   0.9s\n",
      "[CV] END ...........................alpha=1.7430303030303032; total time=   0.8s\n",
      "[CV] END ...........................alpha=1.7833333333333334; total time=   0.5s\n",
      "[CV] END ...........................alpha=1.7833333333333334; total time=   0.5s\n",
      "[CV] END ...........................alpha=1.7833333333333334; total time=   0.7s\n",
      "[CV] END ...........................alpha=1.7833333333333334; total time=   0.5s\n",
      "[CV] END ...........................alpha=1.7833333333333334; total time=   0.9s\n",
      "[CV] END ...........................alpha=1.7833333333333334; total time=   0.5s\n",
      "[CV] END ...........................alpha=1.7833333333333334; total time=   0.8s\n",
      "[CV] END ...........................alpha=1.7833333333333334; total time=   0.8s\n",
      "[CV] END ...........................alpha=1.7833333333333334; total time=   0.9s\n",
      "[CV] END ...........................alpha=1.7833333333333334; total time=   0.9s\n",
      "[CV] END ...........................alpha=1.8236363636363637; total time=   0.4s\n",
      "[CV] END ...........................alpha=1.8236363636363637; total time=   0.5s\n",
      "[CV] END ...........................alpha=1.8236363636363637; total time=   0.7s\n",
      "[CV] END ...........................alpha=1.8236363636363637; total time=   0.5s\n",
      "[CV] END ...........................alpha=1.8236363636363637; total time=   0.7s\n",
      "[CV] END ...........................alpha=1.8236363636363637; total time=   0.5s\n",
      "[CV] END ...........................alpha=1.8236363636363637; total time=   0.7s\n",
      "[CV] END ...........................alpha=1.8236363636363637; total time=   0.7s\n",
      "[CV] END ...........................alpha=1.8236363636363637; total time=   0.8s\n",
      "[CV] END ...........................alpha=1.8236363636363637; total time=   0.8s\n",
      "[CV] END ............................alpha=1.863939393939394; total time=   0.4s\n",
      "[CV] END ............................alpha=1.863939393939394; total time=   0.6s\n",
      "[CV] END ............................alpha=1.863939393939394; total time=   0.6s\n",
      "[CV] END ............................alpha=1.863939393939394; total time=   0.5s\n",
      "[CV] END ............................alpha=1.863939393939394; total time=   0.6s\n",
      "[CV] END ............................alpha=1.863939393939394; total time=   0.5s\n",
      "[CV] END ............................alpha=1.863939393939394; total time=   0.8s\n",
      "[CV] END ............................alpha=1.863939393939394; total time=   0.7s\n",
      "[CV] END ............................alpha=1.863939393939394; total time=   0.8s\n",
      "[CV] END ............................alpha=1.863939393939394; total time=   1.1s\n",
      "[CV] END ...........................alpha=1.9042424242424243; total time=   0.4s\n",
      "[CV] END ...........................alpha=1.9042424242424243; total time=   0.6s\n",
      "[CV] END ...........................alpha=1.9042424242424243; total time=   0.6s\n",
      "[CV] END ...........................alpha=1.9042424242424243; total time=   0.5s\n",
      "[CV] END ...........................alpha=1.9042424242424243; total time=   0.5s\n",
      "[CV] END ...........................alpha=1.9042424242424243; total time=   0.4s\n",
      "[CV] END ...........................alpha=1.9042424242424243; total time=   0.7s\n",
      "[CV] END ...........................alpha=1.9042424242424243; total time=   0.7s\n",
      "[CV] END ...........................alpha=1.9042424242424243; total time=   0.7s\n",
      "[CV] END ...........................alpha=1.9042424242424243; total time=   0.9s\n",
      "[CV] END ...........................alpha=1.9445454545454546; total time=   0.4s\n",
      "[CV] END ...........................alpha=1.9445454545454546; total time=   0.6s\n",
      "[CV] END ...........................alpha=1.9445454545454546; total time=   0.5s\n",
      "[CV] END ...........................alpha=1.9445454545454546; total time=   0.5s\n",
      "[CV] END ...........................alpha=1.9445454545454546; total time=   0.4s\n",
      "[CV] END ...........................alpha=1.9445454545454546; total time=   0.5s\n",
      "[CV] END ...........................alpha=1.9445454545454546; total time=   0.7s\n",
      "[CV] END ...........................alpha=1.9445454545454546; total time=   0.6s\n",
      "[CV] END ...........................alpha=1.9445454545454546; total time=   0.7s\n",
      "[CV] END ...........................alpha=1.9445454545454546; total time=   0.9s\n",
      "[CV] END ............................alpha=1.984848484848485; total time=   0.4s\n",
      "[CV] END ............................alpha=1.984848484848485; total time=   0.5s\n",
      "[CV] END ............................alpha=1.984848484848485; total time=   0.5s\n",
      "[CV] END ............................alpha=1.984848484848485; total time=   0.5s\n",
      "[CV] END ............................alpha=1.984848484848485; total time=   0.4s\n",
      "[CV] END ............................alpha=1.984848484848485; total time=   0.5s\n",
      "[CV] END ............................alpha=1.984848484848485; total time=   0.7s\n",
      "[CV] END ............................alpha=1.984848484848485; total time=   0.7s\n",
      "[CV] END ............................alpha=1.984848484848485; total time=   0.7s\n",
      "[CV] END ............................alpha=1.984848484848485; total time=   1.9s\n",
      "[CV] END ............................alpha=2.025151515151515; total time=   0.6s\n",
      "[CV] END ............................alpha=2.025151515151515; total time=   0.9s\n",
      "[CV] END ............................alpha=2.025151515151515; total time=   0.5s\n",
      "[CV] END ............................alpha=2.025151515151515; total time=   0.9s\n",
      "[CV] END ............................alpha=2.025151515151515; total time=   0.3s\n",
      "[CV] END ............................alpha=2.025151515151515; total time=   0.5s\n",
      "[CV] END ............................alpha=2.025151515151515; total time=   0.6s\n",
      "[CV] END ............................alpha=2.025151515151515; total time=   0.5s\n",
      "[CV] END ............................alpha=2.025151515151515; total time=   0.7s\n"
     ]
    },
    {
     "name": "stdout",
     "output_type": "stream",
     "text": [
      "[CV] END ............................alpha=2.025151515151515; total time=   1.0s\n",
      "[CV] END ...........................alpha=2.0654545454545454; total time=   0.4s\n",
      "[CV] END ...........................alpha=2.0654545454545454; total time=   0.6s\n",
      "[CV] END ...........................alpha=2.0654545454545454; total time=   0.3s\n",
      "[CV] END ...........................alpha=2.0654545454545454; total time=   0.5s\n",
      "[CV] END ...........................alpha=2.0654545454545454; total time=   0.3s\n",
      "[CV] END ...........................alpha=2.0654545454545454; total time=   0.5s\n",
      "[CV] END ...........................alpha=2.0654545454545454; total time=   0.5s\n",
      "[CV] END ...........................alpha=2.0654545454545454; total time=   0.5s\n",
      "[CV] END ...........................alpha=2.0654545454545454; total time=   0.6s\n",
      "[CV] END ...........................alpha=2.0654545454545454; total time=   1.0s\n",
      "[CV] END ...........................alpha=2.1057575757575755; total time=   0.4s\n",
      "[CV] END ...........................alpha=2.1057575757575755; total time=   0.6s\n",
      "[CV] END ...........................alpha=2.1057575757575755; total time=   0.4s\n",
      "[CV] END ...........................alpha=2.1057575757575755; total time=   0.7s\n",
      "[CV] END ...........................alpha=2.1057575757575755; total time=   0.3s\n",
      "[CV] END ...........................alpha=2.1057575757575755; total time=   0.5s\n",
      "[CV] END ...........................alpha=2.1057575757575755; total time=   0.5s\n",
      "[CV] END ...........................alpha=2.1057575757575755; total time=   0.4s\n",
      "[CV] END ...........................alpha=2.1057575757575755; total time=   1.0s\n",
      "[CV] END ...........................alpha=2.1057575757575755; total time=   1.0s\n",
      "[CV] END ............................alpha=2.146060606060606; total time=   0.4s\n",
      "[CV] END ............................alpha=2.146060606060606; total time=   0.5s\n",
      "[CV] END ............................alpha=2.146060606060606; total time=   0.4s\n",
      "[CV] END ............................alpha=2.146060606060606; total time=   0.4s\n",
      "[CV] END ............................alpha=2.146060606060606; total time=   0.3s\n",
      "[CV] END ............................alpha=2.146060606060606; total time=   0.5s\n",
      "[CV] END ............................alpha=2.146060606060606; total time=   0.5s\n",
      "[CV] END ............................alpha=2.146060606060606; total time=   0.4s\n",
      "[CV] END ............................alpha=2.146060606060606; total time=   0.6s\n",
      "[CV] END ............................alpha=2.146060606060606; total time=   1.1s\n",
      "[CV] END ...........................alpha=2.1863636363636365; total time=   0.4s\n",
      "[CV] END ...........................alpha=2.1863636363636365; total time=   0.5s\n",
      "[CV] END ...........................alpha=2.1863636363636365; total time=   0.4s\n",
      "[CV] END ...........................alpha=2.1863636363636365; total time=   0.4s\n",
      "[CV] END ...........................alpha=2.1863636363636365; total time=   0.3s\n",
      "[CV] END ...........................alpha=2.1863636363636365; total time=   0.5s\n",
      "[CV] END ...........................alpha=2.1863636363636365; total time=   0.5s\n",
      "[CV] END ...........................alpha=2.1863636363636365; total time=   0.4s\n",
      "[CV] END ...........................alpha=2.1863636363636365; total time=   0.6s\n",
      "[CV] END ...........................alpha=2.1863636363636365; total time=   0.9s\n",
      "[CV] END ...........................alpha=2.2266666666666666; total time=   0.4s\n",
      "[CV] END ...........................alpha=2.2266666666666666; total time=   0.6s\n",
      "[CV] END ...........................alpha=2.2266666666666666; total time=   0.4s\n",
      "[CV] END ...........................alpha=2.2266666666666666; total time=   0.5s\n",
      "[CV] END ...........................alpha=2.2266666666666666; total time=   0.3s\n",
      "[CV] END ...........................alpha=2.2266666666666666; total time=   0.5s\n",
      "[CV] END ...........................alpha=2.2266666666666666; total time=   0.5s\n",
      "[CV] END ...........................alpha=2.2266666666666666; total time=   0.4s\n",
      "[CV] END ...........................alpha=2.2266666666666666; total time=   0.5s\n",
      "[CV] END ...........................alpha=2.2266666666666666; total time=   0.9s\n",
      "[CV] END ............................alpha=2.266969696969697; total time=   0.6s\n",
      "[CV] END ............................alpha=2.266969696969697; total time=   0.5s\n",
      "[CV] END ............................alpha=2.266969696969697; total time=   0.4s\n",
      "[CV] END ............................alpha=2.266969696969697; total time=   0.4s\n",
      "[CV] END ............................alpha=2.266969696969697; total time=   0.3s\n",
      "[CV] END ............................alpha=2.266969696969697; total time=   0.4s\n",
      "[CV] END ............................alpha=2.266969696969697; total time=   0.4s\n",
      "[CV] END ............................alpha=2.266969696969697; total time=   0.3s\n",
      "[CV] END ............................alpha=2.266969696969697; total time=   0.5s\n",
      "[CV] END ............................alpha=2.266969696969697; total time=   0.5s\n",
      "[CV] END ............................alpha=2.307272727272727; total time=   0.4s\n",
      "[CV] END ............................alpha=2.307272727272727; total time=   0.5s\n",
      "[CV] END ............................alpha=2.307272727272727; total time=   0.3s\n",
      "[CV] END ............................alpha=2.307272727272727; total time=   0.5s\n",
      "[CV] END ............................alpha=2.307272727272727; total time=   0.2s\n",
      "[CV] END ............................alpha=2.307272727272727; total time=   0.4s\n",
      "[CV] END ............................alpha=2.307272727272727; total time=   0.4s\n",
      "[CV] END ............................alpha=2.307272727272727; total time=   0.3s\n",
      "[CV] END ............................alpha=2.307272727272727; total time=   0.5s\n",
      "[CV] END ............................alpha=2.307272727272727; total time=   0.5s\n",
      "[CV] END ...........................alpha=2.3475757575757576; total time=   0.4s\n",
      "[CV] END ...........................alpha=2.3475757575757576; total time=   0.5s\n",
      "[CV] END ...........................alpha=2.3475757575757576; total time=   0.3s\n",
      "[CV] END ...........................alpha=2.3475757575757576; total time=   0.4s\n",
      "[CV] END ...........................alpha=2.3475757575757576; total time=   0.3s\n",
      "[CV] END ...........................alpha=2.3475757575757576; total time=   0.4s\n",
      "[CV] END ...........................alpha=2.3475757575757576; total time=   0.4s\n",
      "[CV] END ...........................alpha=2.3475757575757576; total time=   0.3s\n",
      "[CV] END ...........................alpha=2.3475757575757576; total time=   0.4s\n",
      "[CV] END ...........................alpha=2.3475757575757576; total time=   0.7s\n",
      "[CV] END ...........................alpha=2.3878787878787877; total time=   0.5s\n",
      "[CV] END ...........................alpha=2.3878787878787877; total time=   0.5s\n",
      "[CV] END ...........................alpha=2.3878787878787877; total time=   0.4s\n",
      "[CV] END ...........................alpha=2.3878787878787877; total time=   0.4s\n",
      "[CV] END ...........................alpha=2.3878787878787877; total time=   0.3s\n",
      "[CV] END ...........................alpha=2.3878787878787877; total time=   0.5s\n",
      "[CV] END ...........................alpha=2.3878787878787877; total time=   0.4s\n",
      "[CV] END ...........................alpha=2.3878787878787877; total time=   0.3s\n",
      "[CV] END ...........................alpha=2.3878787878787877; total time=   0.3s\n",
      "[CV] END ...........................alpha=2.3878787878787877; total time=   0.6s\n",
      "[CV] END ............................alpha=2.428181818181818; total time=   0.4s\n",
      "[CV] END ............................alpha=2.428181818181818; total time=   0.5s\n",
      "[CV] END ............................alpha=2.428181818181818; total time=   0.3s\n",
      "[CV] END ............................alpha=2.428181818181818; total time=   0.4s\n",
      "[CV] END ............................alpha=2.428181818181818; total time=   0.2s\n",
      "[CV] END ............................alpha=2.428181818181818; total time=   0.4s\n",
      "[CV] END ............................alpha=2.428181818181818; total time=   0.4s\n",
      "[CV] END ............................alpha=2.428181818181818; total time=   0.3s\n",
      "[CV] END ............................alpha=2.428181818181818; total time=   0.3s\n",
      "[CV] END ............................alpha=2.428181818181818; total time=   0.5s\n",
      "[CV] END ...........................alpha=2.4684848484848483; total time=   0.4s\n"
     ]
    },
    {
     "name": "stdout",
     "output_type": "stream",
     "text": [
      "[CV] END ...........................alpha=2.4684848484848483; total time=   0.5s\n",
      "[CV] END ...........................alpha=2.4684848484848483; total time=   0.3s\n",
      "[CV] END ...........................alpha=2.4684848484848483; total time=   0.4s\n",
      "[CV] END ...........................alpha=2.4684848484848483; total time=   0.2s\n",
      "[CV] END ...........................alpha=2.4684848484848483; total time=   0.4s\n",
      "[CV] END ...........................alpha=2.4684848484848483; total time=   0.4s\n",
      "[CV] END ...........................alpha=2.4684848484848483; total time=   0.3s\n",
      "[CV] END ...........................alpha=2.4684848484848483; total time=   0.3s\n",
      "[CV] END ...........................alpha=2.4684848484848483; total time=   0.5s\n",
      "[CV] END ............................alpha=2.508787878787879; total time=   0.4s\n",
      "[CV] END ............................alpha=2.508787878787879; total time=   0.5s\n",
      "[CV] END ............................alpha=2.508787878787879; total time=   0.3s\n",
      "[CV] END ............................alpha=2.508787878787879; total time=   0.4s\n",
      "[CV] END ............................alpha=2.508787878787879; total time=   0.2s\n",
      "[CV] END ............................alpha=2.508787878787879; total time=   0.4s\n",
      "[CV] END ............................alpha=2.508787878787879; total time=   0.3s\n",
      "[CV] END ............................alpha=2.508787878787879; total time=   0.3s\n",
      "[CV] END ............................alpha=2.508787878787879; total time=   0.2s\n",
      "[CV] END ............................alpha=2.508787878787879; total time=   0.5s\n",
      "[CV] END ............................alpha=2.549090909090909; total time=   0.4s\n",
      "[CV] END ............................alpha=2.549090909090909; total time=   0.5s\n",
      "[CV] END ............................alpha=2.549090909090909; total time=   0.3s\n",
      "[CV] END ............................alpha=2.549090909090909; total time=   0.3s\n",
      "[CV] END ............................alpha=2.549090909090909; total time=   0.2s\n",
      "[CV] END ............................alpha=2.549090909090909; total time=   0.4s\n",
      "[CV] END ............................alpha=2.549090909090909; total time=   0.3s\n",
      "[CV] END ............................alpha=2.549090909090909; total time=   0.3s\n",
      "[CV] END ............................alpha=2.549090909090909; total time=   0.2s\n",
      "[CV] END ............................alpha=2.549090909090909; total time=   0.4s\n",
      "[CV] END ...........................alpha=2.5893939393939394; total time=   0.6s\n",
      "[CV] END ...........................alpha=2.5893939393939394; total time=   0.5s\n",
      "[CV] END ...........................alpha=2.5893939393939394; total time=   0.3s\n",
      "[CV] END ...........................alpha=2.5893939393939394; total time=   0.3s\n",
      "[CV] END ...........................alpha=2.5893939393939394; total time=   0.2s\n",
      "[CV] END ...........................alpha=2.5893939393939394; total time=   0.4s\n",
      "[CV] END ...........................alpha=2.5893939393939394; total time=   0.3s\n",
      "[CV] END ...........................alpha=2.5893939393939394; total time=   0.3s\n",
      "[CV] END ...........................alpha=2.5893939393939394; total time=   0.3s\n",
      "[CV] END ...........................alpha=2.5893939393939394; total time=   0.4s\n",
      "[CV] END .............................alpha=2.62969696969697; total time=   0.5s\n",
      "[CV] END .............................alpha=2.62969696969697; total time=   0.6s\n",
      "[CV] END .............................alpha=2.62969696969697; total time=   0.4s\n",
      "[CV] END .............................alpha=2.62969696969697; total time=   0.3s\n",
      "[CV] END .............................alpha=2.62969696969697; total time=   0.2s\n",
      "[CV] END .............................alpha=2.62969696969697; total time=   0.4s\n",
      "[CV] END .............................alpha=2.62969696969697; total time=   0.3s\n",
      "[CV] END .............................alpha=2.62969696969697; total time=   0.3s\n",
      "[CV] END .............................alpha=2.62969696969697; total time=   0.3s\n",
      "[CV] END .............................alpha=2.62969696969697; total time=   0.4s\n",
      "[CV] END .........................................alpha=2.67; total time=   0.5s\n",
      "[CV] END .........................................alpha=2.67; total time=   0.4s\n",
      "[CV] END .........................................alpha=2.67; total time=   0.3s\n",
      "[CV] END .........................................alpha=2.67; total time=   0.3s\n",
      "[CV] END .........................................alpha=2.67; total time=   0.2s\n",
      "[CV] END .........................................alpha=2.67; total time=   0.3s\n",
      "[CV] END .........................................alpha=2.67; total time=   0.3s\n",
      "[CV] END .........................................alpha=2.67; total time=   0.2s\n",
      "[CV] END .........................................alpha=2.67; total time=   0.3s\n",
      "[CV] END .........................................alpha=2.67; total time=   0.4s\n",
      "[CV] END ...........................alpha=2.7103030303030304; total time=   0.4s\n",
      "[CV] END ...........................alpha=2.7103030303030304; total time=   0.5s\n",
      "[CV] END ...........................alpha=2.7103030303030304; total time=   0.2s\n",
      "[CV] END ...........................alpha=2.7103030303030304; total time=   0.3s\n",
      "[CV] END ...........................alpha=2.7103030303030304; total time=   0.2s\n",
      "[CV] END ...........................alpha=2.7103030303030304; total time=   0.3s\n",
      "[CV] END ...........................alpha=2.7103030303030304; total time=   0.3s\n",
      "[CV] END ...........................alpha=2.7103030303030304; total time=   0.3s\n",
      "[CV] END ...........................alpha=2.7103030303030304; total time=   0.3s\n",
      "[CV] END ...........................alpha=2.7103030303030304; total time=   0.4s\n",
      "[CV] END ...........................alpha=2.7506060606060605; total time=   0.5s\n",
      "[CV] END ...........................alpha=2.7506060606060605; total time=   0.4s\n",
      "[CV] END ...........................alpha=2.7506060606060605; total time=   0.2s\n",
      "[CV] END ...........................alpha=2.7506060606060605; total time=   0.3s\n",
      "[CV] END ...........................alpha=2.7506060606060605; total time=   0.2s\n",
      "[CV] END ...........................alpha=2.7506060606060605; total time=   0.4s\n",
      "[CV] END ...........................alpha=2.7506060606060605; total time=   0.3s\n",
      "[CV] END ...........................alpha=2.7506060606060605; total time=   0.2s\n",
      "[CV] END ...........................alpha=2.7506060606060605; total time=   0.2s\n",
      "[CV] END ...........................alpha=2.7506060606060605; total time=   0.4s\n",
      "[CV] END ............................alpha=2.790909090909091; total time=   0.4s\n",
      "[CV] END ............................alpha=2.790909090909091; total time=   0.4s\n",
      "[CV] END ............................alpha=2.790909090909091; total time=   0.3s\n",
      "[CV] END ............................alpha=2.790909090909091; total time=   0.3s\n",
      "[CV] END ............................alpha=2.790909090909091; total time=   0.2s\n",
      "[CV] END ............................alpha=2.790909090909091; total time=   0.4s\n",
      "[CV] END ............................alpha=2.790909090909091; total time=   0.3s\n",
      "[CV] END ............................alpha=2.790909090909091; total time=   0.2s\n",
      "[CV] END ............................alpha=2.790909090909091; total time=   0.2s\n",
      "[CV] END ............................alpha=2.790909090909091; total time=   0.4s\n",
      "[CV] END ............................alpha=2.831212121212121; total time=   0.3s\n",
      "[CV] END ............................alpha=2.831212121212121; total time=   0.5s\n",
      "[CV] END ............................alpha=2.831212121212121; total time=   0.2s\n",
      "[CV] END ............................alpha=2.831212121212121; total time=   0.2s\n",
      "[CV] END ............................alpha=2.831212121212121; total time=   0.2s\n",
      "[CV] END ............................alpha=2.831212121212121; total time=   0.4s\n",
      "[CV] END ............................alpha=2.831212121212121; total time=   0.3s\n",
      "[CV] END ............................alpha=2.831212121212121; total time=   0.2s\n",
      "[CV] END ............................alpha=2.831212121212121; total time=   0.3s\n",
      "[CV] END ............................alpha=2.831212121212121; total time=   0.3s\n",
      "[CV] END ...........................alpha=2.8715151515151516; total time=   0.3s\n",
      "[CV] END ...........................alpha=2.8715151515151516; total time=   0.4s\n",
      "[CV] END ...........................alpha=2.8715151515151516; total time=   0.2s\n"
     ]
    },
    {
     "name": "stdout",
     "output_type": "stream",
     "text": [
      "[CV] END ...........................alpha=2.8715151515151516; total time=   0.2s\n",
      "[CV] END ...........................alpha=2.8715151515151516; total time=   0.2s\n",
      "[CV] END ...........................alpha=2.8715151515151516; total time=   0.3s\n",
      "[CV] END ...........................alpha=2.8715151515151516; total time=   0.3s\n",
      "[CV] END ...........................alpha=2.8715151515151516; total time=   0.2s\n",
      "[CV] END ...........................alpha=2.8715151515151516; total time=   0.2s\n",
      "[CV] END ...........................alpha=2.8715151515151516; total time=   0.3s\n",
      "[CV] END ...........................alpha=2.9118181818181816; total time=   0.3s\n",
      "[CV] END ...........................alpha=2.9118181818181816; total time=   0.4s\n",
      "[CV] END ...........................alpha=2.9118181818181816; total time=   0.2s\n",
      "[CV] END ...........................alpha=2.9118181818181816; total time=   0.2s\n",
      "[CV] END ...........................alpha=2.9118181818181816; total time=   0.2s\n",
      "[CV] END ...........................alpha=2.9118181818181816; total time=   0.3s\n",
      "[CV] END ...........................alpha=2.9118181818181816; total time=   0.3s\n",
      "[CV] END ...........................alpha=2.9118181818181816; total time=   0.2s\n",
      "[CV] END ...........................alpha=2.9118181818181816; total time=   0.2s\n",
      "[CV] END ...........................alpha=2.9118181818181816; total time=   0.3s\n",
      "[CV] END ............................alpha=2.952121212121212; total time=   0.3s\n",
      "[CV] END ............................alpha=2.952121212121212; total time=   0.4s\n",
      "[CV] END ............................alpha=2.952121212121212; total time=   0.2s\n",
      "[CV] END ............................alpha=2.952121212121212; total time=   0.2s\n",
      "[CV] END ............................alpha=2.952121212121212; total time=   0.2s\n",
      "[CV] END ............................alpha=2.952121212121212; total time=   0.4s\n",
      "[CV] END ............................alpha=2.952121212121212; total time=   0.3s\n",
      "[CV] END ............................alpha=2.952121212121212; total time=   0.2s\n",
      "[CV] END ............................alpha=2.952121212121212; total time=   0.2s\n",
      "[CV] END ............................alpha=2.952121212121212; total time=   0.3s\n",
      "[CV] END ............................alpha=2.992424242424242; total time=   0.3s\n",
      "[CV] END ............................alpha=2.992424242424242; total time=   0.4s\n",
      "[CV] END ............................alpha=2.992424242424242; total time=   0.2s\n",
      "[CV] END ............................alpha=2.992424242424242; total time=   0.2s\n",
      "[CV] END ............................alpha=2.992424242424242; total time=   0.2s\n",
      "[CV] END ............................alpha=2.992424242424242; total time=   0.3s\n",
      "[CV] END ............................alpha=2.992424242424242; total time=   0.3s\n",
      "[CV] END ............................alpha=2.992424242424242; total time=   0.2s\n",
      "[CV] END ............................alpha=2.992424242424242; total time=   0.2s\n",
      "[CV] END ............................alpha=2.992424242424242; total time=   0.3s\n",
      "[CV] END ...........................alpha=3.0327272727272727; total time=   0.3s\n",
      "[CV] END ...........................alpha=3.0327272727272727; total time=   0.4s\n",
      "[CV] END ...........................alpha=3.0327272727272727; total time=   0.2s\n",
      "[CV] END ...........................alpha=3.0327272727272727; total time=   0.2s\n",
      "[CV] END ...........................alpha=3.0327272727272727; total time=   0.2s\n",
      "[CV] END ...........................alpha=3.0327272727272727; total time=   0.3s\n",
      "[CV] END ...........................alpha=3.0327272727272727; total time=   0.3s\n",
      "[CV] END ...........................alpha=3.0327272727272727; total time=   0.2s\n",
      "[CV] END ...........................alpha=3.0327272727272727; total time=   0.2s\n",
      "[CV] END ...........................alpha=3.0327272727272727; total time=   0.3s\n",
      "[CV] END ...........................alpha=3.0730303030303032; total time=   0.3s\n",
      "[CV] END ...........................alpha=3.0730303030303032; total time=   0.4s\n",
      "[CV] END ...........................alpha=3.0730303030303032; total time=   0.2s\n",
      "[CV] END ...........................alpha=3.0730303030303032; total time=   0.2s\n",
      "[CV] END ...........................alpha=3.0730303030303032; total time=   0.2s\n",
      "[CV] END ...........................alpha=3.0730303030303032; total time=   0.3s\n",
      "[CV] END ...........................alpha=3.0730303030303032; total time=   0.2s\n",
      "[CV] END ...........................alpha=3.0730303030303032; total time=   0.2s\n",
      "[CV] END ...........................alpha=3.0730303030303032; total time=   0.2s\n",
      "[CV] END ...........................alpha=3.0730303030303032; total time=   0.3s\n",
      "[CV] END ...........................alpha=3.1133333333333333; total time=   0.3s\n",
      "[CV] END ...........................alpha=3.1133333333333333; total time=   0.4s\n",
      "[CV] END ...........................alpha=3.1133333333333333; total time=   0.2s\n",
      "[CV] END ...........................alpha=3.1133333333333333; total time=   0.2s\n",
      "[CV] END ...........................alpha=3.1133333333333333; total time=   0.2s\n",
      "[CV] END ...........................alpha=3.1133333333333333; total time=   0.3s\n",
      "[CV] END ...........................alpha=3.1133333333333333; total time=   0.2s\n",
      "[CV] END ...........................alpha=3.1133333333333333; total time=   0.2s\n",
      "[CV] END ...........................alpha=3.1133333333333333; total time=   0.2s\n",
      "[CV] END ...........................alpha=3.1133333333333333; total time=   0.3s\n",
      "[CV] END ............................alpha=3.153636363636364; total time=   0.3s\n",
      "[CV] END ............................alpha=3.153636363636364; total time=   0.3s\n",
      "[CV] END ............................alpha=3.153636363636364; total time=   0.2s\n",
      "[CV] END ............................alpha=3.153636363636364; total time=   0.2s\n",
      "[CV] END ............................alpha=3.153636363636364; total time=   0.2s\n",
      "[CV] END ............................alpha=3.153636363636364; total time=   0.3s\n",
      "[CV] END ............................alpha=3.153636363636364; total time=   0.3s\n",
      "[CV] END ............................alpha=3.153636363636364; total time=   0.2s\n",
      "[CV] END ............................alpha=3.153636363636364; total time=   0.2s\n",
      "[CV] END ............................alpha=3.153636363636364; total time=   0.3s\n",
      "[CV] END ............................alpha=3.193939393939394; total time=   0.3s\n",
      "[CV] END ............................alpha=3.193939393939394; total time=   0.3s\n",
      "[CV] END ............................alpha=3.193939393939394; total time=   0.2s\n",
      "[CV] END ............................alpha=3.193939393939394; total time=   0.2s\n",
      "[CV] END ............................alpha=3.193939393939394; total time=   0.2s\n",
      "[CV] END ............................alpha=3.193939393939394; total time=   0.3s\n",
      "[CV] END ............................alpha=3.193939393939394; total time=   0.2s\n",
      "[CV] END ............................alpha=3.193939393939394; total time=   0.2s\n",
      "[CV] END ............................alpha=3.193939393939394; total time=   0.3s\n",
      "[CV] END ............................alpha=3.193939393939394; total time=   0.3s\n",
      "[CV] END ...........................alpha=3.2342424242424244; total time=   0.3s\n",
      "[CV] END ...........................alpha=3.2342424242424244; total time=   0.4s\n",
      "[CV] END ...........................alpha=3.2342424242424244; total time=   0.2s\n",
      "[CV] END ...........................alpha=3.2342424242424244; total time=   0.2s\n",
      "[CV] END ...........................alpha=3.2342424242424244; total time=   0.2s\n",
      "[CV] END ...........................alpha=3.2342424242424244; total time=   0.3s\n",
      "[CV] END ...........................alpha=3.2342424242424244; total time=   0.2s\n",
      "[CV] END ...........................alpha=3.2342424242424244; total time=   0.2s\n",
      "[CV] END ...........................alpha=3.2342424242424244; total time=   0.2s\n",
      "[CV] END ...........................alpha=3.2342424242424244; total time=   0.4s\n",
      "[CV] END ...........................alpha=3.2745454545454544; total time=   0.3s\n",
      "[CV] END ...........................alpha=3.2745454545454544; total time=   0.3s\n",
      "[CV] END ...........................alpha=3.2745454545454544; total time=   0.2s\n",
      "[CV] END ...........................alpha=3.2745454545454544; total time=   0.2s\n",
      "[CV] END ...........................alpha=3.2745454545454544; total time=   0.2s\n"
     ]
    },
    {
     "name": "stdout",
     "output_type": "stream",
     "text": [
      "[CV] END ...........................alpha=3.2745454545454544; total time=   0.4s\n",
      "[CV] END ...........................alpha=3.2745454545454544; total time=   0.2s\n",
      "[CV] END ...........................alpha=3.2745454545454544; total time=   0.2s\n",
      "[CV] END ...........................alpha=3.2745454545454544; total time=   0.2s\n",
      "[CV] END ...........................alpha=3.2745454545454544; total time=   0.3s\n",
      "[CV] END ............................alpha=3.314848484848485; total time=   0.3s\n",
      "[CV] END ............................alpha=3.314848484848485; total time=   0.3s\n",
      "[CV] END ............................alpha=3.314848484848485; total time=   0.2s\n",
      "[CV] END ............................alpha=3.314848484848485; total time=   0.2s\n",
      "[CV] END ............................alpha=3.314848484848485; total time=   0.2s\n",
      "[CV] END ............................alpha=3.314848484848485; total time=   0.3s\n",
      "[CV] END ............................alpha=3.314848484848485; total time=   0.2s\n",
      "[CV] END ............................alpha=3.314848484848485; total time=   0.2s\n",
      "[CV] END ............................alpha=3.314848484848485; total time=   0.2s\n",
      "[CV] END ............................alpha=3.314848484848485; total time=   0.3s\n",
      "[CV] END ............................alpha=3.355151515151515; total time=   0.3s\n",
      "[CV] END ............................alpha=3.355151515151515; total time=   0.3s\n",
      "[CV] END ............................alpha=3.355151515151515; total time=   0.2s\n",
      "[CV] END ............................alpha=3.355151515151515; total time=   0.2s\n",
      "[CV] END ............................alpha=3.355151515151515; total time=   0.2s\n",
      "[CV] END ............................alpha=3.355151515151515; total time=   0.3s\n",
      "[CV] END ............................alpha=3.355151515151515; total time=   0.2s\n",
      "[CV] END ............................alpha=3.355151515151515; total time=   0.2s\n",
      "[CV] END ............................alpha=3.355151515151515; total time=   0.2s\n",
      "[CV] END ............................alpha=3.355151515151515; total time=   0.3s\n",
      "[CV] END ...........................alpha=3.3954545454545455; total time=   0.3s\n",
      "[CV] END ...........................alpha=3.3954545454545455; total time=   0.3s\n",
      "[CV] END ...........................alpha=3.3954545454545455; total time=   0.2s\n",
      "[CV] END ...........................alpha=3.3954545454545455; total time=   0.2s\n",
      "[CV] END ...........................alpha=3.3954545454545455; total time=   0.2s\n",
      "[CV] END ...........................alpha=3.3954545454545455; total time=   0.3s\n",
      "[CV] END ...........................alpha=3.3954545454545455; total time=   0.2s\n",
      "[CV] END ...........................alpha=3.3954545454545455; total time=   0.2s\n",
      "[CV] END ...........................alpha=3.3954545454545455; total time=   0.2s\n",
      "[CV] END ...........................alpha=3.3954545454545455; total time=   0.3s\n",
      "[CV] END ...........................alpha=3.4357575757575756; total time=   0.3s\n",
      "[CV] END ...........................alpha=3.4357575757575756; total time=   0.4s\n",
      "[CV] END ...........................alpha=3.4357575757575756; total time=   0.2s\n",
      "[CV] END ...........................alpha=3.4357575757575756; total time=   0.2s\n",
      "[CV] END ...........................alpha=3.4357575757575756; total time=   0.2s\n",
      "[CV] END ...........................alpha=3.4357575757575756; total time=   0.3s\n",
      "[CV] END ...........................alpha=3.4357575757575756; total time=   0.2s\n",
      "[CV] END ...........................alpha=3.4357575757575756; total time=   0.2s\n",
      "[CV] END ...........................alpha=3.4357575757575756; total time=   0.2s\n",
      "[CV] END ...........................alpha=3.4357575757575756; total time=   0.3s\n",
      "[CV] END ............................alpha=3.476060606060606; total time=   0.3s\n",
      "[CV] END ............................alpha=3.476060606060606; total time=   0.5s\n",
      "[CV] END ............................alpha=3.476060606060606; total time=   0.2s\n",
      "[CV] END ............................alpha=3.476060606060606; total time=   0.2s\n",
      "[CV] END ............................alpha=3.476060606060606; total time=   0.3s\n",
      "[CV] END ............................alpha=3.476060606060606; total time=   0.3s\n",
      "[CV] END ............................alpha=3.476060606060606; total time=   0.2s\n",
      "[CV] END ............................alpha=3.476060606060606; total time=   0.1s\n",
      "[CV] END ............................alpha=3.476060606060606; total time=   0.2s\n",
      "[CV] END ............................alpha=3.476060606060606; total time=   0.3s\n",
      "[CV] END ...........................alpha=3.5163636363636366; total time=   0.3s\n",
      "[CV] END ...........................alpha=3.5163636363636366; total time=   0.3s\n",
      "[CV] END ...........................alpha=3.5163636363636366; total time=   0.2s\n",
      "[CV] END ...........................alpha=3.5163636363636366; total time=   0.2s\n",
      "[CV] END ...........................alpha=3.5163636363636366; total time=   0.3s\n",
      "[CV] END ...........................alpha=3.5163636363636366; total time=   0.3s\n",
      "[CV] END ...........................alpha=3.5163636363636366; total time=   0.2s\n",
      "[CV] END ...........................alpha=3.5163636363636366; total time=   0.2s\n",
      "[CV] END ...........................alpha=3.5163636363636366; total time=   0.2s\n",
      "[CV] END ...........................alpha=3.5163636363636366; total time=   0.3s\n",
      "[CV] END ...........................alpha=3.5566666666666666; total time=   0.2s\n",
      "[CV] END ...........................alpha=3.5566666666666666; total time=   0.3s\n",
      "[CV] END ...........................alpha=3.5566666666666666; total time=   0.2s\n",
      "[CV] END ...........................alpha=3.5566666666666666; total time=   0.2s\n",
      "[CV] END ...........................alpha=3.5566666666666666; total time=   0.4s\n",
      "[CV] END ...........................alpha=3.5566666666666666; total time=   0.3s\n",
      "[CV] END ...........................alpha=3.5566666666666666; total time=   0.2s\n",
      "[CV] END ...........................alpha=3.5566666666666666; total time=   0.2s\n",
      "[CV] END ...........................alpha=3.5566666666666666; total time=   0.2s\n",
      "[CV] END ...........................alpha=3.5566666666666666; total time=   0.3s\n",
      "[CV] END ............................alpha=3.596969696969697; total time=   0.3s\n",
      "[CV] END ............................alpha=3.596969696969697; total time=   0.3s\n",
      "[CV] END ............................alpha=3.596969696969697; total time=   0.2s\n",
      "[CV] END ............................alpha=3.596969696969697; total time=   0.2s\n",
      "[CV] END ............................alpha=3.596969696969697; total time=   0.3s\n",
      "[CV] END ............................alpha=3.596969696969697; total time=   0.2s\n",
      "[CV] END ............................alpha=3.596969696969697; total time=   0.2s\n",
      "[CV] END ............................alpha=3.596969696969697; total time=   0.1s\n",
      "[CV] END ............................alpha=3.596969696969697; total time=   0.2s\n",
      "[CV] END ............................alpha=3.596969696969697; total time=   0.3s\n",
      "[CV] END ............................alpha=3.637272727272727; total time=   0.3s\n",
      "[CV] END ............................alpha=3.637272727272727; total time=   0.3s\n",
      "[CV] END ............................alpha=3.637272727272727; total time=   0.1s\n",
      "[CV] END ............................alpha=3.637272727272727; total time=   0.2s\n",
      "[CV] END ............................alpha=3.637272727272727; total time=   0.3s\n",
      "[CV] END ............................alpha=3.637272727272727; total time=   0.2s\n",
      "[CV] END ............................alpha=3.637272727272727; total time=   0.2s\n",
      "[CV] END ............................alpha=3.637272727272727; total time=   0.1s\n",
      "[CV] END ............................alpha=3.637272727272727; total time=   0.2s\n",
      "[CV] END ............................alpha=3.637272727272727; total time=   0.3s\n",
      "[CV] END ...........................alpha=3.6775757575757577; total time=   0.2s\n",
      "[CV] END ...........................alpha=3.6775757575757577; total time=   0.3s\n",
      "[CV] END ...........................alpha=3.6775757575757577; total time=   0.2s\n",
      "[CV] END ...........................alpha=3.6775757575757577; total time=   0.2s\n",
      "[CV] END ...........................alpha=3.6775757575757577; total time=   0.2s\n",
      "[CV] END ...........................alpha=3.6775757575757577; total time=   0.2s\n",
      "[CV] END ...........................alpha=3.6775757575757577; total time=   0.2s\n",
      "[CV] END ...........................alpha=3.6775757575757577; total time=   0.2s\n"
     ]
    },
    {
     "name": "stdout",
     "output_type": "stream",
     "text": [
      "[CV] END ...........................alpha=3.6775757575757577; total time=   0.2s\n",
      "[CV] END ...........................alpha=3.6775757575757577; total time=   0.3s\n",
      "[CV] END ............................alpha=3.717878787878788; total time=   0.3s\n",
      "[CV] END ............................alpha=3.717878787878788; total time=   0.3s\n",
      "[CV] END ............................alpha=3.717878787878788; total time=   0.2s\n",
      "[CV] END ............................alpha=3.717878787878788; total time=   0.2s\n",
      "[CV] END ............................alpha=3.717878787878788; total time=   0.2s\n",
      "[CV] END ............................alpha=3.717878787878788; total time=   0.3s\n",
      "[CV] END ............................alpha=3.717878787878788; total time=   0.2s\n",
      "[CV] END ............................alpha=3.717878787878788; total time=   0.2s\n",
      "[CV] END ............................alpha=3.717878787878788; total time=   0.2s\n",
      "[CV] END ............................alpha=3.717878787878788; total time=   0.3s\n",
      "[CV] END ...........................alpha=3.7581818181818183; total time=   0.3s\n",
      "[CV] END ...........................alpha=3.7581818181818183; total time=   0.3s\n",
      "[CV] END ...........................alpha=3.7581818181818183; total time=   0.1s\n",
      "[CV] END ...........................alpha=3.7581818181818183; total time=   0.3s\n",
      "[CV] END ...........................alpha=3.7581818181818183; total time=   0.2s\n",
      "[CV] END ...........................alpha=3.7581818181818183; total time=   0.3s\n",
      "[CV] END ...........................alpha=3.7581818181818183; total time=   0.2s\n",
      "[CV] END ...........................alpha=3.7581818181818183; total time=   0.2s\n",
      "[CV] END ...........................alpha=3.7581818181818183; total time=   0.2s\n",
      "[CV] END ...........................alpha=3.7581818181818183; total time=   0.3s\n",
      "[CV] END ...........................alpha=3.7984848484848484; total time=   0.2s\n",
      "[CV] END ...........................alpha=3.7984848484848484; total time=   0.2s\n",
      "[CV] END ...........................alpha=3.7984848484848484; total time=   0.1s\n",
      "[CV] END ...........................alpha=3.7984848484848484; total time=   0.2s\n",
      "[CV] END ...........................alpha=3.7984848484848484; total time=   0.1s\n",
      "[CV] END ...........................alpha=3.7984848484848484; total time=   0.2s\n",
      "[CV] END ...........................alpha=3.7984848484848484; total time=   0.2s\n",
      "[CV] END ...........................alpha=3.7984848484848484; total time=   0.2s\n",
      "[CV] END ...........................alpha=3.7984848484848484; total time=   0.2s\n",
      "[CV] END ...........................alpha=3.7984848484848484; total time=   0.3s\n",
      "[CV] END ............................alpha=3.838787878787879; total time=   0.2s\n",
      "[CV] END ............................alpha=3.838787878787879; total time=   0.3s\n",
      "[CV] END ............................alpha=3.838787878787879; total time=   0.1s\n",
      "[CV] END ............................alpha=3.838787878787879; total time=   0.2s\n",
      "[CV] END ............................alpha=3.838787878787879; total time=   0.1s\n",
      "[CV] END ............................alpha=3.838787878787879; total time=   0.2s\n",
      "[CV] END ............................alpha=3.838787878787879; total time=   0.2s\n",
      "[CV] END ............................alpha=3.838787878787879; total time=   0.1s\n",
      "[CV] END ............................alpha=3.838787878787879; total time=   0.2s\n",
      "[CV] END ............................alpha=3.838787878787879; total time=   0.3s\n",
      "[CV] END ............................alpha=3.879090909090909; total time=   0.4s\n",
      "[CV] END ............................alpha=3.879090909090909; total time=   0.3s\n",
      "[CV] END ............................alpha=3.879090909090909; total time=   0.2s\n",
      "[CV] END ............................alpha=3.879090909090909; total time=   0.3s\n",
      "[CV] END ............................alpha=3.879090909090909; total time=   0.2s\n",
      "[CV] END ............................alpha=3.879090909090909; total time=   0.3s\n",
      "[CV] END ............................alpha=3.879090909090909; total time=   0.2s\n",
      "[CV] END ............................alpha=3.879090909090909; total time=   0.1s\n",
      "[CV] END ............................alpha=3.879090909090909; total time=   0.2s\n",
      "[CV] END ............................alpha=3.879090909090909; total time=   0.3s\n",
      "[CV] END ...........................alpha=3.9193939393939394; total time=   0.2s\n",
      "[CV] END ...........................alpha=3.9193939393939394; total time=   0.2s\n",
      "[CV] END ...........................alpha=3.9193939393939394; total time=   0.2s\n",
      "[CV] END ...........................alpha=3.9193939393939394; total time=   0.2s\n",
      "[CV] END ...........................alpha=3.9193939393939394; total time=   0.1s\n",
      "[CV] END ...........................alpha=3.9193939393939394; total time=   0.2s\n",
      "[CV] END ...........................alpha=3.9193939393939394; total time=   0.2s\n",
      "[CV] END ...........................alpha=3.9193939393939394; total time=   0.2s\n",
      "[CV] END ...........................alpha=3.9193939393939394; total time=   0.2s\n",
      "[CV] END ...........................alpha=3.9193939393939394; total time=   0.2s\n",
      "[CV] END .............................alpha=3.95969696969697; total time=   0.2s\n",
      "[CV] END .............................alpha=3.95969696969697; total time=   0.2s\n",
      "[CV] END .............................alpha=3.95969696969697; total time=   0.1s\n",
      "[CV] END .............................alpha=3.95969696969697; total time=   0.2s\n",
      "[CV] END .............................alpha=3.95969696969697; total time=   0.1s\n",
      "[CV] END .............................alpha=3.95969696969697; total time=   0.2s\n",
      "[CV] END .............................alpha=3.95969696969697; total time=   0.2s\n",
      "[CV] END .............................alpha=3.95969696969697; total time=   0.2s\n",
      "[CV] END .............................alpha=3.95969696969697; total time=   0.1s\n",
      "[CV] END .............................alpha=3.95969696969697; total time=   0.2s\n",
      "[CV] END ..........................................alpha=4.0; total time=   0.2s\n",
      "[CV] END ..........................................alpha=4.0; total time=   0.2s\n",
      "[CV] END ..........................................alpha=4.0; total time=   0.1s\n",
      "[CV] END ..........................................alpha=4.0; total time=   0.2s\n",
      "[CV] END ..........................................alpha=4.0; total time=   0.1s\n",
      "[CV] END ..........................................alpha=4.0; total time=   0.2s\n",
      "[CV] END ..........................................alpha=4.0; total time=   0.2s\n",
      "[CV] END ..........................................alpha=4.0; total time=   0.1s\n",
      "[CV] END ..........................................alpha=4.0; total time=   0.1s\n",
      "[CV] END ..........................................alpha=4.0; total time=   0.2s\n"
     ]
    },
    {
     "data": {
      "text/html": [
       "<style>#sk-container-id-8 {color: black;background-color: white;}#sk-container-id-8 pre{padding: 0;}#sk-container-id-8 div.sk-toggleable {background-color: white;}#sk-container-id-8 label.sk-toggleable__label {cursor: pointer;display: block;width: 100%;margin-bottom: 0;padding: 0.3em;box-sizing: border-box;text-align: center;}#sk-container-id-8 label.sk-toggleable__label-arrow:before {content: \"▸\";float: left;margin-right: 0.25em;color: #696969;}#sk-container-id-8 label.sk-toggleable__label-arrow:hover:before {color: black;}#sk-container-id-8 div.sk-estimator:hover label.sk-toggleable__label-arrow:before {color: black;}#sk-container-id-8 div.sk-toggleable__content {max-height: 0;max-width: 0;overflow: hidden;text-align: left;background-color: #f0f8ff;}#sk-container-id-8 div.sk-toggleable__content pre {margin: 0.2em;color: black;border-radius: 0.25em;background-color: #f0f8ff;}#sk-container-id-8 input.sk-toggleable__control:checked~div.sk-toggleable__content {max-height: 200px;max-width: 100%;overflow: auto;}#sk-container-id-8 input.sk-toggleable__control:checked~label.sk-toggleable__label-arrow:before {content: \"▾\";}#sk-container-id-8 div.sk-estimator input.sk-toggleable__control:checked~label.sk-toggleable__label {background-color: #d4ebff;}#sk-container-id-8 div.sk-label input.sk-toggleable__control:checked~label.sk-toggleable__label {background-color: #d4ebff;}#sk-container-id-8 input.sk-hidden--visually {border: 0;clip: rect(1px 1px 1px 1px);clip: rect(1px, 1px, 1px, 1px);height: 1px;margin: -1px;overflow: hidden;padding: 0;position: absolute;width: 1px;}#sk-container-id-8 div.sk-estimator {font-family: monospace;background-color: #f0f8ff;border: 1px dotted black;border-radius: 0.25em;box-sizing: border-box;margin-bottom: 0.5em;}#sk-container-id-8 div.sk-estimator:hover {background-color: #d4ebff;}#sk-container-id-8 div.sk-parallel-item::after {content: \"\";width: 100%;border-bottom: 1px solid gray;flex-grow: 1;}#sk-container-id-8 div.sk-label:hover label.sk-toggleable__label {background-color: #d4ebff;}#sk-container-id-8 div.sk-serial::before {content: \"\";position: absolute;border-left: 1px solid gray;box-sizing: border-box;top: 0;bottom: 0;left: 50%;z-index: 0;}#sk-container-id-8 div.sk-serial {display: flex;flex-direction: column;align-items: center;background-color: white;padding-right: 0.2em;padding-left: 0.2em;position: relative;}#sk-container-id-8 div.sk-item {position: relative;z-index: 1;}#sk-container-id-8 div.sk-parallel {display: flex;align-items: stretch;justify-content: center;background-color: white;position: relative;}#sk-container-id-8 div.sk-item::before, #sk-container-id-8 div.sk-parallel-item::before {content: \"\";position: absolute;border-left: 1px solid gray;box-sizing: border-box;top: 0;bottom: 0;left: 50%;z-index: -1;}#sk-container-id-8 div.sk-parallel-item {display: flex;flex-direction: column;z-index: 1;position: relative;background-color: white;}#sk-container-id-8 div.sk-parallel-item:first-child::after {align-self: flex-end;width: 50%;}#sk-container-id-8 div.sk-parallel-item:last-child::after {align-self: flex-start;width: 50%;}#sk-container-id-8 div.sk-parallel-item:only-child::after {width: 0;}#sk-container-id-8 div.sk-dashed-wrapped {border: 1px dashed gray;margin: 0 0.4em 0.5em 0.4em;box-sizing: border-box;padding-bottom: 0.4em;background-color: white;}#sk-container-id-8 div.sk-label label {font-family: monospace;font-weight: bold;display: inline-block;line-height: 1.2em;}#sk-container-id-8 div.sk-label-container {text-align: center;}#sk-container-id-8 div.sk-container {/* jupyter's `normalize.less` sets `[hidden] { display: none; }` but bootstrap.min.css set `[hidden] { display: none !important; }` so we also need the `!important` here to be able to override the default hidden behavior on the sphinx rendered scikit-learn.org. See: https://github.com/scikit-learn/scikit-learn/issues/21755 */display: inline-block !important;position: relative;}#sk-container-id-8 div.sk-text-repr-fallback {display: none;}</style><div id=\"sk-container-id-8\" class=\"sk-top-container\"><div class=\"sk-text-repr-fallback\"><pre>GridSearchCV(cv=10, estimator=Lasso(max_iter=100000),\n",
       "             param_grid={&#x27;alpha&#x27;: array([0.01      , 0.05030303, 0.09060606, 0.13090909, 0.17121212,\n",
       "       0.21151515, 0.25181818, 0.29212121, 0.33242424, 0.37272727,\n",
       "       0.4130303 , 0.45333333, 0.49363636, 0.53393939, 0.57424242,\n",
       "       0.61454545, 0.65484848, 0.69515152, 0.73545455, 0.77575758,\n",
       "       0.81606061, 0.85636364, 0.89666667, 0.9369697 , 0.97727273,\n",
       "       1.01...\n",
       "       2.83121212, 2.87151515, 2.91181818, 2.95212121, 2.99242424,\n",
       "       3.03272727, 3.0730303 , 3.11333333, 3.15363636, 3.19393939,\n",
       "       3.23424242, 3.27454545, 3.31484848, 3.35515152, 3.39545455,\n",
       "       3.43575758, 3.47606061, 3.51636364, 3.55666667, 3.5969697 ,\n",
       "       3.63727273, 3.67757576, 3.71787879, 3.75818182, 3.79848485,\n",
       "       3.83878788, 3.87909091, 3.91939394, 3.95969697, 4.        ])},\n",
       "             scoring=&#x27;neg_root_mean_squared_error&#x27;, verbose=2)</pre><b>In a Jupyter environment, please rerun this cell to show the HTML representation or trust the notebook. <br />On GitHub, the HTML representation is unable to render, please try loading this page with nbviewer.org.</b></div><div class=\"sk-container\" hidden><div class=\"sk-item sk-dashed-wrapped\"><div class=\"sk-label-container\"><div class=\"sk-label sk-toggleable\"><input class=\"sk-toggleable__control sk-hidden--visually\" id=\"sk-estimator-id-12\" type=\"checkbox\" ><label for=\"sk-estimator-id-12\" class=\"sk-toggleable__label sk-toggleable__label-arrow\">GridSearchCV</label><div class=\"sk-toggleable__content\"><pre>GridSearchCV(cv=10, estimator=Lasso(max_iter=100000),\n",
       "             param_grid={&#x27;alpha&#x27;: array([0.01      , 0.05030303, 0.09060606, 0.13090909, 0.17121212,\n",
       "       0.21151515, 0.25181818, 0.29212121, 0.33242424, 0.37272727,\n",
       "       0.4130303 , 0.45333333, 0.49363636, 0.53393939, 0.57424242,\n",
       "       0.61454545, 0.65484848, 0.69515152, 0.73545455, 0.77575758,\n",
       "       0.81606061, 0.85636364, 0.89666667, 0.9369697 , 0.97727273,\n",
       "       1.01...\n",
       "       2.83121212, 2.87151515, 2.91181818, 2.95212121, 2.99242424,\n",
       "       3.03272727, 3.0730303 , 3.11333333, 3.15363636, 3.19393939,\n",
       "       3.23424242, 3.27454545, 3.31484848, 3.35515152, 3.39545455,\n",
       "       3.43575758, 3.47606061, 3.51636364, 3.55666667, 3.5969697 ,\n",
       "       3.63727273, 3.67757576, 3.71787879, 3.75818182, 3.79848485,\n",
       "       3.83878788, 3.87909091, 3.91939394, 3.95969697, 4.        ])},\n",
       "             scoring=&#x27;neg_root_mean_squared_error&#x27;, verbose=2)</pre></div></div></div><div class=\"sk-parallel\"><div class=\"sk-parallel-item\"><div class=\"sk-item\"><div class=\"sk-label-container\"><div class=\"sk-label sk-toggleable\"><input class=\"sk-toggleable__control sk-hidden--visually\" id=\"sk-estimator-id-13\" type=\"checkbox\" ><label for=\"sk-estimator-id-13\" class=\"sk-toggleable__label sk-toggleable__label-arrow\">estimator: Lasso</label><div class=\"sk-toggleable__content\"><pre>Lasso(max_iter=100000)</pre></div></div></div><div class=\"sk-serial\"><div class=\"sk-item\"><div class=\"sk-estimator sk-toggleable\"><input class=\"sk-toggleable__control sk-hidden--visually\" id=\"sk-estimator-id-14\" type=\"checkbox\" ><label for=\"sk-estimator-id-14\" class=\"sk-toggleable__label sk-toggleable__label-arrow\">Lasso</label><div class=\"sk-toggleable__content\"><pre>Lasso(max_iter=100000)</pre></div></div></div></div></div></div></div></div></div></div>"
      ],
      "text/plain": [
       "GridSearchCV(cv=10, estimator=Lasso(max_iter=100000),\n",
       "             param_grid={'alpha': array([0.01      , 0.05030303, 0.09060606, 0.13090909, 0.17121212,\n",
       "       0.21151515, 0.25181818, 0.29212121, 0.33242424, 0.37272727,\n",
       "       0.4130303 , 0.45333333, 0.49363636, 0.53393939, 0.57424242,\n",
       "       0.61454545, 0.65484848, 0.69515152, 0.73545455, 0.77575758,\n",
       "       0.81606061, 0.85636364, 0.89666667, 0.9369697 , 0.97727273,\n",
       "       1.01...\n",
       "       2.83121212, 2.87151515, 2.91181818, 2.95212121, 2.99242424,\n",
       "       3.03272727, 3.0730303 , 3.11333333, 3.15363636, 3.19393939,\n",
       "       3.23424242, 3.27454545, 3.31484848, 3.35515152, 3.39545455,\n",
       "       3.43575758, 3.47606061, 3.51636364, 3.55666667, 3.5969697 ,\n",
       "       3.63727273, 3.67757576, 3.71787879, 3.75818182, 3.79848485,\n",
       "       3.83878788, 3.87909091, 3.91939394, 3.95969697, 4.        ])},\n",
       "             scoring='neg_root_mean_squared_error', verbose=2)"
      ]
     },
     "execution_count": 178,
     "metadata": {},
     "output_type": "execute_result"
    }
   ],
   "source": [
    "grid_lasso.fit(X_train_scaled, y_train)"
   ]
  },
  {
   "cell_type": "code",
   "execution_count": 179,
   "id": "4f804553",
   "metadata": {},
   "outputs": [
    {
     "data": {
      "text/plain": [
       "{'alpha': 4.0}"
      ]
     },
     "execution_count": 179,
     "metadata": {},
     "output_type": "execute_result"
    }
   ],
   "source": [
    "grid_lasso.best_params_"
   ]
  },
  {
   "cell_type": "code",
   "execution_count": 180,
   "id": "f795f05d",
   "metadata": {},
   "outputs": [],
   "source": [
    "y_test_pred_lasso_g = grid_lasso.predict(X_test_scaled)\n",
    "y_train_pred_lasso_g = grid_lasso.predict(X_train_scaled)"
   ]
  },
  {
   "cell_type": "code",
   "execution_count": 181,
   "id": "0d357b0b",
   "metadata": {},
   "outputs": [
    {
     "data": {
      "text/html": [
       "<div>\n",
       "<style scoped>\n",
       "    .dataframe tbody tr th:only-of-type {\n",
       "        vertical-align: middle;\n",
       "    }\n",
       "\n",
       "    .dataframe tbody tr th {\n",
       "        vertical-align: top;\n",
       "    }\n",
       "\n",
       "    .dataframe thead th {\n",
       "        text-align: right;\n",
       "    }\n",
       "</style>\n",
       "<table border=\"1\" class=\"dataframe\">\n",
       "  <thead>\n",
       "    <tr style=\"text-align: right;\">\n",
       "      <th></th>\n",
       "      <th>grid_lasso_train</th>\n",
       "      <th>grid_lasso_test</th>\n",
       "    </tr>\n",
       "  </thead>\n",
       "  <tbody>\n",
       "    <tr>\n",
       "      <th>R2</th>\n",
       "      <td>8.483424e-01</td>\n",
       "      <td>8.482697e-01</td>\n",
       "    </tr>\n",
       "    <tr>\n",
       "      <th>mae</th>\n",
       "      <td>2.763424e+03</td>\n",
       "      <td>3.064867e+03</td>\n",
       "    </tr>\n",
       "    <tr>\n",
       "      <th>mse</th>\n",
       "      <td>2.059370e+07</td>\n",
       "      <td>2.596375e+07</td>\n",
       "    </tr>\n",
       "    <tr>\n",
       "      <th>rmse</th>\n",
       "      <td>4.538028e+03</td>\n",
       "      <td>5.095464e+03</td>\n",
       "    </tr>\n",
       "  </tbody>\n",
       "</table>\n",
       "</div>"
      ],
      "text/plain": [
       "      grid_lasso_train  grid_lasso_test\n",
       "R2        8.483424e-01     8.482697e-01\n",
       "mae       2.763424e+03     3.064867e+03\n",
       "mse       2.059370e+07     2.596375e+07\n",
       "rmse      4.538028e+03     5.095464e+03"
      ]
     },
     "execution_count": 181,
     "metadata": {},
     "output_type": "execute_result"
    }
   ],
   "source": [
    "train_val(y_train, y_train_pred_lasso_g, y_test, y_test_pred_lasso_g, \"grid_lasso\")"
   ]
  },
  {
   "cell_type": "code",
   "execution_count": 184,
   "id": "66d20374",
   "metadata": {},
   "outputs": [
    {
     "data": {
      "text/plain": [
       "0.8482696519736357"
      ]
     },
     "execution_count": 184,
     "metadata": {},
     "output_type": "execute_result"
    }
   ],
   "source": [
    "r2_score_pol_lasso_g=r2_score(y_test, y_test_pred_lasso_g)\n",
    "r2_score_pol_lasso_g"
   ]
  },
  {
   "cell_type": "markdown",
   "id": "a684002a",
   "metadata": {},
   "source": [
    "## 3.Decision Tree"
   ]
  },
  {
   "cell_type": "code",
   "execution_count": 273,
   "id": "3bf6b86c",
   "metadata": {},
   "outputs": [],
   "source": [
    "from sklearn.tree import DecisionTreeClassifier, DecisionTreeRegressor"
   ]
  },
  {
   "cell_type": "code",
   "execution_count": 274,
   "id": "ac32f51f",
   "metadata": {},
   "outputs": [],
   "source": [
    "dt_model=DecisionTreeRegressor(random_state=42)"
   ]
  },
  {
   "cell_type": "code",
   "execution_count": 275,
   "id": "6233dafa",
   "metadata": {},
   "outputs": [
    {
     "data": {
      "text/html": [
       "<style>#sk-container-id-9 {color: black;background-color: white;}#sk-container-id-9 pre{padding: 0;}#sk-container-id-9 div.sk-toggleable {background-color: white;}#sk-container-id-9 label.sk-toggleable__label {cursor: pointer;display: block;width: 100%;margin-bottom: 0;padding: 0.3em;box-sizing: border-box;text-align: center;}#sk-container-id-9 label.sk-toggleable__label-arrow:before {content: \"▸\";float: left;margin-right: 0.25em;color: #696969;}#sk-container-id-9 label.sk-toggleable__label-arrow:hover:before {color: black;}#sk-container-id-9 div.sk-estimator:hover label.sk-toggleable__label-arrow:before {color: black;}#sk-container-id-9 div.sk-toggleable__content {max-height: 0;max-width: 0;overflow: hidden;text-align: left;background-color: #f0f8ff;}#sk-container-id-9 div.sk-toggleable__content pre {margin: 0.2em;color: black;border-radius: 0.25em;background-color: #f0f8ff;}#sk-container-id-9 input.sk-toggleable__control:checked~div.sk-toggleable__content {max-height: 200px;max-width: 100%;overflow: auto;}#sk-container-id-9 input.sk-toggleable__control:checked~label.sk-toggleable__label-arrow:before {content: \"▾\";}#sk-container-id-9 div.sk-estimator input.sk-toggleable__control:checked~label.sk-toggleable__label {background-color: #d4ebff;}#sk-container-id-9 div.sk-label input.sk-toggleable__control:checked~label.sk-toggleable__label {background-color: #d4ebff;}#sk-container-id-9 input.sk-hidden--visually {border: 0;clip: rect(1px 1px 1px 1px);clip: rect(1px, 1px, 1px, 1px);height: 1px;margin: -1px;overflow: hidden;padding: 0;position: absolute;width: 1px;}#sk-container-id-9 div.sk-estimator {font-family: monospace;background-color: #f0f8ff;border: 1px dotted black;border-radius: 0.25em;box-sizing: border-box;margin-bottom: 0.5em;}#sk-container-id-9 div.sk-estimator:hover {background-color: #d4ebff;}#sk-container-id-9 div.sk-parallel-item::after {content: \"\";width: 100%;border-bottom: 1px solid gray;flex-grow: 1;}#sk-container-id-9 div.sk-label:hover label.sk-toggleable__label {background-color: #d4ebff;}#sk-container-id-9 div.sk-serial::before {content: \"\";position: absolute;border-left: 1px solid gray;box-sizing: border-box;top: 0;bottom: 0;left: 50%;z-index: 0;}#sk-container-id-9 div.sk-serial {display: flex;flex-direction: column;align-items: center;background-color: white;padding-right: 0.2em;padding-left: 0.2em;position: relative;}#sk-container-id-9 div.sk-item {position: relative;z-index: 1;}#sk-container-id-9 div.sk-parallel {display: flex;align-items: stretch;justify-content: center;background-color: white;position: relative;}#sk-container-id-9 div.sk-item::before, #sk-container-id-9 div.sk-parallel-item::before {content: \"\";position: absolute;border-left: 1px solid gray;box-sizing: border-box;top: 0;bottom: 0;left: 50%;z-index: -1;}#sk-container-id-9 div.sk-parallel-item {display: flex;flex-direction: column;z-index: 1;position: relative;background-color: white;}#sk-container-id-9 div.sk-parallel-item:first-child::after {align-self: flex-end;width: 50%;}#sk-container-id-9 div.sk-parallel-item:last-child::after {align-self: flex-start;width: 50%;}#sk-container-id-9 div.sk-parallel-item:only-child::after {width: 0;}#sk-container-id-9 div.sk-dashed-wrapped {border: 1px dashed gray;margin: 0 0.4em 0.5em 0.4em;box-sizing: border-box;padding-bottom: 0.4em;background-color: white;}#sk-container-id-9 div.sk-label label {font-family: monospace;font-weight: bold;display: inline-block;line-height: 1.2em;}#sk-container-id-9 div.sk-label-container {text-align: center;}#sk-container-id-9 div.sk-container {/* jupyter's `normalize.less` sets `[hidden] { display: none; }` but bootstrap.min.css set `[hidden] { display: none !important; }` so we also need the `!important` here to be able to override the default hidden behavior on the sphinx rendered scikit-learn.org. See: https://github.com/scikit-learn/scikit-learn/issues/21755 */display: inline-block !important;position: relative;}#sk-container-id-9 div.sk-text-repr-fallback {display: none;}</style><div id=\"sk-container-id-9\" class=\"sk-top-container\"><div class=\"sk-text-repr-fallback\"><pre>DecisionTreeRegressor(random_state=42)</pre><b>In a Jupyter environment, please rerun this cell to show the HTML representation or trust the notebook. <br />On GitHub, the HTML representation is unable to render, please try loading this page with nbviewer.org.</b></div><div class=\"sk-container\" hidden><div class=\"sk-item\"><div class=\"sk-estimator sk-toggleable\"><input class=\"sk-toggleable__control sk-hidden--visually\" id=\"sk-estimator-id-15\" type=\"checkbox\" checked><label for=\"sk-estimator-id-15\" class=\"sk-toggleable__label sk-toggleable__label-arrow\">DecisionTreeRegressor</label><div class=\"sk-toggleable__content\"><pre>DecisionTreeRegressor(random_state=42)</pre></div></div></div></div></div>"
      ],
      "text/plain": [
       "DecisionTreeRegressor(random_state=42)"
      ]
     },
     "execution_count": 275,
     "metadata": {},
     "output_type": "execute_result"
    }
   ],
   "source": [
    "dt_model.fit(X_train, y_train)"
   ]
  },
  {
   "cell_type": "code",
   "execution_count": 277,
   "id": "61c7f092",
   "metadata": {},
   "outputs": [],
   "source": [
    "from sklearn.metrics import r2_score, mean_absolute_error, mean_squared_error"
   ]
  },
  {
   "cell_type": "code",
   "execution_count": 278,
   "id": "f7333d91",
   "metadata": {},
   "outputs": [],
   "source": [
    "def train_val(model, X_train, y_train, X_test, y_test):\n",
    "    \n",
    "    y_pred = model.predict(X_test)\n",
    "    y_train_pred = model.predict(X_train)\n",
    "    \n",
    "    scores = {\"train\": {\"R2\" : r2_score(y_train, y_train_pred),\n",
    "    \"mae\" : mean_absolute_error(y_train, y_train_pred),\n",
    "    \"mse\" : mean_squared_error(y_train, y_train_pred),                          \n",
    "    \"rmse\" : np.sqrt(mean_squared_error(y_train, y_train_pred))},\n",
    "    \n",
    "    \"test\": {\"R2\" : r2_score(y_test, y_pred),\n",
    "    \"mae\" : mean_absolute_error(y_test, y_pred),\n",
    "    \"mse\" : mean_squared_error(y_test, y_pred),\n",
    "    \"rmse\" : np.sqrt(mean_squared_error(y_test, y_pred))}}\n",
    "    \n",
    "    return pd.DataFrame(scores)"
   ]
  },
  {
   "cell_type": "code",
   "execution_count": 279,
   "id": "10d788d8",
   "metadata": {},
   "outputs": [
    {
     "data": {
      "text/html": [
       "<div>\n",
       "<style scoped>\n",
       "    .dataframe tbody tr th:only-of-type {\n",
       "        vertical-align: middle;\n",
       "    }\n",
       "\n",
       "    .dataframe tbody tr th {\n",
       "        vertical-align: top;\n",
       "    }\n",
       "\n",
       "    .dataframe thead th {\n",
       "        text-align: right;\n",
       "    }\n",
       "</style>\n",
       "<table border=\"1\" class=\"dataframe\">\n",
       "  <thead>\n",
       "    <tr style=\"text-align: right;\">\n",
       "      <th></th>\n",
       "      <th>train</th>\n",
       "      <th>test</th>\n",
       "    </tr>\n",
       "  </thead>\n",
       "  <tbody>\n",
       "    <tr>\n",
       "      <th>R2</th>\n",
       "      <td>1.0</td>\n",
       "      <td>7.681042e-01</td>\n",
       "    </tr>\n",
       "    <tr>\n",
       "      <th>mae</th>\n",
       "      <td>0.0</td>\n",
       "      <td>2.881550e+03</td>\n",
       "    </tr>\n",
       "    <tr>\n",
       "      <th>mse</th>\n",
       "      <td>0.0</td>\n",
       "      <td>3.968148e+07</td>\n",
       "    </tr>\n",
       "    <tr>\n",
       "      <th>rmse</th>\n",
       "      <td>0.0</td>\n",
       "      <td>6.299324e+03</td>\n",
       "    </tr>\n",
       "  </tbody>\n",
       "</table>\n",
       "</div>"
      ],
      "text/plain": [
       "      train          test\n",
       "R2      1.0  7.681042e-01\n",
       "mae     0.0  2.881550e+03\n",
       "mse     0.0  3.968148e+07\n",
       "rmse    0.0  6.299324e+03"
      ]
     },
     "execution_count": 279,
     "metadata": {},
     "output_type": "execute_result"
    }
   ],
   "source": [
    "train_val(dt_model, X_train, y_train, X_test, y_test) # overfitting"
   ]
  },
  {
   "cell_type": "markdown",
   "id": "23b9058f",
   "metadata": {},
   "source": [
    "### GridSearch & DT"
   ]
  },
  {
   "cell_type": "code",
   "execution_count": 281,
   "id": "a3e2d4fc",
   "metadata": {},
   "outputs": [],
   "source": [
    "from sklearn.model_selection import GridSearchCV"
   ]
  },
  {
   "cell_type": "code",
   "execution_count": 282,
   "id": "7357102f",
   "metadata": {},
   "outputs": [],
   "source": [
    "dt_model=DecisionTreeRegressor(random_state=42)"
   ]
  },
  {
   "cell_type": "code",
   "execution_count": 283,
   "id": "65db3bf4",
   "metadata": {},
   "outputs": [],
   "source": [
    "param_grid={\"splitter\":[\"best\", \"random\"],\n",
    "            \"max_depth\": [None, 4, 5, 6, 7,8,9,10],\n",
    "              \"min_samples_leaf\": [1, 2, 3, 4, 5, 6,7],\n",
    "             \"min_samples_split\": [2, 3, 5, 6, 7,8,9]}"
   ]
  },
  {
   "cell_type": "code",
   "execution_count": 284,
   "id": "b6d03c1c",
   "metadata": {},
   "outputs": [],
   "source": [
    "grid_model_dt=GridSearchCV(estimator=dt_model,\n",
    "                          param_grid=param_grid,\n",
    "                          scoring='neg_root_mean_squared_error',\n",
    "                          cv=10)"
   ]
  },
  {
   "cell_type": "code",
   "execution_count": 285,
   "id": "a8cbfa19",
   "metadata": {},
   "outputs": [
    {
     "data": {
      "text/html": [
       "<style>#sk-container-id-10 {color: black;background-color: white;}#sk-container-id-10 pre{padding: 0;}#sk-container-id-10 div.sk-toggleable {background-color: white;}#sk-container-id-10 label.sk-toggleable__label {cursor: pointer;display: block;width: 100%;margin-bottom: 0;padding: 0.3em;box-sizing: border-box;text-align: center;}#sk-container-id-10 label.sk-toggleable__label-arrow:before {content: \"▸\";float: left;margin-right: 0.25em;color: #696969;}#sk-container-id-10 label.sk-toggleable__label-arrow:hover:before {color: black;}#sk-container-id-10 div.sk-estimator:hover label.sk-toggleable__label-arrow:before {color: black;}#sk-container-id-10 div.sk-toggleable__content {max-height: 0;max-width: 0;overflow: hidden;text-align: left;background-color: #f0f8ff;}#sk-container-id-10 div.sk-toggleable__content pre {margin: 0.2em;color: black;border-radius: 0.25em;background-color: #f0f8ff;}#sk-container-id-10 input.sk-toggleable__control:checked~div.sk-toggleable__content {max-height: 200px;max-width: 100%;overflow: auto;}#sk-container-id-10 input.sk-toggleable__control:checked~label.sk-toggleable__label-arrow:before {content: \"▾\";}#sk-container-id-10 div.sk-estimator input.sk-toggleable__control:checked~label.sk-toggleable__label {background-color: #d4ebff;}#sk-container-id-10 div.sk-label input.sk-toggleable__control:checked~label.sk-toggleable__label {background-color: #d4ebff;}#sk-container-id-10 input.sk-hidden--visually {border: 0;clip: rect(1px 1px 1px 1px);clip: rect(1px, 1px, 1px, 1px);height: 1px;margin: -1px;overflow: hidden;padding: 0;position: absolute;width: 1px;}#sk-container-id-10 div.sk-estimator {font-family: monospace;background-color: #f0f8ff;border: 1px dotted black;border-radius: 0.25em;box-sizing: border-box;margin-bottom: 0.5em;}#sk-container-id-10 div.sk-estimator:hover {background-color: #d4ebff;}#sk-container-id-10 div.sk-parallel-item::after {content: \"\";width: 100%;border-bottom: 1px solid gray;flex-grow: 1;}#sk-container-id-10 div.sk-label:hover label.sk-toggleable__label {background-color: #d4ebff;}#sk-container-id-10 div.sk-serial::before {content: \"\";position: absolute;border-left: 1px solid gray;box-sizing: border-box;top: 0;bottom: 0;left: 50%;z-index: 0;}#sk-container-id-10 div.sk-serial {display: flex;flex-direction: column;align-items: center;background-color: white;padding-right: 0.2em;padding-left: 0.2em;position: relative;}#sk-container-id-10 div.sk-item {position: relative;z-index: 1;}#sk-container-id-10 div.sk-parallel {display: flex;align-items: stretch;justify-content: center;background-color: white;position: relative;}#sk-container-id-10 div.sk-item::before, #sk-container-id-10 div.sk-parallel-item::before {content: \"\";position: absolute;border-left: 1px solid gray;box-sizing: border-box;top: 0;bottom: 0;left: 50%;z-index: -1;}#sk-container-id-10 div.sk-parallel-item {display: flex;flex-direction: column;z-index: 1;position: relative;background-color: white;}#sk-container-id-10 div.sk-parallel-item:first-child::after {align-self: flex-end;width: 50%;}#sk-container-id-10 div.sk-parallel-item:last-child::after {align-self: flex-start;width: 50%;}#sk-container-id-10 div.sk-parallel-item:only-child::after {width: 0;}#sk-container-id-10 div.sk-dashed-wrapped {border: 1px dashed gray;margin: 0 0.4em 0.5em 0.4em;box-sizing: border-box;padding-bottom: 0.4em;background-color: white;}#sk-container-id-10 div.sk-label label {font-family: monospace;font-weight: bold;display: inline-block;line-height: 1.2em;}#sk-container-id-10 div.sk-label-container {text-align: center;}#sk-container-id-10 div.sk-container {/* jupyter's `normalize.less` sets `[hidden] { display: none; }` but bootstrap.min.css set `[hidden] { display: none !important; }` so we also need the `!important` here to be able to override the default hidden behavior on the sphinx rendered scikit-learn.org. See: https://github.com/scikit-learn/scikit-learn/issues/21755 */display: inline-block !important;position: relative;}#sk-container-id-10 div.sk-text-repr-fallback {display: none;}</style><div id=\"sk-container-id-10\" class=\"sk-top-container\"><div class=\"sk-text-repr-fallback\"><pre>GridSearchCV(cv=10, estimator=DecisionTreeRegressor(random_state=42),\n",
       "             param_grid={&#x27;max_depth&#x27;: [None, 4, 5, 6, 7, 8, 9, 10],\n",
       "                         &#x27;min_samples_leaf&#x27;: [1, 2, 3, 4, 5, 6, 7],\n",
       "                         &#x27;min_samples_split&#x27;: [2, 3, 5, 6, 7, 8, 9],\n",
       "                         &#x27;splitter&#x27;: [&#x27;best&#x27;, &#x27;random&#x27;]},\n",
       "             scoring=&#x27;neg_root_mean_squared_error&#x27;)</pre><b>In a Jupyter environment, please rerun this cell to show the HTML representation or trust the notebook. <br />On GitHub, the HTML representation is unable to render, please try loading this page with nbviewer.org.</b></div><div class=\"sk-container\" hidden><div class=\"sk-item sk-dashed-wrapped\"><div class=\"sk-label-container\"><div class=\"sk-label sk-toggleable\"><input class=\"sk-toggleable__control sk-hidden--visually\" id=\"sk-estimator-id-16\" type=\"checkbox\" ><label for=\"sk-estimator-id-16\" class=\"sk-toggleable__label sk-toggleable__label-arrow\">GridSearchCV</label><div class=\"sk-toggleable__content\"><pre>GridSearchCV(cv=10, estimator=DecisionTreeRegressor(random_state=42),\n",
       "             param_grid={&#x27;max_depth&#x27;: [None, 4, 5, 6, 7, 8, 9, 10],\n",
       "                         &#x27;min_samples_leaf&#x27;: [1, 2, 3, 4, 5, 6, 7],\n",
       "                         &#x27;min_samples_split&#x27;: [2, 3, 5, 6, 7, 8, 9],\n",
       "                         &#x27;splitter&#x27;: [&#x27;best&#x27;, &#x27;random&#x27;]},\n",
       "             scoring=&#x27;neg_root_mean_squared_error&#x27;)</pre></div></div></div><div class=\"sk-parallel\"><div class=\"sk-parallel-item\"><div class=\"sk-item\"><div class=\"sk-label-container\"><div class=\"sk-label sk-toggleable\"><input class=\"sk-toggleable__control sk-hidden--visually\" id=\"sk-estimator-id-17\" type=\"checkbox\" ><label for=\"sk-estimator-id-17\" class=\"sk-toggleable__label sk-toggleable__label-arrow\">estimator: DecisionTreeRegressor</label><div class=\"sk-toggleable__content\"><pre>DecisionTreeRegressor(random_state=42)</pre></div></div></div><div class=\"sk-serial\"><div class=\"sk-item\"><div class=\"sk-estimator sk-toggleable\"><input class=\"sk-toggleable__control sk-hidden--visually\" id=\"sk-estimator-id-18\" type=\"checkbox\" ><label for=\"sk-estimator-id-18\" class=\"sk-toggleable__label sk-toggleable__label-arrow\">DecisionTreeRegressor</label><div class=\"sk-toggleable__content\"><pre>DecisionTreeRegressor(random_state=42)</pre></div></div></div></div></div></div></div></div></div></div>"
      ],
      "text/plain": [
       "GridSearchCV(cv=10, estimator=DecisionTreeRegressor(random_state=42),\n",
       "             param_grid={'max_depth': [None, 4, 5, 6, 7, 8, 9, 10],\n",
       "                         'min_samples_leaf': [1, 2, 3, 4, 5, 6, 7],\n",
       "                         'min_samples_split': [2, 3, 5, 6, 7, 8, 9],\n",
       "                         'splitter': ['best', 'random']},\n",
       "             scoring='neg_root_mean_squared_error')"
      ]
     },
     "execution_count": 285,
     "metadata": {},
     "output_type": "execute_result"
    }
   ],
   "source": [
    "grid_model_dt.fit(X_train,y_train)"
   ]
  },
  {
   "cell_type": "code",
   "execution_count": 289,
   "id": "e16ae3b7",
   "metadata": {},
   "outputs": [],
   "source": [
    "y_test_pred_dt=grid_model_dt.predict(X_test)"
   ]
  },
  {
   "cell_type": "code",
   "execution_count": 286,
   "id": "48f040d4",
   "metadata": {},
   "outputs": [
    {
     "data": {
      "text/html": [
       "<style>#sk-container-id-11 {color: black;background-color: white;}#sk-container-id-11 pre{padding: 0;}#sk-container-id-11 div.sk-toggleable {background-color: white;}#sk-container-id-11 label.sk-toggleable__label {cursor: pointer;display: block;width: 100%;margin-bottom: 0;padding: 0.3em;box-sizing: border-box;text-align: center;}#sk-container-id-11 label.sk-toggleable__label-arrow:before {content: \"▸\";float: left;margin-right: 0.25em;color: #696969;}#sk-container-id-11 label.sk-toggleable__label-arrow:hover:before {color: black;}#sk-container-id-11 div.sk-estimator:hover label.sk-toggleable__label-arrow:before {color: black;}#sk-container-id-11 div.sk-toggleable__content {max-height: 0;max-width: 0;overflow: hidden;text-align: left;background-color: #f0f8ff;}#sk-container-id-11 div.sk-toggleable__content pre {margin: 0.2em;color: black;border-radius: 0.25em;background-color: #f0f8ff;}#sk-container-id-11 input.sk-toggleable__control:checked~div.sk-toggleable__content {max-height: 200px;max-width: 100%;overflow: auto;}#sk-container-id-11 input.sk-toggleable__control:checked~label.sk-toggleable__label-arrow:before {content: \"▾\";}#sk-container-id-11 div.sk-estimator input.sk-toggleable__control:checked~label.sk-toggleable__label {background-color: #d4ebff;}#sk-container-id-11 div.sk-label input.sk-toggleable__control:checked~label.sk-toggleable__label {background-color: #d4ebff;}#sk-container-id-11 input.sk-hidden--visually {border: 0;clip: rect(1px 1px 1px 1px);clip: rect(1px, 1px, 1px, 1px);height: 1px;margin: -1px;overflow: hidden;padding: 0;position: absolute;width: 1px;}#sk-container-id-11 div.sk-estimator {font-family: monospace;background-color: #f0f8ff;border: 1px dotted black;border-radius: 0.25em;box-sizing: border-box;margin-bottom: 0.5em;}#sk-container-id-11 div.sk-estimator:hover {background-color: #d4ebff;}#sk-container-id-11 div.sk-parallel-item::after {content: \"\";width: 100%;border-bottom: 1px solid gray;flex-grow: 1;}#sk-container-id-11 div.sk-label:hover label.sk-toggleable__label {background-color: #d4ebff;}#sk-container-id-11 div.sk-serial::before {content: \"\";position: absolute;border-left: 1px solid gray;box-sizing: border-box;top: 0;bottom: 0;left: 50%;z-index: 0;}#sk-container-id-11 div.sk-serial {display: flex;flex-direction: column;align-items: center;background-color: white;padding-right: 0.2em;padding-left: 0.2em;position: relative;}#sk-container-id-11 div.sk-item {position: relative;z-index: 1;}#sk-container-id-11 div.sk-parallel {display: flex;align-items: stretch;justify-content: center;background-color: white;position: relative;}#sk-container-id-11 div.sk-item::before, #sk-container-id-11 div.sk-parallel-item::before {content: \"\";position: absolute;border-left: 1px solid gray;box-sizing: border-box;top: 0;bottom: 0;left: 50%;z-index: -1;}#sk-container-id-11 div.sk-parallel-item {display: flex;flex-direction: column;z-index: 1;position: relative;background-color: white;}#sk-container-id-11 div.sk-parallel-item:first-child::after {align-self: flex-end;width: 50%;}#sk-container-id-11 div.sk-parallel-item:last-child::after {align-self: flex-start;width: 50%;}#sk-container-id-11 div.sk-parallel-item:only-child::after {width: 0;}#sk-container-id-11 div.sk-dashed-wrapped {border: 1px dashed gray;margin: 0 0.4em 0.5em 0.4em;box-sizing: border-box;padding-bottom: 0.4em;background-color: white;}#sk-container-id-11 div.sk-label label {font-family: monospace;font-weight: bold;display: inline-block;line-height: 1.2em;}#sk-container-id-11 div.sk-label-container {text-align: center;}#sk-container-id-11 div.sk-container {/* jupyter's `normalize.less` sets `[hidden] { display: none; }` but bootstrap.min.css set `[hidden] { display: none !important; }` so we also need the `!important` here to be able to override the default hidden behavior on the sphinx rendered scikit-learn.org. See: https://github.com/scikit-learn/scikit-learn/issues/21755 */display: inline-block !important;position: relative;}#sk-container-id-11 div.sk-text-repr-fallback {display: none;}</style><div id=\"sk-container-id-11\" class=\"sk-top-container\"><div class=\"sk-text-repr-fallback\"><pre>DecisionTreeRegressor(max_depth=4, min_samples_leaf=3, random_state=42)</pre><b>In a Jupyter environment, please rerun this cell to show the HTML representation or trust the notebook. <br />On GitHub, the HTML representation is unable to render, please try loading this page with nbviewer.org.</b></div><div class=\"sk-container\" hidden><div class=\"sk-item\"><div class=\"sk-estimator sk-toggleable\"><input class=\"sk-toggleable__control sk-hidden--visually\" id=\"sk-estimator-id-19\" type=\"checkbox\" checked><label for=\"sk-estimator-id-19\" class=\"sk-toggleable__label sk-toggleable__label-arrow\">DecisionTreeRegressor</label><div class=\"sk-toggleable__content\"><pre>DecisionTreeRegressor(max_depth=4, min_samples_leaf=3, random_state=42)</pre></div></div></div></div></div>"
      ],
      "text/plain": [
       "DecisionTreeRegressor(max_depth=4, min_samples_leaf=3, random_state=42)"
      ]
     },
     "execution_count": 286,
     "metadata": {},
     "output_type": "execute_result"
    }
   ],
   "source": [
    "grid_model_dt.best_estimator_"
   ]
  },
  {
   "cell_type": "code",
   "execution_count": 287,
   "id": "37c23b1d",
   "metadata": {},
   "outputs": [
    {
     "data": {
      "text/html": [
       "<div>\n",
       "<style scoped>\n",
       "    .dataframe tbody tr th:only-of-type {\n",
       "        vertical-align: middle;\n",
       "    }\n",
       "\n",
       "    .dataframe tbody tr th {\n",
       "        vertical-align: top;\n",
       "    }\n",
       "\n",
       "    .dataframe thead th {\n",
       "        text-align: right;\n",
       "    }\n",
       "</style>\n",
       "<table border=\"1\" class=\"dataframe\">\n",
       "  <thead>\n",
       "    <tr style=\"text-align: right;\">\n",
       "      <th></th>\n",
       "      <th>train</th>\n",
       "      <th>test</th>\n",
       "    </tr>\n",
       "  </thead>\n",
       "  <tbody>\n",
       "    <tr>\n",
       "      <th>R2</th>\n",
       "      <td>8.630805e-01</td>\n",
       "      <td>8.663229e-01</td>\n",
       "    </tr>\n",
       "    <tr>\n",
       "      <th>mae</th>\n",
       "      <td>2.441658e+03</td>\n",
       "      <td>2.730234e+03</td>\n",
       "    </tr>\n",
       "    <tr>\n",
       "      <th>mse</th>\n",
       "      <td>1.859239e+07</td>\n",
       "      <td>2.287451e+07</td>\n",
       "    </tr>\n",
       "    <tr>\n",
       "      <th>rmse</th>\n",
       "      <td>4.311889e+03</td>\n",
       "      <td>4.782731e+03</td>\n",
       "    </tr>\n",
       "  </tbody>\n",
       "</table>\n",
       "</div>"
      ],
      "text/plain": [
       "             train          test\n",
       "R2    8.630805e-01  8.663229e-01\n",
       "mae   2.441658e+03  2.730234e+03\n",
       "mse   1.859239e+07  2.287451e+07\n",
       "rmse  4.311889e+03  4.782731e+03"
      ]
     },
     "execution_count": 287,
     "metadata": {},
     "output_type": "execute_result"
    }
   ],
   "source": [
    "train_val(grid_model_dt, X_train, y_train, X_test, y_test)"
   ]
  },
  {
   "cell_type": "code",
   "execution_count": 290,
   "id": "03e17e18",
   "metadata": {},
   "outputs": [
    {
     "data": {
      "text/plain": [
       "0.8663229414145717"
      ]
     },
     "execution_count": 290,
     "metadata": {},
     "output_type": "execute_result"
    }
   ],
   "source": [
    "r2_score_dt_g=r2_score(y_test, y_test_pred_dt)\n",
    "r2_score_dt_g"
   ]
  },
  {
   "cell_type": "markdown",
   "id": "896a6463",
   "metadata": {},
   "source": [
    "### 4.Random Forest"
   ]
  },
  {
   "cell_type": "code",
   "execution_count": 291,
   "id": "37be98bc",
   "metadata": {},
   "outputs": [],
   "source": [
    "from sklearn.ensemble import RandomForestRegressor"
   ]
  },
  {
   "cell_type": "code",
   "execution_count": 292,
   "id": "b6b57501",
   "metadata": {},
   "outputs": [],
   "source": [
    "rf_model=RandomForestRegressor(random_state=42)"
   ]
  },
  {
   "cell_type": "code",
   "execution_count": 293,
   "id": "acdfda87",
   "metadata": {},
   "outputs": [
    {
     "data": {
      "text/html": [
       "<style>#sk-container-id-12 {color: black;background-color: white;}#sk-container-id-12 pre{padding: 0;}#sk-container-id-12 div.sk-toggleable {background-color: white;}#sk-container-id-12 label.sk-toggleable__label {cursor: pointer;display: block;width: 100%;margin-bottom: 0;padding: 0.3em;box-sizing: border-box;text-align: center;}#sk-container-id-12 label.sk-toggleable__label-arrow:before {content: \"▸\";float: left;margin-right: 0.25em;color: #696969;}#sk-container-id-12 label.sk-toggleable__label-arrow:hover:before {color: black;}#sk-container-id-12 div.sk-estimator:hover label.sk-toggleable__label-arrow:before {color: black;}#sk-container-id-12 div.sk-toggleable__content {max-height: 0;max-width: 0;overflow: hidden;text-align: left;background-color: #f0f8ff;}#sk-container-id-12 div.sk-toggleable__content pre {margin: 0.2em;color: black;border-radius: 0.25em;background-color: #f0f8ff;}#sk-container-id-12 input.sk-toggleable__control:checked~div.sk-toggleable__content {max-height: 200px;max-width: 100%;overflow: auto;}#sk-container-id-12 input.sk-toggleable__control:checked~label.sk-toggleable__label-arrow:before {content: \"▾\";}#sk-container-id-12 div.sk-estimator input.sk-toggleable__control:checked~label.sk-toggleable__label {background-color: #d4ebff;}#sk-container-id-12 div.sk-label input.sk-toggleable__control:checked~label.sk-toggleable__label {background-color: #d4ebff;}#sk-container-id-12 input.sk-hidden--visually {border: 0;clip: rect(1px 1px 1px 1px);clip: rect(1px, 1px, 1px, 1px);height: 1px;margin: -1px;overflow: hidden;padding: 0;position: absolute;width: 1px;}#sk-container-id-12 div.sk-estimator {font-family: monospace;background-color: #f0f8ff;border: 1px dotted black;border-radius: 0.25em;box-sizing: border-box;margin-bottom: 0.5em;}#sk-container-id-12 div.sk-estimator:hover {background-color: #d4ebff;}#sk-container-id-12 div.sk-parallel-item::after {content: \"\";width: 100%;border-bottom: 1px solid gray;flex-grow: 1;}#sk-container-id-12 div.sk-label:hover label.sk-toggleable__label {background-color: #d4ebff;}#sk-container-id-12 div.sk-serial::before {content: \"\";position: absolute;border-left: 1px solid gray;box-sizing: border-box;top: 0;bottom: 0;left: 50%;z-index: 0;}#sk-container-id-12 div.sk-serial {display: flex;flex-direction: column;align-items: center;background-color: white;padding-right: 0.2em;padding-left: 0.2em;position: relative;}#sk-container-id-12 div.sk-item {position: relative;z-index: 1;}#sk-container-id-12 div.sk-parallel {display: flex;align-items: stretch;justify-content: center;background-color: white;position: relative;}#sk-container-id-12 div.sk-item::before, #sk-container-id-12 div.sk-parallel-item::before {content: \"\";position: absolute;border-left: 1px solid gray;box-sizing: border-box;top: 0;bottom: 0;left: 50%;z-index: -1;}#sk-container-id-12 div.sk-parallel-item {display: flex;flex-direction: column;z-index: 1;position: relative;background-color: white;}#sk-container-id-12 div.sk-parallel-item:first-child::after {align-self: flex-end;width: 50%;}#sk-container-id-12 div.sk-parallel-item:last-child::after {align-self: flex-start;width: 50%;}#sk-container-id-12 div.sk-parallel-item:only-child::after {width: 0;}#sk-container-id-12 div.sk-dashed-wrapped {border: 1px dashed gray;margin: 0 0.4em 0.5em 0.4em;box-sizing: border-box;padding-bottom: 0.4em;background-color: white;}#sk-container-id-12 div.sk-label label {font-family: monospace;font-weight: bold;display: inline-block;line-height: 1.2em;}#sk-container-id-12 div.sk-label-container {text-align: center;}#sk-container-id-12 div.sk-container {/* jupyter's `normalize.less` sets `[hidden] { display: none; }` but bootstrap.min.css set `[hidden] { display: none !important; }` so we also need the `!important` here to be able to override the default hidden behavior on the sphinx rendered scikit-learn.org. See: https://github.com/scikit-learn/scikit-learn/issues/21755 */display: inline-block !important;position: relative;}#sk-container-id-12 div.sk-text-repr-fallback {display: none;}</style><div id=\"sk-container-id-12\" class=\"sk-top-container\"><div class=\"sk-text-repr-fallback\"><pre>RandomForestRegressor(random_state=42)</pre><b>In a Jupyter environment, please rerun this cell to show the HTML representation or trust the notebook. <br />On GitHub, the HTML representation is unable to render, please try loading this page with nbviewer.org.</b></div><div class=\"sk-container\" hidden><div class=\"sk-item\"><div class=\"sk-estimator sk-toggleable\"><input class=\"sk-toggleable__control sk-hidden--visually\" id=\"sk-estimator-id-20\" type=\"checkbox\" checked><label for=\"sk-estimator-id-20\" class=\"sk-toggleable__label sk-toggleable__label-arrow\">RandomForestRegressor</label><div class=\"sk-toggleable__content\"><pre>RandomForestRegressor(random_state=42)</pre></div></div></div></div></div>"
      ],
      "text/plain": [
       "RandomForestRegressor(random_state=42)"
      ]
     },
     "execution_count": 293,
     "metadata": {},
     "output_type": "execute_result"
    }
   ],
   "source": [
    "rf_model.fit(X_train, y_train)"
   ]
  },
  {
   "cell_type": "code",
   "execution_count": 294,
   "id": "cb1ca91f",
   "metadata": {},
   "outputs": [],
   "source": [
    "y_test_pred_rf=rf_model.predict(X_test)"
   ]
  },
  {
   "cell_type": "code",
   "execution_count": 295,
   "id": "ba09fa37",
   "metadata": {},
   "outputs": [
    {
     "data": {
      "text/html": [
       "<div>\n",
       "<style scoped>\n",
       "    .dataframe tbody tr th:only-of-type {\n",
       "        vertical-align: middle;\n",
       "    }\n",
       "\n",
       "    .dataframe tbody tr th {\n",
       "        vertical-align: top;\n",
       "    }\n",
       "\n",
       "    .dataframe thead th {\n",
       "        text-align: right;\n",
       "    }\n",
       "</style>\n",
       "<table border=\"1\" class=\"dataframe\">\n",
       "  <thead>\n",
       "    <tr style=\"text-align: right;\">\n",
       "      <th></th>\n",
       "      <th>train</th>\n",
       "      <th>test</th>\n",
       "    </tr>\n",
       "  </thead>\n",
       "  <tbody>\n",
       "    <tr>\n",
       "      <th>R2</th>\n",
       "      <td>9.741910e-01</td>\n",
       "      <td>8.633459e-01</td>\n",
       "    </tr>\n",
       "    <tr>\n",
       "      <th>mae</th>\n",
       "      <td>1.023650e+03</td>\n",
       "      <td>2.625360e+03</td>\n",
       "    </tr>\n",
       "    <tr>\n",
       "      <th>mse</th>\n",
       "      <td>3.504625e+06</td>\n",
       "      <td>2.338394e+07</td>\n",
       "    </tr>\n",
       "    <tr>\n",
       "      <th>rmse</th>\n",
       "      <td>1.872064e+03</td>\n",
       "      <td>4.835694e+03</td>\n",
       "    </tr>\n",
       "  </tbody>\n",
       "</table>\n",
       "</div>"
      ],
      "text/plain": [
       "             train          test\n",
       "R2    9.741910e-01  8.633459e-01\n",
       "mae   1.023650e+03  2.625360e+03\n",
       "mse   3.504625e+06  2.338394e+07\n",
       "rmse  1.872064e+03  4.835694e+03"
      ]
     },
     "execution_count": 295,
     "metadata": {},
     "output_type": "execute_result"
    }
   ],
   "source": [
    "train_val(rf_model, X_train, y_train, X_test, y_test)"
   ]
  },
  {
   "cell_type": "markdown",
   "id": "f8319894",
   "metadata": {},
   "source": [
    "### GridSearch & RF"
   ]
  },
  {
   "cell_type": "code",
   "execution_count": 298,
   "id": "71060531",
   "metadata": {},
   "outputs": [],
   "source": [
    "param_grid = {\"n_estimators\":[200, 500],\n",
    "              \"max_depth\": [None, 4, 5, 6, 7,8],\n",
    "              \"min_samples_leaf\": [1, 2, 3, 4],\n",
    "              \"min_samples_split\": [2, 3, 5, 6],\n",
    "              \"max_features\":['auto', X.shape[1]/3, 2, 4]}"
   ]
  },
  {
   "cell_type": "code",
   "execution_count": 299,
   "id": "afb91a48",
   "metadata": {},
   "outputs": [],
   "source": [
    "\n",
    "grid_model = GridSearchCV(estimator=rf_model,\n",
    "                          param_grid=param_grid,\n",
    "                          scoring='neg_root_mean_squared_error',\n",
    "                          cv=10)"
   ]
  },
  {
   "cell_type": "code",
   "execution_count": 300,
   "id": "7f94ed57",
   "metadata": {},
   "outputs": [
    {
     "data": {
      "text/html": [
       "<style>#sk-container-id-13 {color: black;background-color: white;}#sk-container-id-13 pre{padding: 0;}#sk-container-id-13 div.sk-toggleable {background-color: white;}#sk-container-id-13 label.sk-toggleable__label {cursor: pointer;display: block;width: 100%;margin-bottom: 0;padding: 0.3em;box-sizing: border-box;text-align: center;}#sk-container-id-13 label.sk-toggleable__label-arrow:before {content: \"▸\";float: left;margin-right: 0.25em;color: #696969;}#sk-container-id-13 label.sk-toggleable__label-arrow:hover:before {color: black;}#sk-container-id-13 div.sk-estimator:hover label.sk-toggleable__label-arrow:before {color: black;}#sk-container-id-13 div.sk-toggleable__content {max-height: 0;max-width: 0;overflow: hidden;text-align: left;background-color: #f0f8ff;}#sk-container-id-13 div.sk-toggleable__content pre {margin: 0.2em;color: black;border-radius: 0.25em;background-color: #f0f8ff;}#sk-container-id-13 input.sk-toggleable__control:checked~div.sk-toggleable__content {max-height: 200px;max-width: 100%;overflow: auto;}#sk-container-id-13 input.sk-toggleable__control:checked~label.sk-toggleable__label-arrow:before {content: \"▾\";}#sk-container-id-13 div.sk-estimator input.sk-toggleable__control:checked~label.sk-toggleable__label {background-color: #d4ebff;}#sk-container-id-13 div.sk-label input.sk-toggleable__control:checked~label.sk-toggleable__label {background-color: #d4ebff;}#sk-container-id-13 input.sk-hidden--visually {border: 0;clip: rect(1px 1px 1px 1px);clip: rect(1px, 1px, 1px, 1px);height: 1px;margin: -1px;overflow: hidden;padding: 0;position: absolute;width: 1px;}#sk-container-id-13 div.sk-estimator {font-family: monospace;background-color: #f0f8ff;border: 1px dotted black;border-radius: 0.25em;box-sizing: border-box;margin-bottom: 0.5em;}#sk-container-id-13 div.sk-estimator:hover {background-color: #d4ebff;}#sk-container-id-13 div.sk-parallel-item::after {content: \"\";width: 100%;border-bottom: 1px solid gray;flex-grow: 1;}#sk-container-id-13 div.sk-label:hover label.sk-toggleable__label {background-color: #d4ebff;}#sk-container-id-13 div.sk-serial::before {content: \"\";position: absolute;border-left: 1px solid gray;box-sizing: border-box;top: 0;bottom: 0;left: 50%;z-index: 0;}#sk-container-id-13 div.sk-serial {display: flex;flex-direction: column;align-items: center;background-color: white;padding-right: 0.2em;padding-left: 0.2em;position: relative;}#sk-container-id-13 div.sk-item {position: relative;z-index: 1;}#sk-container-id-13 div.sk-parallel {display: flex;align-items: stretch;justify-content: center;background-color: white;position: relative;}#sk-container-id-13 div.sk-item::before, #sk-container-id-13 div.sk-parallel-item::before {content: \"\";position: absolute;border-left: 1px solid gray;box-sizing: border-box;top: 0;bottom: 0;left: 50%;z-index: -1;}#sk-container-id-13 div.sk-parallel-item {display: flex;flex-direction: column;z-index: 1;position: relative;background-color: white;}#sk-container-id-13 div.sk-parallel-item:first-child::after {align-self: flex-end;width: 50%;}#sk-container-id-13 div.sk-parallel-item:last-child::after {align-self: flex-start;width: 50%;}#sk-container-id-13 div.sk-parallel-item:only-child::after {width: 0;}#sk-container-id-13 div.sk-dashed-wrapped {border: 1px dashed gray;margin: 0 0.4em 0.5em 0.4em;box-sizing: border-box;padding-bottom: 0.4em;background-color: white;}#sk-container-id-13 div.sk-label label {font-family: monospace;font-weight: bold;display: inline-block;line-height: 1.2em;}#sk-container-id-13 div.sk-label-container {text-align: center;}#sk-container-id-13 div.sk-container {/* jupyter's `normalize.less` sets `[hidden] { display: none; }` but bootstrap.min.css set `[hidden] { display: none !important; }` so we also need the `!important` here to be able to override the default hidden behavior on the sphinx rendered scikit-learn.org. See: https://github.com/scikit-learn/scikit-learn/issues/21755 */display: inline-block !important;position: relative;}#sk-container-id-13 div.sk-text-repr-fallback {display: none;}</style><div id=\"sk-container-id-13\" class=\"sk-top-container\"><div class=\"sk-text-repr-fallback\"><pre>GridSearchCV(cv=10, estimator=RandomForestRegressor(random_state=42),\n",
       "             param_grid={&#x27;max_depth&#x27;: [None, 4, 5, 6, 7, 8],\n",
       "                         &#x27;max_features&#x27;: [&#x27;auto&#x27;, 2.0, 2, 4],\n",
       "                         &#x27;min_samples_leaf&#x27;: [1, 2, 3, 4],\n",
       "                         &#x27;min_samples_split&#x27;: [2, 3, 5, 6],\n",
       "                         &#x27;n_estimators&#x27;: [200, 500]},\n",
       "             scoring=&#x27;neg_root_mean_squared_error&#x27;)</pre><b>In a Jupyter environment, please rerun this cell to show the HTML representation or trust the notebook. <br />On GitHub, the HTML representation is unable to render, please try loading this page with nbviewer.org.</b></div><div class=\"sk-container\" hidden><div class=\"sk-item sk-dashed-wrapped\"><div class=\"sk-label-container\"><div class=\"sk-label sk-toggleable\"><input class=\"sk-toggleable__control sk-hidden--visually\" id=\"sk-estimator-id-21\" type=\"checkbox\" ><label for=\"sk-estimator-id-21\" class=\"sk-toggleable__label sk-toggleable__label-arrow\">GridSearchCV</label><div class=\"sk-toggleable__content\"><pre>GridSearchCV(cv=10, estimator=RandomForestRegressor(random_state=42),\n",
       "             param_grid={&#x27;max_depth&#x27;: [None, 4, 5, 6, 7, 8],\n",
       "                         &#x27;max_features&#x27;: [&#x27;auto&#x27;, 2.0, 2, 4],\n",
       "                         &#x27;min_samples_leaf&#x27;: [1, 2, 3, 4],\n",
       "                         &#x27;min_samples_split&#x27;: [2, 3, 5, 6],\n",
       "                         &#x27;n_estimators&#x27;: [200, 500]},\n",
       "             scoring=&#x27;neg_root_mean_squared_error&#x27;)</pre></div></div></div><div class=\"sk-parallel\"><div class=\"sk-parallel-item\"><div class=\"sk-item\"><div class=\"sk-label-container\"><div class=\"sk-label sk-toggleable\"><input class=\"sk-toggleable__control sk-hidden--visually\" id=\"sk-estimator-id-22\" type=\"checkbox\" ><label for=\"sk-estimator-id-22\" class=\"sk-toggleable__label sk-toggleable__label-arrow\">estimator: RandomForestRegressor</label><div class=\"sk-toggleable__content\"><pre>RandomForestRegressor(random_state=42)</pre></div></div></div><div class=\"sk-serial\"><div class=\"sk-item\"><div class=\"sk-estimator sk-toggleable\"><input class=\"sk-toggleable__control sk-hidden--visually\" id=\"sk-estimator-id-23\" type=\"checkbox\" ><label for=\"sk-estimator-id-23\" class=\"sk-toggleable__label sk-toggleable__label-arrow\">RandomForestRegressor</label><div class=\"sk-toggleable__content\"><pre>RandomForestRegressor(random_state=42)</pre></div></div></div></div></div></div></div></div></div></div>"
      ],
      "text/plain": [
       "GridSearchCV(cv=10, estimator=RandomForestRegressor(random_state=42),\n",
       "             param_grid={'max_depth': [None, 4, 5, 6, 7, 8],\n",
       "                         'max_features': ['auto', 2.0, 2, 4],\n",
       "                         'min_samples_leaf': [1, 2, 3, 4],\n",
       "                         'min_samples_split': [2, 3, 5, 6],\n",
       "                         'n_estimators': [200, 500]},\n",
       "             scoring='neg_root_mean_squared_error')"
      ]
     },
     "execution_count": 300,
     "metadata": {},
     "output_type": "execute_result"
    }
   ],
   "source": [
    "grid_model.fit(X_train, y_train)"
   ]
  },
  {
   "cell_type": "code",
   "execution_count": 301,
   "id": "21b92f72",
   "metadata": {},
   "outputs": [
    {
     "data": {
      "text/html": [
       "<style>#sk-container-id-14 {color: black;background-color: white;}#sk-container-id-14 pre{padding: 0;}#sk-container-id-14 div.sk-toggleable {background-color: white;}#sk-container-id-14 label.sk-toggleable__label {cursor: pointer;display: block;width: 100%;margin-bottom: 0;padding: 0.3em;box-sizing: border-box;text-align: center;}#sk-container-id-14 label.sk-toggleable__label-arrow:before {content: \"▸\";float: left;margin-right: 0.25em;color: #696969;}#sk-container-id-14 label.sk-toggleable__label-arrow:hover:before {color: black;}#sk-container-id-14 div.sk-estimator:hover label.sk-toggleable__label-arrow:before {color: black;}#sk-container-id-14 div.sk-toggleable__content {max-height: 0;max-width: 0;overflow: hidden;text-align: left;background-color: #f0f8ff;}#sk-container-id-14 div.sk-toggleable__content pre {margin: 0.2em;color: black;border-radius: 0.25em;background-color: #f0f8ff;}#sk-container-id-14 input.sk-toggleable__control:checked~div.sk-toggleable__content {max-height: 200px;max-width: 100%;overflow: auto;}#sk-container-id-14 input.sk-toggleable__control:checked~label.sk-toggleable__label-arrow:before {content: \"▾\";}#sk-container-id-14 div.sk-estimator input.sk-toggleable__control:checked~label.sk-toggleable__label {background-color: #d4ebff;}#sk-container-id-14 div.sk-label input.sk-toggleable__control:checked~label.sk-toggleable__label {background-color: #d4ebff;}#sk-container-id-14 input.sk-hidden--visually {border: 0;clip: rect(1px 1px 1px 1px);clip: rect(1px, 1px, 1px, 1px);height: 1px;margin: -1px;overflow: hidden;padding: 0;position: absolute;width: 1px;}#sk-container-id-14 div.sk-estimator {font-family: monospace;background-color: #f0f8ff;border: 1px dotted black;border-radius: 0.25em;box-sizing: border-box;margin-bottom: 0.5em;}#sk-container-id-14 div.sk-estimator:hover {background-color: #d4ebff;}#sk-container-id-14 div.sk-parallel-item::after {content: \"\";width: 100%;border-bottom: 1px solid gray;flex-grow: 1;}#sk-container-id-14 div.sk-label:hover label.sk-toggleable__label {background-color: #d4ebff;}#sk-container-id-14 div.sk-serial::before {content: \"\";position: absolute;border-left: 1px solid gray;box-sizing: border-box;top: 0;bottom: 0;left: 50%;z-index: 0;}#sk-container-id-14 div.sk-serial {display: flex;flex-direction: column;align-items: center;background-color: white;padding-right: 0.2em;padding-left: 0.2em;position: relative;}#sk-container-id-14 div.sk-item {position: relative;z-index: 1;}#sk-container-id-14 div.sk-parallel {display: flex;align-items: stretch;justify-content: center;background-color: white;position: relative;}#sk-container-id-14 div.sk-item::before, #sk-container-id-14 div.sk-parallel-item::before {content: \"\";position: absolute;border-left: 1px solid gray;box-sizing: border-box;top: 0;bottom: 0;left: 50%;z-index: -1;}#sk-container-id-14 div.sk-parallel-item {display: flex;flex-direction: column;z-index: 1;position: relative;background-color: white;}#sk-container-id-14 div.sk-parallel-item:first-child::after {align-self: flex-end;width: 50%;}#sk-container-id-14 div.sk-parallel-item:last-child::after {align-self: flex-start;width: 50%;}#sk-container-id-14 div.sk-parallel-item:only-child::after {width: 0;}#sk-container-id-14 div.sk-dashed-wrapped {border: 1px dashed gray;margin: 0 0.4em 0.5em 0.4em;box-sizing: border-box;padding-bottom: 0.4em;background-color: white;}#sk-container-id-14 div.sk-label label {font-family: monospace;font-weight: bold;display: inline-block;line-height: 1.2em;}#sk-container-id-14 div.sk-label-container {text-align: center;}#sk-container-id-14 div.sk-container {/* jupyter's `normalize.less` sets `[hidden] { display: none; }` but bootstrap.min.css set `[hidden] { display: none !important; }` so we also need the `!important` here to be able to override the default hidden behavior on the sphinx rendered scikit-learn.org. See: https://github.com/scikit-learn/scikit-learn/issues/21755 */display: inline-block !important;position: relative;}#sk-container-id-14 div.sk-text-repr-fallback {display: none;}</style><div id=\"sk-container-id-14\" class=\"sk-top-container\"><div class=\"sk-text-repr-fallback\"><pre>RandomForestRegressor(max_depth=5, max_features=4, min_samples_leaf=4,\n",
       "                      n_estimators=500, random_state=42)</pre><b>In a Jupyter environment, please rerun this cell to show the HTML representation or trust the notebook. <br />On GitHub, the HTML representation is unable to render, please try loading this page with nbviewer.org.</b></div><div class=\"sk-container\" hidden><div class=\"sk-item\"><div class=\"sk-estimator sk-toggleable\"><input class=\"sk-toggleable__control sk-hidden--visually\" id=\"sk-estimator-id-24\" type=\"checkbox\" checked><label for=\"sk-estimator-id-24\" class=\"sk-toggleable__label sk-toggleable__label-arrow\">RandomForestRegressor</label><div class=\"sk-toggleable__content\"><pre>RandomForestRegressor(max_depth=5, max_features=4, min_samples_leaf=4,\n",
       "                      n_estimators=500, random_state=42)</pre></div></div></div></div></div>"
      ],
      "text/plain": [
       "RandomForestRegressor(max_depth=5, max_features=4, min_samples_leaf=4,\n",
       "                      n_estimators=500, random_state=42)"
      ]
     },
     "execution_count": 301,
     "metadata": {},
     "output_type": "execute_result"
    }
   ],
   "source": [
    "grid_model.best_estimator_"
   ]
  },
  {
   "cell_type": "code",
   "execution_count": 302,
   "id": "8cceb0bf",
   "metadata": {},
   "outputs": [],
   "source": [
    "y_test_pred_rf_g=grid_model.predict(X_test)"
   ]
  },
  {
   "cell_type": "code",
   "execution_count": 303,
   "id": "97116645",
   "metadata": {},
   "outputs": [
    {
     "data": {
      "text/html": [
       "<div>\n",
       "<style scoped>\n",
       "    .dataframe tbody tr th:only-of-type {\n",
       "        vertical-align: middle;\n",
       "    }\n",
       "\n",
       "    .dataframe tbody tr th {\n",
       "        vertical-align: top;\n",
       "    }\n",
       "\n",
       "    .dataframe thead th {\n",
       "        text-align: right;\n",
       "    }\n",
       "</style>\n",
       "<table border=\"1\" class=\"dataframe\">\n",
       "  <thead>\n",
       "    <tr style=\"text-align: right;\">\n",
       "      <th></th>\n",
       "      <th>train</th>\n",
       "      <th>test</th>\n",
       "    </tr>\n",
       "  </thead>\n",
       "  <tbody>\n",
       "    <tr>\n",
       "      <th>R2</th>\n",
       "      <td>8.793147e-01</td>\n",
       "      <td>8.758973e-01</td>\n",
       "    </tr>\n",
       "    <tr>\n",
       "      <th>mae</th>\n",
       "      <td>2.220655e+03</td>\n",
       "      <td>2.539146e+03</td>\n",
       "    </tr>\n",
       "    <tr>\n",
       "      <th>mse</th>\n",
       "      <td>1.638795e+07</td>\n",
       "      <td>2.123616e+07</td>\n",
       "    </tr>\n",
       "    <tr>\n",
       "      <th>rmse</th>\n",
       "      <td>4.048203e+03</td>\n",
       "      <td>4.608271e+03</td>\n",
       "    </tr>\n",
       "  </tbody>\n",
       "</table>\n",
       "</div>"
      ],
      "text/plain": [
       "             train          test\n",
       "R2    8.793147e-01  8.758973e-01\n",
       "mae   2.220655e+03  2.539146e+03\n",
       "mse   1.638795e+07  2.123616e+07\n",
       "rmse  4.048203e+03  4.608271e+03"
      ]
     },
     "execution_count": 303,
     "metadata": {},
     "output_type": "execute_result"
    }
   ],
   "source": [
    "train_val(grid_model, X_train, y_train, X_test, y_test)"
   ]
  },
  {
   "cell_type": "code",
   "execution_count": 304,
   "id": "8d0dde71",
   "metadata": {},
   "outputs": [
    {
     "data": {
      "text/plain": [
       "0.8758973404700698"
      ]
     },
     "execution_count": 304,
     "metadata": {},
     "output_type": "execute_result"
    }
   ],
   "source": [
    "r2_score_rf_g=r2_score(y_test, y_test_pred_rf_g)\n",
    "r2_score_rf_g"
   ]
  },
  {
   "cell_type": "markdown",
   "id": "7ddfe23a",
   "metadata": {},
   "source": [
    "### 5.AdaBoosting"
   ]
  },
  {
   "cell_type": "code",
   "execution_count": 305,
   "id": "8c87fdfa",
   "metadata": {},
   "outputs": [],
   "source": [
    "from sklearn.ensemble import AdaBoostRegressor"
   ]
  },
  {
   "cell_type": "code",
   "execution_count": 306,
   "id": "6101aea3",
   "metadata": {},
   "outputs": [],
   "source": [
    "model_ada=AdaBoostRegressor(random_state=42, n_estimators=50)"
   ]
  },
  {
   "cell_type": "code",
   "execution_count": 307,
   "id": "e2ecb443",
   "metadata": {},
   "outputs": [
    {
     "data": {
      "text/html": [
       "<style>#sk-container-id-15 {color: black;background-color: white;}#sk-container-id-15 pre{padding: 0;}#sk-container-id-15 div.sk-toggleable {background-color: white;}#sk-container-id-15 label.sk-toggleable__label {cursor: pointer;display: block;width: 100%;margin-bottom: 0;padding: 0.3em;box-sizing: border-box;text-align: center;}#sk-container-id-15 label.sk-toggleable__label-arrow:before {content: \"▸\";float: left;margin-right: 0.25em;color: #696969;}#sk-container-id-15 label.sk-toggleable__label-arrow:hover:before {color: black;}#sk-container-id-15 div.sk-estimator:hover label.sk-toggleable__label-arrow:before {color: black;}#sk-container-id-15 div.sk-toggleable__content {max-height: 0;max-width: 0;overflow: hidden;text-align: left;background-color: #f0f8ff;}#sk-container-id-15 div.sk-toggleable__content pre {margin: 0.2em;color: black;border-radius: 0.25em;background-color: #f0f8ff;}#sk-container-id-15 input.sk-toggleable__control:checked~div.sk-toggleable__content {max-height: 200px;max-width: 100%;overflow: auto;}#sk-container-id-15 input.sk-toggleable__control:checked~label.sk-toggleable__label-arrow:before {content: \"▾\";}#sk-container-id-15 div.sk-estimator input.sk-toggleable__control:checked~label.sk-toggleable__label {background-color: #d4ebff;}#sk-container-id-15 div.sk-label input.sk-toggleable__control:checked~label.sk-toggleable__label {background-color: #d4ebff;}#sk-container-id-15 input.sk-hidden--visually {border: 0;clip: rect(1px 1px 1px 1px);clip: rect(1px, 1px, 1px, 1px);height: 1px;margin: -1px;overflow: hidden;padding: 0;position: absolute;width: 1px;}#sk-container-id-15 div.sk-estimator {font-family: monospace;background-color: #f0f8ff;border: 1px dotted black;border-radius: 0.25em;box-sizing: border-box;margin-bottom: 0.5em;}#sk-container-id-15 div.sk-estimator:hover {background-color: #d4ebff;}#sk-container-id-15 div.sk-parallel-item::after {content: \"\";width: 100%;border-bottom: 1px solid gray;flex-grow: 1;}#sk-container-id-15 div.sk-label:hover label.sk-toggleable__label {background-color: #d4ebff;}#sk-container-id-15 div.sk-serial::before {content: \"\";position: absolute;border-left: 1px solid gray;box-sizing: border-box;top: 0;bottom: 0;left: 50%;z-index: 0;}#sk-container-id-15 div.sk-serial {display: flex;flex-direction: column;align-items: center;background-color: white;padding-right: 0.2em;padding-left: 0.2em;position: relative;}#sk-container-id-15 div.sk-item {position: relative;z-index: 1;}#sk-container-id-15 div.sk-parallel {display: flex;align-items: stretch;justify-content: center;background-color: white;position: relative;}#sk-container-id-15 div.sk-item::before, #sk-container-id-15 div.sk-parallel-item::before {content: \"\";position: absolute;border-left: 1px solid gray;box-sizing: border-box;top: 0;bottom: 0;left: 50%;z-index: -1;}#sk-container-id-15 div.sk-parallel-item {display: flex;flex-direction: column;z-index: 1;position: relative;background-color: white;}#sk-container-id-15 div.sk-parallel-item:first-child::after {align-self: flex-end;width: 50%;}#sk-container-id-15 div.sk-parallel-item:last-child::after {align-self: flex-start;width: 50%;}#sk-container-id-15 div.sk-parallel-item:only-child::after {width: 0;}#sk-container-id-15 div.sk-dashed-wrapped {border: 1px dashed gray;margin: 0 0.4em 0.5em 0.4em;box-sizing: border-box;padding-bottom: 0.4em;background-color: white;}#sk-container-id-15 div.sk-label label {font-family: monospace;font-weight: bold;display: inline-block;line-height: 1.2em;}#sk-container-id-15 div.sk-label-container {text-align: center;}#sk-container-id-15 div.sk-container {/* jupyter's `normalize.less` sets `[hidden] { display: none; }` but bootstrap.min.css set `[hidden] { display: none !important; }` so we also need the `!important` here to be able to override the default hidden behavior on the sphinx rendered scikit-learn.org. See: https://github.com/scikit-learn/scikit-learn/issues/21755 */display: inline-block !important;position: relative;}#sk-container-id-15 div.sk-text-repr-fallback {display: none;}</style><div id=\"sk-container-id-15\" class=\"sk-top-container\"><div class=\"sk-text-repr-fallback\"><pre>AdaBoostRegressor(random_state=42)</pre><b>In a Jupyter environment, please rerun this cell to show the HTML representation or trust the notebook. <br />On GitHub, the HTML representation is unable to render, please try loading this page with nbviewer.org.</b></div><div class=\"sk-container\" hidden><div class=\"sk-item\"><div class=\"sk-estimator sk-toggleable\"><input class=\"sk-toggleable__control sk-hidden--visually\" id=\"sk-estimator-id-25\" type=\"checkbox\" checked><label for=\"sk-estimator-id-25\" class=\"sk-toggleable__label sk-toggleable__label-arrow\">AdaBoostRegressor</label><div class=\"sk-toggleable__content\"><pre>AdaBoostRegressor(random_state=42)</pre></div></div></div></div></div>"
      ],
      "text/plain": [
       "AdaBoostRegressor(random_state=42)"
      ]
     },
     "execution_count": 307,
     "metadata": {},
     "output_type": "execute_result"
    }
   ],
   "source": [
    "model_ada.fit(X_train, y_train)"
   ]
  },
  {
   "cell_type": "code",
   "execution_count": 308,
   "id": "2bd8af23",
   "metadata": {},
   "outputs": [
    {
     "data": {
      "text/html": [
       "<div>\n",
       "<style scoped>\n",
       "    .dataframe tbody tr th:only-of-type {\n",
       "        vertical-align: middle;\n",
       "    }\n",
       "\n",
       "    .dataframe tbody tr th {\n",
       "        vertical-align: top;\n",
       "    }\n",
       "\n",
       "    .dataframe thead th {\n",
       "        text-align: right;\n",
       "    }\n",
       "</style>\n",
       "<table border=\"1\" class=\"dataframe\">\n",
       "  <thead>\n",
       "    <tr style=\"text-align: right;\">\n",
       "      <th></th>\n",
       "      <th>train</th>\n",
       "      <th>test</th>\n",
       "    </tr>\n",
       "  </thead>\n",
       "  <tbody>\n",
       "    <tr>\n",
       "      <th>R2</th>\n",
       "      <td>8.436309e-01</td>\n",
       "      <td>8.541118e-01</td>\n",
       "    </tr>\n",
       "    <tr>\n",
       "      <th>mae</th>\n",
       "      <td>3.412030e+03</td>\n",
       "      <td>3.600215e+03</td>\n",
       "    </tr>\n",
       "    <tr>\n",
       "      <th>mse</th>\n",
       "      <td>2.123347e+07</td>\n",
       "      <td>2.496405e+07</td>\n",
       "    </tr>\n",
       "    <tr>\n",
       "      <th>rmse</th>\n",
       "      <td>4.607979e+03</td>\n",
       "      <td>4.996404e+03</td>\n",
       "    </tr>\n",
       "  </tbody>\n",
       "</table>\n",
       "</div>"
      ],
      "text/plain": [
       "             train          test\n",
       "R2    8.436309e-01  8.541118e-01\n",
       "mae   3.412030e+03  3.600215e+03\n",
       "mse   2.123347e+07  2.496405e+07\n",
       "rmse  4.607979e+03  4.996404e+03"
      ]
     },
     "execution_count": 308,
     "metadata": {},
     "output_type": "execute_result"
    }
   ],
   "source": [
    "train_val(model_ada, X_train, y_train, X_test, y_test)"
   ]
  },
  {
   "cell_type": "markdown",
   "id": "9a09d811",
   "metadata": {},
   "source": [
    "### GridSearch & Adaboosting"
   ]
  },
  {
   "cell_type": "code",
   "execution_count": 324,
   "id": "5050d78d",
   "metadata": {},
   "outputs": [],
   "source": [
    "param_grid = {\"n_estimators\":[20,50, 100],\n",
    "              \"learning_rate\":[0.01, 0.1, 0.5],\n",
    "              \"loss\": [\"linear\", \"square\"]\n",
    "            }"
   ]
  },
  {
   "cell_type": "code",
   "execution_count": 325,
   "id": "f81b94d6",
   "metadata": {},
   "outputs": [],
   "source": [
    "model_ada = AdaBoostRegressor(random_state=101)\n",
    "grid_model_ada = GridSearchCV(estimator=model_ada,\n",
    "                          param_grid=param_grid,\n",
    "                          scoring='neg_root_mean_squared_error',\n",
    "                          cv=10)"
   ]
  },
  {
   "cell_type": "code",
   "execution_count": 326,
   "id": "dfa48980",
   "metadata": {},
   "outputs": [
    {
     "data": {
      "text/html": [
       "<style>#sk-container-id-18 {color: black;background-color: white;}#sk-container-id-18 pre{padding: 0;}#sk-container-id-18 div.sk-toggleable {background-color: white;}#sk-container-id-18 label.sk-toggleable__label {cursor: pointer;display: block;width: 100%;margin-bottom: 0;padding: 0.3em;box-sizing: border-box;text-align: center;}#sk-container-id-18 label.sk-toggleable__label-arrow:before {content: \"▸\";float: left;margin-right: 0.25em;color: #696969;}#sk-container-id-18 label.sk-toggleable__label-arrow:hover:before {color: black;}#sk-container-id-18 div.sk-estimator:hover label.sk-toggleable__label-arrow:before {color: black;}#sk-container-id-18 div.sk-toggleable__content {max-height: 0;max-width: 0;overflow: hidden;text-align: left;background-color: #f0f8ff;}#sk-container-id-18 div.sk-toggleable__content pre {margin: 0.2em;color: black;border-radius: 0.25em;background-color: #f0f8ff;}#sk-container-id-18 input.sk-toggleable__control:checked~div.sk-toggleable__content {max-height: 200px;max-width: 100%;overflow: auto;}#sk-container-id-18 input.sk-toggleable__control:checked~label.sk-toggleable__label-arrow:before {content: \"▾\";}#sk-container-id-18 div.sk-estimator input.sk-toggleable__control:checked~label.sk-toggleable__label {background-color: #d4ebff;}#sk-container-id-18 div.sk-label input.sk-toggleable__control:checked~label.sk-toggleable__label {background-color: #d4ebff;}#sk-container-id-18 input.sk-hidden--visually {border: 0;clip: rect(1px 1px 1px 1px);clip: rect(1px, 1px, 1px, 1px);height: 1px;margin: -1px;overflow: hidden;padding: 0;position: absolute;width: 1px;}#sk-container-id-18 div.sk-estimator {font-family: monospace;background-color: #f0f8ff;border: 1px dotted black;border-radius: 0.25em;box-sizing: border-box;margin-bottom: 0.5em;}#sk-container-id-18 div.sk-estimator:hover {background-color: #d4ebff;}#sk-container-id-18 div.sk-parallel-item::after {content: \"\";width: 100%;border-bottom: 1px solid gray;flex-grow: 1;}#sk-container-id-18 div.sk-label:hover label.sk-toggleable__label {background-color: #d4ebff;}#sk-container-id-18 div.sk-serial::before {content: \"\";position: absolute;border-left: 1px solid gray;box-sizing: border-box;top: 0;bottom: 0;left: 50%;z-index: 0;}#sk-container-id-18 div.sk-serial {display: flex;flex-direction: column;align-items: center;background-color: white;padding-right: 0.2em;padding-left: 0.2em;position: relative;}#sk-container-id-18 div.sk-item {position: relative;z-index: 1;}#sk-container-id-18 div.sk-parallel {display: flex;align-items: stretch;justify-content: center;background-color: white;position: relative;}#sk-container-id-18 div.sk-item::before, #sk-container-id-18 div.sk-parallel-item::before {content: \"\";position: absolute;border-left: 1px solid gray;box-sizing: border-box;top: 0;bottom: 0;left: 50%;z-index: -1;}#sk-container-id-18 div.sk-parallel-item {display: flex;flex-direction: column;z-index: 1;position: relative;background-color: white;}#sk-container-id-18 div.sk-parallel-item:first-child::after {align-self: flex-end;width: 50%;}#sk-container-id-18 div.sk-parallel-item:last-child::after {align-self: flex-start;width: 50%;}#sk-container-id-18 div.sk-parallel-item:only-child::after {width: 0;}#sk-container-id-18 div.sk-dashed-wrapped {border: 1px dashed gray;margin: 0 0.4em 0.5em 0.4em;box-sizing: border-box;padding-bottom: 0.4em;background-color: white;}#sk-container-id-18 div.sk-label label {font-family: monospace;font-weight: bold;display: inline-block;line-height: 1.2em;}#sk-container-id-18 div.sk-label-container {text-align: center;}#sk-container-id-18 div.sk-container {/* jupyter's `normalize.less` sets `[hidden] { display: none; }` but bootstrap.min.css set `[hidden] { display: none !important; }` so we also need the `!important` here to be able to override the default hidden behavior on the sphinx rendered scikit-learn.org. See: https://github.com/scikit-learn/scikit-learn/issues/21755 */display: inline-block !important;position: relative;}#sk-container-id-18 div.sk-text-repr-fallback {display: none;}</style><div id=\"sk-container-id-18\" class=\"sk-top-container\"><div class=\"sk-text-repr-fallback\"><pre>GridSearchCV(cv=10, estimator=AdaBoostRegressor(random_state=101),\n",
       "             param_grid={&#x27;learning_rate&#x27;: [0.01, 0.1, 0.5],\n",
       "                         &#x27;loss&#x27;: [&#x27;linear&#x27;, &#x27;square&#x27;],\n",
       "                         &#x27;n_estimators&#x27;: [20, 50, 100]},\n",
       "             scoring=&#x27;neg_root_mean_squared_error&#x27;)</pre><b>In a Jupyter environment, please rerun this cell to show the HTML representation or trust the notebook. <br />On GitHub, the HTML representation is unable to render, please try loading this page with nbviewer.org.</b></div><div class=\"sk-container\" hidden><div class=\"sk-item sk-dashed-wrapped\"><div class=\"sk-label-container\"><div class=\"sk-label sk-toggleable\"><input class=\"sk-toggleable__control sk-hidden--visually\" id=\"sk-estimator-id-32\" type=\"checkbox\" ><label for=\"sk-estimator-id-32\" class=\"sk-toggleable__label sk-toggleable__label-arrow\">GridSearchCV</label><div class=\"sk-toggleable__content\"><pre>GridSearchCV(cv=10, estimator=AdaBoostRegressor(random_state=101),\n",
       "             param_grid={&#x27;learning_rate&#x27;: [0.01, 0.1, 0.5],\n",
       "                         &#x27;loss&#x27;: [&#x27;linear&#x27;, &#x27;square&#x27;],\n",
       "                         &#x27;n_estimators&#x27;: [20, 50, 100]},\n",
       "             scoring=&#x27;neg_root_mean_squared_error&#x27;)</pre></div></div></div><div class=\"sk-parallel\"><div class=\"sk-parallel-item\"><div class=\"sk-item\"><div class=\"sk-label-container\"><div class=\"sk-label sk-toggleable\"><input class=\"sk-toggleable__control sk-hidden--visually\" id=\"sk-estimator-id-33\" type=\"checkbox\" ><label for=\"sk-estimator-id-33\" class=\"sk-toggleable__label sk-toggleable__label-arrow\">estimator: AdaBoostRegressor</label><div class=\"sk-toggleable__content\"><pre>AdaBoostRegressor(random_state=101)</pre></div></div></div><div class=\"sk-serial\"><div class=\"sk-item\"><div class=\"sk-estimator sk-toggleable\"><input class=\"sk-toggleable__control sk-hidden--visually\" id=\"sk-estimator-id-34\" type=\"checkbox\" ><label for=\"sk-estimator-id-34\" class=\"sk-toggleable__label sk-toggleable__label-arrow\">AdaBoostRegressor</label><div class=\"sk-toggleable__content\"><pre>AdaBoostRegressor(random_state=101)</pre></div></div></div></div></div></div></div></div></div></div>"
      ],
      "text/plain": [
       "GridSearchCV(cv=10, estimator=AdaBoostRegressor(random_state=101),\n",
       "             param_grid={'learning_rate': [0.01, 0.1, 0.5],\n",
       "                         'loss': ['linear', 'square'],\n",
       "                         'n_estimators': [20, 50, 100]},\n",
       "             scoring='neg_root_mean_squared_error')"
      ]
     },
     "execution_count": 326,
     "metadata": {},
     "output_type": "execute_result"
    }
   ],
   "source": [
    "grid_model_ada.fit(X_train, y_train)"
   ]
  },
  {
   "cell_type": "code",
   "execution_count": 327,
   "id": "8c7841df",
   "metadata": {},
   "outputs": [
    {
     "data": {
      "text/plain": [
       "{'learning_rate': 0.01, 'loss': 'square', 'n_estimators': 20}"
      ]
     },
     "execution_count": 327,
     "metadata": {},
     "output_type": "execute_result"
    }
   ],
   "source": [
    "grid_model_ada.best_params_"
   ]
  },
  {
   "cell_type": "code",
   "execution_count": 328,
   "id": "33d5192c",
   "metadata": {},
   "outputs": [
    {
     "data": {
      "text/html": [
       "<div>\n",
       "<style scoped>\n",
       "    .dataframe tbody tr th:only-of-type {\n",
       "        vertical-align: middle;\n",
       "    }\n",
       "\n",
       "    .dataframe tbody tr th {\n",
       "        vertical-align: top;\n",
       "    }\n",
       "\n",
       "    .dataframe thead th {\n",
       "        text-align: right;\n",
       "    }\n",
       "</style>\n",
       "<table border=\"1\" class=\"dataframe\">\n",
       "  <thead>\n",
       "    <tr style=\"text-align: right;\">\n",
       "      <th></th>\n",
       "      <th>train</th>\n",
       "      <th>test</th>\n",
       "    </tr>\n",
       "  </thead>\n",
       "  <tbody>\n",
       "    <tr>\n",
       "      <th>R2</th>\n",
       "      <td>8.531352e-01</td>\n",
       "      <td>8.616950e-01</td>\n",
       "    </tr>\n",
       "    <tr>\n",
       "      <th>mae</th>\n",
       "      <td>2.666878e+03</td>\n",
       "      <td>2.918528e+03</td>\n",
       "    </tr>\n",
       "    <tr>\n",
       "      <th>mse</th>\n",
       "      <td>1.994287e+07</td>\n",
       "      <td>2.366643e+07</td>\n",
       "    </tr>\n",
       "    <tr>\n",
       "      <th>rmse</th>\n",
       "      <td>4.465744e+03</td>\n",
       "      <td>4.864816e+03</td>\n",
       "    </tr>\n",
       "  </tbody>\n",
       "</table>\n",
       "</div>"
      ],
      "text/plain": [
       "             train          test\n",
       "R2    8.531352e-01  8.616950e-01\n",
       "mae   2.666878e+03  2.918528e+03\n",
       "mse   1.994287e+07  2.366643e+07\n",
       "rmse  4.465744e+03  4.864816e+03"
      ]
     },
     "execution_count": 328,
     "metadata": {},
     "output_type": "execute_result"
    }
   ],
   "source": [
    "train_val(grid_model_ada, X_train, y_train, X_test, y_test)"
   ]
  },
  {
   "cell_type": "code",
   "execution_count": 329,
   "id": "31570b9f",
   "metadata": {},
   "outputs": [],
   "source": [
    "y_test_pred_ada_g=grid_model_ada.predict(X_test)\n"
   ]
  },
  {
   "cell_type": "code",
   "execution_count": 342,
   "id": "f7f1090e",
   "metadata": {},
   "outputs": [
    {
     "data": {
      "text/plain": [
       "0.8616950257122369"
      ]
     },
     "execution_count": 342,
     "metadata": {},
     "output_type": "execute_result"
    }
   ],
   "source": [
    "r2_score_ada_g=r2_score(y_test, y_test_pred_ada_g)\n",
    "r2_score_ada_g"
   ]
  },
  {
   "cell_type": "markdown",
   "id": "4a086751",
   "metadata": {},
   "source": [
    "### 6. XGBoost Regressor"
   ]
  },
  {
   "cell_type": "code",
   "execution_count": 331,
   "id": "cbd2374b",
   "metadata": {},
   "outputs": [],
   "source": [
    "from xgboost import XGBRegressor"
   ]
  },
  {
   "cell_type": "code",
   "execution_count": 332,
   "id": "8f2c04e6",
   "metadata": {},
   "outputs": [],
   "source": [
    "model_xgb=XGBRegressor(random_state=42, objective=\"reg:squarederror\")"
   ]
  },
  {
   "cell_type": "code",
   "execution_count": 333,
   "id": "4623e23d",
   "metadata": {},
   "outputs": [
    {
     "data": {
      "text/html": [
       "<style>#sk-container-id-19 {color: black;background-color: white;}#sk-container-id-19 pre{padding: 0;}#sk-container-id-19 div.sk-toggleable {background-color: white;}#sk-container-id-19 label.sk-toggleable__label {cursor: pointer;display: block;width: 100%;margin-bottom: 0;padding: 0.3em;box-sizing: border-box;text-align: center;}#sk-container-id-19 label.sk-toggleable__label-arrow:before {content: \"▸\";float: left;margin-right: 0.25em;color: #696969;}#sk-container-id-19 label.sk-toggleable__label-arrow:hover:before {color: black;}#sk-container-id-19 div.sk-estimator:hover label.sk-toggleable__label-arrow:before {color: black;}#sk-container-id-19 div.sk-toggleable__content {max-height: 0;max-width: 0;overflow: hidden;text-align: left;background-color: #f0f8ff;}#sk-container-id-19 div.sk-toggleable__content pre {margin: 0.2em;color: black;border-radius: 0.25em;background-color: #f0f8ff;}#sk-container-id-19 input.sk-toggleable__control:checked~div.sk-toggleable__content {max-height: 200px;max-width: 100%;overflow: auto;}#sk-container-id-19 input.sk-toggleable__control:checked~label.sk-toggleable__label-arrow:before {content: \"▾\";}#sk-container-id-19 div.sk-estimator input.sk-toggleable__control:checked~label.sk-toggleable__label {background-color: #d4ebff;}#sk-container-id-19 div.sk-label input.sk-toggleable__control:checked~label.sk-toggleable__label {background-color: #d4ebff;}#sk-container-id-19 input.sk-hidden--visually {border: 0;clip: rect(1px 1px 1px 1px);clip: rect(1px, 1px, 1px, 1px);height: 1px;margin: -1px;overflow: hidden;padding: 0;position: absolute;width: 1px;}#sk-container-id-19 div.sk-estimator {font-family: monospace;background-color: #f0f8ff;border: 1px dotted black;border-radius: 0.25em;box-sizing: border-box;margin-bottom: 0.5em;}#sk-container-id-19 div.sk-estimator:hover {background-color: #d4ebff;}#sk-container-id-19 div.sk-parallel-item::after {content: \"\";width: 100%;border-bottom: 1px solid gray;flex-grow: 1;}#sk-container-id-19 div.sk-label:hover label.sk-toggleable__label {background-color: #d4ebff;}#sk-container-id-19 div.sk-serial::before {content: \"\";position: absolute;border-left: 1px solid gray;box-sizing: border-box;top: 0;bottom: 0;left: 50%;z-index: 0;}#sk-container-id-19 div.sk-serial {display: flex;flex-direction: column;align-items: center;background-color: white;padding-right: 0.2em;padding-left: 0.2em;position: relative;}#sk-container-id-19 div.sk-item {position: relative;z-index: 1;}#sk-container-id-19 div.sk-parallel {display: flex;align-items: stretch;justify-content: center;background-color: white;position: relative;}#sk-container-id-19 div.sk-item::before, #sk-container-id-19 div.sk-parallel-item::before {content: \"\";position: absolute;border-left: 1px solid gray;box-sizing: border-box;top: 0;bottom: 0;left: 50%;z-index: -1;}#sk-container-id-19 div.sk-parallel-item {display: flex;flex-direction: column;z-index: 1;position: relative;background-color: white;}#sk-container-id-19 div.sk-parallel-item:first-child::after {align-self: flex-end;width: 50%;}#sk-container-id-19 div.sk-parallel-item:last-child::after {align-self: flex-start;width: 50%;}#sk-container-id-19 div.sk-parallel-item:only-child::after {width: 0;}#sk-container-id-19 div.sk-dashed-wrapped {border: 1px dashed gray;margin: 0 0.4em 0.5em 0.4em;box-sizing: border-box;padding-bottom: 0.4em;background-color: white;}#sk-container-id-19 div.sk-label label {font-family: monospace;font-weight: bold;display: inline-block;line-height: 1.2em;}#sk-container-id-19 div.sk-label-container {text-align: center;}#sk-container-id-19 div.sk-container {/* jupyter's `normalize.less` sets `[hidden] { display: none; }` but bootstrap.min.css set `[hidden] { display: none !important; }` so we also need the `!important` here to be able to override the default hidden behavior on the sphinx rendered scikit-learn.org. See: https://github.com/scikit-learn/scikit-learn/issues/21755 */display: inline-block !important;position: relative;}#sk-container-id-19 div.sk-text-repr-fallback {display: none;}</style><div id=\"sk-container-id-19\" class=\"sk-top-container\"><div class=\"sk-text-repr-fallback\"><pre>XGBRegressor(objective=&#x27;reg:squarederror&#x27;, random_state=42)</pre><b>In a Jupyter environment, please rerun this cell to show the HTML representation or trust the notebook. <br />On GitHub, the HTML representation is unable to render, please try loading this page with nbviewer.org.</b></div><div class=\"sk-container\" hidden><div class=\"sk-item\"><div class=\"sk-estimator sk-toggleable\"><input class=\"sk-toggleable__control sk-hidden--visually\" id=\"sk-estimator-id-35\" type=\"checkbox\" checked><label for=\"sk-estimator-id-35\" class=\"sk-toggleable__label sk-toggleable__label-arrow\">XGBRegressor</label><div class=\"sk-toggleable__content\"><pre>XGBRegressor(objective=&#x27;reg:squarederror&#x27;, random_state=42)</pre></div></div></div></div></div>"
      ],
      "text/plain": [
       "XGBRegressor(objective='reg:squarederror', random_state=42)"
      ]
     },
     "execution_count": 333,
     "metadata": {},
     "output_type": "execute_result"
    }
   ],
   "source": [
    "model_xgb.fit(X_train, y_train)"
   ]
  },
  {
   "cell_type": "code",
   "execution_count": 334,
   "id": "f7621e17",
   "metadata": {},
   "outputs": [
    {
     "data": {
      "text/html": [
       "<div>\n",
       "<style scoped>\n",
       "    .dataframe tbody tr th:only-of-type {\n",
       "        vertical-align: middle;\n",
       "    }\n",
       "\n",
       "    .dataframe tbody tr th {\n",
       "        vertical-align: top;\n",
       "    }\n",
       "\n",
       "    .dataframe thead th {\n",
       "        text-align: right;\n",
       "    }\n",
       "</style>\n",
       "<table border=\"1\" class=\"dataframe\">\n",
       "  <thead>\n",
       "    <tr style=\"text-align: right;\">\n",
       "      <th></th>\n",
       "      <th>train</th>\n",
       "      <th>test</th>\n",
       "    </tr>\n",
       "  </thead>\n",
       "  <tbody>\n",
       "    <tr>\n",
       "      <th>R2</th>\n",
       "      <td>8.977032e-01</td>\n",
       "      <td>8.731775e-01</td>\n",
       "    </tr>\n",
       "    <tr>\n",
       "      <th>mae</th>\n",
       "      <td>2.029216e+03</td>\n",
       "      <td>2.582870e+03</td>\n",
       "    </tr>\n",
       "    <tr>\n",
       "      <th>mse</th>\n",
       "      <td>1.389096e+07</td>\n",
       "      <td>2.170157e+07</td>\n",
       "    </tr>\n",
       "    <tr>\n",
       "      <th>rmse</th>\n",
       "      <td>3.727057e+03</td>\n",
       "      <td>4.658495e+03</td>\n",
       "    </tr>\n",
       "  </tbody>\n",
       "</table>\n",
       "</div>"
      ],
      "text/plain": [
       "             train          test\n",
       "R2    8.977032e-01  8.731775e-01\n",
       "mae   2.029216e+03  2.582870e+03\n",
       "mse   1.389096e+07  2.170157e+07\n",
       "rmse  3.727057e+03  4.658495e+03"
      ]
     },
     "execution_count": 334,
     "metadata": {},
     "output_type": "execute_result"
    }
   ],
   "source": [
    "train_val(model_xgb, X_train, y_train, X_test, y_test)"
   ]
  },
  {
   "cell_type": "markdown",
   "id": "4bd7edfa",
   "metadata": {},
   "source": [
    "### GridSearch & XGBoost"
   ]
  },
  {
   "cell_type": "code",
   "execution_count": 337,
   "id": "ccabf57a",
   "metadata": {},
   "outputs": [],
   "source": [
    "param_grid = {\"n_estimators\":[100, 300,500],'max_depth':[3,5,6,7], \"learning_rate\": [0.05, 0.1, 0.2],\n",
    "             \"subsample\":[0.5, 1], \"colsample_bytree\":[0.5, 1]}\n",
    "model_xgb = XGBRegressor(random_state=42, objective=\"reg:squarederror\")\n",
    "grid_model_xgb = GridSearchCV(estimator=model_xgb,\n",
    "                          param_grid=param_grid,\n",
    "                          scoring='neg_root_mean_squared_error',\n",
    "                          cv=10)"
   ]
  },
  {
   "cell_type": "code",
   "execution_count": 338,
   "id": "96a3df8b",
   "metadata": {},
   "outputs": [
    {
     "data": {
      "text/html": [
       "<style>#sk-container-id-20 {color: black;background-color: white;}#sk-container-id-20 pre{padding: 0;}#sk-container-id-20 div.sk-toggleable {background-color: white;}#sk-container-id-20 label.sk-toggleable__label {cursor: pointer;display: block;width: 100%;margin-bottom: 0;padding: 0.3em;box-sizing: border-box;text-align: center;}#sk-container-id-20 label.sk-toggleable__label-arrow:before {content: \"▸\";float: left;margin-right: 0.25em;color: #696969;}#sk-container-id-20 label.sk-toggleable__label-arrow:hover:before {color: black;}#sk-container-id-20 div.sk-estimator:hover label.sk-toggleable__label-arrow:before {color: black;}#sk-container-id-20 div.sk-toggleable__content {max-height: 0;max-width: 0;overflow: hidden;text-align: left;background-color: #f0f8ff;}#sk-container-id-20 div.sk-toggleable__content pre {margin: 0.2em;color: black;border-radius: 0.25em;background-color: #f0f8ff;}#sk-container-id-20 input.sk-toggleable__control:checked~div.sk-toggleable__content {max-height: 200px;max-width: 100%;overflow: auto;}#sk-container-id-20 input.sk-toggleable__control:checked~label.sk-toggleable__label-arrow:before {content: \"▾\";}#sk-container-id-20 div.sk-estimator input.sk-toggleable__control:checked~label.sk-toggleable__label {background-color: #d4ebff;}#sk-container-id-20 div.sk-label input.sk-toggleable__control:checked~label.sk-toggleable__label {background-color: #d4ebff;}#sk-container-id-20 input.sk-hidden--visually {border: 0;clip: rect(1px 1px 1px 1px);clip: rect(1px, 1px, 1px, 1px);height: 1px;margin: -1px;overflow: hidden;padding: 0;position: absolute;width: 1px;}#sk-container-id-20 div.sk-estimator {font-family: monospace;background-color: #f0f8ff;border: 1px dotted black;border-radius: 0.25em;box-sizing: border-box;margin-bottom: 0.5em;}#sk-container-id-20 div.sk-estimator:hover {background-color: #d4ebff;}#sk-container-id-20 div.sk-parallel-item::after {content: \"\";width: 100%;border-bottom: 1px solid gray;flex-grow: 1;}#sk-container-id-20 div.sk-label:hover label.sk-toggleable__label {background-color: #d4ebff;}#sk-container-id-20 div.sk-serial::before {content: \"\";position: absolute;border-left: 1px solid gray;box-sizing: border-box;top: 0;bottom: 0;left: 50%;z-index: 0;}#sk-container-id-20 div.sk-serial {display: flex;flex-direction: column;align-items: center;background-color: white;padding-right: 0.2em;padding-left: 0.2em;position: relative;}#sk-container-id-20 div.sk-item {position: relative;z-index: 1;}#sk-container-id-20 div.sk-parallel {display: flex;align-items: stretch;justify-content: center;background-color: white;position: relative;}#sk-container-id-20 div.sk-item::before, #sk-container-id-20 div.sk-parallel-item::before {content: \"\";position: absolute;border-left: 1px solid gray;box-sizing: border-box;top: 0;bottom: 0;left: 50%;z-index: -1;}#sk-container-id-20 div.sk-parallel-item {display: flex;flex-direction: column;z-index: 1;position: relative;background-color: white;}#sk-container-id-20 div.sk-parallel-item:first-child::after {align-self: flex-end;width: 50%;}#sk-container-id-20 div.sk-parallel-item:last-child::after {align-self: flex-start;width: 50%;}#sk-container-id-20 div.sk-parallel-item:only-child::after {width: 0;}#sk-container-id-20 div.sk-dashed-wrapped {border: 1px dashed gray;margin: 0 0.4em 0.5em 0.4em;box-sizing: border-box;padding-bottom: 0.4em;background-color: white;}#sk-container-id-20 div.sk-label label {font-family: monospace;font-weight: bold;display: inline-block;line-height: 1.2em;}#sk-container-id-20 div.sk-label-container {text-align: center;}#sk-container-id-20 div.sk-container {/* jupyter's `normalize.less` sets `[hidden] { display: none; }` but bootstrap.min.css set `[hidden] { display: none !important; }` so we also need the `!important` here to be able to override the default hidden behavior on the sphinx rendered scikit-learn.org. See: https://github.com/scikit-learn/scikit-learn/issues/21755 */display: inline-block !important;position: relative;}#sk-container-id-20 div.sk-text-repr-fallback {display: none;}</style><div id=\"sk-container-id-20\" class=\"sk-top-container\"><div class=\"sk-text-repr-fallback\"><pre>GridSearchCV(cv=10,\n",
       "             estimator=XGBRegressor(objective=&#x27;reg:squarederror&#x27;,\n",
       "                                    random_state=42),\n",
       "             param_grid={&#x27;colsample_bytree&#x27;: [0.5, 1],\n",
       "                         &#x27;learning_rate&#x27;: [0.05, 0.1, 0.2],\n",
       "                         &#x27;max_depth&#x27;: [3, 5, 6, 7],\n",
       "                         &#x27;n_estimators&#x27;: [100, 300, 500],\n",
       "                         &#x27;subsample&#x27;: [0.5, 1]},\n",
       "             scoring=&#x27;neg_root_mean_squared_error&#x27;)</pre><b>In a Jupyter environment, please rerun this cell to show the HTML representation or trust the notebook. <br />On GitHub, the HTML representation is unable to render, please try loading this page with nbviewer.org.</b></div><div class=\"sk-container\" hidden><div class=\"sk-item sk-dashed-wrapped\"><div class=\"sk-label-container\"><div class=\"sk-label sk-toggleable\"><input class=\"sk-toggleable__control sk-hidden--visually\" id=\"sk-estimator-id-36\" type=\"checkbox\" ><label for=\"sk-estimator-id-36\" class=\"sk-toggleable__label sk-toggleable__label-arrow\">GridSearchCV</label><div class=\"sk-toggleable__content\"><pre>GridSearchCV(cv=10,\n",
       "             estimator=XGBRegressor(objective=&#x27;reg:squarederror&#x27;,\n",
       "                                    random_state=42),\n",
       "             param_grid={&#x27;colsample_bytree&#x27;: [0.5, 1],\n",
       "                         &#x27;learning_rate&#x27;: [0.05, 0.1, 0.2],\n",
       "                         &#x27;max_depth&#x27;: [3, 5, 6, 7],\n",
       "                         &#x27;n_estimators&#x27;: [100, 300, 500],\n",
       "                         &#x27;subsample&#x27;: [0.5, 1]},\n",
       "             scoring=&#x27;neg_root_mean_squared_error&#x27;)</pre></div></div></div><div class=\"sk-parallel\"><div class=\"sk-parallel-item\"><div class=\"sk-item\"><div class=\"sk-label-container\"><div class=\"sk-label sk-toggleable\"><input class=\"sk-toggleable__control sk-hidden--visually\" id=\"sk-estimator-id-37\" type=\"checkbox\" ><label for=\"sk-estimator-id-37\" class=\"sk-toggleable__label sk-toggleable__label-arrow\">estimator: XGBRegressor</label><div class=\"sk-toggleable__content\"><pre>XGBRegressor(objective=&#x27;reg:squarederror&#x27;, random_state=42)</pre></div></div></div><div class=\"sk-serial\"><div class=\"sk-item\"><div class=\"sk-estimator sk-toggleable\"><input class=\"sk-toggleable__control sk-hidden--visually\" id=\"sk-estimator-id-38\" type=\"checkbox\" ><label for=\"sk-estimator-id-38\" class=\"sk-toggleable__label sk-toggleable__label-arrow\">XGBRegressor</label><div class=\"sk-toggleable__content\"><pre>XGBRegressor(objective=&#x27;reg:squarederror&#x27;, random_state=42)</pre></div></div></div></div></div></div></div></div></div></div>"
      ],
      "text/plain": [
       "GridSearchCV(cv=10,\n",
       "             estimator=XGBRegressor(objective='reg:squarederror',\n",
       "                                    random_state=42),\n",
       "             param_grid={'colsample_bytree': [0.5, 1],\n",
       "                         'learning_rate': [0.05, 0.1, 0.2],\n",
       "                         'max_depth': [3, 5, 6, 7],\n",
       "                         'n_estimators': [100, 300, 500],\n",
       "                         'subsample': [0.5, 1]},\n",
       "             scoring='neg_root_mean_squared_error')"
      ]
     },
     "execution_count": 338,
     "metadata": {},
     "output_type": "execute_result"
    }
   ],
   "source": [
    "grid_model_xgb.fit(X_train, y_train)"
   ]
  },
  {
   "cell_type": "code",
   "execution_count": 373,
   "id": "77a864e9",
   "metadata": {},
   "outputs": [
    {
     "data": {
      "text/plain": [
       "{'colsample_bytree': 1,\n",
       " 'learning_rate': 0.05,\n",
       " 'max_depth': 3,\n",
       " 'n_estimators': 100,\n",
       " 'subsample': 0.5}"
      ]
     },
     "execution_count": 373,
     "metadata": {},
     "output_type": "execute_result"
    }
   ],
   "source": [
    "grid_model_xgb.best_params_"
   ]
  },
  {
   "cell_type": "code",
   "execution_count": 339,
   "id": "2cc9047d",
   "metadata": {},
   "outputs": [
    {
     "data": {
      "text/html": [
       "<div>\n",
       "<style scoped>\n",
       "    .dataframe tbody tr th:only-of-type {\n",
       "        vertical-align: middle;\n",
       "    }\n",
       "\n",
       "    .dataframe tbody tr th {\n",
       "        vertical-align: top;\n",
       "    }\n",
       "\n",
       "    .dataframe thead th {\n",
       "        text-align: right;\n",
       "    }\n",
       "</style>\n",
       "<table border=\"1\" class=\"dataframe\">\n",
       "  <thead>\n",
       "    <tr style=\"text-align: right;\">\n",
       "      <th></th>\n",
       "      <th>train</th>\n",
       "      <th>test</th>\n",
       "    </tr>\n",
       "  </thead>\n",
       "  <tbody>\n",
       "    <tr>\n",
       "      <th>R2</th>\n",
       "      <td>8.805096e-01</td>\n",
       "      <td>8.736685e-01</td>\n",
       "    </tr>\n",
       "    <tr>\n",
       "      <th>mae</th>\n",
       "      <td>2.182536e+03</td>\n",
       "      <td>2.540618e+03</td>\n",
       "    </tr>\n",
       "    <tr>\n",
       "      <th>mse</th>\n",
       "      <td>1.622569e+07</td>\n",
       "      <td>2.161756e+07</td>\n",
       "    </tr>\n",
       "    <tr>\n",
       "      <th>rmse</th>\n",
       "      <td>4.028112e+03</td>\n",
       "      <td>4.649468e+03</td>\n",
       "    </tr>\n",
       "  </tbody>\n",
       "</table>\n",
       "</div>"
      ],
      "text/plain": [
       "             train          test\n",
       "R2    8.805096e-01  8.736685e-01\n",
       "mae   2.182536e+03  2.540618e+03\n",
       "mse   1.622569e+07  2.161756e+07\n",
       "rmse  4.028112e+03  4.649468e+03"
      ]
     },
     "execution_count": 339,
     "metadata": {},
     "output_type": "execute_result"
    }
   ],
   "source": [
    "train_val(grid_model_xgb, X_train, y_train, X_test, y_test)"
   ]
  },
  {
   "cell_type": "code",
   "execution_count": 340,
   "id": "881b0ae9",
   "metadata": {},
   "outputs": [],
   "source": [
    "y_test_pred_xgb_g=grid_model_xgb.predict(X_test)"
   ]
  },
  {
   "cell_type": "code",
   "execution_count": 341,
   "id": "5faf1297",
   "metadata": {},
   "outputs": [
    {
     "data": {
      "text/plain": [
       "0.8736685029033159"
      ]
     },
     "execution_count": 341,
     "metadata": {},
     "output_type": "execute_result"
    }
   ],
   "source": [
    "r2_score_xgb_g=r2_score(y_test, y_test_pred_xgb_g)\n",
    "r2_score_xgb_g"
   ]
  },
  {
   "cell_type": "markdown",
   "id": "b8cdc931",
   "metadata": {},
   "source": [
    "### 7. PCA & XGBoost"
   ]
  },
  {
   "cell_type": "markdown",
   "id": "a4fc3652",
   "metadata": {},
   "source": [
    "### PCA"
   ]
  },
  {
   "cell_type": "code",
   "execution_count": 343,
   "id": "24a32d07",
   "metadata": {},
   "outputs": [],
   "source": [
    "X_train_scaled_pca=scaler.fit_transform(X_train)"
   ]
  },
  {
   "cell_type": "code",
   "execution_count": 344,
   "id": "03b3cb36",
   "metadata": {},
   "outputs": [],
   "source": [
    "X_test_scaled_pca=scaler.transform(X_test)"
   ]
  },
  {
   "cell_type": "code",
   "execution_count": 347,
   "id": "c88378fe",
   "metadata": {},
   "outputs": [
    {
     "data": {
      "application/javascript": [
       "\n",
       "        if (window._pyforest_update_imports_cell) { window._pyforest_update_imports_cell('import matplotlib.pyplot as plt'); }\n",
       "    "
      ],
      "text/plain": [
       "<IPython.core.display.Javascript object>"
      ]
     },
     "metadata": {},
     "output_type": "display_data"
    },
    {
     "data": {
      "application/javascript": [
       "\n",
       "        if (window._pyforest_update_imports_cell) { window._pyforest_update_imports_cell('import matplotlib.pyplot as plt'); }\n",
       "    "
      ],
      "text/plain": [
       "<IPython.core.display.Javascript object>"
      ]
     },
     "metadata": {},
     "output_type": "display_data"
    },
    {
     "data": {
      "application/javascript": [
       "\n",
       "        if (window._pyforest_update_imports_cell) { window._pyforest_update_imports_cell('import matplotlib.pyplot as plt'); }\n",
       "    "
      ],
      "text/plain": [
       "<IPython.core.display.Javascript object>"
      ]
     },
     "metadata": {},
     "output_type": "display_data"
    },
    {
     "data": {
      "image/png": "[encoded data removed]",
      "text/plain": [
       "<Figure size 432x288 with 1 Axes>"
      ]
     },
     "metadata": {
      "needs_background": "light"
     },
     "output_type": "display_data"
    }
   ],
   "source": [
    "from sklearn.decomposition import PCA\n",
    "pca=PCA().fit(X_train_scaled_pca)\n",
    "x=range(1,7)\n",
    "plt.plot(x,np.cumsum(pca.explained_variance_ratio_))\n",
    "plt.xlabel(\"Component count\")\n",
    "plt.ylabel(\"Variance Ratio\");"
   ]
  },
  {
   "cell_type": "code",
   "execution_count": 350,
   "id": "d24bf73e",
   "metadata": {},
   "outputs": [],
   "source": [
    "pca=PCA(n_components=6).fit(X_train_scaled_pca)"
   ]
  },
  {
   "cell_type": "code",
   "execution_count": 351,
   "id": "b161ebc4",
   "metadata": {},
   "outputs": [],
   "source": [
    "my_dict = {\"explained_variance\":pca.explained_variance_, \n",
    "           \"explained_variance_ratio\":pca.explained_variance_ratio_,\n",
    "           \"cumsum_explained_variance_ratio\":pca.explained_variance_ratio_.cumsum()}"
   ]
  },
  {
   "cell_type": "code",
   "execution_count": 352,
   "id": "527f810a",
   "metadata": {},
   "outputs": [
    {
     "data": {
      "text/html": [
       "<div>\n",
       "<style scoped>\n",
       "    .dataframe tbody tr th:only-of-type {\n",
       "        vertical-align: middle;\n",
       "    }\n",
       "\n",
       "    .dataframe tbody tr th {\n",
       "        vertical-align: top;\n",
       "    }\n",
       "\n",
       "    .dataframe thead th {\n",
       "        text-align: right;\n",
       "    }\n",
       "</style>\n",
       "<table border=\"1\" class=\"dataframe\">\n",
       "  <thead>\n",
       "    <tr style=\"text-align: right;\">\n",
       "      <th></th>\n",
       "      <th>explained_variance</th>\n",
       "      <th>explained_variance_ratio</th>\n",
       "      <th>cumsum_explained_variance_ratio</th>\n",
       "    </tr>\n",
       "  </thead>\n",
       "  <tbody>\n",
       "    <tr>\n",
       "      <th>1</th>\n",
       "      <td>1.207118</td>\n",
       "      <td>0.200971</td>\n",
       "      <td>0.200971</td>\n",
       "    </tr>\n",
       "    <tr>\n",
       "      <th>2</th>\n",
       "      <td>1.077145</td>\n",
       "      <td>0.179332</td>\n",
       "      <td>0.380303</td>\n",
       "    </tr>\n",
       "    <tr>\n",
       "      <th>3</th>\n",
       "      <td>1.067191</td>\n",
       "      <td>0.177675</td>\n",
       "      <td>0.557978</td>\n",
       "    </tr>\n",
       "    <tr>\n",
       "      <th>4</th>\n",
       "      <td>0.978998</td>\n",
       "      <td>0.162992</td>\n",
       "      <td>0.720970</td>\n",
       "    </tr>\n",
       "    <tr>\n",
       "      <th>5</th>\n",
       "      <td>0.895453</td>\n",
       "      <td>0.149083</td>\n",
       "      <td>0.870053</td>\n",
       "    </tr>\n",
       "    <tr>\n",
       "      <th>6</th>\n",
       "      <td>0.780518</td>\n",
       "      <td>0.129947</td>\n",
       "      <td>1.000000</td>\n",
       "    </tr>\n",
       "  </tbody>\n",
       "</table>\n",
       "</div>"
      ],
      "text/plain": [
       "   explained_variance  explained_variance_ratio  \\\n",
       "1            1.207118                  0.200971   \n",
       "2            1.077145                  0.179332   \n",
       "3            1.067191                  0.177675   \n",
       "4            0.978998                  0.162992   \n",
       "5            0.895453                  0.149083   \n",
       "6            0.780518                  0.129947   \n",
       "\n",
       "   cumsum_explained_variance_ratio  \n",
       "1                         0.200971  \n",
       "2                         0.380303  \n",
       "3                         0.557978  \n",
       "4                         0.720970  \n",
       "5                         0.870053  \n",
       "6                         1.000000  "
      ]
     },
     "execution_count": 352,
     "metadata": {},
     "output_type": "execute_result"
    }
   ],
   "source": [
    "df_ev = pd.DataFrame(my_dict, index = range(1,7))\n",
    "df_ev"
   ]
  },
  {
   "cell_type": "code",
   "execution_count": 353,
   "id": "c61f59f5",
   "metadata": {},
   "outputs": [],
   "source": [
    "pca=PCA(n_components=4)"
   ]
  },
  {
   "cell_type": "code",
   "execution_count": 354,
   "id": "c536129a",
   "metadata": {},
   "outputs": [],
   "source": [
    "X_train_pca=pca.fit_transform(X_train_scaled_pca)\n",
    "X_test_pca=pca.transform(X_test_scaled_pca)"
   ]
  },
  {
   "cell_type": "code",
   "execution_count": 355,
   "id": "f2333ee5",
   "metadata": {},
   "outputs": [
    {
     "data": {
      "text/html": [
       "<div>\n",
       "<style scoped>\n",
       "    .dataframe tbody tr th:only-of-type {\n",
       "        vertical-align: middle;\n",
       "    }\n",
       "\n",
       "    .dataframe tbody tr th {\n",
       "        vertical-align: top;\n",
       "    }\n",
       "\n",
       "    .dataframe thead th {\n",
       "        text-align: right;\n",
       "    }\n",
       "</style>\n",
       "<table border=\"1\" class=\"dataframe\">\n",
       "  <thead>\n",
       "    <tr style=\"text-align: right;\">\n",
       "      <th></th>\n",
       "      <th>first_component</th>\n",
       "      <th>second_component</th>\n",
       "      <th>third_component</th>\n",
       "      <th>fourth_component</th>\n",
       "    </tr>\n",
       "  </thead>\n",
       "  <tbody>\n",
       "    <tr>\n",
       "      <th>0</th>\n",
       "      <td>-0.945670</td>\n",
       "      <td>0.887746</td>\n",
       "      <td>-1.497842</td>\n",
       "      <td>1.147560</td>\n",
       "    </tr>\n",
       "    <tr>\n",
       "      <th>1</th>\n",
       "      <td>0.918956</td>\n",
       "      <td>1.383448</td>\n",
       "      <td>1.019736</td>\n",
       "      <td>-1.141145</td>\n",
       "    </tr>\n",
       "    <tr>\n",
       "      <th>2</th>\n",
       "      <td>-1.020033</td>\n",
       "      <td>0.998368</td>\n",
       "      <td>2.549698</td>\n",
       "      <td>0.966273</td>\n",
       "    </tr>\n",
       "    <tr>\n",
       "      <th>3</th>\n",
       "      <td>-0.521462</td>\n",
       "      <td>0.639146</td>\n",
       "      <td>1.970020</td>\n",
       "      <td>-0.283636</td>\n",
       "    </tr>\n",
       "    <tr>\n",
       "      <th>4</th>\n",
       "      <td>-0.836165</td>\n",
       "      <td>1.723156</td>\n",
       "      <td>1.709156</td>\n",
       "      <td>0.642919</td>\n",
       "    </tr>\n",
       "  </tbody>\n",
       "</table>\n",
       "</div>"
      ],
      "text/plain": [
       "   first_component  second_component  third_component  fourth_component\n",
       "0        -0.945670          0.887746        -1.497842          1.147560\n",
       "1         0.918956          1.383448         1.019736         -1.141145\n",
       "2        -1.020033          0.998368         2.549698          0.966273\n",
       "3        -0.521462          0.639146         1.970020         -0.283636\n",
       "4        -0.836165          1.723156         1.709156          0.642919"
      ]
     },
     "execution_count": 355,
     "metadata": {},
     "output_type": "execute_result"
    }
   ],
   "source": [
    "df_pca_train = pd.DataFrame(X_train_pca)\n",
    "df_pca_train = df_pca_train.rename(columns={0:\"first_component\", 1:\"second_component\", 2:\"third_component\",3 :\"fourth_component\"})\n",
    "df_pca_train.head()"
   ]
  },
  {
   "cell_type": "code",
   "execution_count": 356,
   "id": "47fe2558",
   "metadata": {},
   "outputs": [
    {
     "data": {
      "text/html": [
       "<div>\n",
       "<style scoped>\n",
       "    .dataframe tbody tr th:only-of-type {\n",
       "        vertical-align: middle;\n",
       "    }\n",
       "\n",
       "    .dataframe tbody tr th {\n",
       "        vertical-align: top;\n",
       "    }\n",
       "\n",
       "    .dataframe thead th {\n",
       "        text-align: right;\n",
       "    }\n",
       "</style>\n",
       "<table border=\"1\" class=\"dataframe\">\n",
       "  <thead>\n",
       "    <tr style=\"text-align: right;\">\n",
       "      <th></th>\n",
       "      <th>first_component</th>\n",
       "      <th>second_component</th>\n",
       "      <th>third_component</th>\n",
       "      <th>fourth_component</th>\n",
       "    </tr>\n",
       "  </thead>\n",
       "  <tbody>\n",
       "    <tr>\n",
       "      <th>0</th>\n",
       "      <td>1.332837</td>\n",
       "      <td>0.326320</td>\n",
       "      <td>-0.497357</td>\n",
       "      <td>-1.887983</td>\n",
       "    </tr>\n",
       "    <tr>\n",
       "      <th>1</th>\n",
       "      <td>-0.079351</td>\n",
       "      <td>0.116279</td>\n",
       "      <td>-0.946366</td>\n",
       "      <td>2.557202</td>\n",
       "    </tr>\n",
       "    <tr>\n",
       "      <th>2</th>\n",
       "      <td>-0.873464</td>\n",
       "      <td>1.105904</td>\n",
       "      <td>-1.522622</td>\n",
       "      <td>0.757515</td>\n",
       "    </tr>\n",
       "    <tr>\n",
       "      <th>3</th>\n",
       "      <td>0.612035</td>\n",
       "      <td>1.841613</td>\n",
       "      <td>1.541131</td>\n",
       "      <td>1.085979</td>\n",
       "    </tr>\n",
       "    <tr>\n",
       "      <th>4</th>\n",
       "      <td>-1.035980</td>\n",
       "      <td>0.405482</td>\n",
       "      <td>0.738619</td>\n",
       "      <td>-0.014652</td>\n",
       "    </tr>\n",
       "  </tbody>\n",
       "</table>\n",
       "</div>"
      ],
      "text/plain": [
       "   first_component  second_component  third_component  fourth_component\n",
       "0         1.332837          0.326320        -0.497357         -1.887983\n",
       "1        -0.079351          0.116279        -0.946366          2.557202\n",
       "2        -0.873464          1.105904        -1.522622          0.757515\n",
       "3         0.612035          1.841613         1.541131          1.085979\n",
       "4        -1.035980          0.405482         0.738619         -0.014652"
      ]
     },
     "execution_count": 356,
     "metadata": {},
     "output_type": "execute_result"
    }
   ],
   "source": [
    "df_pca_test=pd.DataFrame(X_test_pca)\n",
    "df_pca_test = df_pca_test.rename(columns={0:\"first_component\", 1:\"second_component\", 2:\"third_component\", 3 :\"fourth_component\"})\n",
    "df_pca_test.head()"
   ]
  },
  {
   "cell_type": "markdown",
   "id": "70ba952a",
   "metadata": {},
   "source": [
    "### modelling XGBoost after PCA"
   ]
  },
  {
   "cell_type": "code",
   "execution_count": 364,
   "id": "3846274d",
   "metadata": {},
   "outputs": [
    {
     "data": {
      "text/html": [
       "<div>\n",
       "<style scoped>\n",
       "    .dataframe tbody tr th:only-of-type {\n",
       "        vertical-align: middle;\n",
       "    }\n",
       "\n",
       "    .dataframe tbody tr th {\n",
       "        vertical-align: top;\n",
       "    }\n",
       "\n",
       "    .dataframe thead th {\n",
       "        text-align: right;\n",
       "    }\n",
       "</style>\n",
       "<table border=\"1\" class=\"dataframe\">\n",
       "  <thead>\n",
       "    <tr style=\"text-align: right;\">\n",
       "      <th></th>\n",
       "      <th>train</th>\n",
       "      <th>test</th>\n",
       "    </tr>\n",
       "  </thead>\n",
       "  <tbody>\n",
       "    <tr>\n",
       "      <th>R2</th>\n",
       "      <td>7.380765e-01</td>\n",
       "      <td>5.239609e-01</td>\n",
       "    </tr>\n",
       "    <tr>\n",
       "      <th>mae</th>\n",
       "      <td>4.045690e+03</td>\n",
       "      <td>5.764165e+03</td>\n",
       "    </tr>\n",
       "    <tr>\n",
       "      <th>mse</th>\n",
       "      <td>3.556677e+07</td>\n",
       "      <td>8.145872e+07</td>\n",
       "    </tr>\n",
       "    <tr>\n",
       "      <th>rmse</th>\n",
       "      <td>5.963788e+03</td>\n",
       "      <td>9.025448e+03</td>\n",
       "    </tr>\n",
       "  </tbody>\n",
       "</table>\n",
       "</div>"
      ],
      "text/plain": [
       "             train          test\n",
       "R2    7.380765e-01  5.239609e-01\n",
       "mae   4.045690e+03  5.764165e+03\n",
       "mse   3.556677e+07  8.145872e+07\n",
       "rmse  5.963788e+03  9.025448e+03"
      ]
     },
     "execution_count": 364,
     "metadata": {},
     "output_type": "execute_result"
    }
   ],
   "source": [
    "classifier4 = XGBRegressor(max_depth=3,random_state=42, objective=\"reg:squarederror\" )\n",
    "classifier4.fit(X_train_pca, y_train)\n",
    "train_val(classifier4, X_train_pca, y_train, X_test_pca, y_test)"
   ]
  },
  {
   "cell_type": "code",
   "execution_count": 366,
   "id": "3440e677",
   "metadata": {},
   "outputs": [],
   "source": [
    "y_test_pred_pca=classifier4.predict(X_test_pca)"
   ]
  },
  {
   "cell_type": "code",
   "execution_count": 369,
   "id": "fa9c13c0",
   "metadata": {},
   "outputs": [
    {
     "data": {
      "text/plain": [
       "0.523960901416841"
      ]
     },
     "execution_count": 369,
     "metadata": {},
     "output_type": "execute_result"
    }
   ],
   "source": [
    "r2_score_pca_rf=r2_score(y_test, y_test_pred_pca)\n",
    "r2_score_pca_rf"
   ]
  },
  {
   "cell_type": "markdown",
   "id": "df77e637",
   "metadata": {},
   "source": [
    "### 8. Feature İmportance with XGBoost"
   ]
  },
  {
   "cell_type": "code",
   "execution_count": 376,
   "id": "8ce1332c",
   "metadata": {},
   "outputs": [
    {
     "data": {
      "text/html": [
       "<style>#sk-container-id-22 {color: black;background-color: white;}#sk-container-id-22 pre{padding: 0;}#sk-container-id-22 div.sk-toggleable {background-color: white;}#sk-container-id-22 label.sk-toggleable__label {cursor: pointer;display: block;width: 100%;margin-bottom: 0;padding: 0.3em;box-sizing: border-box;text-align: center;}#sk-container-id-22 label.sk-toggleable__label-arrow:before {content: \"▸\";float: left;margin-right: 0.25em;color: #696969;}#sk-container-id-22 label.sk-toggleable__label-arrow:hover:before {color: black;}#sk-container-id-22 div.sk-estimator:hover label.sk-toggleable__label-arrow:before {color: black;}#sk-container-id-22 div.sk-toggleable__content {max-height: 0;max-width: 0;overflow: hidden;text-align: left;background-color: #f0f8ff;}#sk-container-id-22 div.sk-toggleable__content pre {margin: 0.2em;color: black;border-radius: 0.25em;background-color: #f0f8ff;}#sk-container-id-22 input.sk-toggleable__control:checked~div.sk-toggleable__content {max-height: 200px;max-width: 100%;overflow: auto;}#sk-container-id-22 input.sk-toggleable__control:checked~label.sk-toggleable__label-arrow:before {content: \"▾\";}#sk-container-id-22 div.sk-estimator input.sk-toggleable__control:checked~label.sk-toggleable__label {background-color: #d4ebff;}#sk-container-id-22 div.sk-label input.sk-toggleable__control:checked~label.sk-toggleable__label {background-color: #d4ebff;}#sk-container-id-22 input.sk-hidden--visually {border: 0;clip: rect(1px 1px 1px 1px);clip: rect(1px, 1px, 1px, 1px);height: 1px;margin: -1px;overflow: hidden;padding: 0;position: absolute;width: 1px;}#sk-container-id-22 div.sk-estimator {font-family: monospace;background-color: #f0f8ff;border: 1px dotted black;border-radius: 0.25em;box-sizing: border-box;margin-bottom: 0.5em;}#sk-container-id-22 div.sk-estimator:hover {background-color: #d4ebff;}#sk-container-id-22 div.sk-parallel-item::after {content: \"\";width: 100%;border-bottom: 1px solid gray;flex-grow: 1;}#sk-container-id-22 div.sk-label:hover label.sk-toggleable__label {background-color: #d4ebff;}#sk-container-id-22 div.sk-serial::before {content: \"\";position: absolute;border-left: 1px solid gray;box-sizing: border-box;top: 0;bottom: 0;left: 50%;z-index: 0;}#sk-container-id-22 div.sk-serial {display: flex;flex-direction: column;align-items: center;background-color: white;padding-right: 0.2em;padding-left: 0.2em;position: relative;}#sk-container-id-22 div.sk-item {position: relative;z-index: 1;}#sk-container-id-22 div.sk-parallel {display: flex;align-items: stretch;justify-content: center;background-color: white;position: relative;}#sk-container-id-22 div.sk-item::before, #sk-container-id-22 div.sk-parallel-item::before {content: \"\";position: absolute;border-left: 1px solid gray;box-sizing: border-box;top: 0;bottom: 0;left: 50%;z-index: -1;}#sk-container-id-22 div.sk-parallel-item {display: flex;flex-direction: column;z-index: 1;position: relative;background-color: white;}#sk-container-id-22 div.sk-parallel-item:first-child::after {align-self: flex-end;width: 50%;}#sk-container-id-22 div.sk-parallel-item:last-child::after {align-self: flex-start;width: 50%;}#sk-container-id-22 div.sk-parallel-item:only-child::after {width: 0;}#sk-container-id-22 div.sk-dashed-wrapped {border: 1px dashed gray;margin: 0 0.4em 0.5em 0.4em;box-sizing: border-box;padding-bottom: 0.4em;background-color: white;}#sk-container-id-22 div.sk-label label {font-family: monospace;font-weight: bold;display: inline-block;line-height: 1.2em;}#sk-container-id-22 div.sk-label-container {text-align: center;}#sk-container-id-22 div.sk-container {/* jupyter's `normalize.less` sets `[hidden] { display: none; }` but bootstrap.min.css set `[hidden] { display: none !important; }` so we also need the `!important` here to be able to override the default hidden behavior on the sphinx rendered scikit-learn.org. See: https://github.com/scikit-learn/scikit-learn/issues/21755 */display: inline-block !important;position: relative;}#sk-container-id-22 div.sk-text-repr-fallback {display: none;}</style><div id=\"sk-container-id-22\" class=\"sk-top-container\"><div class=\"sk-text-repr-fallback\"><pre>XGBRegressor(learning_rate=0.05, max_dept=3, objective=&#x27;reg:squarederror&#x27;,\n",
       "             random_state=42, subsample=0.5)</pre><b>In a Jupyter environment, please rerun this cell to show the HTML representation or trust the notebook. <br />On GitHub, the HTML representation is unable to render, please try loading this page with nbviewer.org.</b></div><div class=\"sk-container\" hidden><div class=\"sk-item\"><div class=\"sk-estimator sk-toggleable\"><input class=\"sk-toggleable__control sk-hidden--visually\" id=\"sk-estimator-id-40\" type=\"checkbox\" checked><label for=\"sk-estimator-id-40\" class=\"sk-toggleable__label sk-toggleable__label-arrow\">XGBRegressor</label><div class=\"sk-toggleable__content\"><pre>XGBRegressor(learning_rate=0.05, max_dept=3, objective=&#x27;reg:squarederror&#x27;,\n",
       "             random_state=42, subsample=0.5)</pre></div></div></div></div></div>"
      ],
      "text/plain": [
       "XGBRegressor(learning_rate=0.05, max_dept=3, objective='reg:squarederror',\n",
       "             random_state=42, subsample=0.5)"
      ]
     },
     "execution_count": 376,
     "metadata": {},
     "output_type": "execute_result"
    }
   ],
   "source": [
    "model_feat = XGBRegressor(random_state=42, objective=\"reg:squarederror\",learning_rate=0.05, max_dept=3, subsample=0.5, colsample_bytree=1\n",
    "                    ,n_estimators=100)\n",
    "model_feat.fit(X_train, y_train)"
   ]
  },
  {
   "cell_type": "code",
   "execution_count": 378,
   "id": "955ff545",
   "metadata": {},
   "outputs": [
    {
     "data": {
      "text/plain": [
       "array([0.05445554, 0.01335729, 0.08569247, 0.02313679, 0.80507576,\n",
       "       0.01828221], dtype=float32)"
      ]
     },
     "execution_count": 378,
     "metadata": {},
     "output_type": "execute_result"
    }
   ],
   "source": [
    "model_feat.feature_importances_"
   ]
  },
  {
   "cell_type": "code",
   "execution_count": 379,
   "id": "5ad6129a",
   "metadata": {},
   "outputs": [
    {
     "data": {
      "text/html": [
       "<div>\n",
       "<style scoped>\n",
       "    .dataframe tbody tr th:only-of-type {\n",
       "        vertical-align: middle;\n",
       "    }\n",
       "\n",
       "    .dataframe tbody tr th {\n",
       "        vertical-align: top;\n",
       "    }\n",
       "\n",
       "    .dataframe thead th {\n",
       "        text-align: right;\n",
       "    }\n",
       "</style>\n",
       "<table border=\"1\" class=\"dataframe\">\n",
       "  <thead>\n",
       "    <tr style=\"text-align: right;\">\n",
       "      <th></th>\n",
       "      <th>xgb_Importance</th>\n",
       "    </tr>\n",
       "  </thead>\n",
       "  <tbody>\n",
       "    <tr>\n",
       "      <th>sex</th>\n",
       "      <td>0.013357</td>\n",
       "    </tr>\n",
       "    <tr>\n",
       "      <th>region</th>\n",
       "      <td>0.018282</td>\n",
       "    </tr>\n",
       "    <tr>\n",
       "      <th>children</th>\n",
       "      <td>0.023137</td>\n",
       "    </tr>\n",
       "    <tr>\n",
       "      <th>age</th>\n",
       "      <td>0.054456</td>\n",
       "    </tr>\n",
       "    <tr>\n",
       "      <th>bmi</th>\n",
       "      <td>0.085692</td>\n",
       "    </tr>\n",
       "    <tr>\n",
       "      <th>smoker</th>\n",
       "      <td>0.805076</td>\n",
       "    </tr>\n",
       "  </tbody>\n",
       "</table>\n",
       "</div>"
      ],
      "text/plain": [
       "          xgb_Importance\n",
       "sex             0.013357\n",
       "region          0.018282\n",
       "children        0.023137\n",
       "age             0.054456\n",
       "bmi             0.085692\n",
       "smoker          0.805076"
      ]
     },
     "execution_count": 379,
     "metadata": {},
     "output_type": "execute_result"
    }
   ],
   "source": [
    "imp_feats = pd.DataFrame(index=X.columns,data=model_feat.feature_importances_,columns=['xgb_Importance'])\n",
    "xgb_imp_feats = imp_feats.sort_values('xgb_Importance')\n",
    "xgb_imp_feats"
   ]
  },
  {
   "cell_type": "code",
   "execution_count": 380,
   "id": "8d744bd2",
   "metadata": {},
   "outputs": [
    {
     "data": {
      "application/javascript": [
       "\n",
       "        if (window._pyforest_update_imports_cell) { window._pyforest_update_imports_cell('import matplotlib.pyplot as plt\\nfrom sklearn.ensemble import RandomForestClassifier'); }\n",
       "    "
      ],
      "text/plain": [
       "<IPython.core.display.Javascript object>"
      ]
     },
     "metadata": {},
     "output_type": "display_data"
    },
    {
     "data": {
      "application/javascript": [
       "\n",
       "        if (window._pyforest_update_imports_cell) { window._pyforest_update_imports_cell('import matplotlib.pyplot as plt\\nfrom sklearn.ensemble import RandomForestClassifier'); }\n",
       "    "
      ],
      "text/plain": [
       "<IPython.core.display.Javascript object>"
      ]
     },
     "metadata": {},
     "output_type": "display_data"
    },
    {
     "data": {
      "image/png": "[encoded data removed]",
      "text/plain": [
       "<Figure size 864x432 with 1 Axes>"
      ]
     },
     "metadata": {
      "needs_background": "light"
     },
     "output_type": "display_data"
    }
   ],
   "source": [
    "plt.figure(figsize=(12,6))\n",
    "sns.barplot(data=xgb_imp_feats, x=xgb_imp_feats.index, y='xgb_Importance')\n",
    "\n",
    "plt.xticks(rotation=90);"
   ]
  },
  {
   "cell_type": "markdown",
   "id": "88e63009",
   "metadata": {},
   "source": [
    "### New_model"
   ]
  },
  {
   "cell_type": "code",
   "execution_count": 381,
   "id": "f1a382d6",
   "metadata": {},
   "outputs": [],
   "source": [
    "X_new=df[[\"smoker\",\"bmi\",\"age\"]]"
   ]
  },
  {
   "cell_type": "code",
   "execution_count": 382,
   "id": "24066910",
   "metadata": {},
   "outputs": [
    {
     "data": {
      "text/html": [
       "<div>\n",
       "<style scoped>\n",
       "    .dataframe tbody tr th:only-of-type {\n",
       "        vertical-align: middle;\n",
       "    }\n",
       "\n",
       "    .dataframe tbody tr th {\n",
       "        vertical-align: top;\n",
       "    }\n",
       "\n",
       "    .dataframe thead th {\n",
       "        text-align: right;\n",
       "    }\n",
       "</style>\n",
       "<table border=\"1\" class=\"dataframe\">\n",
       "  <thead>\n",
       "    <tr style=\"text-align: right;\">\n",
       "      <th></th>\n",
       "      <th>smoker</th>\n",
       "      <th>bmi</th>\n",
       "      <th>age</th>\n",
       "    </tr>\n",
       "  </thead>\n",
       "  <tbody>\n",
       "    <tr>\n",
       "      <th>0</th>\n",
       "      <td>1.0</td>\n",
       "      <td>27.900</td>\n",
       "      <td>19</td>\n",
       "    </tr>\n",
       "    <tr>\n",
       "      <th>1</th>\n",
       "      <td>0.0</td>\n",
       "      <td>33.770</td>\n",
       "      <td>18</td>\n",
       "    </tr>\n",
       "    <tr>\n",
       "      <th>2</th>\n",
       "      <td>0.0</td>\n",
       "      <td>33.000</td>\n",
       "      <td>28</td>\n",
       "    </tr>\n",
       "    <tr>\n",
       "      <th>3</th>\n",
       "      <td>0.0</td>\n",
       "      <td>22.705</td>\n",
       "      <td>33</td>\n",
       "    </tr>\n",
       "    <tr>\n",
       "      <th>4</th>\n",
       "      <td>0.0</td>\n",
       "      <td>28.880</td>\n",
       "      <td>32</td>\n",
       "    </tr>\n",
       "  </tbody>\n",
       "</table>\n",
       "</div>"
      ],
      "text/plain": [
       "   smoker     bmi  age\n",
       "0     1.0  27.900   19\n",
       "1     0.0  33.770   18\n",
       "2     0.0  33.000   28\n",
       "3     0.0  22.705   33\n",
       "4     0.0  28.880   32"
      ]
     },
     "execution_count": 382,
     "metadata": {},
     "output_type": "execute_result"
    }
   ],
   "source": [
    "X_new.head()"
   ]
  },
  {
   "cell_type": "code",
   "execution_count": 383,
   "id": "077fbd36",
   "metadata": {},
   "outputs": [],
   "source": [
    "X_train,X_test, y_train, y_test=train_test_split(X_new, y, test_size=0.1, random_state=42)"
   ]
  },
  {
   "cell_type": "code",
   "execution_count": 384,
   "id": "0227efc6",
   "metadata": {},
   "outputs": [],
   "source": [
    "model_new=XGBRegressor(random_state=42, objective=\"reg:squarederror\")"
   ]
  },
  {
   "cell_type": "code",
   "execution_count": 385,
   "id": "41f23a21",
   "metadata": {},
   "outputs": [
    {
     "data": {
      "text/html": [
       "<style>#sk-container-id-23 {color: black;background-color: white;}#sk-container-id-23 pre{padding: 0;}#sk-container-id-23 div.sk-toggleable {background-color: white;}#sk-container-id-23 label.sk-toggleable__label {cursor: pointer;display: block;width: 100%;margin-bottom: 0;padding: 0.3em;box-sizing: border-box;text-align: center;}#sk-container-id-23 label.sk-toggleable__label-arrow:before {content: \"▸\";float: left;margin-right: 0.25em;color: #696969;}#sk-container-id-23 label.sk-toggleable__label-arrow:hover:before {color: black;}#sk-container-id-23 div.sk-estimator:hover label.sk-toggleable__label-arrow:before {color: black;}#sk-container-id-23 div.sk-toggleable__content {max-height: 0;max-width: 0;overflow: hidden;text-align: left;background-color: #f0f8ff;}#sk-container-id-23 div.sk-toggleable__content pre {margin: 0.2em;color: black;border-radius: 0.25em;background-color: #f0f8ff;}#sk-container-id-23 input.sk-toggleable__control:checked~div.sk-toggleable__content {max-height: 200px;max-width: 100%;overflow: auto;}#sk-container-id-23 input.sk-toggleable__control:checked~label.sk-toggleable__label-arrow:before {content: \"▾\";}#sk-container-id-23 div.sk-estimator input.sk-toggleable__control:checked~label.sk-toggleable__label {background-color: #d4ebff;}#sk-container-id-23 div.sk-label input.sk-toggleable__control:checked~label.sk-toggleable__label {background-color: #d4ebff;}#sk-container-id-23 input.sk-hidden--visually {border: 0;clip: rect(1px 1px 1px 1px);clip: rect(1px, 1px, 1px, 1px);height: 1px;margin: -1px;overflow: hidden;padding: 0;position: absolute;width: 1px;}#sk-container-id-23 div.sk-estimator {font-family: monospace;background-color: #f0f8ff;border: 1px dotted black;border-radius: 0.25em;box-sizing: border-box;margin-bottom: 0.5em;}#sk-container-id-23 div.sk-estimator:hover {background-color: #d4ebff;}#sk-container-id-23 div.sk-parallel-item::after {content: \"\";width: 100%;border-bottom: 1px solid gray;flex-grow: 1;}#sk-container-id-23 div.sk-label:hover label.sk-toggleable__label {background-color: #d4ebff;}#sk-container-id-23 div.sk-serial::before {content: \"\";position: absolute;border-left: 1px solid gray;box-sizing: border-box;top: 0;bottom: 0;left: 50%;z-index: 0;}#sk-container-id-23 div.sk-serial {display: flex;flex-direction: column;align-items: center;background-color: white;padding-right: 0.2em;padding-left: 0.2em;position: relative;}#sk-container-id-23 div.sk-item {position: relative;z-index: 1;}#sk-container-id-23 div.sk-parallel {display: flex;align-items: stretch;justify-content: center;background-color: white;position: relative;}#sk-container-id-23 div.sk-item::before, #sk-container-id-23 div.sk-parallel-item::before {content: \"\";position: absolute;border-left: 1px solid gray;box-sizing: border-box;top: 0;bottom: 0;left: 50%;z-index: -1;}#sk-container-id-23 div.sk-parallel-item {display: flex;flex-direction: column;z-index: 1;position: relative;background-color: white;}#sk-container-id-23 div.sk-parallel-item:first-child::after {align-self: flex-end;width: 50%;}#sk-container-id-23 div.sk-parallel-item:last-child::after {align-self: flex-start;width: 50%;}#sk-container-id-23 div.sk-parallel-item:only-child::after {width: 0;}#sk-container-id-23 div.sk-dashed-wrapped {border: 1px dashed gray;margin: 0 0.4em 0.5em 0.4em;box-sizing: border-box;padding-bottom: 0.4em;background-color: white;}#sk-container-id-23 div.sk-label label {font-family: monospace;font-weight: bold;display: inline-block;line-height: 1.2em;}#sk-container-id-23 div.sk-label-container {text-align: center;}#sk-container-id-23 div.sk-container {/* jupyter's `normalize.less` sets `[hidden] { display: none; }` but bootstrap.min.css set `[hidden] { display: none !important; }` so we also need the `!important` here to be able to override the default hidden behavior on the sphinx rendered scikit-learn.org. See: https://github.com/scikit-learn/scikit-learn/issues/21755 */display: inline-block !important;position: relative;}#sk-container-id-23 div.sk-text-repr-fallback {display: none;}</style><div id=\"sk-container-id-23\" class=\"sk-top-container\"><div class=\"sk-text-repr-fallback\"><pre>XGBRegressor(objective=&#x27;reg:squarederror&#x27;, random_state=42)</pre><b>In a Jupyter environment, please rerun this cell to show the HTML representation or trust the notebook. <br />On GitHub, the HTML representation is unable to render, please try loading this page with nbviewer.org.</b></div><div class=\"sk-container\" hidden><div class=\"sk-item\"><div class=\"sk-estimator sk-toggleable\"><input class=\"sk-toggleable__control sk-hidden--visually\" id=\"sk-estimator-id-41\" type=\"checkbox\" checked><label for=\"sk-estimator-id-41\" class=\"sk-toggleable__label sk-toggleable__label-arrow\">XGBRegressor</label><div class=\"sk-toggleable__content\"><pre>XGBRegressor(objective=&#x27;reg:squarederror&#x27;, random_state=42)</pre></div></div></div></div></div>"
      ],
      "text/plain": [
       "XGBRegressor(objective='reg:squarederror', random_state=42)"
      ]
     },
     "execution_count": 385,
     "metadata": {},
     "output_type": "execute_result"
    }
   ],
   "source": [
    "model_new.fit(X_train, y_train)"
   ]
  },
  {
   "cell_type": "code",
   "execution_count": 386,
   "id": "b5587234",
   "metadata": {},
   "outputs": [
    {
     "data": {
      "text/html": [
       "<div>\n",
       "<style scoped>\n",
       "    .dataframe tbody tr th:only-of-type {\n",
       "        vertical-align: middle;\n",
       "    }\n",
       "\n",
       "    .dataframe tbody tr th {\n",
       "        vertical-align: top;\n",
       "    }\n",
       "\n",
       "    .dataframe thead th {\n",
       "        text-align: right;\n",
       "    }\n",
       "</style>\n",
       "<table border=\"1\" class=\"dataframe\">\n",
       "  <thead>\n",
       "    <tr style=\"text-align: right;\">\n",
       "      <th></th>\n",
       "      <th>train</th>\n",
       "      <th>test</th>\n",
       "    </tr>\n",
       "  </thead>\n",
       "  <tbody>\n",
       "    <tr>\n",
       "      <th>R2</th>\n",
       "      <td>8.841323e-01</td>\n",
       "      <td>8.950747e-01</td>\n",
       "    </tr>\n",
       "    <tr>\n",
       "      <th>mae</th>\n",
       "      <td>2.255989e+03</td>\n",
       "      <td>2.364565e+03</td>\n",
       "    </tr>\n",
       "    <tr>\n",
       "      <th>mse</th>\n",
       "      <td>1.655275e+07</td>\n",
       "      <td>1.883295e+07</td>\n",
       "    </tr>\n",
       "    <tr>\n",
       "      <th>rmse</th>\n",
       "      <td>4.068507e+03</td>\n",
       "      <td>4.339695e+03</td>\n",
       "    </tr>\n",
       "  </tbody>\n",
       "</table>\n",
       "</div>"
      ],
      "text/plain": [
       "             train          test\n",
       "R2    8.841323e-01  8.950747e-01\n",
       "mae   2.255989e+03  2.364565e+03\n",
       "mse   1.655275e+07  1.883295e+07\n",
       "rmse  4.068507e+03  4.339695e+03"
      ]
     },
     "execution_count": 386,
     "metadata": {},
     "output_type": "execute_result"
    }
   ],
   "source": [
    "train_val(model_new, X_train, y_train, X_test, y_test)"
   ]
  },
  {
   "cell_type": "markdown",
   "id": "876812ef",
   "metadata": {},
   "source": [
    "### GridSearch & new_model"
   ]
  },
  {
   "cell_type": "code",
   "execution_count": 388,
   "id": "b6997a76",
   "metadata": {},
   "outputs": [],
   "source": [
    "param_grid = {\"n_estimators\":[100, 300,500],'max_depth':[3,5,6,7], \"learning_rate\": [0.05, 0.1, 0.2],\n",
    "             \"subsample\":[0.5, 1], \"colsample_bytree\":[0.5, 1]}"
   ]
  },
  {
   "cell_type": "code",
   "execution_count": 401,
   "id": "1388c49c",
   "metadata": {},
   "outputs": [],
   "source": [
    "model = XGBRegressor(random_state=42, objective=\"reg:squarederror\")\n",
    "grid_model_new = GridSearchCV(estimator=model,\n",
    "                          param_grid=param_grid,\n",
    "                          scoring='neg_root_mean_squared_error',\n",
    "                          cv=10)"
   ]
  },
  {
   "cell_type": "code",
   "execution_count": 402,
   "id": "29c48891",
   "metadata": {},
   "outputs": [
    {
     "data": {
      "text/html": [
       "<style>#sk-container-id-25 {color: black;background-color: white;}#sk-container-id-25 pre{padding: 0;}#sk-container-id-25 div.sk-toggleable {background-color: white;}#sk-container-id-25 label.sk-toggleable__label {cursor: pointer;display: block;width: 100%;margin-bottom: 0;padding: 0.3em;box-sizing: border-box;text-align: center;}#sk-container-id-25 label.sk-toggleable__label-arrow:before {content: \"▸\";float: left;margin-right: 0.25em;color: #696969;}#sk-container-id-25 label.sk-toggleable__label-arrow:hover:before {color: black;}#sk-container-id-25 div.sk-estimator:hover label.sk-toggleable__label-arrow:before {color: black;}#sk-container-id-25 div.sk-toggleable__content {max-height: 0;max-width: 0;overflow: hidden;text-align: left;background-color: #f0f8ff;}#sk-container-id-25 div.sk-toggleable__content pre {margin: 0.2em;color: black;border-radius: 0.25em;background-color: #f0f8ff;}#sk-container-id-25 input.sk-toggleable__control:checked~div.sk-toggleable__content {max-height: 200px;max-width: 100%;overflow: auto;}#sk-container-id-25 input.sk-toggleable__control:checked~label.sk-toggleable__label-arrow:before {content: \"▾\";}#sk-container-id-25 div.sk-estimator input.sk-toggleable__control:checked~label.sk-toggleable__label {background-color: #d4ebff;}#sk-container-id-25 div.sk-label input.sk-toggleable__control:checked~label.sk-toggleable__label {background-color: #d4ebff;}#sk-container-id-25 input.sk-hidden--visually {border: 0;clip: rect(1px 1px 1px 1px);clip: rect(1px, 1px, 1px, 1px);height: 1px;margin: -1px;overflow: hidden;padding: 0;position: absolute;width: 1px;}#sk-container-id-25 div.sk-estimator {font-family: monospace;background-color: #f0f8ff;border: 1px dotted black;border-radius: 0.25em;box-sizing: border-box;margin-bottom: 0.5em;}#sk-container-id-25 div.sk-estimator:hover {background-color: #d4ebff;}#sk-container-id-25 div.sk-parallel-item::after {content: \"\";width: 100%;border-bottom: 1px solid gray;flex-grow: 1;}#sk-container-id-25 div.sk-label:hover label.sk-toggleable__label {background-color: #d4ebff;}#sk-container-id-25 div.sk-serial::before {content: \"\";position: absolute;border-left: 1px solid gray;box-sizing: border-box;top: 0;bottom: 0;left: 50%;z-index: 0;}#sk-container-id-25 div.sk-serial {display: flex;flex-direction: column;align-items: center;background-color: white;padding-right: 0.2em;padding-left: 0.2em;position: relative;}#sk-container-id-25 div.sk-item {position: relative;z-index: 1;}#sk-container-id-25 div.sk-parallel {display: flex;align-items: stretch;justify-content: center;background-color: white;position: relative;}#sk-container-id-25 div.sk-item::before, #sk-container-id-25 div.sk-parallel-item::before {content: \"\";position: absolute;border-left: 1px solid gray;box-sizing: border-box;top: 0;bottom: 0;left: 50%;z-index: -1;}#sk-container-id-25 div.sk-parallel-item {display: flex;flex-direction: column;z-index: 1;position: relative;background-color: white;}#sk-container-id-25 div.sk-parallel-item:first-child::after {align-self: flex-end;width: 50%;}#sk-container-id-25 div.sk-parallel-item:last-child::after {align-self: flex-start;width: 50%;}#sk-container-id-25 div.sk-parallel-item:only-child::after {width: 0;}#sk-container-id-25 div.sk-dashed-wrapped {border: 1px dashed gray;margin: 0 0.4em 0.5em 0.4em;box-sizing: border-box;padding-bottom: 0.4em;background-color: white;}#sk-container-id-25 div.sk-label label {font-family: monospace;font-weight: bold;display: inline-block;line-height: 1.2em;}#sk-container-id-25 div.sk-label-container {text-align: center;}#sk-container-id-25 div.sk-container {/* jupyter's `normalize.less` sets `[hidden] { display: none; }` but bootstrap.min.css set `[hidden] { display: none !important; }` so we also need the `!important` here to be able to override the default hidden behavior on the sphinx rendered scikit-learn.org. See: https://github.com/scikit-learn/scikit-learn/issues/21755 */display: inline-block !important;position: relative;}#sk-container-id-25 div.sk-text-repr-fallback {display: none;}</style><div id=\"sk-container-id-25\" class=\"sk-top-container\"><div class=\"sk-text-repr-fallback\"><pre>GridSearchCV(cv=10,\n",
       "             estimator=XGBRegressor(objective=&#x27;reg:squarederror&#x27;,\n",
       "                                    random_state=42),\n",
       "             param_grid={&#x27;colsample_bytree&#x27;: [0.5, 1],\n",
       "                         &#x27;learning_rate&#x27;: [0.05, 0.1, 0.2],\n",
       "                         &#x27;max_depth&#x27;: [3, 5, 6, 7],\n",
       "                         &#x27;n_estimators&#x27;: [100, 300, 500],\n",
       "                         &#x27;subsample&#x27;: [0.5, 1]},\n",
       "             scoring=&#x27;neg_root_mean_squared_error&#x27;)</pre><b>In a Jupyter environment, please rerun this cell to show the HTML representation or trust the notebook. <br />On GitHub, the HTML representation is unable to render, please try loading this page with nbviewer.org.</b></div><div class=\"sk-container\" hidden><div class=\"sk-item sk-dashed-wrapped\"><div class=\"sk-label-container\"><div class=\"sk-label sk-toggleable\"><input class=\"sk-toggleable__control sk-hidden--visually\" id=\"sk-estimator-id-45\" type=\"checkbox\" ><label for=\"sk-estimator-id-45\" class=\"sk-toggleable__label sk-toggleable__label-arrow\">GridSearchCV</label><div class=\"sk-toggleable__content\"><pre>GridSearchCV(cv=10,\n",
       "             estimator=XGBRegressor(objective=&#x27;reg:squarederror&#x27;,\n",
       "                                    random_state=42),\n",
       "             param_grid={&#x27;colsample_bytree&#x27;: [0.5, 1],\n",
       "                         &#x27;learning_rate&#x27;: [0.05, 0.1, 0.2],\n",
       "                         &#x27;max_depth&#x27;: [3, 5, 6, 7],\n",
       "                         &#x27;n_estimators&#x27;: [100, 300, 500],\n",
       "                         &#x27;subsample&#x27;: [0.5, 1]},\n",
       "             scoring=&#x27;neg_root_mean_squared_error&#x27;)</pre></div></div></div><div class=\"sk-parallel\"><div class=\"sk-parallel-item\"><div class=\"sk-item\"><div class=\"sk-label-container\"><div class=\"sk-label sk-toggleable\"><input class=\"sk-toggleable__control sk-hidden--visually\" id=\"sk-estimator-id-46\" type=\"checkbox\" ><label for=\"sk-estimator-id-46\" class=\"sk-toggleable__label sk-toggleable__label-arrow\">estimator: XGBRegressor</label><div class=\"sk-toggleable__content\"><pre>XGBRegressor(objective=&#x27;reg:squarederror&#x27;, random_state=42)</pre></div></div></div><div class=\"sk-serial\"><div class=\"sk-item\"><div class=\"sk-estimator sk-toggleable\"><input class=\"sk-toggleable__control sk-hidden--visually\" id=\"sk-estimator-id-47\" type=\"checkbox\" ><label for=\"sk-estimator-id-47\" class=\"sk-toggleable__label sk-toggleable__label-arrow\">XGBRegressor</label><div class=\"sk-toggleable__content\"><pre>XGBRegressor(objective=&#x27;reg:squarederror&#x27;, random_state=42)</pre></div></div></div></div></div></div></div></div></div></div>"
      ],
      "text/plain": [
       "GridSearchCV(cv=10,\n",
       "             estimator=XGBRegressor(objective='reg:squarederror',\n",
       "                                    random_state=42),\n",
       "             param_grid={'colsample_bytree': [0.5, 1],\n",
       "                         'learning_rate': [0.05, 0.1, 0.2],\n",
       "                         'max_depth': [3, 5, 6, 7],\n",
       "                         'n_estimators': [100, 300, 500],\n",
       "                         'subsample': [0.5, 1]},\n",
       "             scoring='neg_root_mean_squared_error')"
      ]
     },
     "execution_count": 402,
     "metadata": {},
     "output_type": "execute_result"
    }
   ],
   "source": [
    "grid_model_new.fit(X_train, y_train)"
   ]
  },
  {
   "cell_type": "code",
   "execution_count": 403,
   "id": "7f6752d1",
   "metadata": {},
   "outputs": [
    {
     "data": {
      "text/plain": [
       "{'colsample_bytree': 1,\n",
       " 'learning_rate': 0.05,\n",
       " 'max_depth': 3,\n",
       " 'n_estimators': 100,\n",
       " 'subsample': 1}"
      ]
     },
     "execution_count": 403,
     "metadata": {},
     "output_type": "execute_result"
    }
   ],
   "source": [
    "grid_model_new.best_params_"
   ]
  },
  {
   "cell_type": "code",
   "execution_count": 404,
   "id": "68e88c85",
   "metadata": {},
   "outputs": [
    {
     "data": {
      "text/html": [
       "<div>\n",
       "<style scoped>\n",
       "    .dataframe tbody tr th:only-of-type {\n",
       "        vertical-align: middle;\n",
       "    }\n",
       "\n",
       "    .dataframe tbody tr th {\n",
       "        vertical-align: top;\n",
       "    }\n",
       "\n",
       "    .dataframe thead th {\n",
       "        text-align: right;\n",
       "    }\n",
       "</style>\n",
       "<table border=\"1\" class=\"dataframe\">\n",
       "  <thead>\n",
       "    <tr style=\"text-align: right;\">\n",
       "      <th></th>\n",
       "      <th>train</th>\n",
       "      <th>test</th>\n",
       "    </tr>\n",
       "  </thead>\n",
       "  <tbody>\n",
       "    <tr>\n",
       "      <th>R2</th>\n",
       "      <td>8.715912e-01</td>\n",
       "      <td>8.923331e-01</td>\n",
       "    </tr>\n",
       "    <tr>\n",
       "      <th>mae</th>\n",
       "      <td>2.351619e+03</td>\n",
       "      <td>2.378831e+03</td>\n",
       "    </tr>\n",
       "    <tr>\n",
       "      <th>mse</th>\n",
       "      <td>1.834435e+07</td>\n",
       "      <td>1.932504e+07</td>\n",
       "    </tr>\n",
       "    <tr>\n",
       "      <th>rmse</th>\n",
       "      <td>4.283031e+03</td>\n",
       "      <td>4.396026e+03</td>\n",
       "    </tr>\n",
       "  </tbody>\n",
       "</table>\n",
       "</div>"
      ],
      "text/plain": [
       "             train          test\n",
       "R2    8.715912e-01  8.923331e-01\n",
       "mae   2.351619e+03  2.378831e+03\n",
       "mse   1.834435e+07  1.932504e+07\n",
       "rmse  4.283031e+03  4.396026e+03"
      ]
     },
     "execution_count": 404,
     "metadata": {},
     "output_type": "execute_result"
    }
   ],
   "source": [
    "train_val(grid_model_new, X_train, y_train, X_test, y_test)"
   ]
  },
  {
   "cell_type": "code",
   "execution_count": 405,
   "id": "e5b54629",
   "metadata": {},
   "outputs": [],
   "source": [
    "y_test_pred_new=grid_model_new.predict(X_test)"
   ]
  },
  {
   "cell_type": "code",
   "execution_count": 406,
   "id": "630e4400",
   "metadata": {},
   "outputs": [
    {
     "data": {
      "text/plain": [
       "0.8923330788411392"
      ]
     },
     "execution_count": 406,
     "metadata": {},
     "output_type": "execute_result"
    }
   ],
   "source": [
    "r2_score_new_model=r2_score(y_test, y_test_pred_new)\n",
    "r2_score_new_model"
   ]
  },
  {
   "cell_type": "markdown",
   "id": "efc27b04",
   "metadata": {},
   "source": [
    "### Compare Models"
   ]
  },
  {
   "cell_type": "code",
   "execution_count": 407,
   "id": "3a1d0e53",
   "metadata": {},
   "outputs": [
    {
     "data": {
      "application/javascript": [
       "\n",
       "        if (window._pyforest_update_imports_cell) { window._pyforest_update_imports_cell('import matplotlib.pyplot as plt\\nfrom sklearn.ensemble import RandomForestClassifier'); }\n",
       "    "
      ],
      "text/plain": [
       "<IPython.core.display.Javascript object>"
      ]
     },
     "metadata": {},
     "output_type": "display_data"
    },
    {
     "data": {
      "application/javascript": [
       "\n",
       "        if (window._pyforest_update_imports_cell) { window._pyforest_update_imports_cell('import matplotlib.pyplot as plt\\nfrom sklearn.ensemble import RandomForestClassifier'); }\n",
       "    "
      ],
      "text/plain": [
       "<IPython.core.display.Javascript object>"
      ]
     },
     "metadata": {},
     "output_type": "display_data"
    },
    {
     "data": {
      "image/png": "[encoded data removed]",
      "text/plain": [
       "<Figure size 1008x720 with 1 Axes>"
      ]
     },
     "metadata": {
      "needs_background": "light"
     },
     "output_type": "display_data"
    }
   ],
   "source": [
    "compare = pd.DataFrame({\"Model\": [\"Linear\", \"Polynomial\", \"Pol_Ridge_GridSearch\",\"Pol_Lasso_GridSearch\", \"Decision Tree\", \"Random Forest\", \"AdaBoost\",\n",
    "                                  \"XGBoost\", \"PCA & RF\", \"New_model\"],\n",
    "                        \"R2\": [r2_score_linear,r2_score_pol, r2_score_pol_ridge_g,r2_score_pol_lasso_g,\n",
    "                               r2_score_dt_g, r2_score_rf_g, r2_score_ada_g, r2_score_xgb_g, r2_score_pca_rf, r2_score_new_model]})\n",
    "\n",
    "def labels(ax):\n",
    "    for p in ax.patches:\n",
    "        width = p.get_width()                        # get bar length\n",
    "        ax.text(width,                               # set the text at 1 unit right of the bar\n",
    "                p.get_y() + p.get_height() / 2,      # get Y coordinate + X coordinate / 2\n",
    "                '{:1.3f}'.format(width),             # set variable to display, 2 decimals\n",
    "                ha = 'left',                         # horizontal alignment\n",
    "                va = 'center')                       # vertical alignment\n",
    "    \n",
    "plt.figure(figsize=(14,10))\n",
    "plt.subplot(311)\n",
    "compare = compare.sort_values(by=\"R2\", ascending=False)\n",
    "ax=sns.barplot(x=\"R2\", y=\"Model\", data=compare, palette=\"Blues_d\")\n",
    "labels(ax)\n",
    "\n"
   ]
  },
  {
   "cell_type": "markdown",
   "id": "db3c4082",
   "metadata": {},
   "source": [
    "### 9.Final Model and Model Deployment"
   ]
  },
  {
   "cell_type": "code",
   "execution_count": 427,
   "id": "a65fa004",
   "metadata": {},
   "outputs": [],
   "source": [
    "import pickle\n"
   ]
  },
  {
   "cell_type": "code",
   "execution_count": 428,
   "id": "f124b508",
   "metadata": {},
   "outputs": [],
   "source": [
    "final_model=XGBRegressor(objective=\"reg:squarederror\",random_state=42,colsample_bytree= 1,\n",
    " learning_rate=0.05,\n",
    " max_depth= 3,\n",
    "n_estimators= 100,\n",
    " subsample= 1 ).fit(X_new, y)"
   ]
  },
  {
   "cell_type": "code",
   "execution_count": 436,
   "id": "f0a4aa07",
   "metadata": {},
   "outputs": [],
   "source": [
    "pickle.dump(final_model, open(\"final_model_insurance.pkl\", \"wb\"))\n",
    "pickle.dump(enc, open(\"insurance_encoder.pkl\",\"wb\"))"
   ]
  },
  {
   "cell_type": "code",
   "execution_count": 430,
   "id": "6b05f8bd",
   "metadata": {},
   "outputs": [],
   "source": [
    "my_dict={\"smoker\":[0,1,1,0],\n",
    "        \"bmi\":[39.98,21.98,28.97,42.89],\n",
    "        \"age\":[18,45,32,67]}"
   ]
  },
  {
   "cell_type": "code",
   "execution_count": 431,
   "id": "e41177dd",
   "metadata": {},
   "outputs": [],
   "source": [
    "sample=pd.DataFrame(my_dict)"
   ]
  },
  {
   "cell_type": "code",
   "execution_count": 432,
   "id": "8ae96d6a",
   "metadata": {},
   "outputs": [],
   "source": [
    "final_model=pickle.load(open(\"final_model_insurance\",\"rb\"))"
   ]
  },
  {
   "cell_type": "code",
   "execution_count": 433,
   "id": "f3cd4ef1",
   "metadata": {},
   "outputs": [
    {
     "data": {
      "text/plain": [
       "array([ 3396.5415, 22842.19  , 21510.705 , 14367.093 ], dtype=float32)"
      ]
     },
     "execution_count": 433,
     "metadata": {},
     "output_type": "execute_result"
    }
   ],
   "source": [
    "predictions = final_model.predict(sample)\n",
    "predictions"
   ]
  },
  {
   "cell_type": "code",
   "execution_count": 434,
   "id": "efd55476",
   "metadata": {},
   "outputs": [],
   "source": [
    "sample[\"pred\"]=predictions"
   ]
  },
  {
   "cell_type": "code",
   "execution_count": 435,
   "id": "ee136983",
   "metadata": {},
   "outputs": [
    {
     "data": {
      "text/html": [
       "<div>\n",
       "<style scoped>\n",
       "    .dataframe tbody tr th:only-of-type {\n",
       "        vertical-align: middle;\n",
       "    }\n",
       "\n",
       "    .dataframe tbody tr th {\n",
       "        vertical-align: top;\n",
       "    }\n",
       "\n",
       "    .dataframe thead th {\n",
       "        text-align: right;\n",
       "    }\n",
       "</style>\n",
       "<table border=\"1\" class=\"dataframe\">\n",
       "  <thead>\n",
       "    <tr style=\"text-align: right;\">\n",
       "      <th></th>\n",
       "      <th>smoker</th>\n",
       "      <th>bmi</th>\n",
       "      <th>age</th>\n",
       "      <th>pred</th>\n",
       "    </tr>\n",
       "  </thead>\n",
       "  <tbody>\n",
       "    <tr>\n",
       "      <th>0</th>\n",
       "      <td>0</td>\n",
       "      <td>39.98</td>\n",
       "      <td>18</td>\n",
       "      <td>3396.541504</td>\n",
       "    </tr>\n",
       "    <tr>\n",
       "      <th>1</th>\n",
       "      <td>1</td>\n",
       "      <td>21.98</td>\n",
       "      <td>45</td>\n",
       "      <td>22842.189453</td>\n",
       "    </tr>\n",
       "    <tr>\n",
       "      <th>2</th>\n",
       "      <td>1</td>\n",
       "      <td>28.97</td>\n",
       "      <td>32</td>\n",
       "      <td>21510.705078</td>\n",
       "    </tr>\n",
       "    <tr>\n",
       "      <th>3</th>\n",
       "      <td>0</td>\n",
       "      <td>42.89</td>\n",
       "      <td>67</td>\n",
       "      <td>14367.092773</td>\n",
       "    </tr>\n",
       "  </tbody>\n",
       "</table>\n",
       "</div>"
      ],
      "text/plain": [
       "   smoker    bmi  age          pred\n",
       "0       0  39.98   18   3396.541504\n",
       "1       1  21.98   45  22842.189453\n",
       "2       1  28.97   32  21510.705078\n",
       "3       0  42.89   67  14367.092773"
      ]
     },
     "execution_count": 435,
     "metadata": {},
     "output_type": "execute_result"
    }
   ],
   "source": [
    "sample"
   ]
  },
  {
   "cell_type": "code",
   "execution_count": 437,
   "id": "580a104e",
   "metadata": {},
   "outputs": [
    {
     "data": {
      "application/javascript": [
       "\n",
       "        if (window._pyforest_update_imports_cell) { window._pyforest_update_imports_cell('import matplotlib.pyplot as plt\\nimport xgboost as xgb\\nfrom sklearn.ensemble import RandomForestClassifier'); }\n",
       "    "
      ],
      "text/plain": [
       "<IPython.core.display.Javascript object>"
      ]
     },
     "metadata": {},
     "output_type": "display_data"
    },
    {
     "name": "stdout",
     "output_type": "stream",
     "text": [
      "0.90\n"
     ]
    }
   ],
   "source": [
    "print(xgb.__version__)"
   ]
  },
  {
   "cell_type": "code",
   "execution_count": 441,
   "id": "00ba5393",
   "metadata": {},
   "outputs": [
    {
     "data": {
      "text/plain": [
       "(18, 64)"
      ]
     },
     "execution_count": 441,
     "metadata": {},
     "output_type": "execute_result"
    }
   ],
   "source": [
    "df.age.min(), df.age.max()"
   ]
  },
  {
   "cell_type": "code",
   "execution_count": null,
   "id": "7daed4ef",
   "metadata": {},
   "outputs": [],
   "source": []
  }
 ],
 "metadata": {
  "kernelspec": {
   "display_name": "Python 3 (ipykernel)",
   "language": "python",
   "name": "python3"
  },
  "language_info": {
   "codemirror_mode": {
    "name": "ipython",
    "version": 3
   },
   "file_extension": ".py",
   "mimetype": "text/x-python",
   "name": "python",
   "nbconvert_exporter": "python",
   "pygments_lexer": "ipython3",
   "version": "3.9.7"
  }
 },
 "nbformat": 4,
 "nbformat_minor": 5
}
